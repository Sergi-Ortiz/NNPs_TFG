{
 "cells": [
  {
   "cell_type": "markdown",
   "metadata": {},
   "source": [
    "# __Model testing__"
   ]
  },
  {
   "cell_type": "markdown",
   "metadata": {},
   "source": [
    "### __Tentative tests__\n",
    "Tests\n",
    "- Homonuclear dissociation\n",
    "- Rotational barrier\n",
    "- Ramachandran plot\n",
    "\n",
    "Check\n",
    "- Translational invariance\n",
    "- Rotational invariance\n",
    "- Permutation invariance\n",
    "- Cutoff interaction distance\n",
    "    - Bulk water density MD\n",
    "- K-Neighbour interactions\n",
    "\n",
    "Model to Model comparison\n",
    "- Materials: Orb vs MACE-MP\n",
    "- Organic molecules: Orb vs ANI vs MACE-OFF"
   ]
  }
 ],
 "metadata": {
  "language_info": {
   "name": "python"
  }
 },
 "nbformat": 4,
 "nbformat_minor": 2
}
