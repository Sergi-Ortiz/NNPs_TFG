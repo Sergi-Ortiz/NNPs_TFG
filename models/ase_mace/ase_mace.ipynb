{
 "cells": [
  {
   "cell_type": "markdown",
   "metadata": {},
   "source": [
    "# __ASE MACE implementation__\n",
    "This notebook contains the installation procedure and initial testing provided in the MACE [GitHub](https://github.com/ACEsuit/mace?tab=readme-ov-file#pretrained-foundation-models) and the [documentation](https://mace-docs.readthedocs.io/en/latest/). "
   ]
  },
  {
   "cell_type": "markdown",
   "metadata": {},
   "source": [
    "### __Installation procedure__\n",
    "Refer to ASE installation for the basics of the miniconda `venv` where MACE will be installed. This ensures that other calculators will not break the environment.\n",
    "- ASE installation process\n",
    "    - Create new conda environment (python 3.10 is standard). Check the Python requirement for the external calculator wanted. Usually  `python>3.9`.  \n",
    "    - `conda install ase` (installs `scipy` and `numpy` dependencies) and `conda install matplotlib`. \n",
    "    - Check the environment works installing `conda install pytest` and `ase test`.\n",
    "    - For ASE representations inside Jupyter Notebook, conda install `notebook`, `ipywidgets` and `nglview`. \n",
    "- MACE installation process\n",
    "    - Clone base ASE environment. \n",
    "    - Install [pytorch](https://pytorch.org/get-started/locally/) using conda via `conda install pytorch=2.2 torchvision -c pytorch` (preferred over pip install). \n",
    "    - MACE cannot be installed via conda, so `pip install --upgrade pip` and then `pip install mace-torch`. **Obs.** MACE uses numpy 1.26 and not 2.x. When installing MACE it is downgraded but no issues arise. \n",
    "    - The MACE-MP model with dispersion corrections (D3), require `torch-dftd`, which can be installed via `pip install torch-dftd`. \n",
    "    - **Issue.** I have no clue why but the directory `foundations_models` inside `mace/calculators` is not present, and if ani-cc based MACE model is used, an error will show up 'no .model found'. Solution: use DownGit to manually download the models. **Update.** This does not solve the issue, the .model in the repo is designed for CUDA in mind, and as I dont have an NVIDIA gpu... [issue](https://github.com/ACEsuit/mace/issues/656). When training a model, `--save_cpu` to be able to use the trained model on CPU, else it defaults to CUDA. \n"
   ]
  },
  {
   "cell_type": "markdown",
   "metadata": {},
   "source": [
    "### __References__\n",
    "- MACE tutorials. Includes a model explanation and traning, evaluation examples. [RECOMMENDED]\n",
    "    - https://github.com/imagdau/Tutorials\n",
    "\n",
    "**Obs.** `mace.calculators` have the papers in the docstring, might be useful to know what paper to cite when using them. \n"
   ]
  },
  {
   "cell_type": "markdown",
   "metadata": {},
   "source": [
    "## __MACE pretrained models__\n",
    "MACE provides an interface to ASE via a calculator class named `MACECalculator`. Predefined calculators with specific models can be found in `mace.calculators`. Analyzing the `__init__`, we can see that MACE includes several pretrained foundational models in `foundations_models.py`. The `MACECalculator` class can be found in `mace.py` and includes a detailed description on its methods \n",
    "\n",
    "- `mace_anicc`\n",
    "    - Returns a MACECalculator object pretrained on the ANI CC dataset (H, C, N, O).\n",
    "    - Note that the name ANI-1ccx is reserved for the TorchANI implementation of the ANI model on the ANI CC dataset. \n",
    "    - Defaults to `device=cuda`.  \n",
    "\n",
    "- `mace_mp`\n",
    "    - Constructs a MACECalculator with a pretrained model based on the Materials Project (89 elements). The [MACE-MP models](https://github.com/ACEsuit/mace-mp) (available in the corresponding repo) include different training datasets, and model sizes, as well as certain architectural improvements depending on the model used. [Citations are available]. \n",
    "\n",
    "- `mace_off`\n",
    "    - Constructs a MACECalculator with a pretrained model based on the MACE-OFF23 models. The [MACE-OFF models](https://github.com/ACEsuit/mace-off) (available in the corresponding repo) are intended for organic molecules, and as such, would be interesting to compare to ANI-X models. \n",
    "\n",
    "As well as `MACECalculator`. "
   ]
  },
  {
   "cell_type": "code",
   "execution_count": null,
   "metadata": {},
   "outputs": [
    {
     "name": "stdout",
     "output_type": "stream",
     "text": [
      "Using Materials Project MACE for MACECalculator with /Users/sergiortizropero/.cache/mace/20231203mace128L1_epoch199model\n",
      "Using float32 for MACECalculator, which is faster but less accurate. Recommended for MD. Use float64 for geometry optimization.\n",
      "Default dtype float32 does not match model dtype float64, converting models to float32.\n",
      "Using TorchDFTD3Calculator for D3 dispersion corrections\n",
      "Using MACE-OFF23 MODEL for MACECalculator with /Users/sergiortizropero/.cache/mace/MACE-OFF23_medium.model\n",
      "Using float32 for MACECalculator, which is faster but less accurate. Recommended for MD. Use float64 for geometry optimization.\n",
      "Default dtype float32 does not match model dtype float64, converting models to float32.\n"
     ]
    }
   ],
   "source": [
    "# ase imports\n",
    "from ase import units\n",
    "\n",
    "# import the calculators\n",
    "from mace.calculators import mace_anicc, mace_mp, mace_off\n",
    "from mace.calculators import MACECalculator\n",
    "\n",
    "#=======================#\n",
    "#       CALCULATORS     #   \n",
    "#=======================#\n",
    "\n",
    "macemp = mace_mp(\n",
    "    # core parameters\n",
    "    device='cpu',               # 'cpu', 'cuda'\n",
    "    model='medium',             # path to the model, or size\n",
    "    default_dtype='float32', \n",
    "\n",
    "    # dispersion corrections\n",
    "    dispersion=True,                    # include D3 dispersion corrections. \n",
    "    damping='bj',                       # damping function associated with the D3 correction\n",
    "    dispersion_xc='pbe',                # exchange-correlation functional for D3 dispersion corrections\n",
    "    dispersion_cutoff=40.0*units.Bohr,  # cutoff radius in Bohr for D3 dispersion corrections\n",
    "    )\n",
    "\n",
    "maceoff = mace_off(\n",
    "    # core parameters\n",
    "    device='cpu',               # 'cpu', 'cuda'\n",
    "    model='medium',             # path to the model or size\n",
    "    default_dtype='float32', \n",
    ")\n",
    "\n",
    "# only CUDA\n",
    "#maceani = mace_anicc(\n",
    "#    # core parameters\n",
    "#    device='cpu',\n",
    "#    )"
   ]
  },
  {
   "cell_type": "markdown",
   "metadata": {},
   "source": [
    "## __1. ASE MACE calculator usage__\n",
    "Basic tests with the pretrained models interfaced with ASE. Note that the MACE model based on the ANI-CC dataset is only available for CUDA and hence could not be tested."
   ]
  },
  {
   "cell_type": "markdown",
   "metadata": {},
   "source": [
    "### __H2O single point calculation and atomization energy__\n",
    "Comparison of two different calculators (MACE-MP and MACE-OFF models). "
   ]
  },
  {
   "cell_type": "code",
   "execution_count": 2,
   "metadata": {},
   "outputs": [],
   "source": [
    "# ase\n",
    "from ase import build\n",
    "\n",
    "# mace\n",
    "from mace.calculators import mace_mp, mace_off"
   ]
  },
  {
   "cell_type": "code",
   "execution_count": 3,
   "metadata": {},
   "outputs": [
    {
     "name": "stdout",
     "output_type": "stream",
     "text": [
      "Using Materials Project MACE for MACECalculator with /Users/sergiortizropero/.cache/mace/20231203mace128L1_epoch199model\n",
      "Using float64 for MACECalculator, which is slower but more accurate. Recommended for geometry optimization.\n",
      "Using MACE-OFF23 MODEL for MACECalculator with /Users/sergiortizropero/.cache/mace/MACE-OFF23_medium.model\n",
      "Using float64 for MACECalculator, which is slower but more accurate. Recommended for geometry optimization.\n",
      "H2O energy @ MP (medium):\t-14.15936617752067\n",
      "H2O energy @ OFF (medium):\t-2081.11639716893\n"
     ]
    }
   ],
   "source": [
    "atoms = build.molecule('H2O')\n",
    "\n",
    "\n",
    "macemp = mace_mp(\n",
    "    model=\"medium\", \n",
    "    dispersion=False, \n",
    "    default_dtype=\"float64\", \n",
    "    device='cpu',\n",
    "    )\n",
    "\n",
    "maceoff = mace_off(\n",
    "    model=\"medium\", \n",
    "    device='cpu',\n",
    "    default_dtype='float64'\n",
    "    )\n",
    "\n",
    "atoms.calc = macemp\n",
    "macemp_H2O_energy = atoms.get_potential_energy()\n",
    "print(f'H2O energy @ MP (medium):\\t{macemp_H2O_energy}')\n",
    "\n",
    "atoms.calc = maceoff\n",
    "maceoff_H2O_energy = atoms.get_potential_energy()\n",
    "print(f'H2O energy @ OFF (medium):\\t{maceoff_H2O_energy}')"
   ]
  },
  {
   "cell_type": "code",
   "execution_count": 4,
   "metadata": {},
   "outputs": [
    {
     "name": "stdout",
     "output_type": "stream",
     "text": [
      "[[-1.1589879653522117, -2.081460506806864], [-13.571964772646918, -2043.933693071156]]\n",
      "H2O energy formation @ MP (medium):\t-9.760 [units?]\n",
      "H2O energy formation @ OFF (medium):\t-10.039 [units?]\n",
      "H2O energy of water @ CCSD(T):\t\t-75.013 Hartree\n"
     ]
    }
   ],
   "source": [
    "# check the energy of formation of the H2O molecule\n",
    "calc_list = [macemp, maceoff]\n",
    "atomic_energies = []\n",
    "\n",
    "k = 0\n",
    "for calc_ in calc_list:\n",
    "    # define the atoms\n",
    "    atom_O = build.molecule('O')\n",
    "    atom_H = build.molecule('H')\n",
    "\n",
    "    atom_O.calc = calc_\n",
    "    atom_H.calc = calc_\n",
    "\n",
    "    energy_H = atom_H.get_potential_energy()\n",
    "    energy_O = atom_O.get_potential_energy()\n",
    "    atomic_energies.append([energy_H, energy_O])\n",
    "\n",
    "    k += 0\n",
    "\n",
    "# check the results\n",
    "delta_E_formation_MP = macemp_H2O_energy - (2 * atomic_energies[0][0] + atomic_energies[0][1])\n",
    "delta_E_formation_OFF = maceoff_H2O_energy - (2 * atomic_energies[1][0] + atomic_energies[1][1])\n",
    "\n",
    "print(atomic_energies)\n",
    "print(f'H2O energy formation @ MP (medium):\\t{delta_E_formation_MP:.3f} [units?]')\n",
    "print(f'H2O energy formation @ OFF (medium):\\t{delta_E_formation_OFF:.3f} [units?]')\n",
    "print(f'H2O energy of water @ CCSD(T):\\t\\t-75.013 Hartree')"
   ]
  },
  {
   "cell_type": "markdown",
   "metadata": {},
   "source": [
    "What energy units are the models predicting?"
   ]
  },
  {
   "cell_type": "markdown",
   "metadata": {},
   "source": [
    "### __H2O MD NVT simulation__\n",
    "This simulation ([reference](https://mace-docs.readthedocs.io/en/latest/examples/foundation_examples.html)) uses the MACE-MP foundational model as NNP as the MD FF. "
   ]
  },
  {
   "cell_type": "code",
   "execution_count": 5,
   "metadata": {},
   "outputs": [
    {
     "name": "stdout",
     "output_type": "stream",
     "text": [
      "Using Materials Project MACE for MACECalculator with /Users/sergiortizropero/.cache/mace/20231203mace128L1_epoch199model\n",
      "Using float32 for MACECalculator, which is faster but less accurate. Recommended for MD. Use float64 for geometry optimization.\n",
      "Default dtype float32 does not match model dtype float64, converting models to float32.\n"
     ]
    },
    {
     "data": {
      "text/plain": [
       "True"
      ]
     },
     "execution_count": 5,
     "metadata": {},
     "output_type": "execute_result"
    }
   ],
   "source": [
    "from mace.calculators import mace_mp, mace_off, mace_anicc, MACECalculator\n",
    "from ase import build\n",
    "from ase.md import Langevin\n",
    "from ase.io.trajectory import Trajectory\n",
    "from ase.visualize import view\n",
    "from ase.md.velocitydistribution import MaxwellBoltzmannDistribution\n",
    "from ase import units\n",
    "\n",
    "# MD settings\n",
    "T_init = 300 \n",
    "n_steps = 200\n",
    "\n",
    "macemp = mace_mp(\n",
    "    device='cpu', \n",
    "    model='medium', \n",
    "    default_dtype='float32',   \n",
    "    )\n",
    "\n",
    "atoms = build.molecule('H2O')\n",
    "atoms.calc = macemp\n",
    "\n",
    "MaxwellBoltzmannDistribution(atoms, temperature_K=T_init*units.kB)\n",
    "\n",
    "traj = Trajectory('water_nvt.traj', 'w', atoms)\n",
    "\n",
    "# NVT\n",
    "dyn = Langevin(atoms, 0.5 * units.fs, temperature_K=T_init*units.kB, friction=0.001)\n",
    "dyn.attach(traj.write, interval=1)\n",
    "dyn.run(n_steps)"
   ]
  },
  {
   "cell_type": "code",
   "execution_count": 6,
   "metadata": {},
   "outputs": [
    {
     "data": {
      "application/vnd.jupyter.widget-view+json": {
       "model_id": "928904ee95a845aa8d57673fbcc447cb",
       "version_major": 2,
       "version_minor": 0
      },
      "text/plain": []
     },
     "metadata": {},
     "output_type": "display_data"
    },
    {
     "data": {
      "application/vnd.jupyter.widget-view+json": {
       "model_id": "5dc1de5c6dd14461a68d7f324c1feb10",
       "version_major": 2,
       "version_minor": 0
      },
      "text/plain": [
       "HBox(children=(NGLWidget(max_frame=200), VBox(children=(Dropdown(description='Show', options=('All', 'O', 'H')…"
      ]
     },
     "execution_count": 6,
     "metadata": {},
     "output_type": "execute_result"
    }
   ],
   "source": [
    "traj = Trajectory('water_nvt.traj')\n",
    "view(traj, viewer='ngl')"
   ]
  },
  {
   "cell_type": "markdown",
   "metadata": {},
   "source": [
    "### __H2 diatomic potential__\n",
    "Here we compute the PES of a diatomic molecule, H2 with the MACE-OFF and MACE-MP NNP. "
   ]
  },
  {
   "cell_type": "code",
   "execution_count": 18,
   "metadata": {},
   "outputs": [],
   "source": [
    "# general imports\n",
    "import os\n",
    "import numpy as np\n",
    "import matplotlib.pyplot as plt\n",
    "from matplotlib import rc\n",
    "#rc('font',**{'family':'sans-serif','sans-serif':['Helvetica']})\n",
    "rc('text', usetex=True)\n",
    "rc('lines', lw=1, color='b')\n",
    "rc('legend', loc='best')\n",
    "plt.rcParams[\"legend.fancybox\"] = False\n",
    "plt.rcParams[\"legend.edgecolor\"] = 'black'\n",
    "plt.rcParams['legend.borderpad'] = 0.25\n",
    "plt.rcParams['legend.fontsize'] = 11\n",
    "plt.rcParams.update({'pgf.preamble': r'\\usepackage{amsmath}'})\n",
    "\n",
    "from ase import Atoms\n",
    "from ase.visualize import view"
   ]
  },
  {
   "cell_type": "markdown",
   "metadata": {},
   "source": [
    "Test definition is next"
   ]
  },
  {
   "cell_type": "code",
   "execution_count": 35,
   "metadata": {},
   "outputs": [],
   "source": [
    "def evaluate_diatomics(atom_str, calculator_list, search_space=None , resolution=None, verbose=True):\n",
    "    '''\n",
    "    Definition\n",
    "    ----------\n",
    "    Evaluates the PES of simple (homoatomic) diatomic molecules A_2. \n",
    "\n",
    "    '''\n",
    "\n",
    "    if resolution is None:\n",
    "        resolution = 100\n",
    "\n",
    "    if search_space is None:\n",
    "        search_space = [0.3, 6.5]\n",
    "    dist_list = np.linspace(search_space[0], search_space[1], resolution)\n",
    "\n",
    "    print(f'computing {atom_str}2 PES\\tscan range {search_space} Å')\n",
    "\n",
    "    # save energies\n",
    "    energies = []\n",
    "\n",
    "    # evaluate each calculator\n",
    "    for calc_ in calculator_list: \n",
    "\n",
    "        calc_energy_list = []\n",
    "\n",
    "        for d in dist_list:\n",
    "\n",
    "            # define the configuration\n",
    "            atoms = Atoms(atom_str + '2', [[0, 0, 0], [0, 0, d]])\n",
    "            atoms.calc = calc_\n",
    "            E_pot = atoms.get_potential_energy()\n",
    "            calc_energy_list.append(E_pot)\n",
    "        \n",
    "        atom = Atoms(atom_str)\n",
    "        atom.calc = calc_\n",
    "        atom_dissociated = 2 * atom.get_potential_energy()\n",
    "        corrected_energies = np.array(calc_energy_list) - atom_dissociated\n",
    "\n",
    "        energies.append(corrected_energies)\n",
    "\n",
    "    return dist_list, energies\n",
    "\n",
    "\n",
    "def plot_diatomics(atom_str_list, calculator_names, calculator_colors, global_energies, global_distances, workdir='./'):\n",
    "    '''\n",
    "    Plot the different PES obtained via `evaluate_diatomics`. \n",
    "    '''\n",
    "\n",
    "    fig, axes = plt.subplots(ncols=len(atom_str_list), nrows=1, figsize=(4*len(atom_str_list),4))\n",
    "    if len(atom_str_list) == 1:\n",
    "        ax_list = [axes]\n",
    "    else:\n",
    "        ax_list = axes\n",
    "    \n",
    "    #ax_list = [axes[0, 0], axes[0, 1], axes[1, 0], axes[1, 1]]\n",
    "\n",
    "    for i in range(len(atom_str_list)):\n",
    "        ax_list[i].tick_params(bottom=True, top=True, left=True, right=False, direction=\"in\")\n",
    "        ax_list[i].tick_params(labelbottom=True, labeltop=False, labelleft=True, labelright=False, direction=\"in\")\n",
    "\n",
    "        for k in range(len(calculator_names)):\n",
    "            ax_list[i].plot(global_distances[i], global_energies[i][k][:], label=r'$\\textnormal{' + calculator_names[k] + r'}$', color=calculator_colors[k], alpha=0.9)\n",
    "\n",
    "        ax_list[i].set(xlabel=r'$\\textnormal{' + f'{atom_str_list[i]}--{atom_str_list[i]}' + r' bond distance}\\;\\textnormal{(Å)}$', ylabel=r'$\\textnormal{potential energy}\\;\\textnormal{(eV)}$')\n",
    "        ax_list[i].legend(loc='best')\n",
    "\n",
    "    plt.tight_layout()\n",
    "    plt.savefig(os.path.join(workdir, 'diatomics_PES.png'), dpi=300)\n",
    "    plt.show(fig)"
   ]
  },
  {
   "cell_type": "markdown",
   "metadata": {},
   "source": [
    "Finally, perform the test using MACE"
   ]
  },
  {
   "cell_type": "code",
   "execution_count": 36,
   "metadata": {},
   "outputs": [
    {
     "name": "stdout",
     "output_type": "stream",
     "text": [
      "Using Materials Project MACE for MACECalculator with /Users/sergiortizropero/.cache/mace/20231203mace128L1_epoch199model\n",
      "Using float64 for MACECalculator, which is slower but more accurate. Recommended for geometry optimization.\n",
      "Using MACE-OFF23 MODEL for MACECalculator with /Users/sergiortizropero/.cache/mace/MACE-OFF23_medium.model\n",
      "Using float64 for MACECalculator, which is slower but more accurate. Recommended for geometry optimization.\n",
      "computing H2 PES\tscan range [0.3, 6.5] Å\n",
      "computing O2 PES\tscan range [0.7, 6.5] Å\n"
     ]
    },
    {
     "data": {
      "image/png": "[encoded data removed]",
      "text/plain": [
       "<Figure size 800x400 with 2 Axes>"
      ]
     },
     "metadata": {},
     "output_type": "display_data"
    }
   ],
   "source": [
    "# calculator \n",
    "from mace.calculators import mace_mp, mace_off\n",
    "\n",
    "macemp = mace_mp(\n",
    "    model=\"medium\", \n",
    "    dispersion=False, \n",
    "    default_dtype=\"float64\", \n",
    "    device='cpu',\n",
    "    )\n",
    "\n",
    "maceoff = mace_off(\n",
    "    model=\"medium\", \n",
    "    device='cpu',\n",
    "    default_dtype='float64'\n",
    "    )\n",
    "\n",
    "# define the calculators\n",
    "calculator_list = [macemp, maceoff]\n",
    "calculator_names = ['MACE-MP', 'MACE-OFF']\n",
    "calculator_colors = ['deeppink', 'darkgreen']\n",
    "\n",
    "\n",
    "# define the diatomics and the PES scan range\n",
    "atom_str_list = ['H', 'C', 'N', 'O']\n",
    "atom_str_list = ['H', 'O']\n",
    "search_list = [[0.3, 6.5], [0.7, 6.5], [0.7, 6.5], [0.9, 6.5]]\n",
    "search_list = [[0.3, 6.5], [0.7, 6.5],]\n",
    "workdir = './'\n",
    "\n",
    "# dimension: [atom_len, calc_len, resolution]\n",
    "global_energies = []\n",
    "\n",
    "# dimension: [atom_len, resolution]\n",
    "global_distances = []\n",
    "\n",
    "# compute all the PES\n",
    "for i in range(len(atom_str_list)):\n",
    "    dist_list, energies = evaluate_diatomics(atom_str_list[i], calculator_list, search_space=search_list[i])\n",
    "    global_energies.append(energies)\n",
    "    global_distances.append(dist_list)\n",
    "\n",
    "plot_diatomics(atom_str_list, calculator_names, calculator_colors, global_energies, global_distances, workdir=workdir)"
   ]
  },
  {
   "cell_type": "markdown",
   "metadata": {},
   "source": [
    "#### __Interpretació__\n",
    "Això són deformacions covalents. La gran majoria de models estan entrenats amb un training set que no contempla aquestes estructures d'elevada energia (no són representatives al training set). Seria d'esperar que deformacions d'enllaços estiguessin pitjor descrites respecte 'soft degrees of freedom', com són angles i torsions. "
   ]
  },
  {
   "cell_type": "markdown",
   "metadata": {},
   "source": [
    "Vibracions training set, el minim d'energia es preveu correctament, probablemente degut al training set. \n",
    "No es pot aplicar aquest NNP per dissociacions d'àtoms. \n",
    "\n",
    "Comprovar l'età i fer la deformació. Molt probablement no sigui problema de l'entorn (valència).\n",
    "\n",
    "Comprovar mateix training set \n",
    "\n",
    "FF ja se quina és les aproximacions fetes. "
   ]
  },
  {
   "cell_type": "markdown",
   "metadata": {},
   "source": [
    "### __Angle distorsion__\n",
    "H2O angle distorsion potential"
   ]
  },
  {
   "cell_type": "code",
   "execution_count": 1,
   "metadata": {},
   "outputs": [],
   "source": [
    "# general imports\n",
    "import os\n",
    "import numpy as np\n",
    "import matplotlib.pyplot as plt\n",
    "from matplotlib import rc\n",
    "#rc('font',**{'family':'sans-serif','sans-serif':['Helvetica']})\n",
    "rc('text', usetex=True)\n",
    "rc('lines', lw=1, color='b')\n",
    "rc('legend', loc='best')\n",
    "plt.rcParams[\"legend.fancybox\"] = False\n",
    "plt.rcParams[\"legend.edgecolor\"] = 'black'\n",
    "plt.rcParams['legend.borderpad'] = 0.25\n",
    "plt.rcParams['legend.fontsize'] = 11\n",
    "plt.rcParams.update({'pgf.preamble': r'\\usepackage{amsmath}'})\n",
    "\n",
    "from ase import Atoms\n",
    "from ase.visualize import view\n",
    "\n",
    "import os\n",
    "from ase.build import molecule\n",
    "from ase.io import write, read\n",
    "from ase.io import Trajectory, trajectory"
   ]
  },
  {
   "cell_type": "code",
   "execution_count": 55,
   "metadata": {},
   "outputs": [],
   "source": [
    "def evaluate_angle(molecule, atom_index_list, calculator_list, search_space=None, resolution=None, save_dir=None):\n",
    "    '''\n",
    "    Definition\n",
    "    ----------\n",
    "    Evaluates the PES of simple (homoatomic) diatomic molecules A_2. \n",
    "\n",
    "    Search_space in deg [a, b] --> explora (theta + a, theta, theta + b), genralment [-5, 5] degrees\n",
    "\n",
    "    '''\n",
    "\n",
    "    from ase.io import write\n",
    "\n",
    "    if save_dir is None:\n",
    "        save_dir = './'\n",
    "\n",
    "    # traj path\n",
    "    traj_path = os.path.join(save_dir, f'{molecule[atom_index_list[0]].symbol}-{molecule[atom_index_list[1]].symbol}-{molecule[atom_index_list[2]].symbol}_scan.traj')\n",
    "\n",
    "    if resolution is None:\n",
    "        resolution = 50\n",
    "    \n",
    "    if search_space is None:\n",
    "        search_space = [-5., 5.]\n",
    "\n",
    "    # define the angles to explore\n",
    "    initial_angle = atoms.get_angle(a1=atom_index_list[0], a2=atom_index_list[1], a3=atom_index_list[2])\n",
    "    print(f'Initial angle\\t{initial_angle:.6f} deg')\n",
    "    bounds = np.array(search_space) + initial_angle\n",
    "    angle_list = np.linspace(bounds[0], bounds[1], resolution)\n",
    "    print(f'computing {molecule[atom_index_list[0]].symbol}-{molecule[atom_index_list[1]].symbol}-{molecule[atom_index_list[2]].symbol} PES\\tscan range [{bounds[0]:.2f}, {bounds[1]:.2f}] deg')\n",
    "\n",
    "    # save energies\n",
    "    energies = []\n",
    "\n",
    "    if len(calculator_list) == 1:\n",
    "        traj = trajectory.TrajectoryWriter(filename=traj_path, atoms=atoms, mode='w')\n",
    "\n",
    "    # evaluate each calculator\n",
    "    for calc_ in calculator_list: \n",
    "\n",
    "        calc_energy_list = []\n",
    "\n",
    "        # scan each angle\n",
    "        for angle_ in angle_list:\n",
    "\n",
    "            # define the configuration\n",
    "            atoms.set_angle(angle=angle_, a1=atom_index_list[0], a2=atom_index_list[1], a3=atom_index_list[2])\n",
    "            atoms.calc = calc_\n",
    "\n",
    "            # compute the energy\n",
    "            E_pot = atoms.get_potential_energy()\n",
    "            calc_energy_list.append(E_pot)\n",
    "\n",
    "            #write(traj_path, atoms, append=True)\n",
    "            if len(calculator_list) == 1:\n",
    "                traj.write(atoms)\n",
    "\n",
    "        energies.append(calc_energy_list)\n",
    "        \n",
    "        if len(calculator_list) == 1:\n",
    "            traj.close()\n",
    "\n",
    "    return angle_list, energies\n",
    "\n",
    "\n",
    "\n",
    "def plot_angle(molecule, atom_index_list, angle_list, energy_list, calculator_names, calculator_colors, save_dir=None, name=''):\n",
    "    '''\n",
    "    Plot an angle scan. \n",
    "    '''\n",
    "\n",
    "    if save_dir is None:\n",
    "        save_dir = './'\n",
    "\n",
    "    fig, axes = plt.subplots(ncols=1, nrows=1, figsize=(10,4))\n",
    "    twin_ax = axes.twinx()\n",
    " \n",
    "    axes.tick_params(bottom=True, top=True, left=True, right=False, direction=\"in\")\n",
    "    axes.tick_params(labelbottom=True, labeltop=False, labelleft=True, labelright=False, direction=\"in\")\n",
    "\n",
    "    #for k in range(len(calculator_names)):\n",
    "    #    axes.plot(angle_list, energy_list[k][:], label=r'$\\textnormal{' + calculator_names[k] + r'}$', color=calculator_colors[k], alpha=0.9)\n",
    "    ln1 = axes.plot(angle_list, energy_list[0][:], label=r'$\\textnormal{' + calculator_names[0] + r'}$', color=calculator_colors[0], alpha=0.9)\n",
    "\n",
    "    axes.set(xlabel=r'$\\textnormal{' + f'{molecule[atom_index_list[0]].symbol}--{molecule[atom_index_list[1]].symbol}--{molecule[atom_index_list[2]].symbol}' + r' bond distance}\\;\\textnormal{(Å)}$', ylabel=r'$\\textnormal{potential energy}\\;\\textnormal{(eV)}$')\n",
    "    #axes.legend(loc='best')\n",
    "\n",
    "\n",
    "    # NOMÉS TWINX\n",
    "    #twin_ax.tick_params(bottom=True, top=True, left=True, right=False, direction=\"in\")\n",
    "    #twin_ax.tick_params(labelbottom=True, labeltop=False, labelleft=True, labelright=False, direction=\"in\")\n",
    "\n",
    "    ln2 = twin_ax.plot(angle_list, energy_list[1][:], label=r'$\\textnormal{' + calculator_names[1] + r'}$', color=calculator_colors[1], alpha=0.9)\n",
    "    twin_ax.set(ylabel=r'$\\textnormal{TODO arreglar escala. MACE-OFF}$')\n",
    "    lns = ln1 + ln2\n",
    "    labs = [l.get_label() for l in lns]\n",
    "    axes.legend(lns, labs, loc='best')\n",
    "\n",
    "    #twin_ax.set(xlabel=r'$\\textnormal{' + f'{molecule[atom_index_list[0]].symbol}-{molecule[atom_index_list[1]].symbol}-{molecule[atom_index_list[2]].symbol}' + r' bond distance}\\;\\textnormal{(Å)}$', ylabel=r'$\\textnormal{potential energy}\\;\\textnormal{(eV)}$')\n",
    "    #twin_ax.legend(loc='best')\n",
    "\n",
    "\n",
    "    plt.tight_layout()\n",
    "    plt.savefig(os.path.join(save_dir, name+f'{molecule[atom_index_list[0]].symbol}-{molecule[atom_index_list[1]].symbol}-{molecule[atom_index_list[2]].symbol}'+'angle_PES.png'), dpi=300)\n",
    "    plt.show(fig)"
   ]
  },
  {
   "cell_type": "code",
   "execution_count": 67,
   "metadata": {},
   "outputs": [
    {
     "name": "stdout",
     "output_type": "stream",
     "text": [
      "Using Materials Project MACE for MACECalculator with /Users/sergiortizropero/.cache/mace/20231203mace128L1_epoch199model\n",
      "Using float64 for MACECalculator, which is slower but more accurate. Recommended for geometry optimization.\n",
      "Using MACE-OFF23 MODEL for MACECalculator with /Users/sergiortizropero/.cache/mace/MACE-OFF23_medium.model\n",
      "Using float64 for MACECalculator, which is slower but more accurate. Recommended for geometry optimization.\n",
      "O\t[0.       0.       0.119262]\n",
      "H\t[ 0.        0.763239 -0.477047]\n",
      "H\t[ 0.       -0.763239 -0.477047]\n",
      "Initial angle\t103.999875 deg\n",
      "Initial angle\t103.999875 deg\n",
      "computing H-O-H PES\tscan range [44.00, 316.00] deg\n",
      "angles\t[ 43.9998751   46.74735237  49.49482964  52.24230691  54.98978418\n",
      "  57.73726145  60.48473872  63.23221599  65.97969326  68.72717054\n",
      "  71.47464781  74.22212508  76.96960235  79.71707962  82.46455689\n",
      "  85.21203416  87.95951143  90.7069887   93.45446597  96.20194324\n",
      "  98.94942051 101.69689778 104.44437505 107.19185233 109.9393296\n",
      " 112.68680687 115.43428414 118.18176141 120.92923868 123.67671595\n",
      " 126.42419322 129.17167049 131.91914776 134.66662503 137.4141023\n",
      " 140.16157957 142.90905685 145.65653412 148.40401139 151.15148866\n",
      " 153.89896593 156.6464432  159.39392047 162.14139774 164.88887501\n",
      " 167.63635228 170.38382955 173.13130682 175.87878409 178.62626136\n",
      " 181.37373864 184.12121591 186.86869318 189.61617045 192.36364772\n",
      " 195.11112499 197.85860226 200.60607953 203.3535568  206.10103407\n",
      " 208.84851134 211.59598861 214.34346588 217.09094315 219.83842043\n",
      " 222.5858977  225.33337497 228.08085224 230.82832951 233.57580678\n",
      " 236.32328405 239.07076132 241.81823859 244.56571586 247.31319313\n",
      " 250.0606704  252.80814767 255.55562495 258.30310222 261.05057949\n",
      " 263.79805676 266.54553403 269.2930113  272.04048857 274.78796584\n",
      " 277.53544311 280.28292038 283.03039765 285.77787492 288.52535219\n",
      " 291.27282946 294.02030674 296.76778401 299.51526128 302.26273855\n",
      " 305.01021582 307.75769309 310.50517036 313.25264763 316.0001249 ]\n",
      "energies\t[[-11.4932193722032, -11.767473095544894, -11.999279282469773, -12.20726061950452, -12.391393853144173, -12.560392502077708, -12.723687662460932, -12.882397301858852, -13.038516077997738, -13.188920830028117, -13.332528907743407, -13.46677345535134, -13.592386873413332, -13.706253752786884, -13.808304193438886, -13.895851677972937, -13.969352289907372, -14.02959410309411, -14.078315087210582, -14.115470417845119, -14.14081897027368, -14.155165136296134, -14.159380743106011, -14.153931142971736, -14.139395061735502, -14.116370164787883, -14.085252914693964, -14.046402778486858, -14.000493878330074, -13.94843128570928, -13.891102665758048, -13.829374594427074, -13.76407335148081, -13.69593701637213, -13.62567003051167, -13.554058350418934, -13.482022234755505, -13.410489773624288, -13.340338734942362, -13.27242528646907, -13.20759546793894, -13.146670338085471, -13.090424119434745, -13.039567553274553, -12.994738306080638, -12.956495276935227, -12.925313978111731, -12.901581970934064, -12.885594472881031, -12.877550590620276, -12.877550590620276, -12.885594472881033, -12.901581970934064, -12.925313978111731, -12.956495276935225, -12.99473830608064, -13.039567553274553, -13.090424119434747, -13.146670338085473, -13.207595467938942, -13.27242528646907, -13.340338734942362, -13.41048977362429, -13.482022234755506, -13.554058350418932, -13.625670030511671, -13.695937016372133, -13.764073351480812, -13.829374594427074, -13.89110266575805, -13.94843128570928, -14.000493878330076, -14.046402778486858, -14.085252914693964, -14.116370164787883, -14.139395061735502, -14.153931142971736, -14.159380743106011, -14.155165136296134, -14.14081897027368, -14.11547041784512, -14.078315087210582, -14.02959410309411, -13.969352289907373, -13.895851677972937, -13.808304193438886, -13.706253752786884, -13.592386873413329, -13.46677345535134, -13.332528907743406, -13.188920830028115, -13.038516077997736, -12.882397301858848, -12.723687662460932, -12.560392502077706, -12.391393853144166, -12.20726061950452, -11.999279282469766, -11.767473095544899, -11.493219372203194], [-2078.7560750405196, -2078.9847107134947, -2079.17891014277, -2079.357189412212, -2079.526083960151, -2079.6832059116227, -2079.828348425043, -2079.9640488903706, -2080.092160914205, -2080.2144478410705, -2080.332810356319, -2080.447801540919, -2080.558272035829, -2080.66236500683, -2080.758221558246, -2080.8441152511928, -2080.918618666321, -2080.980908192288, -2081.030861877857, -2081.068848239413, -2081.0954295303723, -2081.1111732639174, -2081.1165942832477, -2081.1121681098484, -2081.0983635142848, -2081.0756705546864, -2081.044617893109, -2081.0057793851724, -2080.9597721628784, -2080.9072501440387, -2080.8488974355287, -2080.785424819736, -2080.7175703408616, -2080.64610318978, -2080.5718291340913, -2080.4955954975394, -2080.4182938428676, -2080.3408588660673, -2080.2642625113353, -2080.189502941596, -2080.1175886919473, -2080.0495189952653, -2079.986261789732, -2079.928731204175, -2079.877766315529, -2079.83411268208, -2079.798407632345, -2079.7711696405972, -2079.752791488069, -2079.7435364367307, -2079.7435364367307, -2079.752791488069, -2079.7711696405972, -2079.798407632345, -2079.83411268208, -2079.877766315529, -2079.928731204175, -2079.986261789732, -2080.0495189952653, -2080.1175886919473, -2080.189502941596, -2080.2642625113353, -2080.3408588660673, -2080.4182938428676, -2080.4955954975394, -2080.5718291340913, -2080.64610318978, -2080.7175703408616, -2080.785424819736, -2080.8488974355287, -2080.9072501440387, -2080.9597721628784, -2081.0057793851724, -2081.044617893109, -2081.0756705546864, -2081.0983635142848, -2081.1121681098484, -2081.1165942832477, -2081.1111732639174, -2081.0954295303723, -2081.068848239413, -2081.030861877857, -2080.980908192288, -2080.918618666321, -2080.8441152511928, -2080.758221558246, -2080.66236500683, -2080.558272035829, -2080.447801540919, -2080.332810356319, -2080.2144478410705, -2080.092160914205, -2079.9640488903706, -2079.828348425043, -2079.6832059116227, -2079.526083960151, -2079.357189412212, -2079.17891014277, -2078.9847107134947, -2078.7560750405196]]\n"
     ]
    },
    {
     "data": {
      "image/png": "[encoded data removed]",
      "text/plain": [
       "<Figure size 1000x400 with 2 Axes>"
      ]
     },
     "metadata": {},
     "output_type": "display_data"
    }
   ],
   "source": [
    "# calculator \n",
    "from mace.calculators import mace_mp, mace_off\n",
    "\n",
    "macemp = mace_mp(\n",
    "    model=\"medium\", \n",
    "    dispersion=False, \n",
    "    default_dtype=\"float64\", \n",
    "    device='cpu',\n",
    "    )\n",
    "\n",
    "maceoff = mace_off(\n",
    "    model=\"medium\", \n",
    "    device='cpu',\n",
    "    default_dtype='float64'\n",
    "    )\n",
    "\n",
    "# define the calculators\n",
    "calculator_list = [macemp, maceoff]\n",
    "calculator_names = ['MACE-MP', 'MACE-OFF']\n",
    "#calculator_names = ['MACE-MP']\n",
    "calculator_colors = ['deeppink', 'darkgreen']\n",
    "\n",
    "# set working directory for the test\n",
    "working_dir = './water_angle/'\n",
    "if not os.path.isdir('./water_angle'):\n",
    "    os.makedirs(working_dir)\n",
    "\n",
    "# define the molecule\n",
    "atoms = molecule('H2O')\n",
    "\n",
    "# decide the atoms\n",
    "for atom in atoms:\n",
    "    print(f'{atom.symbol}\\t{atom.position}')\n",
    "\n",
    "# check the initial angle\n",
    "initial_angle = atoms.get_angle(a1=1, a2=0, a3=2)\n",
    "print(f'Initial angle\\t{initial_angle:.6f} deg')\n",
    "\n",
    "# [0, 360-2*initial_angle]\n",
    "# search_space=[-50, 220]\n",
    "angle_list, energies = evaluate_angle(atoms, [1, 0, 2], calculator_list, search_space=[-60, 360-2*initial_angle+60], resolution=100, save_dir=working_dir)\n",
    "print(f'angles\\t{angle_list}')\n",
    "print(f'energies\\t{energies}')\n",
    "\n",
    "plot_angle(atoms, [1, 0, 2], angle_list, energies, calculator_names, calculator_colors, save_dir=working_dir, name='')"
   ]
  },
  {
   "cell_type": "code",
   "execution_count": 61,
   "metadata": {},
   "outputs": [
    {
     "data": {
      "application/vnd.jupyter.widget-view+json": {
       "model_id": "c89936d8421b4c6b96be172a948f0331",
       "version_major": 2,
       "version_minor": 0
      },
      "text/plain": [
       "HBox(children=(NGLWidget(max_frame=49), VBox(children=(Dropdown(description='Show', options=('All', 'H', 'O'),…"
      ]
     },
     "execution_count": 61,
     "metadata": {},
     "output_type": "execute_result"
    }
   ],
   "source": [
    "from ase.io import Trajectory, trajectory\n",
    "\n",
    "traj = trajectory.TrajectoryReader('./water_angle/H-O-H_scan.traj')\n",
    "view(traj, viewer='ngl')"
   ]
  },
  {
   "cell_type": "code",
   "execution_count": 116,
   "metadata": {},
   "outputs": [
    {
     "name": "stdout",
     "output_type": "stream",
     "text": [
      "103.99987509868836\n",
      "103.99987509868836\n"
     ]
    },
    {
     "data": {
      "application/vnd.jupyter.widget-view+json": {
       "model_id": "bec19757fb53497fb62d55f752c816f9",
       "version_major": 2,
       "version_minor": 0
      },
      "text/plain": [
       "HBox(children=(NGLWidget(), VBox(children=(Dropdown(description='Show', options=('All', 'O', 'H'), value='All'…"
      ]
     },
     "execution_count": 116,
     "metadata": {},
     "output_type": "execute_result"
    }
   ],
   "source": [
    "import os\n",
    "from ase import Atoms\n",
    "from ase.build import molecule\n",
    "from ase.io import write, read\n",
    "from ase.visualize import view\n",
    "\n",
    "# set working directory for the test\n",
    "working_dir = './water_angle/'\n",
    "if not os.path.isdir('./water_angle'):\n",
    "    os.makedirs(working_dir)\n",
    "\n",
    "\n",
    "atoms = molecule('H2O')\n",
    "i_a = atoms.get_angle(1, 0, 2)\n",
    "print(i_a)\n",
    "write(os.path.join(working_dir, 'water.xyz'), atoms)\n",
    "\n",
    "\n",
    "atoms.set_angle(a1=1, a2=0, a3=2, angle=i_a+360)\n",
    "print(atoms.get_angle(1, 0, 2))\n",
    "\n",
    "view(atoms, viewer='ngl')\n",
    "\n"
   ]
  },
  {
   "cell_type": "markdown",
   "metadata": {},
   "source": [
    "## __2. Training MACE models__\n",
    "While training models is not the ultimate goal, several examples on how to train and evaluate a MACE model with different datasets can be found [in the documentation](https://mace-docs.readthedocs.io/en/latest/examples/training_examples.html). Additional [tutorials](https://mace-docs.readthedocs.io/en/latest/examples/tutorials.html) are available, such as a [collab notebook](https://colab.research.google.com/drive/1ZrTuTvavXiCxTFyjBV4GqlARxgFwYAtX) for training and evaluating a model, and other tutorials for fine-tuning a pretrained model and MACE model theory. \n",
    "\n",
    "\n",
    "MACE offers the possibility to train a model within the MACE architecture given some training data. Extensive tutorials on how to train the model can be found [here](https://mace-docs.readthedocs.io/en/latest/examples/tutorials.html). A basic [introductory tutorial](https://colab.research.google.com/drive/1ZrTuTvavXiCxTFyjBV4GqlARxgFwYAtX) is provided.  \n",
    "\n",
    "**Simple run.** A simple training and MD run was performed in [this]() Collab Notebook, which corresponds to the [ASE calculator](https://mace-docs.readthedocs.io/en/latest/guide/ase.html) section of the documentation. "
   ]
  },
  {
   "cell_type": "markdown",
   "metadata": {},
   "source": []
  }
 ],
 "metadata": {
  "kernelspec": {
   "display_name": "ASE_MACE",
   "language": "python",
   "name": "python3"
  },
  "language_info": {
   "codemirror_mode": {
    "name": "ipython",
    "version": 3
   },
   "file_extension": ".py",
   "mimetype": "text/x-python",
   "name": "python",
   "nbconvert_exporter": "python",
   "pygments_lexer": "ipython3",
   "version": "3.10.16"
  }
 },
 "nbformat": 4,
 "nbformat_minor": 2
}
