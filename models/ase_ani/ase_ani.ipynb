{
 "cells": [
  {
   "cell_type": "markdown",
   "metadata": {},
   "source": [
    "# __ASE ANI implementation__\n",
    "This notebook contains the installation procedure and initial testing provided in the TorchANI [GitHub](https://github.com/aiqm/torchani) and the [documentation](https://aiqm.github.io/torchani/).\n",
    "\n",
    "Similarly to MACE, this implementation in python allows us to use the architecture to train or fine-tune new models with other training data, but also include a set of pretrained models, ready to use. An ASE calculator is provided and a great deal of examples are listed in the documentation, which makes it a well documented repo. "
   ]
  },
  {
   "cell_type": "markdown",
   "metadata": {},
   "source": [
    "### __Installation procedure__\n",
    "Refer to ASE installation for the basics of the miniconda `venv` where MACE will be installed. This ensures that other calculators will not break the environment.\n",
    "- ASE installation process\n",
    "    - Create new conda environment (python 3.10 is standard). Check the Python requirement for the external calculator wanted. Usually  `python>3.9`.  \n",
    "    - `conda install ase` (installs `scipy` and `numpy` dependencies) and `conda install matplotlib`. \n",
    "    - Check the environment works installing `conda install pytest` and `ase test`.\n",
    "    - For ASE representations inside Jupyter Notebook, conda install `notebook`, `ipywidgets` and `nglview`. \n",
    "- TorchANI installation process\n",
    "    - Clone base ASE environment. \n",
    "    - `conda install torchani` via the preconfigured `conda-forge` channel. Check the conda installation for further notes. \n",
    "    - With `pytest` installed (ASE base installation), the `test` directory from the repo is downloaded as well as the `download.sh` script.\n",
    "    - `./download.sh` to run the script (use `chmod 777 download.sh` to modify the permissions). This will download all the weights of the ANI model. \n",
    "    - Before running the tests, install `expecttest pkbar tqdm`, `pip install tb-nightly` (check the test requirements at `test_requirements.txt`). Additional packages installed are inluced in `docs_requirements.txt`, `h5py tb-nightly sphinx sphinx_rtd_theme matplotlib pillow sphinx-gallery`. Note that `tb-nightly sphinx_rtd_theme sphinx-gallery` must be installed via `pip`. \n",
    "    - **Important.** Replace the `tests/test_data` directory with the `download/test_data` directory generated when running `download.sh`. \n",
    "    - run the tests in the `test` directory. `python <test>.py`. \n",
    "\n",
    "**Important.** The tests and examples provided only work if the repo is donwloaded and the tests/examples are located in a specific path (inside `site-packages/torchani/`). \n",
    "\n",
    "**Obs.** An additional error coming from `ASE` has been observed regarding the `ase/calculators/fd.py` `calculate_numerical_forced`. "
   ]
  },
  {
   "cell_type": "markdown",
   "metadata": {},
   "source": [
    "### __References__\n",
    "[TUTORIALS] \n",
    "\n",
    "ASE interface can be found here https://aiqm.github.io/torchani/api.html#module-torchani.ase. "
   ]
  },
  {
   "cell_type": "markdown",
   "metadata": {},
   "source": [
    "## __TorchANI pretrained models__\n",
    "TorchANI is similar to MACE in the sense that it provides a way to train and evaluate models, but it also contains pretrained models ready to use, which use an ASE interface with defined calculators. The models are included in `models.py`. The calculator creation is different from `MACECalculator` or `ORBCalculator`, as it is created using a method `.ase()` applied to a model object. The available models are the following\n",
    "- `ANI1x`\n",
    "    - Ensemble of 8 networks that was trained using active learning on the ANI-1x dataset, the target level of theory is wB97X/6-31G(d). It predicts energies on HCNO elements exclusively. Neutral molecules only. \n",
    "\n",
    "- `ANI1ccx`\n",
    "    - Ensemble of 8 networks that was trained on the ANI-1ccx dataset, using transfer learning. The target accuracy is CCSD(T)*/CBS (CCSD(T) using the DPLNO-CCSD(T) method). It predicts energies on HCNO elements exclusively. Neutral molecules only. \n",
    "\n",
    "- `ANI2x`\n",
    "    - Ensemble of 8 networks that was trained on the ANI-2x dataset. The target level of theory is wB97X/6-31G(d). It predicts energies on HCNOFSCl elements exclusively. \n",
    "\n",
    "- `.ase()`\n",
    "    Generates an `ase.Calculator` object from the ANI model object. "
   ]
  },
  {
   "cell_type": "code",
   "execution_count": 13,
   "metadata": {},
   "outputs": [
    {
     "name": "stdout",
     "output_type": "stream",
     "text": [
      "/Users/sergiortizropero/miniconda3/envs/ASE_ANI/lib/python3.10/site-packages/torchani/resources/\n",
      "/Users/sergiortizropero/miniconda3/envs/ASE_ANI/lib/python3.10/site-packages/torchani/resources/\n",
      "/Users/sergiortizropero/miniconda3/envs/ASE_ANI/lib/python3.10/site-packages/torchani/resources/\n",
      "/Users/sergiortizropero/miniconda3/envs/ASE_ANI/lib/python3.10/site-packages/torchani/resources/\n"
     ]
    }
   ],
   "source": [
    "# ase imports\n",
    "\n",
    "# import the calculators\n",
    "from torch import device\n",
    "from torchani.models import ANI1x, ANI2x, ANI1ccx\n",
    "\n",
    "\n",
    "#=======================#\n",
    "#       CALCULATORS     #   \n",
    "#=======================#\n",
    "\n",
    "ani1x_calc = ANI1x().ase()\n",
    "ani1ccx_calc = ANI1ccx().ase()\n",
    "ani2x_calc = ANI2x().ase()\n",
    "\n",
    "# device type can defined via torch and parsed to the model via .to() method\n",
    "device_ = device('cpu')\n",
    "model_ = ANI1x(periodic_table_index=True).to(device_).double().ase()"
   ]
  },
  {
   "cell_type": "markdown",
   "metadata": {},
   "source": [
    "## __1. ASE TorchANI calculator usage__"
   ]
  },
  {
   "cell_type": "code",
   "execution_count": 1,
   "metadata": {},
   "outputs": [
    {
     "name": "stderr",
     "output_type": "stream",
     "text": [
      "/Users/sergiortizropero/miniconda3/envs/ASE_ANI/lib/python3.10/site-packages/torchani/aev.py:16: UserWarning: cuaev not installed\n",
      "  warnings.warn(\"cuaev not installed\")\n"
     ]
    },
    {
     "name": "stdout",
     "output_type": "stream",
     "text": [
      "/Users/sergiortizropero/miniconda3/envs/ASE_ANI/lib/python3.10/site-packages/torchani/resources/\n",
      "/Users/sergiortizropero/miniconda3/envs/ASE_ANI/lib/python3.10/site-packages/torchani/resources/\n",
      "H2O energy @ ANI-1x:\t-2078.6371570369956\n",
      "H2O energy @ ANI-1ccx:\t-2078.4991794369125\n"
     ]
    }
   ],
   "source": [
    "# ase \n",
    "from ase import build\n",
    "\n",
    "# torchani\n",
    "from torchani.models import ANI1x, ANI1ccx\n",
    "\n",
    "# define calculators\n",
    "ani1x_calc = ANI1x().ase()\n",
    "ani1ccx_calc = ANI1ccx().ase()\n",
    "\n",
    "atoms = build.molecule('H2O')\n",
    "\n",
    "atoms.calc = ani1x_calc\n",
    "x_H2O_energy = atoms.get_potential_energy()\n",
    "print(f'H2O energy @ ANI-1x:\\t{x_H2O_energy}')\n",
    "\n",
    "atoms.calc = ani1ccx_calc\n",
    "cc_H2O_energy = atoms.get_potential_energy()\n",
    "print(f'H2O energy @ ANI-1ccx:\\t{cc_H2O_energy}')"
   ]
  },
  {
   "cell_type": "code",
   "execution_count": 2,
   "metadata": {},
   "outputs": [
    {
     "name": "stdout",
     "output_type": "stream",
     "text": [
      "[[-16.470407975640555, -2046.2329262264266], [-16.436944462885357, -2045.340079536595]]\n",
      "H2O energy formation @ ANI-1x:\t\t0.537 [units?]\n",
      "H2O energy formation @ ANI-1ccx:\t-0.285 [units?]\n",
      "H2O energy of water @ CCSD(T):\t\t-75.013 Hartree\n"
     ]
    }
   ],
   "source": [
    "# check the energy of formation of the H2O molecule\n",
    "calc_list = [ani1x_calc, ani1ccx_calc]\n",
    "atomic_energies = []\n",
    "\n",
    "k = 0\n",
    "for calc_ in calc_list:\n",
    "    # define the atoms\n",
    "    atom_O = build.molecule('O')\n",
    "    atom_H = build.molecule('H')\n",
    "\n",
    "    atom_O.calc = calc_\n",
    "    atom_H.calc = calc_\n",
    "\n",
    "    energy_H = atom_H.get_potential_energy()\n",
    "    energy_O = atom_O.get_potential_energy()\n",
    "    atomic_energies.append([energy_H, energy_O])\n",
    "\n",
    "    k += 0\n",
    "\n",
    "# check the results\n",
    "delta_E_formation_x = x_H2O_energy - (2 * atomic_energies[0][0] + atomic_energies[0][1])\n",
    "delta_E_formation_cc = cc_H2O_energy - (2 * atomic_energies[1][0] + atomic_energies[1][1])\n",
    "\n",
    "print(atomic_energies)\n",
    "print(f'H2O energy formation @ ANI-1x:\\t\\t{delta_E_formation_x:.3f} [units?]')\n",
    "print(f'H2O energy formation @ ANI-1ccx:\\t{delta_E_formation_cc:.3f} [units?]')\n",
    "print(f'H2O energy of water @ CCSD(T):\\t\\t-75.013 Hartree')"
   ]
  },
  {
   "cell_type": "markdown",
   "metadata": {},
   "source": [
    "What energy units are the models predicting?"
   ]
  },
  {
   "cell_type": "markdown",
   "metadata": {},
   "source": [
    "### __H2O MD NVT simulation__\n",
    "This simulation ([reference](https://mace-docs.readthedocs.io/en/latest/examples/foundation_examples.html)) uses the MACE-MP foundational model as NNP as the MD FF. "
   ]
  },
  {
   "cell_type": "code",
   "execution_count": 3,
   "metadata": {},
   "outputs": [
    {
     "data": {
      "text/plain": [
       "True"
      ]
     },
     "execution_count": 3,
     "metadata": {},
     "output_type": "execute_result"
    }
   ],
   "source": [
    "from ase import build\n",
    "from ase.md import Langevin\n",
    "from ase.io.trajectory import Trajectory\n",
    "from ase.visualize import view\n",
    "from ase.md.velocitydistribution import MaxwellBoltzmannDistribution\n",
    "from ase import units\n",
    "\n",
    "# MD settings\n",
    "T_init = 300 \n",
    "n_steps = 200\n",
    "\n",
    "atoms = build.molecule('H2O')\n",
    "atoms.calc = ani1x_calc\n",
    "\n",
    "MaxwellBoltzmannDistribution(atoms, temperature_K=T_init*units.kB)\n",
    "\n",
    "traj = Trajectory('water_MD.traj', 'w', atoms)\n",
    "\n",
    "# NVT\n",
    "dyn = Langevin(atoms, 0.5 * units.fs, temperature_K=T_init*units.kB, friction=0.001)\n",
    "dyn.attach(traj.write, interval=1)\n",
    "dyn.run(n_steps)"
   ]
  },
  {
   "cell_type": "code",
   "execution_count": 4,
   "metadata": {},
   "outputs": [
    {
     "data": {
      "application/vnd.jupyter.widget-view+json": {
       "model_id": "f8d5dbf6cfa0466f9889931185fe5a6b",
       "version_major": 2,
       "version_minor": 0
      },
      "text/plain": []
     },
     "metadata": {},
     "output_type": "display_data"
    },
    {
     "data": {
      "application/vnd.jupyter.widget-view+json": {
       "model_id": "c79b49a7f5bf4b68a72f16c2b1702433",
       "version_major": 2,
       "version_minor": 0
      },
      "text/plain": [
       "HBox(children=(NGLWidget(max_frame=200), VBox(children=(Dropdown(description='Show', options=('All', 'O', 'H')…"
      ]
     },
     "execution_count": 4,
     "metadata": {},
     "output_type": "execute_result"
    }
   ],
   "source": [
    "traj = Trajectory('water_MD.traj')\n",
    "view(traj, viewer='ngl')"
   ]
  },
  {
   "cell_type": "markdown",
   "metadata": {},
   "source": [
    "### __H2O normal mode analysis__\n",
    "Directly from TorchANI [documentation](https://aiqm.github.io/torchani/examples/vibration_analysis.html). The NMA is performed internally via TorchANI. Once the structure has been optimized (via ASE), we can extract the coordinates and species of the molecule. TorchANI needs the masses of the elements (in amu). Next, a graph is generated from species and coordinates to compute the energy, which allows us to compute the analytical Hessian matrix. Now the Hessian can be diagonalized and the normal modes obtained.\n",
    "\n",
    "**Note.** To compare with ASE, the NMA output can be converted to MDU (mass deweighted unnormalized) modes. "
   ]
  },
  {
   "cell_type": "code",
   "execution_count": 5,
   "metadata": {},
   "outputs": [
    {
     "name": "stdout",
     "output_type": "stream",
     "text": [
      "/Users/sergiortizropero/miniconda3/envs/ASE_ANI/lib/python3.10/site-packages/torchani/resources/\n"
     ]
    }
   ],
   "source": [
    "# general imports\n",
    "import ase\n",
    "import ase.optimize\n",
    "import torch\n",
    "import torchani\n",
    "import math\n",
    "\n",
    "\n",
    "# define the calculator and the model to be used\n",
    "device = torch.device('cpu')\n",
    "model = torchani.models.ANI1x(periodic_table_index=True).to(device).double()\n",
    "\n",
    "# water molecule\n",
    "d = 0.9575\n",
    "t = math.pi / 180 * 104.51\n",
    "molecule = ase.Atoms(\n",
    "    'H2O', \n",
    "    positions=[\n",
    "    (d, 0, 0),\n",
    "    (d * math.cos(t), d * math.sin(t), 0),\n",
    "    (0, 0, 0)],\n",
    "    )\n",
    "molecule.calc = model.ase()"
   ]
  },
  {
   "cell_type": "code",
   "execution_count": 6,
   "metadata": {},
   "outputs": [
    {
     "name": "stdout",
     "output_type": "stream",
     "text": [
      "      Step     Time          Energy          fmax\n",
      "BFGS:    0 18:35:50    -2078.633392        0.657601\n",
      "BFGS:    1 18:35:50    -2078.637244        0.190535\n",
      "BFGS:    2 18:35:50    -2078.637801        0.029191\n",
      "BFGS:    3 18:35:50    -2078.637827        0.018252\n",
      "BFGS:    4 18:35:50    -2078.637849        0.001403\n",
      "BFGS:    5 18:35:51    -2078.637849        0.000131\n",
      "BFGS:    6 18:35:51    -2078.637849        0.000008\n",
      "BFGS:    7 18:35:51    -2078.637849        0.000000\n"
     ]
    },
    {
     "data": {
      "text/plain": [
       "np.True_"
      ]
     },
     "execution_count": 6,
     "metadata": {},
     "output_type": "execute_result"
    }
   ],
   "source": [
    "# structure optimization\n",
    "opt = ase.optimize.BFGS(molecule)\n",
    "opt.run(fmax=1e-6)"
   ]
  },
  {
   "cell_type": "code",
   "execution_count": 7,
   "metadata": {},
   "outputs": [
    {
     "name": "stdout",
     "output_type": "stream",
     "text": [
      "torch.Size([1, 9, 9])\n"
     ]
    }
   ],
   "source": [
    "# extract coordinates and species from ASE\n",
    "species = torch.tensor(molecule.get_atomic_numbers(), device=device, dtype=torch.long).unsqueeze(0)\n",
    "coordinates = torch.from_numpy(molecule.get_positions()).unsqueeze(0).requires_grad_(True)\n",
    "\n",
    "# extract the masses from species (necessary for TorchANI)\n",
    "masses = torchani.utils.get_atomic_masses(species)\n",
    "\n",
    "# generate a graph to compute the energies\n",
    "energies = model((species, coordinates)).energies\n",
    "\n",
    "# use the energy graph to compute the analytical hessian\n",
    "hessian = torchani.utils.hessian(coordinates, energies=energies)\n",
    "print(hessian.shape)"
   ]
  },
  {
   "cell_type": "code",
   "execution_count": 8,
   "metadata": {},
   "outputs": [
    {
     "name": "stdout",
     "output_type": "stream",
     "text": [
      "Frequencies (cm^-1):\n",
      "[1913.199719838983, 3882.4037986175213, 3911.184807460384]\n",
      "\n",
      "Force Constants (mDyne/A):\n",
      "[2.3389618934584115, 9.269484699208835, 9.742761626896892]\n",
      "\n",
      "Reduced masses (AMU):\n",
      "[1.0845567859369776, 1.0437679382699012, 1.080973803377686]\n",
      "\n",
      "Modes: tensor([[[    -0.015,     -0.677,     -0.000],\n",
      "         [    -0.652,     -0.184,      0.000],\n",
      "         [     0.042,      0.054,     -0.000]],\n",
      "\n",
      "        [[     0.689,     -0.054,      0.000],\n",
      "         [    -0.225,      0.654,      0.000],\n",
      "         [    -0.029,     -0.038,      0.000]],\n",
      "\n",
      "        [[    -0.678,     -0.006,      0.000],\n",
      "         [    -0.164,      0.658,      0.000],\n",
      "         [     0.053,     -0.041,     -0.000]]], dtype=torch.float64)\n"
     ]
    }
   ],
   "source": [
    "# perform the vibrational analysis [TORCHANI]. Analytical hessian\n",
    "freq, modes, fconstants, rmasses = torchani.utils.vibrational_analysis(masses, hessian, mode_type='MDU')\n",
    "torch.set_printoptions(precision=3, sci_mode=False)\n",
    "\n",
    "freq_list = freq[6:].tolist()\n",
    "fconstants_list = fconstants[6:].tolist()\n",
    "\n",
    "print(f'Frequencies (cm^-1):\\n{freq_list}\\n', )\n",
    "print(f'Force Constants (mDyne/A):\\n{fconstants_list}\\n')\n",
    "print(f'Reduced masses (AMU):\\n{rmasses[6:].tolist()}\\n')\n",
    "print('Modes:', modes[6:])"
   ]
  },
  {
   "cell_type": "code",
   "execution_count": 9,
   "metadata": {},
   "outputs": [
    {
     "name": "stdout",
     "output_type": "stream",
     "text": [
      "      Step     Time          Energy          fmax\n",
      "BFGS:    0 18:35:54    -2078.633392        0.657601\n",
      "BFGS:    1 18:35:54    -2078.637244        0.190535\n",
      "BFGS:    2 18:35:54    -2078.637801        0.029191\n",
      "BFGS:    3 18:35:54    -2078.637827        0.018252\n",
      "BFGS:    4 18:35:54    -2078.637849        0.001403\n",
      "BFGS:    5 18:35:54    -2078.637849        0.000131\n",
      "BFGS:    6 18:35:54    -2078.637849        0.000008\n",
      "BFGS:    7 18:35:54    -2078.637849        0.000000\n",
      "---------------------\n",
      "  #    meV     cm^-1\n",
      "---------------------\n",
      "  0    0.6i      4.5i\n",
      "  1    0.2i      1.7i\n",
      "  2    0.1i      1.0i\n",
      "  3    2.1      16.8\n",
      "  4    3.4      27.7\n",
      "  5    3.6      29.4\n",
      "  6  234.8    1893.7\n",
      "  7  482.6    3892.1\n",
      "  8  487.8    3934.0\n",
      "---------------------\n",
      "Zero-point energy: 0.607 eV\n"
     ]
    }
   ],
   "source": [
    "# perform the vibrational analysis [ASE]. Numerical hessian\n",
    "from math import cos, pi, sin\n",
    "\n",
    "from ase import Atoms\n",
    "from ase.optimize import QuasiNewton\n",
    "from ase.vibrations import Vibrations\n",
    "from ase.io import Trajectory\n",
    "from ase.visualize import view\n",
    "\n",
    "# define a water molecule\n",
    "# H2O = molecule(\"H2O\")\n",
    "d = 0.9575\n",
    "t = math.pi / 180 * 104.51\n",
    "H2O = ase.Atoms(\n",
    "    'H2O', \n",
    "    positions=[\n",
    "    (d, 0, 0),\n",
    "    (d * math.cos(t), d * math.sin(t), 0),\n",
    "    (0, 0, 0)],\n",
    "    )\n",
    "H2O.center(vacuum=3.5)\n",
    "\n",
    "# define the calculator \n",
    "H2O.calc = model.ase()\n",
    "\n",
    "# optimizer\n",
    "opt = ase.optimize.BFGS(H2O)\n",
    "opt.run(fmax=1e-6)\n",
    "\n",
    "# create vibration calculator\n",
    "vib = Vibrations(H2O, indices=None, delta=0.01, name=\"vib-h2o\", nfree=2)\n",
    "vib.clean()\n",
    "\n",
    "# compute and diagonalize the Hessian\n",
    "vib.run()\n",
    "\n",
    "# output the square root of the eigenvalues $\\omega^2$. \n",
    "vib.summary(method='frederiksen')\n",
    "\n",
    "# Make trajectory files to visualize normal modes: 9 total, 3 vibrations\n",
    "for mode in range(9):\n",
    "    vib.write_mode(mode)\n",
    "    #traj = Trajectory(f\"vib-h2o.{mode}.traj\")\n",
    "\n",
    "#view(traj, viewer='x3d')"
   ]
  },
  {
   "cell_type": "markdown",
   "metadata": {},
   "source": [
    "### __Diamond MD example__\n",
    "Directly from TorchANI [documentation](https://aiqm.github.io/torchani/examples/ase_interface.html). "
   ]
  },
  {
   "cell_type": "code",
   "execution_count": 10,
   "metadata": {},
   "outputs": [
    {
     "name": "stdout",
     "output_type": "stream",
     "text": [
      "/Users/sergiortizropero/miniconda3/envs/ASE_ANI/lib/python3.10/site-packages/torchani/resources/\n",
      "8 atoms in the cell\n",
      "      Step     Time          Energy          fmax\n",
      "BFGS:    0 18:35:55    -8311.226183        0.000027\n",
      "E_pot\t-8311.226 eV\t\tE_kin\t0.376 eV (291 K)\t\tE_tot\t-8310.851 eV\n",
      "E_pot\t-8311.008 eV\t\tE_kin\t0.242 eV (187 K)\t\tE_tot\t-8310.767 eV\n",
      "E_pot\t-8311.057 eV\t\tE_kin\t0.415 eV (321 K)\t\tE_tot\t-8310.642 eV\n",
      "E_pot\t-8310.940 eV\t\tE_kin\t0.320 eV (248 K)\t\tE_tot\t-8310.620 eV\n",
      "E_pot\t-8311.085 eV\t\tE_kin\t0.374 eV (289 K)\t\tE_tot\t-8310.711 eV\n",
      "E_pot\t-8310.773 eV\t\tE_kin\t0.223 eV (172 K)\t\tE_tot\t-8310.551 eV\n",
      "E_pot\t-8310.948 eV\t\tE_kin\t0.164 eV (127 K)\t\tE_tot\t-8310.785 eV\n",
      "E_pot\t-8311.044 eV\t\tE_kin\t0.358 eV (277 K)\t\tE_tot\t-8310.685 eV\n",
      "E_pot\t-8310.965 eV\t\tE_kin\t0.195 eV (151 K)\t\tE_tot\t-8310.770 eV\n",
      "E_pot\t-8311.009 eV\t\tE_kin\t0.425 eV (329 K)\t\tE_tot\t-8310.585 eV\n",
      "E_pot\t-8310.759 eV\t\tE_kin\t0.466 eV (361 K)\t\tE_tot\t-8310.293 eV\n",
      "E_pot\t-8310.900 eV\t\tE_kin\t0.307 eV (238 K)\t\tE_tot\t-8310.592 eV\n",
      "E_pot\t-8310.928 eV\t\tE_kin\t0.572 eV (442 K)\t\tE_tot\t-8310.356 eV\n",
      "E_pot\t-8310.927 eV\t\tE_kin\t0.168 eV (130 K)\t\tE_tot\t-8310.759 eV\n",
      "E_pot\t-8310.817 eV\t\tE_kin\t0.228 eV (177 K)\t\tE_tot\t-8310.589 eV\n",
      "E_pot\t-8310.987 eV\t\tE_kin\t0.265 eV (205 K)\t\tE_tot\t-8310.722 eV\n",
      "E_pot\t-8310.943 eV\t\tE_kin\t0.164 eV (127 K)\t\tE_tot\t-8310.778 eV\n",
      "E_pot\t-8311.082 eV\t\tE_kin\t0.188 eV (145 K)\t\tE_tot\t-8310.894 eV\n",
      "E_pot\t-8310.873 eV\t\tE_kin\t0.110 eV (85 K)\t\tE_tot\t-8310.763 eV\n",
      "E_pot\t-8310.780 eV\t\tE_kin\t0.192 eV (149 K)\t\tE_tot\t-8310.588 eV\n",
      "E_pot\t-8310.966 eV\t\tE_kin\t0.338 eV (261 K)\t\tE_tot\t-8310.628 eV\n",
      "E_pot\t-8310.979 eV\t\tE_kin\t0.426 eV (329 K)\t\tE_tot\t-8310.554 eV\n",
      "E_pot\t-8310.755 eV\t\tE_kin\t0.124 eV (96 K)\t\tE_tot\t-8310.632 eV\n",
      "E_pot\t-8310.747 eV\t\tE_kin\t0.295 eV (228 K)\t\tE_tot\t-8310.453 eV\n",
      "E_pot\t-8310.837 eV\t\tE_kin\t0.264 eV (204 K)\t\tE_tot\t-8310.573 eV\n",
      "E_pot\t-8310.861 eV\t\tE_kin\t0.283 eV (219 K)\t\tE_tot\t-8310.578 eV\n",
      "E_pot\t-8310.915 eV\t\tE_kin\t0.283 eV (219 K)\t\tE_tot\t-8310.632 eV\n",
      "E_pot\t-8311.018 eV\t\tE_kin\t0.298 eV (230 K)\t\tE_tot\t-8310.721 eV\n",
      "E_pot\t-8311.039 eV\t\tE_kin\t0.252 eV (195 K)\t\tE_tot\t-8310.788 eV\n",
      "E_pot\t-8311.054 eV\t\tE_kin\t0.390 eV (302 K)\t\tE_tot\t-8310.663 eV\n",
      "E_pot\t-8311.090 eV\t\tE_kin\t0.366 eV (283 K)\t\tE_tot\t-8310.724 eV\n",
      "E_pot\t-8311.001 eV\t\tE_kin\t0.192 eV (149 K)\t\tE_tot\t-8310.809 eV\n",
      "E_pot\t-8311.023 eV\t\tE_kin\t0.232 eV (179 K)\t\tE_tot\t-8310.791 eV\n",
      "E_pot\t-8310.860 eV\t\tE_kin\t0.143 eV (110 K)\t\tE_tot\t-8310.717 eV\n",
      "E_pot\t-8310.955 eV\t\tE_kin\t0.413 eV (320 K)\t\tE_tot\t-8310.542 eV\n",
      "E_pot\t-8310.849 eV\t\tE_kin\t0.389 eV (301 K)\t\tE_tot\t-8310.460 eV\n",
      "E_pot\t-8310.875 eV\t\tE_kin\t0.338 eV (261 K)\t\tE_tot\t-8310.537 eV\n",
      "E_pot\t-8310.824 eV\t\tE_kin\t0.341 eV (264 K)\t\tE_tot\t-8310.483 eV\n",
      "E_pot\t-8310.918 eV\t\tE_kin\t0.380 eV (294 K)\t\tE_tot\t-8310.539 eV\n",
      "E_pot\t-8310.961 eV\t\tE_kin\t0.202 eV (156 K)\t\tE_tot\t-8310.759 eV\n",
      "E_pot\t-8311.046 eV\t\tE_kin\t0.306 eV (237 K)\t\tE_tot\t-8310.740 eV\n",
      "E_pot\t-8310.935 eV\t\tE_kin\t0.155 eV (120 K)\t\tE_tot\t-8310.779 eV\n",
      "E_pot\t-8310.951 eV\t\tE_kin\t0.275 eV (213 K)\t\tE_tot\t-8310.677 eV\n",
      "E_pot\t-8311.096 eV\t\tE_kin\t0.504 eV (390 K)\t\tE_tot\t-8310.592 eV\n",
      "E_pot\t-8310.963 eV\t\tE_kin\t0.342 eV (264 K)\t\tE_tot\t-8310.621 eV\n",
      "E_pot\t-8310.893 eV\t\tE_kin\t0.402 eV (311 K)\t\tE_tot\t-8310.491 eV\n",
      "E_pot\t-8310.645 eV\t\tE_kin\t0.257 eV (199 K)\t\tE_tot\t-8310.388 eV\n",
      "E_pot\t-8310.710 eV\t\tE_kin\t0.431 eV (333 K)\t\tE_tot\t-8310.279 eV\n",
      "E_pot\t-8310.973 eV\t\tE_kin\t0.559 eV (432 K)\t\tE_tot\t-8310.414 eV\n",
      "E_pot\t-8310.815 eV\t\tE_kin\t0.353 eV (273 K)\t\tE_tot\t-8310.462 eV\n",
      "E_pot\t-8310.932 eV\t\tE_kin\t0.359 eV (278 K)\t\tE_tot\t-8310.573 eV\n",
      "simulation finished without problems:\tTrue\n"
     ]
    }
   ],
   "source": [
    "# general imports\n",
    "from ase.lattice.cubic import Diamond\n",
    "from ase.md.langevin import Langevin\n",
    "from ase.md.velocitydistribution import MaxwellBoltzmannDistribution\n",
    "from ase.optimize import BFGS\n",
    "from ase import units\n",
    "import torchani\n",
    "\n",
    "# define the model\n",
    "calculator = torchani.models.ANI1ccx().ase()\n",
    "\n",
    "# define the lattice\n",
    "atoms = Diamond(symbol=\"C\", pbc=True)\n",
    "atoms.calc = calculator\n",
    "print(len(atoms), \"atoms in the cell\")\n",
    "\n",
    "# minimize the structure\n",
    "opt = BFGS(atoms)\n",
    "opt.run(fmax=0.001)\n",
    "\n",
    "# MD parameters\n",
    "temperature = 300   # Kelvin\n",
    "timestep = 1.0      # fs\n",
    "\n",
    "# initialize velocities according to the Maxwell-Boltzmann distribution\n",
    "MaxwellBoltzmannDistribution(atoms, temperature_K=temperature)\n",
    "dyn = Langevin(atoms, timestep=timestep*units.fs, temperature_K=300, friction=0.2)\n",
    "\n",
    "# saves\n",
    "kinetic_energies = []\n",
    "potential_energies = []\n",
    "total_energies = []\n",
    "\n",
    "# store energies\n",
    "def store_energies():\n",
    "    kinetic_energy = atoms.get_kinetic_energy()\n",
    "    potential_energy = atoms.get_potential_energy()\n",
    "    total_energy = kinetic_energy + potential_energy\n",
    "    kinetic_energies.append(kinetic_energy)\n",
    "    potential_energies.append(potential_energy)\n",
    "    total_energies.append(total_energy)\n",
    "\n",
    "# print energies\n",
    "def printenergy(a=atoms):\n",
    "    epot = a.get_potential_energy()\n",
    "    ekin = a.get_kinetic_energy()\n",
    "    print(f'E_pot\\t{epot:.3f} eV\\t\\tE_kin\\t{ekin:.3f} eV ({ekin / (1.5 * units.kB * 10):.0f} K)\\t\\tE_tot\\t{epot + ekin:.3f} eV')\n",
    "\n",
    "# trajectory\n",
    "traj = Trajectory('diamond_MD.traj', 'w', atoms)\n",
    "\n",
    "# for every step, store, print the energies and save the traj\n",
    "dyn.attach(store_energies, interval=40)\n",
    "dyn.attach(printenergy, interval=40)\n",
    "dyn.attach(traj.write, interval=40)\n",
    "\n",
    "# 2 ps run\n",
    "converged = dyn.run(2000)\n",
    "traj.close()\n",
    "print(f'simulation finished without problems:\\t{converged}')"
   ]
  },
  {
   "cell_type": "code",
   "execution_count": 11,
   "metadata": {},
   "outputs": [
    {
     "data": {
      "application/vnd.jupyter.widget-view+json": {
       "model_id": "e7bba0c983f54ce08ac613a4fda14e93",
       "version_major": 2,
       "version_minor": 0
      },
      "text/plain": [
       "HBox(children=(NGLWidget(max_frame=50), VBox(children=(Dropdown(description='Show', options=('All', 'C'), valu…"
      ]
     },
     "execution_count": 11,
     "metadata": {},
     "output_type": "execute_result"
    }
   ],
   "source": [
    "from ase.visualize import view\n",
    "\n",
    "load_traj = Trajectory('diamond_MD.traj', 'r')\n",
    "view(load_traj, viewer='ngl')"
   ]
  },
  {
   "cell_type": "code",
   "execution_count": 12,
   "metadata": {},
   "outputs": [
    {
     "data": {
      "image/png": "[encoded data removed]",
      "text/plain": [
       "<Figure size 1200x400 with 3 Axes>"
      ]
     },
     "metadata": {},
     "output_type": "display_data"
    }
   ],
   "source": [
    "# plot import section\n",
    "import numpy as np\n",
    "\n",
    "import matplotlib.pyplot as plt\n",
    "from matplotlib import rc\n",
    "rc('font',**{'family':'sans-serif','sans-serif':['Helvetica']})\n",
    "rc('text', usetex=True)\n",
    "rc('lines', lw=1, color='b')\n",
    "rc('legend', loc='best')\n",
    "plt.rcParams[\"legend.fancybox\"] = False\n",
    "plt.rcParams[\"legend.edgecolor\"] = 'black'\n",
    "plt.rcParams['legend.borderpad'] = 0.25\n",
    "plt.rcParams['legend.fontsize'] = 11\n",
    "plt.rcParams.update({'pgf.preamble': r'\\usepackage{amsmath}'})\n",
    "\n",
    "\n",
    "# PLOTS\n",
    "fig, axes = plt.subplots(ncols=3, nrows=1, figsize=(12, 4))\n",
    "ax1, ax2, ax3 = axes[0], axes[1], axes[2]\n",
    "\n",
    "# kin\n",
    "ax1.tick_params(bottom=True, top=True, left=True, right=False,\n",
    "                    direction=\"in\")\n",
    "ax1.tick_params(labelbottom=True, labeltop=False, labelleft=True,\n",
    "                    labelright=False, direction=\"in\")\n",
    "ax1.plot(kinetic_energies, label=r'$\\textnormal{kinetic energy}$', color='deeppink', alpha=0.9)\n",
    "ax1.set(xlabel=r'$\\textnormal{simulation time}\\;(\\textnormal{fs})$', ylabel=r'$\\textnormal{kinetic energy}\\;(\\textnormal{eV})$')\n",
    "ax1.legend(loc='best')\n",
    "\n",
    "# pot\n",
    "ax2.tick_params(bottom=True, top=True, left=True, right=False,\n",
    "                    direction=\"in\")\n",
    "ax2.tick_params(labelbottom=True, labeltop=False, labelleft=True,\n",
    "                    labelright=False, direction=\"in\")\n",
    "ax2.plot(potential_energies, label=r'$\\textnormal{potential energy}$', color='darkgreen', alpha=0.9)\n",
    "ax2.set(xlabel=r'$\\textnormal{simulation time}\\;(\\textnormal{fs})$', ylabel=r'$\\textnormal{potential energy}\\;(\\textnormal{eV})$')\n",
    "ax2.legend(loc='best')\n",
    "\n",
    "# total\n",
    "ax3.tick_params(bottom=True, top=True, left=True, right=False,\n",
    "                    direction=\"in\")\n",
    "ax3.tick_params(labelbottom=True, labeltop=False, labelleft=True,\n",
    "                    labelright=False, direction=\"in\")\n",
    "ax3.plot(total_energies, label=r'$\\textnormal{total energy}$', color='darkviolet', alpha=0.9)\n",
    "ax3.set(xlabel=r'$\\textnormal{simulation time}\\;(\\textnormal{fs})$', ylabel=r'$\\textnormal{total energy}\\;(\\textnormal{eV})$')\n",
    "ax3.legend(loc='best')\n",
    "\n",
    "plt.tight_layout()\n",
    "plt.savefig('./diamond_MD_plots.png', dpi=300)\n",
    "plt.show(fig)"
   ]
  }
 ],
 "metadata": {
  "kernelspec": {
   "display_name": "ASE_ANI",
   "language": "python",
   "name": "python3"
  },
  "language_info": {
   "codemirror_mode": {
    "name": "ipython",
    "version": 3
   },
   "file_extension": ".py",
   "mimetype": "text/x-python",
   "name": "python",
   "nbconvert_exporter": "python",
   "pygments_lexer": "ipython3",
   "version": "3.10.16"
  }
 },
 "nbformat": 4,
 "nbformat_minor": 2
}
