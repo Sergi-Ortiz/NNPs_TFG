{
  "cells": [
    {
      "cell_type": "code",
      "execution_count": 1,
      "metadata": {
        "collapsed": false
      },
      "outputs": [],
      "source": [
        "%matplotlib inline"
      ]
    },
    {
      "cell_type": "markdown",
      "metadata": {},
      "source": [
        "\n",
        "# Construct Model From NeuroChem Files\n",
        "\n",
        "This tutorial illustrates how to manually load model from `NeuroChem files`_.\n",
        "\n",
        "    https://github.com/isayev/ASE_ANI/tree/master/ani_models\n"
      ]
    },
    {
      "cell_type": "markdown",
      "metadata": {},
      "source": [
        "To begin with, let's first import the modules we will use:\n",
        "\n"
      ]
    },
    {
      "cell_type": "code",
      "execution_count": 2,
      "metadata": {
        "collapsed": false
      },
      "outputs": [
        {
          "name": "stderr",
          "output_type": "stream",
          "text": [
            "/Users/sergiortizropero/miniconda3/envs/ASE_ANI/lib/python3.10/site-packages/torchani/aev.py:16: UserWarning: cuaev not installed\n",
            "  warnings.warn(\"cuaev not installed\")\n"
          ]
        }
      ],
      "source": [
        "import os\n",
        "import torch\n",
        "import torchani\n",
        "import ase"
      ]
    },
    {
      "cell_type": "markdown",
      "metadata": {},
      "source": [
        "Now let's read constants from constant file and construct AEV computer.\n",
        "\n"
      ]
    },
    {
      "cell_type": "code",
      "execution_count": 17,
      "metadata": {},
      "outputs": [],
      "source": [
        "base_path  = '/Users/sergiortizropero/miniconda3/envs/ASE_ANI/lib/python3.10/site-packages/torchani/'"
      ]
    },
    {
      "cell_type": "code",
      "execution_count": 19,
      "metadata": {
        "collapsed": false
      },
      "outputs": [
        {
          "name": "stdout",
          "output_type": "stream",
          "text": [
            "/Users/sergiortizropero/miniconda3/envs/ASE_ANI/lib/python3.10/site-packages/torchani/resources/ani-1x_8x/rHCNO-5.2R_16-3.5A_a4-8.params\n"
          ]
        }
      ],
      "source": [
        "try:\n",
        "    path = os.path.dirname(os.path.realpath(__file__))\n",
        "except NameError:\n",
        "    path = os.getcwd()\n",
        "const_file = os.path.join(base_path, 'resources/ani-1x_8x/rHCNO-5.2R_16-3.5A_a4-8.params')  # noqa: E501\n",
        "print(const_file)\n",
        "consts = torchani.neurochem.Constants(const_file)\n",
        "aev_computer = torchani.AEVComputer(**consts)"
      ]
    },
    {
      "cell_type": "markdown",
      "metadata": {},
      "source": [
        "Now let's read self energies and construct energy shifter.\n",
        "\n"
      ]
    },
    {
      "cell_type": "code",
      "execution_count": 20,
      "metadata": {
        "collapsed": false
      },
      "outputs": [],
      "source": [
        "sae_file = os.path.join(base_path, 'resources/ani-1x_8x/sae_linfit.dat')  # noqa: E501\n",
        "energy_shifter = torchani.neurochem.load_sae(sae_file)"
      ]
    },
    {
      "cell_type": "markdown",
      "metadata": {},
      "source": [
        "Now let's read a whole ensemble of models.\n",
        "\n"
      ]
    },
    {
      "cell_type": "code",
      "execution_count": 21,
      "metadata": {
        "collapsed": false
      },
      "outputs": [],
      "source": [
        "model_prefix = os.path.join(base_path, 'resources/ani-1x_8x/train')  # noqa: E501\n",
        "ensemble = torchani.neurochem.load_model_ensemble(consts.species, model_prefix, 8)  # noqa: E501"
      ]
    },
    {
      "cell_type": "markdown",
      "metadata": {},
      "source": [
        "Or alternatively a single model.\n",
        "\n"
      ]
    },
    {
      "cell_type": "code",
      "execution_count": 22,
      "metadata": {
        "collapsed": false
      },
      "outputs": [],
      "source": [
        "model_dir = os.path.join(base_path, 'resources/ani-1x_8x/train0/networks')  # noqa: E501\n",
        "model = torchani.neurochem.load_model(consts.species, model_dir)"
      ]
    },
    {
      "cell_type": "markdown",
      "metadata": {},
      "source": [
        "You can create the pipeline of computing energies:\n",
        "(Coordinates) -[AEVComputer]-> (AEV) -[Neural Network]->\n",
        "(Raw energies) -[EnergyShifter]-> (Final energies)\n",
        "From using either the ensemble or a single model:\n",
        "\n"
      ]
    },
    {
      "cell_type": "code",
      "execution_count": 24,
      "metadata": {
        "collapsed": false
      },
      "outputs": [
        {
          "name": "stdout",
          "output_type": "stream",
          "text": [
            "Sequential(\n",
            "  (0): AEVComputer()\n",
            "  (1): Ensemble(\n",
            "    (0-7): 8 x ANIModel(\n",
            "      (H): Sequential(\n",
            "        (0): Linear(in_features=384, out_features=160, bias=True)\n",
            "        (1): CELU(alpha=0.1)\n",
            "        (2): Linear(in_features=160, out_features=128, bias=True)\n",
            "        (3): CELU(alpha=0.1)\n",
            "        (4): Linear(in_features=128, out_features=96, bias=True)\n",
            "        (5): CELU(alpha=0.1)\n",
            "        (6): Linear(in_features=96, out_features=1, bias=True)\n",
            "      )\n",
            "      (C): Sequential(\n",
            "        (0): Linear(in_features=384, out_features=144, bias=True)\n",
            "        (1): CELU(alpha=0.1)\n",
            "        (2): Linear(in_features=144, out_features=112, bias=True)\n",
            "        (3): CELU(alpha=0.1)\n",
            "        (4): Linear(in_features=112, out_features=96, bias=True)\n",
            "        (5): CELU(alpha=0.1)\n",
            "        (6): Linear(in_features=96, out_features=1, bias=True)\n",
            "      )\n",
            "      (N): Sequential(\n",
            "        (0): Linear(in_features=384, out_features=128, bias=True)\n",
            "        (1): CELU(alpha=0.1)\n",
            "        (2): Linear(in_features=128, out_features=112, bias=True)\n",
            "        (3): CELU(alpha=0.1)\n",
            "        (4): Linear(in_features=112, out_features=96, bias=True)\n",
            "        (5): CELU(alpha=0.1)\n",
            "        (6): Linear(in_features=96, out_features=1, bias=True)\n",
            "      )\n",
            "      (O): Sequential(\n",
            "        (0): Linear(in_features=384, out_features=128, bias=True)\n",
            "        (1): CELU(alpha=0.1)\n",
            "        (2): Linear(in_features=128, out_features=112, bias=True)\n",
            "        (3): CELU(alpha=0.1)\n",
            "        (4): Linear(in_features=112, out_features=96, bias=True)\n",
            "        (5): CELU(alpha=0.1)\n",
            "        (6): Linear(in_features=96, out_features=1, bias=True)\n",
            "      )\n",
            "    )\n",
            "  )\n",
            "  (2): EnergyShifter()\n",
            ")\n",
            "Sequential(\n",
            "  (0): AEVComputer()\n",
            "  (1): ANIModel(\n",
            "    (H): Sequential(\n",
            "      (0): Linear(in_features=384, out_features=160, bias=True)\n",
            "      (1): CELU(alpha=0.1)\n",
            "      (2): Linear(in_features=160, out_features=128, bias=True)\n",
            "      (3): CELU(alpha=0.1)\n",
            "      (4): Linear(in_features=128, out_features=96, bias=True)\n",
            "      (5): CELU(alpha=0.1)\n",
            "      (6): Linear(in_features=96, out_features=1, bias=True)\n",
            "    )\n",
            "    (C): Sequential(\n",
            "      (0): Linear(in_features=384, out_features=144, bias=True)\n",
            "      (1): CELU(alpha=0.1)\n",
            "      (2): Linear(in_features=144, out_features=112, bias=True)\n",
            "      (3): CELU(alpha=0.1)\n",
            "      (4): Linear(in_features=112, out_features=96, bias=True)\n",
            "      (5): CELU(alpha=0.1)\n",
            "      (6): Linear(in_features=96, out_features=1, bias=True)\n",
            "    )\n",
            "    (N): Sequential(\n",
            "      (0): Linear(in_features=384, out_features=128, bias=True)\n",
            "      (1): CELU(alpha=0.1)\n",
            "      (2): Linear(in_features=128, out_features=112, bias=True)\n",
            "      (3): CELU(alpha=0.1)\n",
            "      (4): Linear(in_features=112, out_features=96, bias=True)\n",
            "      (5): CELU(alpha=0.1)\n",
            "      (6): Linear(in_features=96, out_features=1, bias=True)\n",
            "    )\n",
            "    (O): Sequential(\n",
            "      (0): Linear(in_features=384, out_features=128, bias=True)\n",
            "      (1): CELU(alpha=0.1)\n",
            "      (2): Linear(in_features=128, out_features=112, bias=True)\n",
            "      (3): CELU(alpha=0.1)\n",
            "      (4): Linear(in_features=112, out_features=96, bias=True)\n",
            "      (5): CELU(alpha=0.1)\n",
            "      (6): Linear(in_features=96, out_features=1, bias=True)\n",
            "    )\n",
            "  )\n",
            "  (2): EnergyShifter()\n",
            ")\n"
          ]
        }
      ],
      "source": [
        "nnp1 = torchani.nn.Sequential(aev_computer, ensemble, energy_shifter)\n",
        "nnp2 = torchani.nn.Sequential(aev_computer, model, energy_shifter)\n",
        "print(nnp1)\n",
        "print(nnp2)"
      ]
    },
    {
      "cell_type": "markdown",
      "metadata": {},
      "source": [
        "You can also create an ASE calculator using the ensemble or single model:\n",
        "\n"
      ]
    },
    {
      "cell_type": "code",
      "execution_count": 25,
      "metadata": {
        "collapsed": false
      },
      "outputs": [
        {
          "name": "stdout",
          "output_type": "stream",
          "text": [
            "<torchani.ase.Calculator object at 0x164848310>\n",
            "<torchani.ase.Calculator object at 0x164848310>\n"
          ]
        }
      ],
      "source": [
        "calculator1 = torchani.ase.Calculator(consts.species, nnp1)\n",
        "calculator2 = torchani.ase.Calculator(consts.species, nnp2)\n",
        "print(calculator1)\n",
        "print(calculator1)"
      ]
    },
    {
      "cell_type": "markdown",
      "metadata": {},
      "source": [
        "Now let's define a methane molecule\n",
        "\n"
      ]
    },
    {
      "cell_type": "code",
      "execution_count": 26,
      "metadata": {
        "collapsed": false
      },
      "outputs": [],
      "source": [
        "coordinates = torch.tensor([[[0.03192167, 0.00638559, 0.01301679],\n",
        "                             [-0.83140486, 0.39370209, -0.26395324],\n",
        "                             [-0.66518241, -0.84461308, 0.20759389],\n",
        "                             [0.45554739, 0.54289633, 0.81170881],\n",
        "                             [0.66091919, -0.16799635, -0.91037834]]],\n",
        "                           requires_grad=True)\n",
        "species = consts.species_to_tensor(['C', 'H', 'H', 'H', 'H']).unsqueeze(0)\n",
        "methane = ase.Atoms(['C', 'H', 'H', 'H', 'H'], positions=coordinates.squeeze().detach().numpy())"
      ]
    },
    {
      "cell_type": "markdown",
      "metadata": {},
      "source": [
        "Now let's compute energies using the ensemble directly:\n",
        "\n"
      ]
    },
    {
      "cell_type": "code",
      "execution_count": 27,
      "metadata": {
        "collapsed": false
      },
      "outputs": [
        {
          "name": "stdout",
          "output_type": "stream",
          "text": [
            "Energy: -40.459022105724976\n",
            "Force: tensor([[ 0.0306, -0.1316, -0.0527],\n",
            "        [-0.1293,  0.1639, -0.0774],\n",
            "        [ 0.0856, -0.0429,  0.0408],\n",
            "        [ 0.0268,  0.0060,  0.0381],\n",
            "        [-0.0138,  0.0046,  0.0511]])\n"
          ]
        }
      ],
      "source": [
        "energy = nnp1((species, coordinates)).energies\n",
        "derivative = torch.autograd.grad(energy.sum(), coordinates)[0]\n",
        "force = -derivative\n",
        "print('Energy:', energy.item())\n",
        "print('Force:', force.squeeze())"
      ]
    },
    {
      "cell_type": "markdown",
      "metadata": {},
      "source": [
        "And using the ASE interface of the ensemble:\n",
        "\n"
      ]
    },
    {
      "cell_type": "code",
      "execution_count": 28,
      "metadata": {
        "collapsed": false
      },
      "outputs": [
        {
          "name": "stdout",
          "output_type": "stream",
          "text": [
            "Energy: -40.45902210572497\n",
            "Force: [[ 0.03062523 -0.13160463 -0.05265208]\n",
            " [-0.12927508  0.16388635 -0.07736803]\n",
            " [ 0.08563147 -0.04288922  0.04082094]\n",
            " [ 0.0268122   0.00601403  0.03809873]\n",
            " [-0.01379382  0.00459347  0.05110044]]\n"
          ]
        },
        {
          "name": "stderr",
          "output_type": "stream",
          "text": [
            "/var/folders/cq/s30xmbh57xndgmhg1zhwclsh0000gn/T/ipykernel_95412/4212972738.py:1: FutureWarning: Please use atoms.calc = calc\n",
            "  methane.set_calculator(calculator1)\n"
          ]
        }
      ],
      "source": [
        "methane.set_calculator(calculator1)\n",
        "print('Energy:', methane.get_potential_energy() / ase.units.Hartree)\n",
        "print('Force:', methane.get_forces() / ase.units.Hartree)"
      ]
    },
    {
      "cell_type": "markdown",
      "metadata": {},
      "source": [
        "We can do the same thing with the single model:\n",
        "\n"
      ]
    },
    {
      "cell_type": "code",
      "execution_count": 29,
      "metadata": {
        "collapsed": false
      },
      "outputs": [
        {
          "name": "stdout",
          "output_type": "stream",
          "text": [
            "Energy: -40.46280035847561\n",
            "Force: tensor([[ 0.0561, -0.1270, -0.0541],\n",
            "        [-0.1401,  0.1552, -0.0753],\n",
            "        [ 0.0753, -0.0374,  0.0395],\n",
            "        [ 0.0242,  0.0024,  0.0334],\n",
            "        [-0.0156,  0.0068,  0.0565]])\n",
            "Energy: -40.46280035847561\n",
            "Force: [[ 0.05614962 -0.12697159 -0.05413402]\n",
            " [-0.14007528  0.15523373 -0.07533836]\n",
            " [ 0.0753209  -0.03744107  0.03949668]\n",
            " [ 0.02423101  0.00235087  0.03344229]\n",
            " [-0.01562625  0.00682809  0.05653341]]\n"
          ]
        },
        {
          "name": "stderr",
          "output_type": "stream",
          "text": [
            "/var/folders/cq/s30xmbh57xndgmhg1zhwclsh0000gn/T/ipykernel_95412/1055837961.py:7: FutureWarning: Please use atoms.calc = calc\n",
            "  methane.set_calculator(calculator2)\n"
          ]
        }
      ],
      "source": [
        "energy = nnp2((species, coordinates)).energies\n",
        "derivative = torch.autograd.grad(energy.sum(), coordinates)[0]\n",
        "force = -derivative\n",
        "print('Energy:', energy.item())\n",
        "print('Force:', force.squeeze())\n",
        "\n",
        "methane.set_calculator(calculator2)\n",
        "print('Energy:', methane.get_potential_energy() / ase.units.Hartree)\n",
        "print('Force:', methane.get_forces() / ase.units.Hartree)"
      ]
    }
  ],
  "metadata": {
    "kernelspec": {
      "display_name": "ASE_ANI",
      "language": "python",
      "name": "python3"
    },
    "language_info": {
      "codemirror_mode": {
        "name": "ipython",
        "version": 3
      },
      "file_extension": ".py",
      "mimetype": "text/x-python",
      "name": "python",
      "nbconvert_exporter": "python",
      "pygments_lexer": "ipython3",
      "version": "3.10.16"
    }
  },
  "nbformat": 4,
  "nbformat_minor": 0
}
