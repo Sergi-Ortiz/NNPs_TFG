{
  "cells": [
    {
      "cell_type": "code",
      "execution_count": 1,
      "metadata": {
        "collapsed": false
      },
      "outputs": [],
      "source": [
        "%matplotlib inline"
      ]
    },
    {
      "cell_type": "markdown",
      "metadata": {},
      "source": [
        "\n",
        "# Using TorchScript to serialize and deploy model\n",
        "\n",
        "Models in TorchANI's model zoo support TorchScript. TorchScript is a way to create\n",
        "serializable and optimizable models from PyTorch code. It allows users to saved their\n",
        "models from a Python process and loaded in a process where there is no Python dependency.\n"
      ]
    },
    {
      "cell_type": "markdown",
      "metadata": {},
      "source": [
        "To begin with, let's first import the modules we will use:\n",
        "\n"
      ]
    },
    {
      "cell_type": "code",
      "execution_count": 2,
      "metadata": {
        "collapsed": false
      },
      "outputs": [
        {
          "name": "stderr",
          "output_type": "stream",
          "text": [
            "/Users/sergiortizropero/miniconda3/envs/ASE_ANI/lib/python3.10/site-packages/torchani/aev.py:16: UserWarning: cuaev not installed\n",
            "  warnings.warn(\"cuaev not installed\")\n"
          ]
        }
      ],
      "source": [
        "import torch\n",
        "import torchani\n",
        "from typing import Tuple, Optional\n",
        "from torch import Tensor"
      ]
    },
    {
      "cell_type": "markdown",
      "metadata": {},
      "source": [
        "## Scripting builtin model directly\n",
        "\n",
        "Let's now load the built-in ANI-1ccx models. The builtin ANI-1ccx contains 8\n",
        "models trained with diffrent initialization.\n",
        "\n"
      ]
    },
    {
      "cell_type": "code",
      "execution_count": 3,
      "metadata": {
        "collapsed": false
      },
      "outputs": [
        {
          "name": "stdout",
          "output_type": "stream",
          "text": [
            "/Users/sergiortizropero/miniconda3/envs/ASE_ANI/lib/python3.10/site-packages/torchani/resources/\n"
          ]
        }
      ],
      "source": [
        "model = torchani.models.ANI1ccx(periodic_table_index=True)"
      ]
    },
    {
      "cell_type": "markdown",
      "metadata": {},
      "source": [
        "It is very easy to compile and save the model using `torch.jit`.\n",
        "\n"
      ]
    },
    {
      "cell_type": "code",
      "execution_count": 4,
      "metadata": {
        "collapsed": false
      },
      "outputs": [],
      "source": [
        "compiled_model = torch.jit.script(model)\n",
        "torch.jit.save(compiled_model, 'compiled_model.pt')"
      ]
    },
    {
      "cell_type": "markdown",
      "metadata": {},
      "source": [
        "Besides compiling the ensemble, it is also possible to compile a single network\n",
        "\n"
      ]
    },
    {
      "cell_type": "code",
      "execution_count": 5,
      "metadata": {
        "collapsed": false
      },
      "outputs": [],
      "source": [
        "compiled_model0 = torch.jit.script(model[0])\n",
        "torch.jit.save(compiled_model0, 'compiled_model0.pt')"
      ]
    },
    {
      "cell_type": "markdown",
      "metadata": {},
      "source": [
        "For testing purposes, we will now load the models we just saved and see if they\n",
        "produces the same output as the original model:\n",
        "\n"
      ]
    },
    {
      "cell_type": "code",
      "execution_count": 6,
      "metadata": {
        "collapsed": false
      },
      "outputs": [],
      "source": [
        "loaded_compiled_model = torch.jit.load('compiled_model.pt')\n",
        "loaded_compiled_model0 = torch.jit.load('compiled_model0.pt')"
      ]
    },
    {
      "cell_type": "markdown",
      "metadata": {},
      "source": [
        "We use the molecule below to test:\n",
        "\n"
      ]
    },
    {
      "cell_type": "code",
      "execution_count": 7,
      "metadata": {
        "collapsed": false
      },
      "outputs": [],
      "source": [
        "coordinates = torch.tensor([[[0.03192167, 0.00638559, 0.01301679],\n",
        "                             [-0.83140486, 0.39370209, -0.26395324],\n",
        "                             [-0.66518241, -0.84461308, 0.20759389],\n",
        "                             [0.45554739, 0.54289633, 0.81170881],\n",
        "                             [0.66091919, -0.16799635, -0.91037834]]])\n",
        "# In periodic table, C = 6 and H = 1\n",
        "species = torch.tensor([[6, 1, 1, 1, 1]])"
      ]
    },
    {
      "cell_type": "markdown",
      "metadata": {},
      "source": [
        "And here is the result:\n",
        "\n"
      ]
    },
    {
      "cell_type": "code",
      "execution_count": 8,
      "metadata": {
        "collapsed": false
      },
      "outputs": [
        {
          "name": "stdout",
          "output_type": "stream",
          "text": [
            "Ensemble energy, eager mode vs loaded jit: -40.425620573407016 -40.425620573407016\n",
            "Single network energy, eager mode vs loaded jit: -40.428783437071345 -40.428783437071345\n"
          ]
        }
      ],
      "source": [
        "energies_ensemble = model((species, coordinates)).energies\n",
        "energies_single = model[0]((species, coordinates)).energies\n",
        "energies_ensemble_jit = loaded_compiled_model((species, coordinates)).energies\n",
        "energies_single_jit = loaded_compiled_model0((species, coordinates)).energies\n",
        "print('Ensemble energy, eager mode vs loaded jit:', energies_ensemble.item(), energies_ensemble_jit.item())\n",
        "print('Single network energy, eager mode vs loaded jit:', energies_single.item(), energies_single_jit.item())"
      ]
    },
    {
      "cell_type": "markdown",
      "metadata": {},
      "source": [
        "## Customize the model and script\n",
        "\n",
        "You could also customize the model you want to export. For example, let's do\n",
        "the following customization to the model:\n",
        "\n",
        "- uses double as dtype instead of float\n",
        "- don't care about periodic boundary condition\n",
        "- in addition to energies, allow returnsing optionally forces, and hessians\n",
        "- when indexing atom species, use its index in the periodic table instead of 0, 1, 2, 3, ...\n",
        "\n",
        "you could do the following:\n",
        "\n"
      ]
    },
    {
      "cell_type": "code",
      "execution_count": 9,
      "metadata": {
        "collapsed": false
      },
      "outputs": [
        {
          "name": "stdout",
          "output_type": "stream",
          "text": [
            "/Users/sergiortizropero/miniconda3/envs/ASE_ANI/lib/python3.10/site-packages/torchani/resources/\n",
            "Energy, eager mode vs loaded jit: -40.45902209055406 -40.45902209055406\n",
            "\n",
            "Force, eager mode vs loaded jit:\n",
            " tensor([[ 0.0306, -0.1316, -0.0527],\n",
            "        [-0.1293,  0.1639, -0.0774],\n",
            "        [ 0.0856, -0.0429,  0.0408],\n",
            "        [ 0.0268,  0.0060,  0.0381],\n",
            "        [-0.0138,  0.0046,  0.0511]], grad_fn=<SqueezeBackward1>) \n",
            " tensor([[ 0.0306, -0.1316, -0.0527],\n",
            "        [-0.1293,  0.1639, -0.0774],\n",
            "        [ 0.0856, -0.0429,  0.0408],\n",
            "        [ 0.0268,  0.0060,  0.0381],\n",
            "        [-0.0138,  0.0046,  0.0511]], grad_fn=<SqueezeBackward1>)\n",
            "\n",
            "Hessian, eager mode vs loaded jit:\n",
            " tensor([[     3.1488,     -0.0349,      0.5574,     -1.7151,      0.6854,     -0.5222,     -0.5876,     -0.3823,      0.0821,     -0.3981,     -0.3054,     -0.4091,     -0.4481,      0.0371,      0.2918],\n",
            "        [    -0.0349,      1.7647,      0.2874,      0.7957,     -0.4302,      0.2531,     -0.4938,     -0.6864,      0.0953,     -0.2923,     -0.4588,     -0.5438,      0.0253,     -0.1893,     -0.0921],\n",
            "        [     0.5574,      0.2874,      2.0966,     -0.5563,      0.2095,     -0.2213,      0.1038,      0.1282,     -0.2887,     -0.3800,     -0.5247,     -0.9347,      0.2750,     -0.1004,     -0.6520],\n",
            "        [    -1.7151,      0.7957,     -0.5563,      1.7562,     -0.8145,      0.5842,      0.0646,     -0.0487,      0.0142,     -0.0480,      0.0304,     -0.0217,     -0.0578,      0.0372,     -0.0204],\n",
            "        [     0.6854,     -0.4302,      0.2095,     -0.8145,      0.6239,     -0.3470,      0.1909,     -0.2080,      0.1456,     -0.0709,      0.0176,     -0.0234,      0.0090,     -0.0033,      0.0153],\n",
            "        [    -0.5222,      0.2531,     -0.2213,      0.5842,     -0.3470,      0.1989,     -0.0651,      0.0972,      0.0325,     -0.0840,      0.0401,     -0.0391,      0.0871,     -0.0435,      0.0289],\n",
            "        [    -0.5876,     -0.4938,      0.1038,      0.0646,      0.1909,     -0.0651,      0.5552,      0.3968,     -0.0841,     -0.0123,     -0.0344,      0.0188,     -0.0199,     -0.0595,      0.0265],\n",
            "        [    -0.3823,     -0.6864,      0.1282,     -0.0487,     -0.2080,      0.0972,      0.3968,      0.8926,     -0.2345,      0.0128,     -0.0120,      0.0199,      0.0214,      0.0138,     -0.0108],\n",
            "        [     0.0821,      0.0953,     -0.2887,      0.0142,      0.1456,      0.0325,     -0.0841,     -0.2345,      0.2229,     -0.0435,     -0.0703,      0.0345,      0.0313,      0.0640,     -0.0012],\n",
            "        [    -0.3981,     -0.2923,     -0.3800,     -0.0480,     -0.0709,     -0.0840,     -0.0123,      0.0128,     -0.0435,      0.4076,      0.3160,      0.4598,      0.0508,      0.0343,      0.0477],\n",
            "        [    -0.3054,     -0.4588,     -0.5247,      0.0304,      0.0176,      0.0401,     -0.0344,     -0.0120,     -0.0703,      0.3160,      0.4539,      0.5845,     -0.0066,     -0.0008,     -0.0296],\n",
            "        [    -0.4091,     -0.5438,     -0.9347,     -0.0217,     -0.0234,     -0.0391,      0.0188,      0.0199,      0.0345,      0.4598,      0.5845,      1.0041,     -0.0478,     -0.0372,     -0.0649],\n",
            "        [    -0.4481,      0.0253,      0.2750,     -0.0578,      0.0090,      0.0871,     -0.0199,      0.0214,      0.0313,      0.0508,     -0.0066,     -0.0478,      0.4749,     -0.0491,     -0.3456],\n",
            "        [     0.0371,     -0.1893,     -0.1004,      0.0372,     -0.0033,     -0.0435,     -0.0595,      0.0138,      0.0640,      0.0343,     -0.0008,     -0.0372,     -0.0491,      0.1795,      0.1171],\n",
            "        [     0.2918,     -0.0921,     -0.6520,     -0.0204,      0.0153,      0.0289,      0.0265,     -0.0108,     -0.0012,      0.0477,     -0.0296,     -0.0649,     -0.3456,      0.1171,      0.6892]]) \n",
            " tensor([[     3.1488,     -0.0349,      0.5574,     -1.7151,      0.6854,     -0.5222,     -0.5876,     -0.3823,      0.0821,     -0.3981,     -0.3054,     -0.4091,     -0.4481,      0.0371,      0.2918],\n",
            "        [    -0.0349,      1.7647,      0.2874,      0.7957,     -0.4302,      0.2531,     -0.4938,     -0.6864,      0.0953,     -0.2923,     -0.4588,     -0.5438,      0.0253,     -0.1893,     -0.0921],\n",
            "        [     0.5574,      0.2874,      2.0966,     -0.5563,      0.2095,     -0.2213,      0.1038,      0.1282,     -0.2887,     -0.3800,     -0.5247,     -0.9347,      0.2750,     -0.1004,     -0.6520],\n",
            "        [    -1.7151,      0.7957,     -0.5563,      1.7562,     -0.8145,      0.5842,      0.0646,     -0.0487,      0.0142,     -0.0480,      0.0304,     -0.0217,     -0.0578,      0.0372,     -0.0204],\n",
            "        [     0.6854,     -0.4302,      0.2095,     -0.8145,      0.6239,     -0.3470,      0.1909,     -0.2080,      0.1456,     -0.0709,      0.0176,     -0.0234,      0.0090,     -0.0033,      0.0153],\n",
            "        [    -0.5222,      0.2531,     -0.2213,      0.5842,     -0.3470,      0.1989,     -0.0651,      0.0972,      0.0325,     -0.0840,      0.0401,     -0.0391,      0.0871,     -0.0435,      0.0289],\n",
            "        [    -0.5876,     -0.4938,      0.1038,      0.0646,      0.1909,     -0.0651,      0.5552,      0.3968,     -0.0841,     -0.0123,     -0.0344,      0.0188,     -0.0199,     -0.0595,      0.0265],\n",
            "        [    -0.3823,     -0.6864,      0.1282,     -0.0487,     -0.2080,      0.0972,      0.3968,      0.8926,     -0.2345,      0.0128,     -0.0120,      0.0199,      0.0214,      0.0138,     -0.0108],\n",
            "        [     0.0821,      0.0953,     -0.2887,      0.0142,      0.1456,      0.0325,     -0.0841,     -0.2345,      0.2229,     -0.0435,     -0.0703,      0.0345,      0.0313,      0.0640,     -0.0012],\n",
            "        [    -0.3981,     -0.2923,     -0.3800,     -0.0480,     -0.0709,     -0.0840,     -0.0123,      0.0128,     -0.0435,      0.4076,      0.3160,      0.4598,      0.0508,      0.0343,      0.0477],\n",
            "        [    -0.3054,     -0.4588,     -0.5247,      0.0304,      0.0176,      0.0401,     -0.0344,     -0.0120,     -0.0703,      0.3160,      0.4539,      0.5845,     -0.0066,     -0.0008,     -0.0296],\n",
            "        [    -0.4091,     -0.5438,     -0.9347,     -0.0217,     -0.0234,     -0.0391,      0.0188,      0.0199,      0.0345,      0.4598,      0.5845,      1.0041,     -0.0478,     -0.0372,     -0.0649],\n",
            "        [    -0.4481,      0.0253,      0.2750,     -0.0578,      0.0090,      0.0871,     -0.0199,      0.0214,      0.0313,      0.0508,     -0.0066,     -0.0478,      0.4749,     -0.0491,     -0.3456],\n",
            "        [     0.0371,     -0.1893,     -0.1004,      0.0372,     -0.0033,     -0.0435,     -0.0595,      0.0138,      0.0640,      0.0343,     -0.0008,     -0.0372,     -0.0491,      0.1795,      0.1171],\n",
            "        [     0.2918,     -0.0921,     -0.6520,     -0.0204,      0.0153,      0.0289,      0.0265,     -0.0108,     -0.0012,      0.0477,     -0.0296,     -0.0649,     -0.3456,      0.1171,      0.6892]])\n"
          ]
        }
      ],
      "source": [
        "class CustomModule(torch.nn.Module):\n",
        "\n",
        "    def __init__(self):\n",
        "        super().__init__()\n",
        "        self.model = torchani.models.ANI1x(periodic_table_index=True).double()\n",
        "        # self.model = torchani.models.ANI1x(periodic_table_index=True)[0].double()\n",
        "        # self.model = torchani.models.ANI1ccx(periodic_table_index=True).double()\n",
        "\n",
        "    def forward(self, species: Tensor, coordinates: Tensor, return_forces: bool = False,\n",
        "                return_hessians: bool = False) -> Tuple[Tensor, Optional[Tensor], Optional[Tensor]]:\n",
        "        if return_forces or return_hessians:\n",
        "            coordinates.requires_grad_(True)\n",
        "\n",
        "        energies = self.model((species, coordinates)).energies\n",
        "\n",
        "        forces: Optional[Tensor] = None  # noqa: E701\n",
        "        hessians: Optional[Tensor] = None\n",
        "        if return_forces or return_hessians:\n",
        "            grad = torch.autograd.grad([energies.sum()], [coordinates], create_graph=return_hessians)[0]\n",
        "            assert grad is not None\n",
        "            forces = -grad\n",
        "            if return_hessians:\n",
        "                hessians = torchani.utils.hessian(coordinates, forces=forces)\n",
        "        return energies, forces, hessians\n",
        "\n",
        "\n",
        "custom_model = CustomModule()\n",
        "compiled_custom_model = torch.jit.script(custom_model)\n",
        "torch.jit.save(compiled_custom_model, 'compiled_custom_model.pt')\n",
        "loaded_compiled_custom_model = torch.jit.load('compiled_custom_model.pt')\n",
        "energies, forces, hessians = custom_model(species, coordinates, True, True)\n",
        "energies_jit, forces_jit, hessians_jit = loaded_compiled_custom_model(species, coordinates, True, True)\n",
        "\n",
        "print('Energy, eager mode vs loaded jit:', energies.item(), energies_jit.item())\n",
        "print()\n",
        "print('Force, eager mode vs loaded jit:\\n', forces.squeeze(0), '\\n', forces_jit.squeeze(0))\n",
        "print()\n",
        "torch.set_printoptions(sci_mode=False, linewidth=1000)\n",
        "print('Hessian, eager mode vs loaded jit:\\n', hessians.squeeze(0), '\\n', hessians_jit.squeeze(0))"
      ]
    }
  ],
  "metadata": {
    "kernelspec": {
      "display_name": "ASE_ANI",
      "language": "python",
      "name": "python3"
    },
    "language_info": {
      "codemirror_mode": {
        "name": "ipython",
        "version": 3
      },
      "file_extension": ".py",
      "mimetype": "text/x-python",
      "name": "python",
      "nbconvert_exporter": "python",
      "pygments_lexer": "ipython3",
      "version": "3.10.16"
    }
  },
  "nbformat": 4,
  "nbformat_minor": 0
}
