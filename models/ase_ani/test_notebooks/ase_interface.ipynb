{
  "cells": [
    {
      "cell_type": "code",
      "execution_count": 1,
      "metadata": {
        "collapsed": false
      },
      "outputs": [],
      "source": [
        "%matplotlib inline"
      ]
    },
    {
      "cell_type": "markdown",
      "metadata": {},
      "source": [
        "\n",
        "# Structure minimization and constant temperature MD using ASE interface\n",
        "\n",
        "This example is modified from the official `home page` and\n",
        "`Constant temperature MD`_ to use the ASE interface of TorchANI as energy\n",
        "calculator.\n",
        "\n",
        "    https://wiki.fysik.dtu.dk/ase/\n",
        "    https://wiki.fysik.dtu.dk/ase/tutorials/md/md.html#constant-temperature-md\n"
      ]
    },
    {
      "cell_type": "markdown",
      "metadata": {},
      "source": [
        "To begin with, let's first import the modules we will use:\n",
        "\n"
      ]
    },
    {
      "cell_type": "code",
      "execution_count": 2,
      "metadata": {
        "collapsed": false
      },
      "outputs": [
        {
          "name": "stderr",
          "output_type": "stream",
          "text": [
            "/Users/sergiortizropero/miniconda3/envs/ASE_ANI/lib/python3.10/site-packages/torchani/aev.py:16: UserWarning: cuaev not installed\n",
            "  warnings.warn(\"cuaev not installed\")\n"
          ]
        }
      ],
      "source": [
        "from ase.lattice.cubic import Diamond\n",
        "from ase.md.langevin import Langevin\n",
        "from ase.optimize import BFGS\n",
        "from ase import units\n",
        "import torchani"
      ]
    },
    {
      "cell_type": "markdown",
      "metadata": {},
      "source": [
        "Now let's set up a crystal\n",
        "\n"
      ]
    },
    {
      "cell_type": "code",
      "execution_count": 3,
      "metadata": {
        "collapsed": false
      },
      "outputs": [
        {
          "name": "stdout",
          "output_type": "stream",
          "text": [
            "8 atoms in the cell\n"
          ]
        }
      ],
      "source": [
        "atoms = Diamond(symbol=\"C\", pbc=True)\n",
        "print(len(atoms), \"atoms in the cell\")"
      ]
    },
    {
      "cell_type": "markdown",
      "metadata": {},
      "source": [
        "Now let's create a calculator from builtin models:\n",
        "\n"
      ]
    },
    {
      "cell_type": "code",
      "execution_count": 4,
      "metadata": {
        "collapsed": false
      },
      "outputs": [
        {
          "name": "stdout",
          "output_type": "stream",
          "text": [
            "/Users/sergiortizropero/miniconda3/envs/ASE_ANI/lib/python3.10/site-packages/torchani/resources/\n"
          ]
        }
      ],
      "source": [
        "calculator = torchani.models.ANI1ccx().ase()"
      ]
    },
    {
      "cell_type": "markdown",
      "metadata": {},
      "source": [
        "<div class=\"alert alert-info\"><h4>Note</h4><p>Regardless of the dtype you use in your model, when converting it to ASE\n",
        "    calculator, it always automatically the dtype to ``torch.float64``. The\n",
        "    reason for this behavior is, at many cases, the rounding error is too\n",
        "    large for structure minimization. If you insist on using\n",
        "    ``torch.float32``, do the following instead:\n",
        "\n",
        "```python\n",
        "calculator = torchani.models.ANI1ccx().ase(dtype=torch.float32)</p></div>\n",
        "```\n"
      ]
    },
    {
      "cell_type": "markdown",
      "metadata": {},
      "source": [
        "Now let's set the calculator for ``atoms``:\n",
        "\n"
      ]
    },
    {
      "cell_type": "code",
      "execution_count": 5,
      "metadata": {
        "collapsed": false
      },
      "outputs": [
        {
          "name": "stderr",
          "output_type": "stream",
          "text": [
            "/var/folders/cq/s30xmbh57xndgmhg1zhwclsh0000gn/T/ipykernel_95390/791988102.py:1: FutureWarning: Please use atoms.calc = calc\n",
            "  atoms.set_calculator(calculator)\n"
          ]
        }
      ],
      "source": [
        "atoms.set_calculator(calculator)"
      ]
    },
    {
      "cell_type": "markdown",
      "metadata": {},
      "source": [
        "Now let's minimize the structure:\n",
        "\n"
      ]
    },
    {
      "cell_type": "code",
      "execution_count": 6,
      "metadata": {
        "collapsed": false
      },
      "outputs": [
        {
          "name": "stdout",
          "output_type": "stream",
          "text": [
            "Begin minimizing...\n",
            "      Step     Time          Energy          fmax\n",
            "BFGS:    0 10:18:23    -8311.226183        0.000027\n",
            "\n"
          ]
        }
      ],
      "source": [
        "print(\"Begin minimizing...\")\n",
        "opt = BFGS(atoms)\n",
        "opt.run(fmax=0.001)\n",
        "print()"
      ]
    },
    {
      "cell_type": "markdown",
      "metadata": {},
      "source": [
        "Now create a callback function that print interesting physical quantities:\n",
        "\n"
      ]
    },
    {
      "cell_type": "code",
      "execution_count": 7,
      "metadata": {
        "collapsed": false
      },
      "outputs": [],
      "source": [
        "def printenergy(a=atoms):\n",
        "    \"\"\"Function to print the potential, kinetic and total energy.\"\"\"\n",
        "    epot = a.get_potential_energy() / len(a)\n",
        "    ekin = a.get_kinetic_energy() / len(a)\n",
        "    print('Energy per atom: Epot = %.3feV  Ekin = %.3feV (T=%3.0fK)  '\n",
        "          'Etot = %.3feV' % (epot, ekin, ekin / (1.5 * units.kB), epot + ekin))"
      ]
    },
    {
      "cell_type": "markdown",
      "metadata": {},
      "source": [
        "We want to run MD with constant energy using the Langevin algorithm\n",
        "with a time step of 1 fs, the temperature 300K and the friction\n",
        "coefficient to 0.02 atomic units.\n",
        "\n"
      ]
    },
    {
      "cell_type": "code",
      "execution_count": 8,
      "metadata": {
        "collapsed": false
      },
      "outputs": [
        {
          "name": "stderr",
          "output_type": "stream",
          "text": [
            "/Users/sergiortizropero/miniconda3/envs/ASE_ANI/lib/python3.10/site-packages/ase/md/md.py:52: FutureWarning: Specify the temperature in K using the 'temperature_K' argument\n",
            "  warnings.warn(FutureWarning(w))\n"
          ]
        }
      ],
      "source": [
        "dyn = Langevin(atoms, 1 * units.fs, 300 * units.kB, 0.2)\n",
        "dyn.attach(printenergy, interval=50)"
      ]
    },
    {
      "cell_type": "markdown",
      "metadata": {},
      "source": [
        "Now run the dynamics:\n",
        "\n"
      ]
    },
    {
      "cell_type": "code",
      "execution_count": 9,
      "metadata": {
        "collapsed": false
      },
      "outputs": [
        {
          "name": "stdout",
          "output_type": "stream",
          "text": [
            "Beginning dynamics...\n",
            "Energy per atom: Epot = -1038.903eV  Ekin = 0.000eV (T=  0K)  Etot = -1038.903eV\n",
            "Energy per atom: Epot = -1038.903eV  Ekin = 0.000eV (T=  0K)  Etot = -1038.903eV\n",
            "Energy per atom: Epot = -1038.881eV  Ekin = 0.028eV (T=220K)  Etot = -1038.853eV\n",
            "Energy per atom: Epot = -1038.869eV  Ekin = 0.036eV (T=278K)  Etot = -1038.833eV\n",
            "Energy per atom: Epot = -1038.885eV  Ekin = 0.041eV (T=320K)  Etot = -1038.843eV\n",
            "Energy per atom: Epot = -1038.876eV  Ekin = 0.025eV (T=197K)  Etot = -1038.850eV\n",
            "Energy per atom: Epot = -1038.862eV  Ekin = 0.027eV (T=210K)  Etot = -1038.835eV\n",
            "Energy per atom: Epot = -1038.867eV  Ekin = 0.043eV (T=333K)  Etot = -1038.824eV\n",
            "Energy per atom: Epot = -1038.867eV  Ekin = 0.022eV (T=170K)  Etot = -1038.845eV\n",
            "Energy per atom: Epot = -1038.878eV  Ekin = 0.036eV (T=281K)  Etot = -1038.841eV\n",
            "Energy per atom: Epot = -1038.853eV  Ekin = 0.021eV (T=162K)  Etot = -1038.832eV\n",
            "Energy per atom: Epot = -1038.867eV  Ekin = 0.036eV (T=276K)  Etot = -1038.831eV\n"
          ]
        },
        {
          "data": {
            "text/plain": [
              "True"
            ]
          },
          "execution_count": 9,
          "metadata": {},
          "output_type": "execute_result"
        }
      ],
      "source": [
        "print(\"Beginning dynamics...\")\n",
        "printenergy()\n",
        "dyn.run(500)"
      ]
    }
  ],
  "metadata": {
    "kernelspec": {
      "display_name": "ASE_ANI",
      "language": "python",
      "name": "python3"
    },
    "language_info": {
      "codemirror_mode": {
        "name": "ipython",
        "version": 3
      },
      "file_extension": ".py",
      "mimetype": "text/x-python",
      "name": "python",
      "nbconvert_exporter": "python",
      "pygments_lexer": "ipython3",
      "version": "3.10.16"
    }
  },
  "nbformat": 4,
  "nbformat_minor": 0
}
