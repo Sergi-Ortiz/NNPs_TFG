{
  "cells": [
    {
      "cell_type": "code",
      "execution_count": 21,
      "metadata": {
        "collapsed": false
      },
      "outputs": [],
      "source": [
        "%matplotlib inline"
      ]
    },
    {
      "cell_type": "markdown",
      "metadata": {},
      "source": [
        "\n",
        "\n",
        "# Train Neural Network Potential From NeuroChem Input File\n",
        "\n",
        "This example shows how to use TorchANI's NeuroChem trainer to read and run\n",
        "NeuroChem's training config file to train a neural network potential.\n"
      ]
    },
    {
      "cell_type": "markdown",
      "metadata": {},
      "source": [
        "To begin with, let's first import the modules we will use:\n",
        "\n"
      ]
    },
    {
      "cell_type": "code",
      "execution_count": 22,
      "metadata": {
        "collapsed": false
      },
      "outputs": [],
      "source": [
        "import torchani\n",
        "import torch\n",
        "import os\n",
        "import sys\n",
        "import tqdm"
      ]
    },
    {
      "cell_type": "markdown",
      "metadata": {},
      "source": [
        "Now let's setup path for the dataset and NeuroChem input file. Note that\n",
        "these paths assumes the user run this script under the ``examples`` directory\n",
        "of TorchANI's repository. If you download this script, you should manually\n",
        "set the path of these files in your system before this script can run\n",
        "successfully. Also note that here for our demo purpose, we set both training\n",
        "set and validation set the ``ani_gdb_s01.h5`` in TorchANI's repository. This\n",
        "allows this program to finish very quick, because that dataset is very small.\n",
        "But this is wrong and should be avoided for any serious training.\n",
        "\n"
      ]
    },
    {
      "cell_type": "code",
      "execution_count": 23,
      "metadata": {
        "collapsed": false
      },
      "outputs": [],
      "source": [
        "try:\n",
        "    path = os.path.dirname(os.path.realpath(__file__))\n",
        "except NameError:\n",
        "    path = os.getcwd()\n",
        "\n",
        "# THE DIRECTORIES ARE NOT SET PROPERLY\n",
        "cfg_path = os.path.join(path, '../tests/test_data/inputtrain.ipt')\n",
        "training_path = os.path.join(path, '../dataset/ani1-up_to_gdb4/ani_gdb_s01.h5')  # noqa: E501\n",
        "validation_path = os.path.join(path, '../dataset/ani1-up_to_gdb4/ani_gdb_s01.h5')  # noqa: E501"
      ]
    },
    {
      "cell_type": "markdown",
      "metadata": {},
      "source": [
        "We also need to set the device to run the training:\n",
        "\n"
      ]
    },
    {
      "cell_type": "code",
      "execution_count": 24,
      "metadata": {
        "collapsed": false
      },
      "outputs": [
        {
          "name": "stdout",
          "output_type": "stream",
          "text": [
            "cpu\n",
            "=> loading /Users/sergiortizropero/Programming/ASE/ase_ani/test_notebooks/../dataset/ani1-up_to_gdb4/ani_gdb_s01.h5, total molecules: 1\n",
            "1/1  [==============================] - 0.0s\n",
            "3/1  [==========================================================================================] - 0.0s=> loading /Users/sergiortizropero/Programming/ASE/ase_ani/test_notebooks/../dataset/ani1-up_to_gdb4/ani_gdb_s01.h5, total molecules: 1\n",
            "1/1  [==============================] - 0.0s\n",
            "3/1  [==========================================================================================] - 0.0s"
          ]
        }
      ],
      "source": [
        "device_str = 'cuda' if torch.cuda.is_available() else 'cpu'\n",
        "print(device_str)\n",
        "device = torch.device(device_str)\n",
        "\n",
        "trainer = torchani.neurochem.Trainer(cfg_path, device, True, 'runs')\n",
        "trainer.load_data(training_path, validation_path)"
      ]
    },
    {
      "cell_type": "markdown",
      "metadata": {},
      "source": [
        "Once everything is set up, running NeuroChem is very easy. We simplify need a\n",
        "``trainer.run()``. But here, in order for sphinx-gallery to be able to\n",
        "capture the output of tqdm, let's do some hacking first to make tqdm to print\n",
        "its progressbar to stdout.\n",
        "\n"
      ]
    },
    {
      "cell_type": "code",
      "execution_count": 25,
      "metadata": {
        "collapsed": false
      },
      "outputs": [],
      "source": [
        "def my_tqdm(*args, **kwargs):\n",
        "    return tqdm.tqdm(*args, **kwargs, file=sys.stdout)\n",
        "\n",
        "trainer.tqdm = my_tqdm"
      ]
    },
    {
      "cell_type": "markdown",
      "metadata": {},
      "source": [
        "Now, let's go!\n",
        "\n"
      ]
    },
    {
      "cell_type": "code",
      "execution_count": 26,
      "metadata": {
        "collapsed": false
      },
      "outputs": [
        {
          "name": "stdout",
          "output_type": "stream",
          "text": [
            "epoch 1: 100%|██████████| 5/5 [00:00<00:00, 19.68it/s]\n",
            "epoch 2: 100%|██████████| 5/5 [00:00<00:00, 12.53it/s]\n",
            "epoch 3: 100%|██████████| 5/5 [00:00<00:00, 18.25it/s]\n"
          ]
        }
      ],
      "source": [
        "trainer.run()"
      ]
    },
    {
      "cell_type": "markdown",
      "metadata": {},
      "source": [
        "Alternatively, you can run NeuroChem trainer directly using command line.\n",
        "There is no need for programming. Just run the following command for help\n",
        "``python -m torchani.neurochem.trainer -h`` for usage. For this demo, the\n",
        "equivalent command is:\n",
        "\n"
      ]
    },
    {
      "cell_type": "code",
      "execution_count": 27,
      "metadata": {
        "collapsed": false
      },
      "outputs": [
        {
          "name": "stdout",
          "output_type": "stream",
          "text": [
            "python -m torchani.neurochem.trainer -d cpu --tqdm --tensorboard runs /Users/sergiortizropero/Programming/ASE/ase_ani/test_notebooks/../tests/test_data/inputtrain.ipt /Users/sergiortizropero/Programming/ASE/ase_ani/test_notebooks/../dataset/ani1-up_to_gdb4/ani_gdb_s01.h5 /Users/sergiortizropero/Programming/ASE/ase_ani/test_notebooks/../dataset/ani1-up_to_gdb4/ani_gdb_s01.h5\n"
          ]
        }
      ],
      "source": [
        "cmd = ['python', '-m', 'torchani.neurochem.trainer', '-d', device_str,\n",
        "       '--tqdm', '--tensorboard', 'runs', cfg_path, training_path,\n",
        "       validation_path]\n",
        "print(' '.join(cmd))"
      ]
    },
    {
      "cell_type": "markdown",
      "metadata": {},
      "source": [
        "Now let's invoke this command to see what we get. Again, we redirect stderr\n",
        "to stdout simplify for sphinx-gallery to be able to capture it when\n",
        "generating this document:\n",
        "\n"
      ]
    },
    {
      "cell_type": "code",
      "execution_count": 28,
      "metadata": {
        "collapsed": false
      },
      "outputs": [
        {
          "name": "stdout",
          "output_type": "stream",
          "text": [
            "=> loading /Users/sergiortizropero/Programming/ASE/ase_ani/test_notebooks/../dataset/ani1-up_to_gdb4/ani_gdb_s01.h5, total molecules: 1\n",
            "1/1  [==============================] - 0.0s\n",
            "3/1  [==========================================================================================] - 0.0s=> loading /Users/sergiortizropero/Programming/ASE/ase_ani/test_notebooks/../dataset/ani1-up_to_gdb4/ani_gdb_s01.h5, total molecules: 1\n",
            "1/1  [==============================] - 0.0s\n",
            "3/1  [==========================================================================================] - 0.0s/Users/sergiortizropero/miniconda3/envs/ASE_ANI/lib/python3.10/site-packages/torchani/aev.py:16: UserWarning: cuaev not installed\n",
            "  warnings.warn(\"cuaev not installed\")\n",
            "epoch 1: 100%|██████████| 5/5 [00:00<00:00, 18.06it/s]\n",
            "epoch 2: 100%|██████████| 5/5 [00:00<00:00, 17.31it/s]\n",
            "epoch 3: 100%|██████████| 5/5 [00:00<00:00, 20.64it/s]\n",
            "epoch 4: 100%|██████████| 5/5 [00:00<00:00, 19.26it/s]\n",
            "epoch 5: 100%|██████████| 5/5 [00:00<00:00, 16.22it/s]\n",
            "epoch 6: 100%|██████████| 5/5 [00:00<00:00, 22.45it/s]\n",
            "\n"
          ]
        }
      ],
      "source": [
        "from subprocess import Popen, PIPE  # noqa: E402\n",
        "print(Popen(cmd, stderr=PIPE).stderr.read().decode('utf-8'))"
      ]
    }
  ],
  "metadata": {
    "kernelspec": {
      "display_name": "ASE_ANI",
      "language": "python",
      "name": "python3"
    },
    "language_info": {
      "codemirror_mode": {
        "name": "ipython",
        "version": 3
      },
      "file_extension": ".py",
      "mimetype": "text/x-python",
      "name": "python",
      "nbconvert_exporter": "python",
      "pygments_lexer": "ipython3",
      "version": "3.10.16"
    }
  },
  "nbformat": 4,
  "nbformat_minor": 0
}
