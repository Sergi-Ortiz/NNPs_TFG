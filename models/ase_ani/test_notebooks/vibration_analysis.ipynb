{
  "cells": [
    {
      "cell_type": "code",
      "execution_count": 1,
      "metadata": {
        "collapsed": false
      },
      "outputs": [],
      "source": [
        "%matplotlib inline"
      ]
    },
    {
      "cell_type": "markdown",
      "metadata": {},
      "source": [
        "\n",
        "# Computing Vibrational Frequencies Using Analytical Hessian\n",
        "\n",
        "TorchANI is able to use ASE interface to do structure optimization and\n",
        "vibration analysis, but the Hessian in ASE's vibration analysis is computed\n",
        "numerically, which is slow and less accurate.\n",
        "\n",
        "TorchANI therefore provide an interface to compute the Hessian matrix and do\n",
        "vibration analysis analytically, thanks to the super power of `torch.autograd`.\n"
      ]
    },
    {
      "cell_type": "code",
      "execution_count": 2,
      "metadata": {
        "collapsed": false
      },
      "outputs": [
        {
          "name": "stderr",
          "output_type": "stream",
          "text": [
            "/Users/sergiortizropero/miniconda3/envs/ASE_ANI/lib/python3.10/site-packages/torchani/aev.py:16: UserWarning: cuaev not installed\n",
            "  warnings.warn(\"cuaev not installed\")\n"
          ]
        }
      ],
      "source": [
        "import ase\n",
        "import ase.optimize\n",
        "import torch\n",
        "import torchani\n",
        "import math"
      ]
    },
    {
      "cell_type": "markdown",
      "metadata": {},
      "source": [
        "Let's now manually specify the device we want TorchANI to run:\n",
        "\n"
      ]
    },
    {
      "cell_type": "code",
      "execution_count": 3,
      "metadata": {
        "collapsed": false
      },
      "outputs": [
        {
          "name": "stdout",
          "output_type": "stream",
          "text": [
            "/Users/sergiortizropero/miniconda3/envs/ASE_ANI/lib/python3.10/site-packages/torchani/resources/\n"
          ]
        }
      ],
      "source": [
        "device = torch.device('cpu')\n",
        "model = torchani.models.ANI1x(periodic_table_index=True).to(device).double()"
      ]
    },
    {
      "cell_type": "markdown",
      "metadata": {},
      "source": [
        "Let's first construct a water molecule and do structure optimization:\n",
        "\n"
      ]
    },
    {
      "cell_type": "code",
      "execution_count": 4,
      "metadata": {
        "collapsed": false
      },
      "outputs": [
        {
          "name": "stdout",
          "output_type": "stream",
          "text": [
            "      Step     Time          Energy          fmax\n",
            "BFGS:    0 10:28:37    -2078.633392        0.657601\n",
            "BFGS:    1 10:28:37    -2078.637244        0.190535\n",
            "BFGS:    2 10:28:37    -2078.637801        0.029191\n",
            "BFGS:    3 10:28:37    -2078.637827        0.018252\n",
            "BFGS:    4 10:28:37    -2078.637849        0.001403\n",
            "BFGS:    5 10:28:37    -2078.637849        0.000131\n",
            "BFGS:    6 10:28:37    -2078.637849        0.000008\n",
            "BFGS:    7 10:28:37    -2078.637849        0.000000\n"
          ]
        },
        {
          "data": {
            "text/plain": [
              "np.True_"
            ]
          },
          "execution_count": 4,
          "metadata": {},
          "output_type": "execute_result"
        }
      ],
      "source": [
        "d = 0.9575\n",
        "t = math.pi / 180 * 104.51\n",
        "molecule = ase.Atoms('H2O', positions=[\n",
        "    (d, 0, 0),\n",
        "    (d * math.cos(t), d * math.sin(t), 0),\n",
        "    (0, 0, 0),\n",
        "], calculator=model.ase())\n",
        "opt = ase.optimize.BFGS(molecule)\n",
        "opt.run(fmax=1e-6)"
      ]
    },
    {
      "cell_type": "markdown",
      "metadata": {},
      "source": [
        "Now let's extract coordinates and species from ASE to use it directly with\n",
        "TorchANI:\n",
        "\n"
      ]
    },
    {
      "cell_type": "code",
      "execution_count": 5,
      "metadata": {
        "collapsed": false
      },
      "outputs": [],
      "source": [
        "species = torch.tensor(molecule.get_atomic_numbers(), device=device, dtype=torch.long).unsqueeze(0)\n",
        "coordinates = torch.from_numpy(molecule.get_positions()).unsqueeze(0).requires_grad_(True)"
      ]
    },
    {
      "cell_type": "markdown",
      "metadata": {},
      "source": [
        "TorchANI needs the masses of elements in AMU to compute vibrations. The\n",
        "masses in AMU can be obtained from a tensor with atomic numbers by using\n",
        "this utility:\n",
        "\n"
      ]
    },
    {
      "cell_type": "code",
      "execution_count": 6,
      "metadata": {
        "collapsed": false
      },
      "outputs": [],
      "source": [
        "masses = torchani.utils.get_atomic_masses(species)"
      ]
    },
    {
      "cell_type": "markdown",
      "metadata": {},
      "source": [
        "To do vibration analysis, we first need to generate a graph that computes\n",
        "energies from species and coordinates. The code to generate a graph of energy\n",
        "is the same as the code to compute energy:\n",
        "\n"
      ]
    },
    {
      "cell_type": "code",
      "execution_count": 7,
      "metadata": {
        "collapsed": false
      },
      "outputs": [],
      "source": [
        "energies = model((species, coordinates)).energies"
      ]
    },
    {
      "cell_type": "markdown",
      "metadata": {},
      "source": [
        "We can now use the energy graph to compute analytical Hessian matrix:\n",
        "\n"
      ]
    },
    {
      "cell_type": "code",
      "execution_count": 8,
      "metadata": {
        "collapsed": false
      },
      "outputs": [],
      "source": [
        "hessian = torchani.utils.hessian(coordinates, energies=energies)"
      ]
    },
    {
      "cell_type": "markdown",
      "metadata": {},
      "source": [
        "The Hessian matrix should have shape `(1, 9, 9)`, where 1 means there is only\n",
        "one molecule to compute, 9 means `3 atoms * 3D space = 9 degree of freedom`.\n",
        "\n"
      ]
    },
    {
      "cell_type": "code",
      "execution_count": 9,
      "metadata": {
        "collapsed": false
      },
      "outputs": [
        {
          "name": "stdout",
          "output_type": "stream",
          "text": [
            "torch.Size([1, 9, 9])\n"
          ]
        }
      ],
      "source": [
        "print(hessian.shape)"
      ]
    },
    {
      "cell_type": "markdown",
      "metadata": {},
      "source": [
        "We are now ready to compute vibrational frequencies. The output has unit\n",
        "cm^-1. Since there are in total 9 degree of freedom, there are in total 9\n",
        "frequencies. Only the frequencies of the 3 vibrational modes are interesting.\n",
        "We output the modes as MDU (mass deweighted unnormalized), to compare with ASE.\n",
        "\n"
      ]
    },
    {
      "cell_type": "code",
      "execution_count": 10,
      "metadata": {
        "collapsed": false
      },
      "outputs": [
        {
          "name": "stdout",
          "output_type": "stream",
          "text": [
            "Frequencies (cm^-1): tensor([1913.200, 3882.404, 3911.185], dtype=torch.float64)\n",
            "Force Constants (mDyne/A): tensor([2.339, 9.269, 9.743], dtype=torch.float64)\n",
            "Reduced masses (AMU): tensor([1.085, 1.044, 1.081], dtype=torch.float64)\n",
            "Modes: tensor([[[    -0.015,     -0.677,     -0.000],\n",
            "         [    -0.652,     -0.184,      0.000],\n",
            "         [     0.042,      0.054,     -0.000]],\n",
            "\n",
            "        [[     0.689,     -0.054,      0.000],\n",
            "         [    -0.225,      0.654,      0.000],\n",
            "         [    -0.029,     -0.038,      0.000]],\n",
            "\n",
            "        [[    -0.678,     -0.006,      0.000],\n",
            "         [    -0.164,      0.658,      0.000],\n",
            "         [     0.053,     -0.041,     -0.000]]], dtype=torch.float64)\n"
          ]
        }
      ],
      "source": [
        "freq, modes, fconstants, rmasses = torchani.utils.vibrational_analysis(masses, hessian, mode_type='MDU')\n",
        "torch.set_printoptions(precision=3, sci_mode=False)\n",
        "\n",
        "print('Frequencies (cm^-1):', freq[6:])\n",
        "print('Force Constants (mDyne/A):', fconstants[6:])\n",
        "print('Reduced masses (AMU):', rmasses[6:])\n",
        "print('Modes:', modes[6:])"
      ]
    }
  ],
  "metadata": {
    "kernelspec": {
      "display_name": "ASE_ANI",
      "language": "python",
      "name": "python3"
    },
    "language_info": {
      "codemirror_mode": {
        "name": "ipython",
        "version": 3
      },
      "file_extension": ".py",
      "mimetype": "text/x-python",
      "name": "python",
      "nbconvert_exporter": "python",
      "pygments_lexer": "ipython3",
      "version": "3.10.16"
    }
  },
  "nbformat": 4,
  "nbformat_minor": 0
}
