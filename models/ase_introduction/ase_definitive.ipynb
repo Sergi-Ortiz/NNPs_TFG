{
 "cells": [
  {
   "cell_type": "markdown",
   "metadata": {},
   "source": [
    "# __ASE introduction__\n",
    "The aim of this notebook is to provide a solid introduction to ASE, as a standalone programme and as an interface to several NNPs such as ANI, MACE, Orbital, SchNet. "
   ]
  },
  {
   "cell_type": "markdown",
   "metadata": {},
   "source": [
    "### __References__\n",
    "ASE includes extensive [documentation](https://wiki.fysik.dtu.dk/ase/) where installatin procedure and tutorials can be found. \n",
    "\n",
    "Introductory tutorials can be found [here (getting started)](https://wiki.fysik.dtu.dk/ase/gettingstarted/gettingstarted.html), with a follow-up set of tutorials [here (tutorials)](https://wiki.fysik.dtu.dk/ase/tutorials/tutorials.html). \n",
    "\n",
    "- Additional ASE tutorials used in this introduction:\n",
    "    - Complete ASE introduction [tutorial](https://docs.matlantis.com/atomistic-simulation-tutorial/en/index.html). \n",
    "    - Official ASE MD [tutorials](https://wiki.fysik.dtu.dk/ase/tutorials/md/md.html). \n",
    "\n",
    "- MD tutorials.\n",
    "    - Short introduction with MACE FF. [link](https://rwexler.github.io/comp-prob-solv/lecture-23-ase.html). \n",
    "    - Official MD [documentation](https://wiki.fysik.dtu.dk/ase/ase/md.html). \n",
    "    - Extra MD [tutorial](https://docs.matlantis.com/atomistic-simulation-tutorial/en/1_5_ase_calculator.html). \n"
   ]
  },
  {
   "cell_type": "markdown",
   "metadata": {},
   "source": [
    "### __ASE Installation__\n",
    "To start, as goes for many different software, but particularly for ASE and external calculators, separate conda environments are recommended. The installation is as follows:\n",
    "- Installation process\n",
    "    - Create new conda environment (python 3.10 is standard). Check the Python requirement for the external calculator wanted. Usually  `python>3.9`.  \n",
    "    - `conda install ase` (installs `scipy` and `numpy` dependencies) and `conda install matplotlib`. \n",
    "    - Check the environment works installing `conda install pytest` and `ase test`.\n",
    "    - For ASE representations inside Jupyter Notebook, conda install `notebook`, `ipywidgets` and `nglview`. \n",
    "\n",
    "Detailed installation guide [here](https://wiki.fysik.dtu.dk/ase/install.html#download-and-install). \n",
    "\n",
    "**Installation of ASAP3-EMP calculator.** Install `openmpi` and `libxc`. Then do `pip install asap3`. Note that the conda installation via `conda-forge` does not work idk why... Read [the docs](https://asap3.readthedocs.io/en/latest/installation/Installing_ASE_Asap_and_GPAW_on_a_Mac.html#installing-ase-asap-and-gpaw-on-a-mac). \n",
    "\n",
    "\n",
    "**Installation of GPAW DFT calculator.** Install `openmpi` and `libxc`. Then do `pip install asap3`. Finally, `pip install gpaw`. Check the [installation guide](https://gpaw.readthedocs.io/install.html#install-paw-datasets) on how to install the dataset. \n",
    "\n",
    "**Comment.** This introduction only uses basic ASE calculators. Separate introductions can be found in each of the NNP models directory. "
   ]
  },
  {
   "cell_type": "markdown",
   "metadata": {},
   "source": [
    "# __1. ASE program structure__"
   ]
  },
  {
   "cell_type": "markdown",
   "metadata": {},
   "source": [
    "Computing the adsoption energy of a N2 molecule in a Copper slab. "
   ]
  },
  {
   "cell_type": "code",
   "execution_count": 1,
   "metadata": {},
   "outputs": [
    {
     "name": "stdout",
     "output_type": "stream",
     "text": [
      "                Step[ FC]     Time          Energy          fmax\n",
      "BFGSLineSearch:    0[  0] 17:36:22       11.689927       1.0797\n",
      "BFGSLineSearch:    1[  2] 17:36:22       11.670814       0.4090\n",
      "BFGSLineSearch:    2[  4] 17:36:22       11.625880       0.0409\n",
      "Adsorption energy: 0.32351942231763964\n"
     ]
    }
   ],
   "source": [
    "from ase import Atoms\n",
    "from ase import units\n",
    "from ase.build import add_adsorbate, fcc111\n",
    "\n",
    "from ase.calculators.emt import EMT\n",
    "from ase.constraints import FixAtoms\n",
    "from ase.optimize import QuasiNewton\n",
    "from ase.md.verlet import VelocityVerlet\n",
    "\n",
    "\n",
    "# define N2 position parameters\n",
    "h = 1.85\n",
    "d = 1.10\n",
    "\n",
    "# define the Atoms view\n",
    "slab = fcc111('Cu', size=(4, 4, 2), vacuum=10.0)\n",
    "molecule = Atoms('2N', positions=[(0., 0., 0.), (0., 0., d)])\n",
    "\n",
    "# define the calculator to be used\n",
    "slab.calc = EMT()\n",
    "molecule.calc = EMT()\n",
    "\n",
    "# compute the separate energies \n",
    "e_slab = slab.get_potential_energy()\n",
    "e_N2 = molecule.get_potential_energy()\n",
    "\n",
    "# add the two molecules together (defines new surface)\n",
    "add_adsorbate(slab, molecule, h, 'ontop')\n",
    "\n",
    "# ad optimization restricton\n",
    "constraint = FixAtoms(mask=[a.symbol != 'N' for a in slab])\n",
    "slab.set_constraint(constraint)\n",
    "\n",
    "# optimize the system\n",
    "dyn = QuasiNewton(slab, trajectory='N2Cu.traj')\n",
    "dyn.run(fmax=0.05)\n",
    "\n",
    "print('Adsorption energy:', e_slab + e_N2 - slab.get_potential_energy())"
   ]
  },
  {
   "cell_type": "markdown",
   "metadata": {},
   "source": [
    "Once optimized, run an NVE simulation"
   ]
  },
  {
   "cell_type": "code",
   "execution_count": 2,
   "metadata": {},
   "outputs": [
    {
     "name": "stdout",
     "output_type": "stream",
     "text": [
      " 0: 0.44034 eV, 0.44034 eV, 0.00000 eV\n",
      " 1: 0.43816 eV, 0.26289 eV, 0.17527 eV\n",
      " 2: 0.44058 eV, 0.43142 eV, 0.00916 eV\n",
      " 3: 0.43874 eV, 0.29292 eV, 0.14582 eV\n",
      " 4: 0.44015 eV, 0.41839 eV, 0.02176 eV\n",
      " 5: 0.43831 eV, 0.28902 eV, 0.14929 eV\n",
      " 6: 0.43947 eV, 0.36902 eV, 0.07045 eV\n",
      " 7: 0.43951 eV, 0.35507 eV, 0.08444 eV\n",
      " 8: 0.43959 eV, 0.36221 eV, 0.07738 eV\n",
      " 9: 0.43933 eV, 0.36044 eV, 0.07889 eV\n"
     ]
    }
   ],
   "source": [
    "# define the dynamics (integrator, timestep)\n",
    "dyn = VelocityVerlet(molecule, timestep=1.0 * units.fs)\n",
    "\n",
    "# do 200 steps, and record each 20 steps\n",
    "for i in range(10):\n",
    "    pot = molecule.get_potential_energy()\n",
    "    kin = molecule.get_kinetic_energy()\n",
    "    print('%2d: %.5f eV, %.5f eV, %.5f eV' % (i, pot + kin, pot, kin))\n",
    "    dyn.run(steps=20)"
   ]
  },
  {
   "cell_type": "markdown",
   "metadata": {},
   "source": [
    "Note that ASE has eV as energy unit and Å as length unit (and fs? as time unit?)"
   ]
  },
  {
   "cell_type": "code",
   "execution_count": 3,
   "metadata": {},
   "outputs": [
    {
     "name": "stdout",
     "output_type": "stream",
     "text": [
      "Atoms(symbols='Cu32N2', pbc=[True, True, False], cell=[[10.210621920333747, 0.0, 0.0], [5.105310960166873, 8.842657971447272, 0.0], [0.0, 0.0, 22.08423447177455]], tags=..., constraint=FixAtoms(indices=[0, 1, 2, 3, 4, 5, 6, 7, 8, 9, 10, 11, 12, 13, 14, 15, 16, 17, 18, 19, 20, 21, 22, 23, 24, 25, 26, 27, 28, 29, 30, 31]), calculator=SinglePointCalculator(...))\n"
     ]
    },
    {
     "name": "stderr",
     "output_type": "stream",
     "text": [
      "/Users/sergiortizropero/miniconda3/envs/ASE_extra/lib/python3.10/site-packages/ase/io/extxyz.py:311: UserWarning: Skipping unhashable information adsorbate_info\n",
      "  warnings.warn('Skipping unhashable information '\n"
     ]
    }
   ],
   "source": [
    "# output to an external file format (not .traj ASE format)\n",
    "from ase.io import write\n",
    "write('slab.xyz', slab)\n",
    "\n",
    "# read from the file\n",
    "from ase.io import read\n",
    "slab_from_file = read('slab.xyz')\n",
    "\n",
    "# read a specific configuration from the .traj file (default the last one)\n",
    "last_snapshot = read('N2Cu.traj', -1)\n",
    "print(last_snapshot)"
   ]
  },
  {
   "cell_type": "markdown",
   "metadata": {},
   "source": [
    "Viewing options https://wiki.fysik.dtu.dk/ase/ase/visualize/visualize.html. "
   ]
  },
  {
   "cell_type": "code",
   "execution_count": 4,
   "metadata": {},
   "outputs": [
    {
     "data": {
      "application/vnd.jupyter.widget-view+json": {
       "model_id": "2d16bf2ee92642d88b4c8bc7195ed0f5",
       "version_major": 2,
       "version_minor": 0
      },
      "text/plain": []
     },
     "metadata": {},
     "output_type": "display_data"
    },
    {
     "data": {
      "application/vnd.jupyter.widget-view+json": {
       "model_id": "0cc14443414348c8a0c57a5009524838",
       "version_major": 2,
       "version_minor": 0
      },
      "text/plain": [
       "HBox(children=(NGLWidget(background='black'), VBox(children=(Dropdown(description='Show', options=('All', 'Cu'…"
      ]
     },
     "execution_count": 4,
     "metadata": {},
     "output_type": "execute_result"
    }
   ],
   "source": [
    "# GUI visualization of the ASE objects\n",
    "from ase.visualize import view\n",
    "\n",
    "# basic jupyter visualization\n",
    "#view(slab, viewer='x3d')\n",
    "\n",
    "# basic (but more advanced) visualization\n",
    "#view(slab, viewer='ngl')\n",
    "\n",
    "# customization of the view\n",
    "v = view(slab, viewer='ngl')\n",
    "\n",
    "# nglviewer options\n",
    "v.custom_colors({'N':'green','Cu':'blue'})\n",
    "v.view._remote_call(\"setSize\", target=\"Widget\", args=[\"600px\", \"400px\"])\n",
    "v.view.center()\n",
    "v.view.background='black'\n",
    "v.view.parameters=dict(clipDist=-200)\n",
    "\n",
    "v"
   ]
  },
  {
   "cell_type": "markdown",
   "metadata": {},
   "source": [
    "As we have seen, the general procedure in ASE is the following \n",
    "\n",
    "- General procedure\n",
    "    - Define the atoms view, that is, the structure of the system. \n",
    "    - Add a calculator to the structure. This allows us to check what can 'asked' about the system. \n",
    "    - Perform optimizations\n",
    "    - Perform MD of the system\n",
    "    - Read trajectory files. "
   ]
  },
  {
   "cell_type": "markdown",
   "metadata": {},
   "source": [
    "### __N2 interatomic potential DFT calculation__\n",
    "In this tutorial the H2 PES is obtained as a function of interatomic distance. The data is written in a trajectory file. "
   ]
  },
  {
   "cell_type": "code",
   "execution_count": 5,
   "metadata": {},
   "outputs": [
    {
     "name": "stderr",
     "output_type": "stream",
     "text": [
      "[Sergis-MacBook-Pro.local:14978] shmem: mmap: an error occurred while determining whether or not /var/folders/cq/s30xmbh57xndgmhg1zhwclsh0000gn/T//ompi.Sergis-MacBook-Pro.501/jf.0/2263220224/sm_segment.Sergis-MacBook-Pro.501.86e60000.0 could be created.\n"
     ]
    },
    {
     "name": "stdout",
     "output_type": "stream",
     "text": [
      "[[3. 3. 3.]\n",
      " [4. 3. 5.]]\n"
     ]
    },
    {
     "ename": "FileNotFoundError",
     "evalue": "Could not find required basis set file \"N.dzp.basis\".\n\nYou need to set the GPAW_SETUP_PATH environment variable to point to\nthe directories where PAW dataset and basis files are stored.  See\nhttps://gpaw.readthedocs.io/install.html#install-paw-datasets\nfor details.\n",
     "output_type": "error",
     "traceback": [
      "\u001b[0;31m---------------------------------------------------------------------------\u001b[0m",
      "\u001b[0;31mFileNotFoundError\u001b[0m                         Traceback (most recent call last)",
      "Cell \u001b[0;32mIn[5], line 44\u001b[0m\n\u001b[1;32m     41\u001b[0m atoms\u001b[38;5;241m.\u001b[39mcenter(vacuum\u001b[38;5;241m=\u001b[39m\u001b[38;5;241m3.0\u001b[39m)\n\u001b[1;32m     43\u001b[0m \u001b[38;5;66;03m# compute\u001b[39;00m\n\u001b[0;32m---> 44\u001b[0m e \u001b[38;5;241m=\u001b[39m \u001b[43matoms\u001b[49m\u001b[38;5;241;43m.\u001b[39;49m\u001b[43mget_potential_energy\u001b[49m\u001b[43m(\u001b[49m\u001b[43m)\u001b[49m\n\u001b[1;32m     45\u001b[0m f \u001b[38;5;241m=\u001b[39m atoms\u001b[38;5;241m.\u001b[39mget_forces()\n\u001b[1;32m     46\u001b[0m \u001b[38;5;28mprint\u001b[39m(\u001b[38;5;124m'\u001b[39m\u001b[38;5;124mdistance, energy\u001b[39m\u001b[38;5;124m'\u001b[39m, d, e)\n",
      "File \u001b[0;32m~/miniconda3/envs/ASE_extra/lib/python3.10/site-packages/ase/atoms.py:770\u001b[0m, in \u001b[0;36mAtoms.get_potential_energy\u001b[0;34m(self, force_consistent, apply_constraint)\u001b[0m\n\u001b[1;32m    767\u001b[0m     energy \u001b[38;5;241m=\u001b[39m \u001b[38;5;28mself\u001b[39m\u001b[38;5;241m.\u001b[39m_calc\u001b[38;5;241m.\u001b[39mget_potential_energy(\n\u001b[1;32m    768\u001b[0m         \u001b[38;5;28mself\u001b[39m, force_consistent\u001b[38;5;241m=\u001b[39mforce_consistent)\n\u001b[1;32m    769\u001b[0m \u001b[38;5;28;01melse\u001b[39;00m:\n\u001b[0;32m--> 770\u001b[0m     energy \u001b[38;5;241m=\u001b[39m \u001b[38;5;28;43mself\u001b[39;49m\u001b[38;5;241;43m.\u001b[39;49m\u001b[43m_calc\u001b[49m\u001b[38;5;241;43m.\u001b[39;49m\u001b[43mget_potential_energy\u001b[49m\u001b[43m(\u001b[49m\u001b[38;5;28;43mself\u001b[39;49m\u001b[43m)\u001b[49m\n\u001b[1;32m    771\u001b[0m \u001b[38;5;28;01mif\u001b[39;00m apply_constraint:\n\u001b[1;32m    772\u001b[0m     \u001b[38;5;28;01mfor\u001b[39;00m constraint \u001b[38;5;129;01min\u001b[39;00m \u001b[38;5;28mself\u001b[39m\u001b[38;5;241m.\u001b[39mconstraints:\n",
      "File \u001b[0;32m~/miniconda3/envs/ASE_extra/lib/python3.10/site-packages/ase/calculators/abc.py:24\u001b[0m, in \u001b[0;36mGetPropertiesMixin.get_potential_energy\u001b[0;34m(self, atoms, force_consistent)\u001b[0m\n\u001b[1;32m     22\u001b[0m \u001b[38;5;28;01melse\u001b[39;00m:\n\u001b[1;32m     23\u001b[0m     name \u001b[38;5;241m=\u001b[39m \u001b[38;5;124m'\u001b[39m\u001b[38;5;124menergy\u001b[39m\u001b[38;5;124m'\u001b[39m\n\u001b[0;32m---> 24\u001b[0m \u001b[38;5;28;01mreturn\u001b[39;00m \u001b[38;5;28;43mself\u001b[39;49m\u001b[38;5;241;43m.\u001b[39;49m\u001b[43mget_property\u001b[49m\u001b[43m(\u001b[49m\u001b[43mname\u001b[49m\u001b[43m,\u001b[49m\u001b[43m \u001b[49m\u001b[43matoms\u001b[49m\u001b[43m)\u001b[49m\n",
      "File \u001b[0;32m~/miniconda3/envs/ASE_extra/lib/python3.10/site-packages/ase/calculators/calculator.py:538\u001b[0m, in \u001b[0;36mBaseCalculator.get_property\u001b[0;34m(self, name, atoms, allow_calculation)\u001b[0m\n\u001b[1;32m    535\u001b[0m     \u001b[38;5;28;01mif\u001b[39;00m \u001b[38;5;28mself\u001b[39m\u001b[38;5;241m.\u001b[39muse_cache:\n\u001b[1;32m    536\u001b[0m         \u001b[38;5;28mself\u001b[39m\u001b[38;5;241m.\u001b[39matoms \u001b[38;5;241m=\u001b[39m atoms\u001b[38;5;241m.\u001b[39mcopy()\n\u001b[0;32m--> 538\u001b[0m     \u001b[38;5;28;43mself\u001b[39;49m\u001b[38;5;241;43m.\u001b[39;49m\u001b[43mcalculate\u001b[49m\u001b[43m(\u001b[49m\u001b[43matoms\u001b[49m\u001b[43m,\u001b[49m\u001b[43m \u001b[49m\u001b[43m[\u001b[49m\u001b[43mname\u001b[49m\u001b[43m]\u001b[49m\u001b[43m,\u001b[49m\u001b[43m \u001b[49m\u001b[43msystem_changes\u001b[49m\u001b[43m)\u001b[49m\n\u001b[1;32m    540\u001b[0m \u001b[38;5;28;01mif\u001b[39;00m name \u001b[38;5;129;01mnot\u001b[39;00m \u001b[38;5;129;01min\u001b[39;00m \u001b[38;5;28mself\u001b[39m\u001b[38;5;241m.\u001b[39mresults:\n\u001b[1;32m    541\u001b[0m     \u001b[38;5;66;03m# For some reason the calculator was not able to do what we want,\u001b[39;00m\n\u001b[1;32m    542\u001b[0m     \u001b[38;5;66;03m# and that is OK.\u001b[39;00m\n\u001b[1;32m    543\u001b[0m     \u001b[38;5;28;01mraise\u001b[39;00m PropertyNotImplementedError(\n\u001b[1;32m    544\u001b[0m         \u001b[38;5;124m'\u001b[39m\u001b[38;5;132;01m{}\u001b[39;00m\u001b[38;5;124m not present in this \u001b[39m\u001b[38;5;124m'\u001b[39m \u001b[38;5;124m'\u001b[39m\u001b[38;5;124mcalculation\u001b[39m\u001b[38;5;124m'\u001b[39m\u001b[38;5;241m.\u001b[39mformat(name)\n\u001b[1;32m    545\u001b[0m     )\n",
      "File \u001b[0;32m~/miniconda3/envs/ASE_extra/lib/python3.10/site-packages/gpaw/calculator.py:418\u001b[0m, in \u001b[0;36mGPAW.calculate\u001b[0;34m(self, atoms, properties, system_changes)\u001b[0m\n\u001b[1;32m    416\u001b[0m \u001b[38;5;28;01mdef\u001b[39;00m\u001b[38;5;250m \u001b[39m\u001b[38;5;21mcalculate\u001b[39m(\u001b[38;5;28mself\u001b[39m, atoms\u001b[38;5;241m=\u001b[39m\u001b[38;5;28;01mNone\u001b[39;00m, properties\u001b[38;5;241m=\u001b[39m[\u001b[38;5;124m'\u001b[39m\u001b[38;5;124menergy\u001b[39m\u001b[38;5;124m'\u001b[39m],\n\u001b[1;32m    417\u001b[0m               system_changes\u001b[38;5;241m=\u001b[39m[\u001b[38;5;124m'\u001b[39m\u001b[38;5;124mcell\u001b[39m\u001b[38;5;124m'\u001b[39m]):\n\u001b[0;32m--> 418\u001b[0m     \u001b[38;5;28;01mfor\u001b[39;00m _ \u001b[38;5;129;01min\u001b[39;00m \u001b[38;5;28mself\u001b[39m\u001b[38;5;241m.\u001b[39micalculate(atoms, properties, system_changes):\n\u001b[1;32m    419\u001b[0m         \u001b[38;5;28;01mpass\u001b[39;00m\n",
      "File \u001b[0;32m~/miniconda3/envs/ASE_extra/lib/python3.10/site-packages/gpaw/calculator.py:439\u001b[0m, in \u001b[0;36mGPAW.icalculate\u001b[0;34m(self, atoms, properties, system_changes)\u001b[0m\n\u001b[1;32m    437\u001b[0m         \u001b[38;5;28mself\u001b[39m\u001b[38;5;241m.\u001b[39mhamiltonian \u001b[38;5;241m=\u001b[39m \u001b[38;5;28;01mNone\u001b[39;00m\n\u001b[1;32m    438\u001b[0m         \u001b[38;5;28mself\u001b[39m\u001b[38;5;241m.\u001b[39mscf \u001b[38;5;241m=\u001b[39m \u001b[38;5;28;01mNone\u001b[39;00m\n\u001b[0;32m--> 439\u001b[0m         \u001b[38;5;28;43mself\u001b[39;49m\u001b[38;5;241;43m.\u001b[39;49m\u001b[43minitialize\u001b[49m\u001b[43m(\u001b[49m\u001b[43matoms\u001b[49m\u001b[43m)\u001b[49m\n\u001b[1;32m    441\u001b[0m     \u001b[38;5;28mself\u001b[39m\u001b[38;5;241m.\u001b[39mset_positions(atoms)\n\u001b[1;32m    443\u001b[0m \u001b[38;5;28;01mif\u001b[39;00m \u001b[38;5;129;01mnot\u001b[39;00m \u001b[38;5;28mself\u001b[39m\u001b[38;5;241m.\u001b[39minitialized:\n",
      "File \u001b[0;32m~/miniconda3/envs/ASE_extra/lib/python3.10/site-packages/gpaw/calculator.py:770\u001b[0m, in \u001b[0;36mGPAW.initialize\u001b[0;34m(self, atoms, reading)\u001b[0m\n\u001b[1;32m    765\u001b[0m     \u001b[38;5;28;01mraise\u001b[39;00m \u001b[38;5;167;01mValueError\u001b[39;00m(\u001b[38;5;124m'\u001b[39m\u001b[38;5;124mLCAO mode does not support \u001b[39m\u001b[38;5;124m'\u001b[39m\n\u001b[1;32m    766\u001b[0m                      \u001b[38;5;124m'\u001b[39m\u001b[38;5;124morbital-dependent XC functionals.\u001b[39m\u001b[38;5;124m'\u001b[39m)\n\u001b[1;32m    768\u001b[0m realspace \u001b[38;5;241m=\u001b[39m mode\u001b[38;5;241m.\u001b[39minterpolation \u001b[38;5;241m!=\u001b[39m \u001b[38;5;124m'\u001b[39m\u001b[38;5;124mfft\u001b[39m\u001b[38;5;124m'\u001b[39m\n\u001b[0;32m--> 770\u001b[0m \u001b[38;5;28;43mself\u001b[39;49m\u001b[38;5;241;43m.\u001b[39;49m\u001b[43mcreate_setups\u001b[49m\u001b[43m(\u001b[49m\u001b[43mmode\u001b[49m\u001b[43m,\u001b[49m\u001b[43m \u001b[49m\u001b[43mxc\u001b[49m\u001b[43m)\u001b[49m\n\u001b[1;32m    772\u001b[0m \u001b[38;5;28;01mif\u001b[39;00m \u001b[38;5;129;01mnot\u001b[39;00m realspace:\n\u001b[1;32m    773\u001b[0m     pbc_c \u001b[38;5;241m=\u001b[39m np\u001b[38;5;241m.\u001b[39mones(\u001b[38;5;241m3\u001b[39m, \u001b[38;5;28mbool\u001b[39m)\n",
      "File \u001b[0;32m~/miniconda3/envs/ASE_extra/lib/python3.10/site-packages/gpaw/calculator.py:1046\u001b[0m, in \u001b[0;36mGPAW.create_setups\u001b[0;34m(self, mode, xc)\u001b[0m\n\u001b[1;32m   1043\u001b[0m     \u001b[38;5;28mfilter\u001b[39m \u001b[38;5;241m=\u001b[39m \u001b[38;5;28mself\u001b[39m\u001b[38;5;241m.\u001b[39mparameters\u001b[38;5;241m.\u001b[39mfilter\n\u001b[1;32m   1045\u001b[0m Z_a \u001b[38;5;241m=\u001b[39m \u001b[38;5;28mself\u001b[39m\u001b[38;5;241m.\u001b[39matoms\u001b[38;5;241m.\u001b[39mget_atomic_numbers()\n\u001b[0;32m-> 1046\u001b[0m \u001b[38;5;28mself\u001b[39m\u001b[38;5;241m.\u001b[39msetups \u001b[38;5;241m=\u001b[39m \u001b[43mSetups\u001b[49m\u001b[43m(\u001b[49m\u001b[43mZ_a\u001b[49m\u001b[43m,\u001b[49m\n\u001b[1;32m   1047\u001b[0m \u001b[43m                     \u001b[49m\u001b[38;5;28;43mself\u001b[39;49m\u001b[38;5;241;43m.\u001b[39;49m\u001b[43mparameters\u001b[49m\u001b[38;5;241;43m.\u001b[39;49m\u001b[43msetups\u001b[49m\u001b[43m,\u001b[49m\u001b[43m \u001b[49m\u001b[38;5;28;43mself\u001b[39;49m\u001b[38;5;241;43m.\u001b[39;49m\u001b[43mparameters\u001b[49m\u001b[38;5;241;43m.\u001b[39;49m\u001b[43mbasis\u001b[49m\u001b[43m,\u001b[49m\n\u001b[1;32m   1048\u001b[0m \u001b[43m                     \u001b[49m\u001b[43mxc\u001b[49m\u001b[43m,\u001b[49m\u001b[43m \u001b[49m\u001b[38;5;28;43mfilter\u001b[39;49m\u001b[38;5;241;43m=\u001b[39;49m\u001b[38;5;28;43mfilter\u001b[39;49m\u001b[43m,\u001b[49m\u001b[43m \u001b[49m\u001b[43mworld\u001b[49m\u001b[38;5;241;43m=\u001b[39;49m\u001b[38;5;28;43mself\u001b[39;49m\u001b[38;5;241;43m.\u001b[39;49m\u001b[43mworld\u001b[49m\u001b[43m)\u001b[49m\n\u001b[1;32m   1049\u001b[0m \u001b[38;5;28mself\u001b[39m\u001b[38;5;241m.\u001b[39mlog(\u001b[38;5;28mself\u001b[39m\u001b[38;5;241m.\u001b[39msetups)\n",
      "File \u001b[0;32m~/miniconda3/envs/ASE_extra/lib/python3.10/site-packages/gpaw/setup.py:1342\u001b[0m, in \u001b[0;36mSetups.__init__\u001b[0;34m(self, Z_a, setup_types, basis_sets, xc, filter, world, backwards_compatible)\u001b[0m\n\u001b[1;32m   1338\u001b[0m \u001b[38;5;66;03m# Basis may be None (meaning that the setup decides), a string\u001b[39;00m\n\u001b[1;32m   1339\u001b[0m \u001b[38;5;66;03m# (meaning we load the basis set now from a file) or an actual\u001b[39;00m\n\u001b[1;32m   1340\u001b[0m \u001b[38;5;66;03m# pre-created Basis object (meaning we just pass it along)\u001b[39;00m\n\u001b[1;32m   1341\u001b[0m \u001b[38;5;28;01mif\u001b[39;00m \u001b[38;5;28misinstance\u001b[39m(basis, \u001b[38;5;28mstr\u001b[39m):\n\u001b[0;32m-> 1342\u001b[0m     basis \u001b[38;5;241m=\u001b[39m \u001b[43mBasis\u001b[49m\u001b[43m(\u001b[49m\u001b[43msymbol\u001b[49m\u001b[43m,\u001b[49m\u001b[43m \u001b[49m\u001b[43mbasis\u001b[49m\u001b[43m,\u001b[49m\u001b[43m \u001b[49m\u001b[43mworld\u001b[49m\u001b[38;5;241;43m=\u001b[39;49m\u001b[43mworld\u001b[49m\u001b[43m)\u001b[49m\n\u001b[1;32m   1343\u001b[0m setup \u001b[38;5;241m=\u001b[39m create_setup(symbol, xc, \u001b[38;5;241m2\u001b[39m, \u001b[38;5;28mtype\u001b[39m,\n\u001b[1;32m   1344\u001b[0m                      basis, setupdata\u001b[38;5;241m=\u001b[39msetupdata,\n\u001b[1;32m   1345\u001b[0m                      \u001b[38;5;28mfilter\u001b[39m\u001b[38;5;241m=\u001b[39m\u001b[38;5;28mfilter\u001b[39m, world\u001b[38;5;241m=\u001b[39mworld,\n\u001b[1;32m   1346\u001b[0m                      backwards_compatible\u001b[38;5;241m=\u001b[39mbackwards_compatible)\n\u001b[1;32m   1347\u001b[0m \u001b[38;5;28mself\u001b[39m\u001b[38;5;241m.\u001b[39msetups[\u001b[38;5;28mid\u001b[39m] \u001b[38;5;241m=\u001b[39m setup\n",
      "File \u001b[0;32m~/miniconda3/envs/ASE_extra/lib/python3.10/site-packages/gpaw/basis_data.py:58\u001b[0m, in \u001b[0;36mBasis.__init__\u001b[0;34m(self, symbol, name, readxml, rgd, world)\u001b[0m\n\u001b[1;32m     55\u001b[0m \u001b[38;5;28mself\u001b[39m\u001b[38;5;241m.\u001b[39mfilename \u001b[38;5;241m=\u001b[39m \u001b[38;5;28;01mNone\u001b[39;00m\n\u001b[1;32m     57\u001b[0m \u001b[38;5;28;01mif\u001b[39;00m readxml:\n\u001b[0;32m---> 58\u001b[0m     \u001b[38;5;28;43mself\u001b[39;49m\u001b[38;5;241;43m.\u001b[39;49m\u001b[43mread_xml\u001b[49m\u001b[43m(\u001b[49m\u001b[43mworld\u001b[49m\u001b[38;5;241;43m=\u001b[39;49m\u001b[43mworld\u001b[49m\u001b[43m)\u001b[49m\n",
      "File \u001b[0;32m~/miniconda3/envs/ASE_extra/lib/python3.10/site-packages/gpaw/basis_data.py:89\u001b[0m, in \u001b[0;36mBasis.read_xml\u001b[0;34m(self, filename, world)\u001b[0m\n\u001b[1;32m     87\u001b[0m \u001b[38;5;28;01mdef\u001b[39;00m\u001b[38;5;250m \u001b[39m\u001b[38;5;21mread_xml\u001b[39m(\u001b[38;5;28mself\u001b[39m, filename\u001b[38;5;241m=\u001b[39m\u001b[38;5;28;01mNone\u001b[39;00m, world\u001b[38;5;241m=\u001b[39m\u001b[38;5;28;01mNone\u001b[39;00m):\n\u001b[1;32m     88\u001b[0m     parser \u001b[38;5;241m=\u001b[39m BasisSetXMLParser(\u001b[38;5;28mself\u001b[39m)\n\u001b[0;32m---> 89\u001b[0m     \u001b[43mparser\u001b[49m\u001b[38;5;241;43m.\u001b[39;49m\u001b[43mparse\u001b[49m\u001b[43m(\u001b[49m\u001b[43mfilename\u001b[49m\u001b[43m,\u001b[49m\u001b[43m \u001b[49m\u001b[43mworld\u001b[49m\u001b[38;5;241;43m=\u001b[39;49m\u001b[43mworld\u001b[49m\u001b[43m)\u001b[49m\n",
      "File \u001b[0;32m~/miniconda3/envs/ASE_extra/lib/python3.10/site-packages/gpaw/basis_data.py:233\u001b[0m, in \u001b[0;36mBasisSetXMLParser.parse\u001b[0;34m(self, filename, world)\u001b[0m\n\u001b[1;32m    231\u001b[0m fullname \u001b[38;5;241m=\u001b[39m \u001b[38;5;124mf\u001b[39m\u001b[38;5;124m'\u001b[39m\u001b[38;5;132;01m{\u001b[39;00mbasis\u001b[38;5;241m.\u001b[39msymbol\u001b[38;5;132;01m}\u001b[39;00m\u001b[38;5;124m.\u001b[39m\u001b[38;5;132;01m{\u001b[39;00mname\u001b[38;5;132;01m}\u001b[39;00m\u001b[38;5;124m.basis\u001b[39m\u001b[38;5;124m'\u001b[39m\n\u001b[1;32m    232\u001b[0m \u001b[38;5;28;01mif\u001b[39;00m filename \u001b[38;5;129;01mis\u001b[39;00m \u001b[38;5;28;01mNone\u001b[39;00m:\n\u001b[0;32m--> 233\u001b[0m     basis\u001b[38;5;241m.\u001b[39mfilename, source \u001b[38;5;241m=\u001b[39m \u001b[43msearch_for_file\u001b[49m\u001b[43m(\u001b[49m\u001b[43mfullname\u001b[49m\u001b[43m,\u001b[49m\u001b[43m \u001b[49m\u001b[43mworld\u001b[49m\u001b[38;5;241;43m=\u001b[39;49m\u001b[43mworld\u001b[49m\u001b[43m)\u001b[49m\n\u001b[1;32m    234\u001b[0m \u001b[38;5;28;01melse\u001b[39;00m:\n\u001b[1;32m    235\u001b[0m     basis\u001b[38;5;241m.\u001b[39mfilename \u001b[38;5;241m=\u001b[39m filename\n",
      "File \u001b[0;32m~/miniconda3/envs/ASE_extra/lib/python3.10/site-packages/gpaw/setup_data.py:441\u001b[0m, in \u001b[0;36msearch_for_file\u001b[0;34m(name, world)\u001b[0m\n\u001b[1;32m    435\u001b[0m         err \u001b[38;5;241m=\u001b[39m \u001b[38;5;124mf\u001b[39m\u001b[38;5;124m'\u001b[39m\u001b[38;5;124mCould not find required \u001b[39m\u001b[38;5;132;01m{\u001b[39;00m_type\u001b[38;5;132;01m}\u001b[39;00m\u001b[38;5;124m file \u001b[39m\u001b[38;5;124m\"\u001b[39m\u001b[38;5;132;01m{\u001b[39;00mname\u001b[38;5;132;01m}\u001b[39;00m\u001b[38;5;124m\"\u001b[39m\u001b[38;5;124m.\u001b[39m\u001b[38;5;124m'\u001b[39m\n\u001b[1;32m    436\u001b[0m         helpful_message \u001b[38;5;241m=\u001b[39m \u001b[38;5;124m\"\"\"\u001b[39m\n\u001b[1;32m    437\u001b[0m \u001b[38;5;124mYou need to set the GPAW_SETUP_PATH environment variable to point to\u001b[39m\n\u001b[1;32m    438\u001b[0m \u001b[38;5;124mthe directories where PAW dataset and basis files are stored.  See\u001b[39m\n\u001b[1;32m    439\u001b[0m \u001b[38;5;124mhttps://gpaw.readthedocs.io/install.html#install-paw-datasets\u001b[39m\n\u001b[1;32m    440\u001b[0m \u001b[38;5;124mfor details.\u001b[39m\u001b[38;5;124m\"\"\"\u001b[39m\n\u001b[0;32m--> 441\u001b[0m         \u001b[38;5;28;01mraise\u001b[39;00m \u001b[38;5;167;01mFileNotFoundError\u001b[39;00m(\u001b[38;5;124mf\u001b[39m\u001b[38;5;124m'\u001b[39m\u001b[38;5;132;01m{\u001b[39;00merr\u001b[38;5;132;01m}\u001b[39;00m\u001b[38;5;130;01m\\n\u001b[39;00m\u001b[38;5;132;01m{\u001b[39;00mhelpful_message\u001b[38;5;132;01m}\u001b[39;00m\u001b[38;5;130;01m\\n\u001b[39;00m\u001b[38;5;124m'\u001b[39m)\n\u001b[1;32m    443\u001b[0m     \u001b[38;5;28;01mreturn\u001b[39;00m filename, source\n",
      "\u001b[0;31mFileNotFoundError\u001b[0m: Could not find required basis set file \"N.dzp.basis\".\n\nYou need to set the GPAW_SETUP_PATH environment variable to point to\nthe directories where PAW dataset and basis files are stored.  See\nhttps://gpaw.readthedocs.io/install.html#install-paw-datasets\nfor details.\n"
     ]
    }
   ],
   "source": [
    "# calculator\n",
    "from gpaw import GPAW\n",
    "\n",
    "# general imports\n",
    "from ase import Atoms\n",
    "from ase.io import Trajectory\n",
    "from ase.io import write\n",
    "from ase.io import iread\n",
    "from ase.visualize import view\n",
    "\n",
    "\n",
    "# define the structure\n",
    "atoms = Atoms('N2', positions=[[0, 0, -1], [1, 0, 1]])\n",
    "atoms.center(vacuum=3.0)\n",
    "print(atoms.positions)\n",
    "\n",
    "# save the initial position\n",
    "write('N2_initial_pos.xyz', atoms)\n",
    "\n",
    "# # inspect it (rotate holding right click)\n",
    "# ! ase gui myatoms.traj\n",
    "#view(atoms, viewer='ase')\n",
    "view(atoms, viewer='x3d')\n",
    "\n",
    "\n",
    "# define the calculation and assign it to the molecule\n",
    "calc = GPAW(mode='lcao', basis='dzp', txt='gpaw.txt', xc='LDA')\n",
    "atoms.calc = calc\n",
    "\n",
    "# save the energy and force data of the point calculations (no relaxation)\n",
    "traj = Trajectory('binding_curve.traj', 'w')\n",
    "\n",
    "# define the structures (0.5, 3.5) Å\n",
    "step = 0.05\n",
    "nsteps = int(3 / step)\n",
    "\n",
    "for i in range(nsteps):\n",
    "    # define the new structure\n",
    "    d = 0.5 + i * step\n",
    "    atoms.positions[1, 2] = atoms.positions[0, 2] + d\n",
    "    atoms.center(vacuum=3.0)\n",
    "\n",
    "    # compute\n",
    "    e = atoms.get_potential_energy()\n",
    "    f = atoms.get_forces()\n",
    "    print('distance, energy', d, e)\n",
    "    print('force', f)\n",
    "\n",
    "    # save it to the trajectory\n",
    "    traj.write(atoms)\n",
    "\n",
    "\n",
    "# read the results from the trajectory file \n",
    "import matplotlib.pyplot as plt\n",
    "\n",
    "energies = []\n",
    "distances = []\n",
    "for atoms in iread('binding_curve.traj'):\n",
    "    energies.append(atoms.get_potential_energy())\n",
    "    distances.append(atoms.positions[1, 2] - atoms.positions[0, 2])\n",
    "\n",
    "ax = plt.gca()\n",
    "ax.plot(distances, energies)\n",
    "ax.set_xlabel('Distance [Å]')\n",
    "ax.set_ylabel('Total energy [eV]')\n",
    "plt.show()"
   ]
  },
  {
   "cell_type": "markdown",
   "metadata": {},
   "source": [
    "### __External calculator setup__\n",
    "\n",
    "In this section, how ASE interfaces with external calculators is described and an example calculator VASP is installed. The venv used is `ASE_extra`. \n",
    "\n",
    "**Note.** Check the list of [supported calculators](https://wiki.fysik.dtu.dk/ase/ase/calculators/calculators.html#supported-calculators). \n",
    "\n",
    "- **Usage of external calculators.** \n",
    "    - The external package (that contains the calculator) must be located and defined with an environment variable (executable location, which ASE will call). \n",
    "    - ASE handles writing the input files, which are required for the run, and then executes the `EXTERNAL_PROGRAM_EXECUTABLE` (previously defined enviornment variable), i.e. executes the external software (e.g. ORCA). Once the ORCA run is complete, ASE then reads all of the relevant files, and stores properties in the calculator object.\n",
    "    \n",
    "    - **FHI-aims example.** Different calculators communicate with computational codes in different ways. GPAW is written in Python, so ASE and GPAW run within the same process. However FHI-aims is a separate program. What the Aims calculator does for us is to generate an input file, run FHI-aims, read the output, and return the results. \n",
    "    - Many ASE calculators support more advanced ways of communicating. These calculators can communicate with persistent external processes over pipes (Lammpsrun, CP2K) or sockets (Siesta, Aims, Espresso), or they can work within the same process through direct library calls (Lammpslib, GPAW).\n",
    "\n",
    "**Note.** In this case, I did not install any of the software due to time constraints. The general procedure on how to interface ASE with an external program might vary, but the general procedure is as follows (example is ). \n",
    "\n",
    "**VASP** The first step, is to tell ASE how to execute VASP, and where to find the pseudopotentials via two environment variables. `ASE_VASP_COMMAND` is the default way to execture VASP (points to the executable `vasp_std`). The second environment variable is `VASP_PP_PATH`, the path to the VASP pseudopotentials. \n",
    "\n",
    "```bash\n",
    "$ export ASE_VASP_COMMAND=\"mpiexec $HOME/vasp/bin/vasp_std\"\n",
    "$ export VASP_PP_PATH=$HOME/vasp/mypps\n",
    "```\n",
    "\n",
    "**FHI-aims.** ASE can communicate with FHI-aims over sockets using the i-PI protocol (http://ipi-code.org/). This is done by wrapping the calculator in a `ase.calculators.socketio.SocketIOCalculator`. The socket calculator will use the calculator it wraps to launch a calculation, then run it. The documentation on the socket I/O calculator already provides full examples, so we only need minor adjustments to run them on our local machine. Check the last section of this [tutorial](https://wiki.fysik.dtu.dk/ase/gettingstarted/tut02_h2o_structure/h2o.html) for more info on how to install FHI-aims. \n",
    "\n",
    "```bash\n",
    "$ export ASE_AIMS_COMMAND=aims.x\n",
    "$ export AIMS_SPECIES_DIR=/home/alumne/software/FHIaims/species_defaults/light\n",
    "```\n",
    "\n",
    "**Note.** The env variables will be 'forgotten' once the shell (conda environment) is restarted. We can define these env variables in the `.bash_profile` (macOS) or call them inside the ASE python script executing the command with `!<command>`. "
   ]
  },
  {
   "cell_type": "markdown",
   "metadata": {},
   "source": [
    "#### __Check the external calculator is well defined__\n",
    "Once the environment variables are defined, ASE should 'see' them. Run \n",
    "```console\n",
    "ase info --calculators\n",
    "```\n",
    "to check that it is properly configured. If we want to check if GROMACS calculator is correctly defined, use `ase info --calculators | grep gaussian` to quickly check it. \n",
    "\n",
    "An aditional quick test on the N2 molecule can be performed when dealing with QM (electronic structure) or NNP potentials:"
   ]
  },
  {
   "cell_type": "code",
   "execution_count": 6,
   "metadata": {},
   "outputs": [
    {
     "ename": "CalculatorSetupError",
     "evalue": "Vasp cannot handle non-periodic boundaries. Please enable all PBC, e.g. atoms.pbc=True",
     "output_type": "error",
     "traceback": [
      "\u001b[0;31m---------------------------------------------------------------------------\u001b[0m",
      "\u001b[0;31mCalculatorSetupError\u001b[0m                      Traceback (most recent call last)",
      "Cell \u001b[0;32mIn[6], line 15\u001b[0m\n\u001b[1;32m     12\u001b[0m atoms\u001b[38;5;241m.\u001b[39mcalc \u001b[38;5;241m=\u001b[39m calc\n\u001b[1;32m     14\u001b[0m \u001b[38;5;66;03m# compute the energy\u001b[39;00m\n\u001b[0;32m---> 15\u001b[0m \u001b[38;5;28mprint\u001b[39m(\u001b[38;5;124mf\u001b[39m\u001b[38;5;124m'\u001b[39m\u001b[38;5;124mPotential energy: \u001b[39m\u001b[38;5;132;01m{\u001b[39;00m\u001b[43matoms\u001b[49m\u001b[38;5;241;43m.\u001b[39;49m\u001b[43mget_potential_energy\u001b[49m\u001b[43m(\u001b[49m\u001b[43m)\u001b[49m\u001b[38;5;132;01m:\u001b[39;00m\u001b[38;5;124m.2f\u001b[39m\u001b[38;5;132;01m}\u001b[39;00m\u001b[38;5;124m eV\u001b[39m\u001b[38;5;124m'\u001b[39m)\n",
      "File \u001b[0;32m~/miniconda3/envs/ASE_extra/lib/python3.10/site-packages/ase/atoms.py:770\u001b[0m, in \u001b[0;36mAtoms.get_potential_energy\u001b[0;34m(self, force_consistent, apply_constraint)\u001b[0m\n\u001b[1;32m    767\u001b[0m     energy \u001b[38;5;241m=\u001b[39m \u001b[38;5;28mself\u001b[39m\u001b[38;5;241m.\u001b[39m_calc\u001b[38;5;241m.\u001b[39mget_potential_energy(\n\u001b[1;32m    768\u001b[0m         \u001b[38;5;28mself\u001b[39m, force_consistent\u001b[38;5;241m=\u001b[39mforce_consistent)\n\u001b[1;32m    769\u001b[0m \u001b[38;5;28;01melse\u001b[39;00m:\n\u001b[0;32m--> 770\u001b[0m     energy \u001b[38;5;241m=\u001b[39m \u001b[38;5;28;43mself\u001b[39;49m\u001b[38;5;241;43m.\u001b[39;49m\u001b[43m_calc\u001b[49m\u001b[38;5;241;43m.\u001b[39;49m\u001b[43mget_potential_energy\u001b[49m\u001b[43m(\u001b[49m\u001b[38;5;28;43mself\u001b[39;49m\u001b[43m)\u001b[49m\n\u001b[1;32m    771\u001b[0m \u001b[38;5;28;01mif\u001b[39;00m apply_constraint:\n\u001b[1;32m    772\u001b[0m     \u001b[38;5;28;01mfor\u001b[39;00m constraint \u001b[38;5;129;01min\u001b[39;00m \u001b[38;5;28mself\u001b[39m\u001b[38;5;241m.\u001b[39mconstraints:\n",
      "File \u001b[0;32m~/miniconda3/envs/ASE_extra/lib/python3.10/site-packages/ase/calculators/abc.py:24\u001b[0m, in \u001b[0;36mGetPropertiesMixin.get_potential_energy\u001b[0;34m(self, atoms, force_consistent)\u001b[0m\n\u001b[1;32m     22\u001b[0m \u001b[38;5;28;01melse\u001b[39;00m:\n\u001b[1;32m     23\u001b[0m     name \u001b[38;5;241m=\u001b[39m \u001b[38;5;124m'\u001b[39m\u001b[38;5;124menergy\u001b[39m\u001b[38;5;124m'\u001b[39m\n\u001b[0;32m---> 24\u001b[0m \u001b[38;5;28;01mreturn\u001b[39;00m \u001b[38;5;28;43mself\u001b[39;49m\u001b[38;5;241;43m.\u001b[39;49m\u001b[43mget_property\u001b[49m\u001b[43m(\u001b[49m\u001b[43mname\u001b[49m\u001b[43m,\u001b[49m\u001b[43m \u001b[49m\u001b[43matoms\u001b[49m\u001b[43m)\u001b[49m\n",
      "File \u001b[0;32m~/miniconda3/envs/ASE_extra/lib/python3.10/site-packages/ase/calculators/calculator.py:538\u001b[0m, in \u001b[0;36mBaseCalculator.get_property\u001b[0;34m(self, name, atoms, allow_calculation)\u001b[0m\n\u001b[1;32m    535\u001b[0m     \u001b[38;5;28;01mif\u001b[39;00m \u001b[38;5;28mself\u001b[39m\u001b[38;5;241m.\u001b[39muse_cache:\n\u001b[1;32m    536\u001b[0m         \u001b[38;5;28mself\u001b[39m\u001b[38;5;241m.\u001b[39matoms \u001b[38;5;241m=\u001b[39m atoms\u001b[38;5;241m.\u001b[39mcopy()\n\u001b[0;32m--> 538\u001b[0m     \u001b[38;5;28;43mself\u001b[39;49m\u001b[38;5;241;43m.\u001b[39;49m\u001b[43mcalculate\u001b[49m\u001b[43m(\u001b[49m\u001b[43matoms\u001b[49m\u001b[43m,\u001b[49m\u001b[43m \u001b[49m\u001b[43m[\u001b[49m\u001b[43mname\u001b[49m\u001b[43m]\u001b[49m\u001b[43m,\u001b[49m\u001b[43m \u001b[49m\u001b[43msystem_changes\u001b[49m\u001b[43m)\u001b[49m\n\u001b[1;32m    540\u001b[0m \u001b[38;5;28;01mif\u001b[39;00m name \u001b[38;5;129;01mnot\u001b[39;00m \u001b[38;5;129;01min\u001b[39;00m \u001b[38;5;28mself\u001b[39m\u001b[38;5;241m.\u001b[39mresults:\n\u001b[1;32m    541\u001b[0m     \u001b[38;5;66;03m# For some reason the calculator was not able to do what we want,\u001b[39;00m\n\u001b[1;32m    542\u001b[0m     \u001b[38;5;66;03m# and that is OK.\u001b[39;00m\n\u001b[1;32m    543\u001b[0m     \u001b[38;5;28;01mraise\u001b[39;00m PropertyNotImplementedError(\n\u001b[1;32m    544\u001b[0m         \u001b[38;5;124m'\u001b[39m\u001b[38;5;132;01m{}\u001b[39;00m\u001b[38;5;124m not present in this \u001b[39m\u001b[38;5;124m'\u001b[39m \u001b[38;5;124m'\u001b[39m\u001b[38;5;124mcalculation\u001b[39m\u001b[38;5;124m'\u001b[39m\u001b[38;5;241m.\u001b[39mformat(name)\n\u001b[1;32m    545\u001b[0m     )\n",
      "File \u001b[0;32m~/miniconda3/envs/ASE_extra/lib/python3.10/site-packages/ase/calculators/vasp/vasp.py:327\u001b[0m, in \u001b[0;36mVasp.calculate\u001b[0;34m(self, atoms, properties, system_changes)\u001b[0m\n\u001b[1;32m    324\u001b[0m Calculator\u001b[38;5;241m.\u001b[39mcalculate(\u001b[38;5;28mself\u001b[39m, atoms, properties, system_changes)\n\u001b[1;32m    325\u001b[0m \u001b[38;5;66;03m# Check for zero-length lattice vectors and PBC\u001b[39;00m\n\u001b[1;32m    326\u001b[0m \u001b[38;5;66;03m# and that we actually have an Atoms object.\u001b[39;00m\n\u001b[0;32m--> 327\u001b[0m \u001b[43mcheck_atoms\u001b[49m\u001b[43m(\u001b[49m\u001b[38;5;28;43mself\u001b[39;49m\u001b[38;5;241;43m.\u001b[39;49m\u001b[43matoms\u001b[49m\u001b[43m)\u001b[49m\n\u001b[1;32m    329\u001b[0m \u001b[38;5;28mself\u001b[39m\u001b[38;5;241m.\u001b[39mclear_results()\n\u001b[1;32m    331\u001b[0m command \u001b[38;5;241m=\u001b[39m \u001b[38;5;28mself\u001b[39m\u001b[38;5;241m.\u001b[39mmake_command(\u001b[38;5;28mself\u001b[39m\u001b[38;5;241m.\u001b[39mcommand)\n",
      "File \u001b[0;32m~/miniconda3/envs/ASE_extra/lib/python3.10/site-packages/ase/calculators/vasp/vasp.py:1326\u001b[0m, in \u001b[0;36mcheck_atoms\u001b[0;34m(atoms)\u001b[0m\n\u001b[1;32m   1324\u001b[0m \u001b[38;5;66;03m# Loop through all check functions\u001b[39;00m\n\u001b[1;32m   1325\u001b[0m \u001b[38;5;28;01mfor\u001b[39;00m check \u001b[38;5;129;01min\u001b[39;00m (check_atoms_type, check_cell, check_pbc):\n\u001b[0;32m-> 1326\u001b[0m     \u001b[43mcheck\u001b[49m\u001b[43m(\u001b[49m\u001b[43matoms\u001b[49m\u001b[43m)\u001b[49m\n",
      "File \u001b[0;32m~/miniconda3/envs/ASE_extra/lib/python3.10/site-packages/ase/calculators/vasp/vasp.py:1346\u001b[0m, in \u001b[0;36mcheck_pbc\u001b[0;34m(atoms)\u001b[0m\n\u001b[1;32m   1341\u001b[0m \u001b[38;5;250m\u001b[39m\u001b[38;5;124;03m\"\"\"Check if any boundaries are not PBC, as VASP\u001b[39;00m\n\u001b[1;32m   1342\u001b[0m \u001b[38;5;124;03mcannot handle non-PBC.\u001b[39;00m\n\u001b[1;32m   1343\u001b[0m \u001b[38;5;124;03mRaises CalculatorSetupError.\u001b[39;00m\n\u001b[1;32m   1344\u001b[0m \u001b[38;5;124;03m\"\"\"\u001b[39;00m\n\u001b[1;32m   1345\u001b[0m \u001b[38;5;28;01mif\u001b[39;00m \u001b[38;5;129;01mnot\u001b[39;00m atoms\u001b[38;5;241m.\u001b[39mpbc\u001b[38;5;241m.\u001b[39mall():\n\u001b[0;32m-> 1346\u001b[0m     \u001b[38;5;28;01mraise\u001b[39;00m calculator\u001b[38;5;241m.\u001b[39mCalculatorSetupError(\n\u001b[1;32m   1347\u001b[0m         \u001b[38;5;124m\"\u001b[39m\u001b[38;5;124mVasp cannot handle non-periodic boundaries. \u001b[39m\u001b[38;5;124m\"\u001b[39m\n\u001b[1;32m   1348\u001b[0m         \u001b[38;5;124m\"\u001b[39m\u001b[38;5;124mPlease enable all PBC, e.g. atoms.pbc=True\u001b[39m\u001b[38;5;124m\"\u001b[39m)\n",
      "\u001b[0;31mCalculatorSetupError\u001b[0m: Vasp cannot handle non-periodic boundaries. Please enable all PBC, e.g. atoms.pbc=True"
     ]
    }
   ],
   "source": [
    "from ase.build import molecule\n",
    "from ase.calculators.vasp import Vasp\n",
    "\n",
    "# define the molecule\n",
    "atoms = molecule('N2')\n",
    "atoms.center(vacuum=5)\n",
    "\n",
    "# define the calculator and use it\n",
    "calc = Vasp(xc='pbe',  # Select exchange-correlation functional\n",
    "            encut=400, # Plane-wave cutoff\n",
    "            kpts=(1, 1, 1)) # k-points\n",
    "atoms.calc = calc\n",
    "\n",
    "# compute the energy\n",
    "print(f'Potential energy: {atoms.get_potential_energy():.2f} eV')"
   ]
  },
  {
   "cell_type": "markdown",
   "metadata": {},
   "source": [
    "### __H2O structure optimization__\n",
    "The several optimization algorithms included in ASE operate on top of `Atoms`. Usually, big systems with different 'groups' of atoms (i.e. a protein in a solvent) require a minimization that involves first optimizing the solvent and then the side chains and finally a free optimization. \n",
    "\n",
    "The procedure is similar to performing an MD, a trajectory file will be generated with energy and forces of each step. "
   ]
  },
  {
   "cell_type": "code",
   "execution_count": 7,
   "metadata": {},
   "outputs": [
    {
     "ename": "FileNotFoundError",
     "evalue": "Could not find required basis set file \"H.dzp.basis\".\n\nYou need to set the GPAW_SETUP_PATH environment variable to point to\nthe directories where PAW dataset and basis files are stored.  See\nhttps://gpaw.readthedocs.io/install.html#install-paw-datasets\nfor details.\n",
     "output_type": "error",
     "traceback": [
      "\u001b[0;31m---------------------------------------------------------------------------\u001b[0m",
      "\u001b[0;31mFileNotFoundError\u001b[0m                         Traceback (most recent call last)",
      "Cell \u001b[0;32mIn[7], line 23\u001b[0m\n\u001b[1;32m     17\u001b[0m \u001b[38;5;66;03m# (optional)\u001b[39;00m\n\u001b[1;32m     18\u001b[0m \u001b[38;5;66;03m# optimization restrictions (fix O atom)\u001b[39;00m\n\u001b[1;32m     19\u001b[0m \u001b[38;5;66;03m# constraint = FixAtoms(mask=[a.symbol != 'O' for a in atoms])\u001b[39;00m\n\u001b[1;32m     20\u001b[0m \n\u001b[1;32m     21\u001b[0m \u001b[38;5;66;03m# define the optimizer and maximum force until convergence \u001b[39;00m\n\u001b[1;32m     22\u001b[0m opt \u001b[38;5;241m=\u001b[39m BFGS(atoms, trajectory\u001b[38;5;241m=\u001b[39m\u001b[38;5;124m'\u001b[39m\u001b[38;5;124mopt.traj\u001b[39m\u001b[38;5;124m'\u001b[39m, logfile\u001b[38;5;241m=\u001b[39m\u001b[38;5;124m'\u001b[39m\u001b[38;5;124mopt.log\u001b[39m\u001b[38;5;124m'\u001b[39m)\n\u001b[0;32m---> 23\u001b[0m \u001b[43mopt\u001b[49m\u001b[38;5;241;43m.\u001b[39;49m\u001b[43mrun\u001b[49m\u001b[43m(\u001b[49m\u001b[43mfmax\u001b[49m\u001b[38;5;241;43m=\u001b[39;49m\u001b[38;5;241;43m0.05\u001b[39;49m\u001b[43m)\u001b[49m\n\u001b[1;32m     25\u001b[0m \u001b[38;5;66;03m# trajectory visualization\u001b[39;00m\n\u001b[1;32m     26\u001b[0m traj \u001b[38;5;241m=\u001b[39m Trajectory(\u001b[38;5;124m'\u001b[39m\u001b[38;5;124mopt.traj\u001b[39m\u001b[38;5;124m'\u001b[39m)\n",
      "File \u001b[0;32m~/miniconda3/envs/ASE_extra/lib/python3.10/site-packages/ase/optimize/optimize.py:414\u001b[0m, in \u001b[0;36mOptimizer.run\u001b[0;34m(self, fmax, steps)\u001b[0m\n\u001b[1;32m    399\u001b[0m \u001b[38;5;250m\u001b[39m\u001b[38;5;124;03m\"\"\"Run optimizer.\u001b[39;00m\n\u001b[1;32m    400\u001b[0m \n\u001b[1;32m    401\u001b[0m \u001b[38;5;124;03mParameters\u001b[39;00m\n\u001b[0;32m   (...)\u001b[0m\n\u001b[1;32m    411\u001b[0m \u001b[38;5;124;03m    True if the forces on atoms are converged.\u001b[39;00m\n\u001b[1;32m    412\u001b[0m \u001b[38;5;124;03m\"\"\"\u001b[39;00m\n\u001b[1;32m    413\u001b[0m \u001b[38;5;28mself\u001b[39m\u001b[38;5;241m.\u001b[39mfmax \u001b[38;5;241m=\u001b[39m fmax\n\u001b[0;32m--> 414\u001b[0m \u001b[38;5;28;01mreturn\u001b[39;00m \u001b[43mDynamics\u001b[49m\u001b[38;5;241;43m.\u001b[39;49m\u001b[43mrun\u001b[49m\u001b[43m(\u001b[49m\u001b[38;5;28;43mself\u001b[39;49m\u001b[43m,\u001b[49m\u001b[43m \u001b[49m\u001b[43msteps\u001b[49m\u001b[38;5;241;43m=\u001b[39;49m\u001b[43msteps\u001b[49m\u001b[43m)\u001b[49m\n",
      "File \u001b[0;32m~/miniconda3/envs/ASE_extra/lib/python3.10/site-packages/ase/optimize/optimize.py:283\u001b[0m, in \u001b[0;36mDynamics.run\u001b[0;34m(self, steps)\u001b[0m\n\u001b[1;32m    265\u001b[0m \u001b[38;5;28;01mdef\u001b[39;00m\u001b[38;5;250m \u001b[39m\u001b[38;5;21mrun\u001b[39m(\u001b[38;5;28mself\u001b[39m, steps\u001b[38;5;241m=\u001b[39mDEFAULT_MAX_STEPS):\n\u001b[1;32m    266\u001b[0m \u001b[38;5;250m    \u001b[39m\u001b[38;5;124;03m\"\"\"Run dynamics algorithm.\u001b[39;00m\n\u001b[1;32m    267\u001b[0m \n\u001b[1;32m    268\u001b[0m \u001b[38;5;124;03m    This method will return when the forces on all individual\u001b[39;00m\n\u001b[0;32m   (...)\u001b[0m\n\u001b[1;32m    280\u001b[0m \u001b[38;5;124;03m        True if the forces on atoms are converged.\u001b[39;00m\n\u001b[1;32m    281\u001b[0m \u001b[38;5;124;03m    \"\"\"\u001b[39;00m\n\u001b[0;32m--> 283\u001b[0m     \u001b[38;5;28;01mfor\u001b[39;00m converged \u001b[38;5;129;01min\u001b[39;00m Dynamics\u001b[38;5;241m.\u001b[39mirun(\u001b[38;5;28mself\u001b[39m, steps\u001b[38;5;241m=\u001b[39msteps):\n\u001b[1;32m    284\u001b[0m         \u001b[38;5;28;01mpass\u001b[39;00m\n\u001b[1;32m    285\u001b[0m     \u001b[38;5;28;01mreturn\u001b[39;00m converged\n",
      "File \u001b[0;32m~/miniconda3/envs/ASE_extra/lib/python3.10/site-packages/ase/optimize/optimize.py:233\u001b[0m, in \u001b[0;36mDynamics.irun\u001b[0;34m(self, steps)\u001b[0m\n\u001b[1;32m    230\u001b[0m \u001b[38;5;28mself\u001b[39m\u001b[38;5;241m.\u001b[39mmax_steps \u001b[38;5;241m=\u001b[39m \u001b[38;5;28mself\u001b[39m\u001b[38;5;241m.\u001b[39mnsteps \u001b[38;5;241m+\u001b[39m steps\n\u001b[1;32m    232\u001b[0m \u001b[38;5;66;03m# compute the initial step\u001b[39;00m\n\u001b[0;32m--> 233\u001b[0m \u001b[38;5;28;43mself\u001b[39;49m\u001b[38;5;241;43m.\u001b[39;49m\u001b[43moptimizable\u001b[49m\u001b[38;5;241;43m.\u001b[39;49m\u001b[43mget_forces\u001b[49m\u001b[43m(\u001b[49m\u001b[43m)\u001b[49m\n\u001b[1;32m    235\u001b[0m \u001b[38;5;66;03m# log the initial step\u001b[39;00m\n\u001b[1;32m    236\u001b[0m \u001b[38;5;28;01mif\u001b[39;00m \u001b[38;5;28mself\u001b[39m\u001b[38;5;241m.\u001b[39mnsteps \u001b[38;5;241m==\u001b[39m \u001b[38;5;241m0\u001b[39m:\n",
      "File \u001b[0;32m~/miniconda3/envs/ASE_extra/lib/python3.10/site-packages/ase/optimize/optimize.py:34\u001b[0m, in \u001b[0;36mOptimizableAtoms.get_forces\u001b[0;34m(self)\u001b[0m\n\u001b[1;32m     33\u001b[0m \u001b[38;5;28;01mdef\u001b[39;00m\u001b[38;5;250m \u001b[39m\u001b[38;5;21mget_forces\u001b[39m(\u001b[38;5;28mself\u001b[39m):\n\u001b[0;32m---> 34\u001b[0m     \u001b[38;5;28;01mreturn\u001b[39;00m \u001b[38;5;28;43mself\u001b[39;49m\u001b[38;5;241;43m.\u001b[39;49m\u001b[43matoms\u001b[49m\u001b[38;5;241;43m.\u001b[39;49m\u001b[43mget_forces\u001b[49m\u001b[43m(\u001b[49m\u001b[43m)\u001b[49m\n",
      "File \u001b[0;32m~/miniconda3/envs/ASE_extra/lib/python3.10/site-packages/ase/atoms.py:827\u001b[0m, in \u001b[0;36mAtoms.get_forces\u001b[0;34m(self, apply_constraint, md)\u001b[0m\n\u001b[1;32m    825\u001b[0m \u001b[38;5;28;01mif\u001b[39;00m \u001b[38;5;28mself\u001b[39m\u001b[38;5;241m.\u001b[39m_calc \u001b[38;5;129;01mis\u001b[39;00m \u001b[38;5;28;01mNone\u001b[39;00m:\n\u001b[1;32m    826\u001b[0m     \u001b[38;5;28;01mraise\u001b[39;00m \u001b[38;5;167;01mRuntimeError\u001b[39;00m(\u001b[38;5;124m'\u001b[39m\u001b[38;5;124mAtoms object has no calculator.\u001b[39m\u001b[38;5;124m'\u001b[39m)\n\u001b[0;32m--> 827\u001b[0m forces \u001b[38;5;241m=\u001b[39m \u001b[38;5;28;43mself\u001b[39;49m\u001b[38;5;241;43m.\u001b[39;49m\u001b[43m_calc\u001b[49m\u001b[38;5;241;43m.\u001b[39;49m\u001b[43mget_forces\u001b[49m\u001b[43m(\u001b[49m\u001b[38;5;28;43mself\u001b[39;49m\u001b[43m)\u001b[49m\n\u001b[1;32m    829\u001b[0m \u001b[38;5;28;01mif\u001b[39;00m apply_constraint:\n\u001b[1;32m    830\u001b[0m     \u001b[38;5;66;03m# We need a special md flag here because for MD we want\u001b[39;00m\n\u001b[1;32m    831\u001b[0m     \u001b[38;5;66;03m# to skip real constraints but include special \"constraints\"\u001b[39;00m\n\u001b[1;32m    832\u001b[0m     \u001b[38;5;66;03m# Like Hookean.\u001b[39;00m\n\u001b[1;32m    833\u001b[0m     \u001b[38;5;28;01mfor\u001b[39;00m constraint \u001b[38;5;129;01min\u001b[39;00m \u001b[38;5;28mself\u001b[39m\u001b[38;5;241m.\u001b[39mconstraints:\n",
      "File \u001b[0;32m~/miniconda3/envs/ASE_extra/lib/python3.10/site-packages/ase/calculators/abc.py:30\u001b[0m, in \u001b[0;36mGetPropertiesMixin.get_forces\u001b[0;34m(self, atoms)\u001b[0m\n\u001b[1;32m     29\u001b[0m \u001b[38;5;28;01mdef\u001b[39;00m\u001b[38;5;250m \u001b[39m\u001b[38;5;21mget_forces\u001b[39m(\u001b[38;5;28mself\u001b[39m, atoms\u001b[38;5;241m=\u001b[39m\u001b[38;5;28;01mNone\u001b[39;00m):\n\u001b[0;32m---> 30\u001b[0m     \u001b[38;5;28;01mreturn\u001b[39;00m \u001b[38;5;28;43mself\u001b[39;49m\u001b[38;5;241;43m.\u001b[39;49m\u001b[43mget_property\u001b[49m\u001b[43m(\u001b[49m\u001b[38;5;124;43m'\u001b[39;49m\u001b[38;5;124;43mforces\u001b[39;49m\u001b[38;5;124;43m'\u001b[39;49m\u001b[43m,\u001b[49m\u001b[43m \u001b[49m\u001b[43matoms\u001b[49m\u001b[43m)\u001b[49m\n",
      "File \u001b[0;32m~/miniconda3/envs/ASE_extra/lib/python3.10/site-packages/ase/calculators/calculator.py:538\u001b[0m, in \u001b[0;36mBaseCalculator.get_property\u001b[0;34m(self, name, atoms, allow_calculation)\u001b[0m\n\u001b[1;32m    535\u001b[0m     \u001b[38;5;28;01mif\u001b[39;00m \u001b[38;5;28mself\u001b[39m\u001b[38;5;241m.\u001b[39muse_cache:\n\u001b[1;32m    536\u001b[0m         \u001b[38;5;28mself\u001b[39m\u001b[38;5;241m.\u001b[39matoms \u001b[38;5;241m=\u001b[39m atoms\u001b[38;5;241m.\u001b[39mcopy()\n\u001b[0;32m--> 538\u001b[0m     \u001b[38;5;28;43mself\u001b[39;49m\u001b[38;5;241;43m.\u001b[39;49m\u001b[43mcalculate\u001b[49m\u001b[43m(\u001b[49m\u001b[43matoms\u001b[49m\u001b[43m,\u001b[49m\u001b[43m \u001b[49m\u001b[43m[\u001b[49m\u001b[43mname\u001b[49m\u001b[43m]\u001b[49m\u001b[43m,\u001b[49m\u001b[43m \u001b[49m\u001b[43msystem_changes\u001b[49m\u001b[43m)\u001b[49m\n\u001b[1;32m    540\u001b[0m \u001b[38;5;28;01mif\u001b[39;00m name \u001b[38;5;129;01mnot\u001b[39;00m \u001b[38;5;129;01min\u001b[39;00m \u001b[38;5;28mself\u001b[39m\u001b[38;5;241m.\u001b[39mresults:\n\u001b[1;32m    541\u001b[0m     \u001b[38;5;66;03m# For some reason the calculator was not able to do what we want,\u001b[39;00m\n\u001b[1;32m    542\u001b[0m     \u001b[38;5;66;03m# and that is OK.\u001b[39;00m\n\u001b[1;32m    543\u001b[0m     \u001b[38;5;28;01mraise\u001b[39;00m PropertyNotImplementedError(\n\u001b[1;32m    544\u001b[0m         \u001b[38;5;124m'\u001b[39m\u001b[38;5;132;01m{}\u001b[39;00m\u001b[38;5;124m not present in this \u001b[39m\u001b[38;5;124m'\u001b[39m \u001b[38;5;124m'\u001b[39m\u001b[38;5;124mcalculation\u001b[39m\u001b[38;5;124m'\u001b[39m\u001b[38;5;241m.\u001b[39mformat(name)\n\u001b[1;32m    545\u001b[0m     )\n",
      "File \u001b[0;32m~/miniconda3/envs/ASE_extra/lib/python3.10/site-packages/gpaw/calculator.py:418\u001b[0m, in \u001b[0;36mGPAW.calculate\u001b[0;34m(self, atoms, properties, system_changes)\u001b[0m\n\u001b[1;32m    416\u001b[0m \u001b[38;5;28;01mdef\u001b[39;00m\u001b[38;5;250m \u001b[39m\u001b[38;5;21mcalculate\u001b[39m(\u001b[38;5;28mself\u001b[39m, atoms\u001b[38;5;241m=\u001b[39m\u001b[38;5;28;01mNone\u001b[39;00m, properties\u001b[38;5;241m=\u001b[39m[\u001b[38;5;124m'\u001b[39m\u001b[38;5;124menergy\u001b[39m\u001b[38;5;124m'\u001b[39m],\n\u001b[1;32m    417\u001b[0m               system_changes\u001b[38;5;241m=\u001b[39m[\u001b[38;5;124m'\u001b[39m\u001b[38;5;124mcell\u001b[39m\u001b[38;5;124m'\u001b[39m]):\n\u001b[0;32m--> 418\u001b[0m     \u001b[38;5;28;01mfor\u001b[39;00m _ \u001b[38;5;129;01min\u001b[39;00m \u001b[38;5;28mself\u001b[39m\u001b[38;5;241m.\u001b[39micalculate(atoms, properties, system_changes):\n\u001b[1;32m    419\u001b[0m         \u001b[38;5;28;01mpass\u001b[39;00m\n",
      "File \u001b[0;32m~/miniconda3/envs/ASE_extra/lib/python3.10/site-packages/gpaw/calculator.py:439\u001b[0m, in \u001b[0;36mGPAW.icalculate\u001b[0;34m(self, atoms, properties, system_changes)\u001b[0m\n\u001b[1;32m    437\u001b[0m         \u001b[38;5;28mself\u001b[39m\u001b[38;5;241m.\u001b[39mhamiltonian \u001b[38;5;241m=\u001b[39m \u001b[38;5;28;01mNone\u001b[39;00m\n\u001b[1;32m    438\u001b[0m         \u001b[38;5;28mself\u001b[39m\u001b[38;5;241m.\u001b[39mscf \u001b[38;5;241m=\u001b[39m \u001b[38;5;28;01mNone\u001b[39;00m\n\u001b[0;32m--> 439\u001b[0m         \u001b[38;5;28;43mself\u001b[39;49m\u001b[38;5;241;43m.\u001b[39;49m\u001b[43minitialize\u001b[49m\u001b[43m(\u001b[49m\u001b[43matoms\u001b[49m\u001b[43m)\u001b[49m\n\u001b[1;32m    441\u001b[0m     \u001b[38;5;28mself\u001b[39m\u001b[38;5;241m.\u001b[39mset_positions(atoms)\n\u001b[1;32m    443\u001b[0m \u001b[38;5;28;01mif\u001b[39;00m \u001b[38;5;129;01mnot\u001b[39;00m \u001b[38;5;28mself\u001b[39m\u001b[38;5;241m.\u001b[39minitialized:\n",
      "File \u001b[0;32m~/miniconda3/envs/ASE_extra/lib/python3.10/site-packages/gpaw/calculator.py:770\u001b[0m, in \u001b[0;36mGPAW.initialize\u001b[0;34m(self, atoms, reading)\u001b[0m\n\u001b[1;32m    765\u001b[0m     \u001b[38;5;28;01mraise\u001b[39;00m \u001b[38;5;167;01mValueError\u001b[39;00m(\u001b[38;5;124m'\u001b[39m\u001b[38;5;124mLCAO mode does not support \u001b[39m\u001b[38;5;124m'\u001b[39m\n\u001b[1;32m    766\u001b[0m                      \u001b[38;5;124m'\u001b[39m\u001b[38;5;124morbital-dependent XC functionals.\u001b[39m\u001b[38;5;124m'\u001b[39m)\n\u001b[1;32m    768\u001b[0m realspace \u001b[38;5;241m=\u001b[39m mode\u001b[38;5;241m.\u001b[39minterpolation \u001b[38;5;241m!=\u001b[39m \u001b[38;5;124m'\u001b[39m\u001b[38;5;124mfft\u001b[39m\u001b[38;5;124m'\u001b[39m\n\u001b[0;32m--> 770\u001b[0m \u001b[38;5;28;43mself\u001b[39;49m\u001b[38;5;241;43m.\u001b[39;49m\u001b[43mcreate_setups\u001b[49m\u001b[43m(\u001b[49m\u001b[43mmode\u001b[49m\u001b[43m,\u001b[49m\u001b[43m \u001b[49m\u001b[43mxc\u001b[49m\u001b[43m)\u001b[49m\n\u001b[1;32m    772\u001b[0m \u001b[38;5;28;01mif\u001b[39;00m \u001b[38;5;129;01mnot\u001b[39;00m realspace:\n\u001b[1;32m    773\u001b[0m     pbc_c \u001b[38;5;241m=\u001b[39m np\u001b[38;5;241m.\u001b[39mones(\u001b[38;5;241m3\u001b[39m, \u001b[38;5;28mbool\u001b[39m)\n",
      "File \u001b[0;32m~/miniconda3/envs/ASE_extra/lib/python3.10/site-packages/gpaw/calculator.py:1046\u001b[0m, in \u001b[0;36mGPAW.create_setups\u001b[0;34m(self, mode, xc)\u001b[0m\n\u001b[1;32m   1043\u001b[0m     \u001b[38;5;28mfilter\u001b[39m \u001b[38;5;241m=\u001b[39m \u001b[38;5;28mself\u001b[39m\u001b[38;5;241m.\u001b[39mparameters\u001b[38;5;241m.\u001b[39mfilter\n\u001b[1;32m   1045\u001b[0m Z_a \u001b[38;5;241m=\u001b[39m \u001b[38;5;28mself\u001b[39m\u001b[38;5;241m.\u001b[39matoms\u001b[38;5;241m.\u001b[39mget_atomic_numbers()\n\u001b[0;32m-> 1046\u001b[0m \u001b[38;5;28mself\u001b[39m\u001b[38;5;241m.\u001b[39msetups \u001b[38;5;241m=\u001b[39m \u001b[43mSetups\u001b[49m\u001b[43m(\u001b[49m\u001b[43mZ_a\u001b[49m\u001b[43m,\u001b[49m\n\u001b[1;32m   1047\u001b[0m \u001b[43m                     \u001b[49m\u001b[38;5;28;43mself\u001b[39;49m\u001b[38;5;241;43m.\u001b[39;49m\u001b[43mparameters\u001b[49m\u001b[38;5;241;43m.\u001b[39;49m\u001b[43msetups\u001b[49m\u001b[43m,\u001b[49m\u001b[43m \u001b[49m\u001b[38;5;28;43mself\u001b[39;49m\u001b[38;5;241;43m.\u001b[39;49m\u001b[43mparameters\u001b[49m\u001b[38;5;241;43m.\u001b[39;49m\u001b[43mbasis\u001b[49m\u001b[43m,\u001b[49m\n\u001b[1;32m   1048\u001b[0m \u001b[43m                     \u001b[49m\u001b[43mxc\u001b[49m\u001b[43m,\u001b[49m\u001b[43m \u001b[49m\u001b[38;5;28;43mfilter\u001b[39;49m\u001b[38;5;241;43m=\u001b[39;49m\u001b[38;5;28;43mfilter\u001b[39;49m\u001b[43m,\u001b[49m\u001b[43m \u001b[49m\u001b[43mworld\u001b[49m\u001b[38;5;241;43m=\u001b[39;49m\u001b[38;5;28;43mself\u001b[39;49m\u001b[38;5;241;43m.\u001b[39;49m\u001b[43mworld\u001b[49m\u001b[43m)\u001b[49m\n\u001b[1;32m   1049\u001b[0m \u001b[38;5;28mself\u001b[39m\u001b[38;5;241m.\u001b[39mlog(\u001b[38;5;28mself\u001b[39m\u001b[38;5;241m.\u001b[39msetups)\n",
      "File \u001b[0;32m~/miniconda3/envs/ASE_extra/lib/python3.10/site-packages/gpaw/setup.py:1342\u001b[0m, in \u001b[0;36mSetups.__init__\u001b[0;34m(self, Z_a, setup_types, basis_sets, xc, filter, world, backwards_compatible)\u001b[0m\n\u001b[1;32m   1338\u001b[0m \u001b[38;5;66;03m# Basis may be None (meaning that the setup decides), a string\u001b[39;00m\n\u001b[1;32m   1339\u001b[0m \u001b[38;5;66;03m# (meaning we load the basis set now from a file) or an actual\u001b[39;00m\n\u001b[1;32m   1340\u001b[0m \u001b[38;5;66;03m# pre-created Basis object (meaning we just pass it along)\u001b[39;00m\n\u001b[1;32m   1341\u001b[0m \u001b[38;5;28;01mif\u001b[39;00m \u001b[38;5;28misinstance\u001b[39m(basis, \u001b[38;5;28mstr\u001b[39m):\n\u001b[0;32m-> 1342\u001b[0m     basis \u001b[38;5;241m=\u001b[39m \u001b[43mBasis\u001b[49m\u001b[43m(\u001b[49m\u001b[43msymbol\u001b[49m\u001b[43m,\u001b[49m\u001b[43m \u001b[49m\u001b[43mbasis\u001b[49m\u001b[43m,\u001b[49m\u001b[43m \u001b[49m\u001b[43mworld\u001b[49m\u001b[38;5;241;43m=\u001b[39;49m\u001b[43mworld\u001b[49m\u001b[43m)\u001b[49m\n\u001b[1;32m   1343\u001b[0m setup \u001b[38;5;241m=\u001b[39m create_setup(symbol, xc, \u001b[38;5;241m2\u001b[39m, \u001b[38;5;28mtype\u001b[39m,\n\u001b[1;32m   1344\u001b[0m                      basis, setupdata\u001b[38;5;241m=\u001b[39msetupdata,\n\u001b[1;32m   1345\u001b[0m                      \u001b[38;5;28mfilter\u001b[39m\u001b[38;5;241m=\u001b[39m\u001b[38;5;28mfilter\u001b[39m, world\u001b[38;5;241m=\u001b[39mworld,\n\u001b[1;32m   1346\u001b[0m                      backwards_compatible\u001b[38;5;241m=\u001b[39mbackwards_compatible)\n\u001b[1;32m   1347\u001b[0m \u001b[38;5;28mself\u001b[39m\u001b[38;5;241m.\u001b[39msetups[\u001b[38;5;28mid\u001b[39m] \u001b[38;5;241m=\u001b[39m setup\n",
      "File \u001b[0;32m~/miniconda3/envs/ASE_extra/lib/python3.10/site-packages/gpaw/basis_data.py:58\u001b[0m, in \u001b[0;36mBasis.__init__\u001b[0;34m(self, symbol, name, readxml, rgd, world)\u001b[0m\n\u001b[1;32m     55\u001b[0m \u001b[38;5;28mself\u001b[39m\u001b[38;5;241m.\u001b[39mfilename \u001b[38;5;241m=\u001b[39m \u001b[38;5;28;01mNone\u001b[39;00m\n\u001b[1;32m     57\u001b[0m \u001b[38;5;28;01mif\u001b[39;00m readxml:\n\u001b[0;32m---> 58\u001b[0m     \u001b[38;5;28;43mself\u001b[39;49m\u001b[38;5;241;43m.\u001b[39;49m\u001b[43mread_xml\u001b[49m\u001b[43m(\u001b[49m\u001b[43mworld\u001b[49m\u001b[38;5;241;43m=\u001b[39;49m\u001b[43mworld\u001b[49m\u001b[43m)\u001b[49m\n",
      "File \u001b[0;32m~/miniconda3/envs/ASE_extra/lib/python3.10/site-packages/gpaw/basis_data.py:89\u001b[0m, in \u001b[0;36mBasis.read_xml\u001b[0;34m(self, filename, world)\u001b[0m\n\u001b[1;32m     87\u001b[0m \u001b[38;5;28;01mdef\u001b[39;00m\u001b[38;5;250m \u001b[39m\u001b[38;5;21mread_xml\u001b[39m(\u001b[38;5;28mself\u001b[39m, filename\u001b[38;5;241m=\u001b[39m\u001b[38;5;28;01mNone\u001b[39;00m, world\u001b[38;5;241m=\u001b[39m\u001b[38;5;28;01mNone\u001b[39;00m):\n\u001b[1;32m     88\u001b[0m     parser \u001b[38;5;241m=\u001b[39m BasisSetXMLParser(\u001b[38;5;28mself\u001b[39m)\n\u001b[0;32m---> 89\u001b[0m     \u001b[43mparser\u001b[49m\u001b[38;5;241;43m.\u001b[39;49m\u001b[43mparse\u001b[49m\u001b[43m(\u001b[49m\u001b[43mfilename\u001b[49m\u001b[43m,\u001b[49m\u001b[43m \u001b[49m\u001b[43mworld\u001b[49m\u001b[38;5;241;43m=\u001b[39;49m\u001b[43mworld\u001b[49m\u001b[43m)\u001b[49m\n",
      "File \u001b[0;32m~/miniconda3/envs/ASE_extra/lib/python3.10/site-packages/gpaw/basis_data.py:233\u001b[0m, in \u001b[0;36mBasisSetXMLParser.parse\u001b[0;34m(self, filename, world)\u001b[0m\n\u001b[1;32m    231\u001b[0m fullname \u001b[38;5;241m=\u001b[39m \u001b[38;5;124mf\u001b[39m\u001b[38;5;124m'\u001b[39m\u001b[38;5;132;01m{\u001b[39;00mbasis\u001b[38;5;241m.\u001b[39msymbol\u001b[38;5;132;01m}\u001b[39;00m\u001b[38;5;124m.\u001b[39m\u001b[38;5;132;01m{\u001b[39;00mname\u001b[38;5;132;01m}\u001b[39;00m\u001b[38;5;124m.basis\u001b[39m\u001b[38;5;124m'\u001b[39m\n\u001b[1;32m    232\u001b[0m \u001b[38;5;28;01mif\u001b[39;00m filename \u001b[38;5;129;01mis\u001b[39;00m \u001b[38;5;28;01mNone\u001b[39;00m:\n\u001b[0;32m--> 233\u001b[0m     basis\u001b[38;5;241m.\u001b[39mfilename, source \u001b[38;5;241m=\u001b[39m \u001b[43msearch_for_file\u001b[49m\u001b[43m(\u001b[49m\u001b[43mfullname\u001b[49m\u001b[43m,\u001b[49m\u001b[43m \u001b[49m\u001b[43mworld\u001b[49m\u001b[38;5;241;43m=\u001b[39;49m\u001b[43mworld\u001b[49m\u001b[43m)\u001b[49m\n\u001b[1;32m    234\u001b[0m \u001b[38;5;28;01melse\u001b[39;00m:\n\u001b[1;32m    235\u001b[0m     basis\u001b[38;5;241m.\u001b[39mfilename \u001b[38;5;241m=\u001b[39m filename\n",
      "File \u001b[0;32m~/miniconda3/envs/ASE_extra/lib/python3.10/site-packages/gpaw/setup_data.py:441\u001b[0m, in \u001b[0;36msearch_for_file\u001b[0;34m(name, world)\u001b[0m\n\u001b[1;32m    435\u001b[0m         err \u001b[38;5;241m=\u001b[39m \u001b[38;5;124mf\u001b[39m\u001b[38;5;124m'\u001b[39m\u001b[38;5;124mCould not find required \u001b[39m\u001b[38;5;132;01m{\u001b[39;00m_type\u001b[38;5;132;01m}\u001b[39;00m\u001b[38;5;124m file \u001b[39m\u001b[38;5;124m\"\u001b[39m\u001b[38;5;132;01m{\u001b[39;00mname\u001b[38;5;132;01m}\u001b[39;00m\u001b[38;5;124m\"\u001b[39m\u001b[38;5;124m.\u001b[39m\u001b[38;5;124m'\u001b[39m\n\u001b[1;32m    436\u001b[0m         helpful_message \u001b[38;5;241m=\u001b[39m \u001b[38;5;124m\"\"\"\u001b[39m\n\u001b[1;32m    437\u001b[0m \u001b[38;5;124mYou need to set the GPAW_SETUP_PATH environment variable to point to\u001b[39m\n\u001b[1;32m    438\u001b[0m \u001b[38;5;124mthe directories where PAW dataset and basis files are stored.  See\u001b[39m\n\u001b[1;32m    439\u001b[0m \u001b[38;5;124mhttps://gpaw.readthedocs.io/install.html#install-paw-datasets\u001b[39m\n\u001b[1;32m    440\u001b[0m \u001b[38;5;124mfor details.\u001b[39m\u001b[38;5;124m\"\"\"\u001b[39m\n\u001b[0;32m--> 441\u001b[0m         \u001b[38;5;28;01mraise\u001b[39;00m \u001b[38;5;167;01mFileNotFoundError\u001b[39;00m(\u001b[38;5;124mf\u001b[39m\u001b[38;5;124m'\u001b[39m\u001b[38;5;132;01m{\u001b[39;00merr\u001b[38;5;132;01m}\u001b[39;00m\u001b[38;5;130;01m\\n\u001b[39;00m\u001b[38;5;132;01m{\u001b[39;00mhelpful_message\u001b[38;5;132;01m}\u001b[39;00m\u001b[38;5;130;01m\\n\u001b[39;00m\u001b[38;5;124m'\u001b[39m)\n\u001b[1;32m    443\u001b[0m     \u001b[38;5;28;01mreturn\u001b[39;00m filename, source\n",
      "\u001b[0;31mFileNotFoundError\u001b[0m: Could not find required basis set file \"H.dzp.basis\".\n\nYou need to set the GPAW_SETUP_PATH environment variable to point to\nthe directories where PAW dataset and basis files are stored.  See\nhttps://gpaw.readthedocs.io/install.html#install-paw-datasets\nfor details.\n"
     ]
    }
   ],
   "source": [
    "from gpaw import GPAW\n",
    "\n",
    "from ase import Atoms\n",
    "from ase.constraints import FixAtoms\n",
    "from ase.optimize import BFGS\n",
    "from ase.io import Trajectory, read\n",
    "from ase.visualize import view\n",
    "\n",
    "# define a water molecule in the void\n",
    "atoms = Atoms('HOH', positions=[[0, 0, -1], [0, 1, 0], [0, 0, 1]])\n",
    "atoms.center(vacuum=3.0)\n",
    "\n",
    "# define the calculator and apply it\n",
    "calc = GPAW(mode='lcao', basis='dzp', txt='gpaw.txt')\n",
    "atoms.calc = calc\n",
    "\n",
    "# (optional)\n",
    "# optimization restrictions (fix O atom)\n",
    "# constraint = FixAtoms(mask=[a.symbol != 'O' for a in atoms])\n",
    "\n",
    "# define the optimizer and maximum force until convergence \n",
    "opt = BFGS(atoms, trajectory='opt.traj', logfile='opt.log')\n",
    "opt.run(fmax=0.05)\n",
    "\n",
    "# trajectory visualization\n",
    "traj = Trajectory('opt.traj')\n",
    "view(traj, viewer='ngl')"
   ]
  },
  {
   "cell_type": "markdown",
   "metadata": {},
   "source": [
    "Once the optimization has ended, we can analyze the energy of each configuration and structrual parameters (O-H distance and HOH angle). "
   ]
  },
  {
   "cell_type": "code",
   "execution_count": 8,
   "metadata": {},
   "outputs": [],
   "source": [
    "# TODO. Compute the distances\n",
    "# TODO. Compute the angles"
   ]
  },
  {
   "cell_type": "markdown",
   "metadata": {},
   "source": [
    "The same optimization can be performed using other calculators.  "
   ]
  },
  {
   "cell_type": "code",
   "execution_count": null,
   "metadata": {},
   "outputs": [],
   "source": [
    "# FHI-aims calculator\n",
    "import os\n",
    "from ase.calculators.aims import Aims\n",
    "\n",
    "os.environ['ASE_AIMS_COMMAND'] = 'aims.x'\n",
    "os.environ['AIMS_SPECIES_DIR'] = '/home/myname/FHIaims/species_defaults/light'\n",
    "\n",
    "calc = Aims(xc='LDA', compute_forces=True)"
   ]
  },
  {
   "cell_type": "code",
   "execution_count": null,
   "metadata": {},
   "outputs": [],
   "source": [
    "# FHI-aims/socket-io calculator\n",
    "import os\n",
    "from ase.calculators.aims import Aims\n",
    "from ase.calculators.socketio import SocketIOCalculator\n",
    "\n",
    "os.environ['ASE_AIMS_COMMAND'] = 'aims.x'\n",
    "os.environ['AIMS_SPECIES_DIR'] = '/home/myname/FHIaims/species_defaults/light'\n",
    "\n",
    "aims_calc = Aims(xc='LDA',\n",
    "            compute_forces=True,\n",
    "            use_pimd_wrapper=('UNIX:mysocket', 31415))\n",
    "\n",
    "# ... define the atoms and optimization\n",
    "\n",
    "with SocketIOCalculator(aims_calc, unixsocket='mysocket') as calc:\n",
    "    atoms.calc = calc\n",
    "    opt.run(fmax=0.05)"
   ]
  },
  {
   "cell_type": "markdown",
   "metadata": {},
   "source": [
    "### __H2O NMO Analysis__\n",
    "Once the optimization has concluded, we are in the position of computing the Hessian and performing an NMO analysis. This tutorial uses GPAW DFT. "
   ]
  },
  {
   "cell_type": "code",
   "execution_count": 9,
   "metadata": {},
   "outputs": [
    {
     "ename": "FileNotFoundError",
     "evalue": "Could not find required basis set file \"H.dzp.basis\".\n\nYou need to set the GPAW_SETUP_PATH environment variable to point to\nthe directories where PAW dataset and basis files are stored.  See\nhttps://gpaw.readthedocs.io/install.html#install-paw-datasets\nfor details.\n",
     "output_type": "error",
     "traceback": [
      "\u001b[0;31m---------------------------------------------------------------------------\u001b[0m",
      "\u001b[0;31mFileNotFoundError\u001b[0m                         Traceback (most recent call last)",
      "Cell \u001b[0;32mIn[9], line 21\u001b[0m\n\u001b[1;32m     19\u001b[0m \u001b[38;5;66;03m# optimizer\u001b[39;00m\n\u001b[1;32m     20\u001b[0m opt \u001b[38;5;241m=\u001b[39m QuasiNewton(H2O, trajectory\u001b[38;5;241m=\u001b[39m\u001b[38;5;124m'\u001b[39m\u001b[38;5;124mopt.traj\u001b[39m\u001b[38;5;124m'\u001b[39m, logfile\u001b[38;5;241m=\u001b[39m\u001b[38;5;124m'\u001b[39m\u001b[38;5;124mopt.log\u001b[39m\u001b[38;5;124m'\u001b[39m)\n\u001b[0;32m---> 21\u001b[0m \u001b[43mopt\u001b[49m\u001b[38;5;241;43m.\u001b[39;49m\u001b[43mrun\u001b[49m\u001b[43m(\u001b[49m\u001b[43mfmax\u001b[49m\u001b[38;5;241;43m=\u001b[39;49m\u001b[38;5;241;43m0.05\u001b[39;49m\u001b[43m)\u001b[49m\n\u001b[1;32m     23\u001b[0m \u001b[38;5;66;03m# create vibration calculator\u001b[39;00m\n\u001b[1;32m     24\u001b[0m vib \u001b[38;5;241m=\u001b[39m Vibrations(H2O, indices\u001b[38;5;241m=\u001b[39m\u001b[38;5;28;01mNone\u001b[39;00m, delta\u001b[38;5;241m=\u001b[39m\u001b[38;5;241m0.01\u001b[39m, name\u001b[38;5;241m=\u001b[39m\u001b[38;5;124m\"\u001b[39m\u001b[38;5;124mvib-h2o\u001b[39m\u001b[38;5;124m\"\u001b[39m, nfree\u001b[38;5;241m=\u001b[39m\u001b[38;5;241m2\u001b[39m)\n",
      "File \u001b[0;32m~/miniconda3/envs/ASE_extra/lib/python3.10/site-packages/ase/optimize/optimize.py:414\u001b[0m, in \u001b[0;36mOptimizer.run\u001b[0;34m(self, fmax, steps)\u001b[0m\n\u001b[1;32m    399\u001b[0m \u001b[38;5;250m\u001b[39m\u001b[38;5;124;03m\"\"\"Run optimizer.\u001b[39;00m\n\u001b[1;32m    400\u001b[0m \n\u001b[1;32m    401\u001b[0m \u001b[38;5;124;03mParameters\u001b[39;00m\n\u001b[0;32m   (...)\u001b[0m\n\u001b[1;32m    411\u001b[0m \u001b[38;5;124;03m    True if the forces on atoms are converged.\u001b[39;00m\n\u001b[1;32m    412\u001b[0m \u001b[38;5;124;03m\"\"\"\u001b[39;00m\n\u001b[1;32m    413\u001b[0m \u001b[38;5;28mself\u001b[39m\u001b[38;5;241m.\u001b[39mfmax \u001b[38;5;241m=\u001b[39m fmax\n\u001b[0;32m--> 414\u001b[0m \u001b[38;5;28;01mreturn\u001b[39;00m \u001b[43mDynamics\u001b[49m\u001b[38;5;241;43m.\u001b[39;49m\u001b[43mrun\u001b[49m\u001b[43m(\u001b[49m\u001b[38;5;28;43mself\u001b[39;49m\u001b[43m,\u001b[49m\u001b[43m \u001b[49m\u001b[43msteps\u001b[49m\u001b[38;5;241;43m=\u001b[39;49m\u001b[43msteps\u001b[49m\u001b[43m)\u001b[49m\n",
      "File \u001b[0;32m~/miniconda3/envs/ASE_extra/lib/python3.10/site-packages/ase/optimize/optimize.py:283\u001b[0m, in \u001b[0;36mDynamics.run\u001b[0;34m(self, steps)\u001b[0m\n\u001b[1;32m    265\u001b[0m \u001b[38;5;28;01mdef\u001b[39;00m\u001b[38;5;250m \u001b[39m\u001b[38;5;21mrun\u001b[39m(\u001b[38;5;28mself\u001b[39m, steps\u001b[38;5;241m=\u001b[39mDEFAULT_MAX_STEPS):\n\u001b[1;32m    266\u001b[0m \u001b[38;5;250m    \u001b[39m\u001b[38;5;124;03m\"\"\"Run dynamics algorithm.\u001b[39;00m\n\u001b[1;32m    267\u001b[0m \n\u001b[1;32m    268\u001b[0m \u001b[38;5;124;03m    This method will return when the forces on all individual\u001b[39;00m\n\u001b[0;32m   (...)\u001b[0m\n\u001b[1;32m    280\u001b[0m \u001b[38;5;124;03m        True if the forces on atoms are converged.\u001b[39;00m\n\u001b[1;32m    281\u001b[0m \u001b[38;5;124;03m    \"\"\"\u001b[39;00m\n\u001b[0;32m--> 283\u001b[0m     \u001b[38;5;28;01mfor\u001b[39;00m converged \u001b[38;5;129;01min\u001b[39;00m Dynamics\u001b[38;5;241m.\u001b[39mirun(\u001b[38;5;28mself\u001b[39m, steps\u001b[38;5;241m=\u001b[39msteps):\n\u001b[1;32m    284\u001b[0m         \u001b[38;5;28;01mpass\u001b[39;00m\n\u001b[1;32m    285\u001b[0m     \u001b[38;5;28;01mreturn\u001b[39;00m converged\n",
      "File \u001b[0;32m~/miniconda3/envs/ASE_extra/lib/python3.10/site-packages/ase/optimize/optimize.py:233\u001b[0m, in \u001b[0;36mDynamics.irun\u001b[0;34m(self, steps)\u001b[0m\n\u001b[1;32m    230\u001b[0m \u001b[38;5;28mself\u001b[39m\u001b[38;5;241m.\u001b[39mmax_steps \u001b[38;5;241m=\u001b[39m \u001b[38;5;28mself\u001b[39m\u001b[38;5;241m.\u001b[39mnsteps \u001b[38;5;241m+\u001b[39m steps\n\u001b[1;32m    232\u001b[0m \u001b[38;5;66;03m# compute the initial step\u001b[39;00m\n\u001b[0;32m--> 233\u001b[0m \u001b[38;5;28;43mself\u001b[39;49m\u001b[38;5;241;43m.\u001b[39;49m\u001b[43moptimizable\u001b[49m\u001b[38;5;241;43m.\u001b[39;49m\u001b[43mget_forces\u001b[49m\u001b[43m(\u001b[49m\u001b[43m)\u001b[49m\n\u001b[1;32m    235\u001b[0m \u001b[38;5;66;03m# log the initial step\u001b[39;00m\n\u001b[1;32m    236\u001b[0m \u001b[38;5;28;01mif\u001b[39;00m \u001b[38;5;28mself\u001b[39m\u001b[38;5;241m.\u001b[39mnsteps \u001b[38;5;241m==\u001b[39m \u001b[38;5;241m0\u001b[39m:\n",
      "File \u001b[0;32m~/miniconda3/envs/ASE_extra/lib/python3.10/site-packages/ase/optimize/optimize.py:34\u001b[0m, in \u001b[0;36mOptimizableAtoms.get_forces\u001b[0;34m(self)\u001b[0m\n\u001b[1;32m     33\u001b[0m \u001b[38;5;28;01mdef\u001b[39;00m\u001b[38;5;250m \u001b[39m\u001b[38;5;21mget_forces\u001b[39m(\u001b[38;5;28mself\u001b[39m):\n\u001b[0;32m---> 34\u001b[0m     \u001b[38;5;28;01mreturn\u001b[39;00m \u001b[38;5;28;43mself\u001b[39;49m\u001b[38;5;241;43m.\u001b[39;49m\u001b[43matoms\u001b[49m\u001b[38;5;241;43m.\u001b[39;49m\u001b[43mget_forces\u001b[49m\u001b[43m(\u001b[49m\u001b[43m)\u001b[49m\n",
      "File \u001b[0;32m~/miniconda3/envs/ASE_extra/lib/python3.10/site-packages/ase/atoms.py:827\u001b[0m, in \u001b[0;36mAtoms.get_forces\u001b[0;34m(self, apply_constraint, md)\u001b[0m\n\u001b[1;32m    825\u001b[0m \u001b[38;5;28;01mif\u001b[39;00m \u001b[38;5;28mself\u001b[39m\u001b[38;5;241m.\u001b[39m_calc \u001b[38;5;129;01mis\u001b[39;00m \u001b[38;5;28;01mNone\u001b[39;00m:\n\u001b[1;32m    826\u001b[0m     \u001b[38;5;28;01mraise\u001b[39;00m \u001b[38;5;167;01mRuntimeError\u001b[39;00m(\u001b[38;5;124m'\u001b[39m\u001b[38;5;124mAtoms object has no calculator.\u001b[39m\u001b[38;5;124m'\u001b[39m)\n\u001b[0;32m--> 827\u001b[0m forces \u001b[38;5;241m=\u001b[39m \u001b[38;5;28;43mself\u001b[39;49m\u001b[38;5;241;43m.\u001b[39;49m\u001b[43m_calc\u001b[49m\u001b[38;5;241;43m.\u001b[39;49m\u001b[43mget_forces\u001b[49m\u001b[43m(\u001b[49m\u001b[38;5;28;43mself\u001b[39;49m\u001b[43m)\u001b[49m\n\u001b[1;32m    829\u001b[0m \u001b[38;5;28;01mif\u001b[39;00m apply_constraint:\n\u001b[1;32m    830\u001b[0m     \u001b[38;5;66;03m# We need a special md flag here because for MD we want\u001b[39;00m\n\u001b[1;32m    831\u001b[0m     \u001b[38;5;66;03m# to skip real constraints but include special \"constraints\"\u001b[39;00m\n\u001b[1;32m    832\u001b[0m     \u001b[38;5;66;03m# Like Hookean.\u001b[39;00m\n\u001b[1;32m    833\u001b[0m     \u001b[38;5;28;01mfor\u001b[39;00m constraint \u001b[38;5;129;01min\u001b[39;00m \u001b[38;5;28mself\u001b[39m\u001b[38;5;241m.\u001b[39mconstraints:\n",
      "File \u001b[0;32m~/miniconda3/envs/ASE_extra/lib/python3.10/site-packages/ase/calculators/abc.py:30\u001b[0m, in \u001b[0;36mGetPropertiesMixin.get_forces\u001b[0;34m(self, atoms)\u001b[0m\n\u001b[1;32m     29\u001b[0m \u001b[38;5;28;01mdef\u001b[39;00m\u001b[38;5;250m \u001b[39m\u001b[38;5;21mget_forces\u001b[39m(\u001b[38;5;28mself\u001b[39m, atoms\u001b[38;5;241m=\u001b[39m\u001b[38;5;28;01mNone\u001b[39;00m):\n\u001b[0;32m---> 30\u001b[0m     \u001b[38;5;28;01mreturn\u001b[39;00m \u001b[38;5;28;43mself\u001b[39;49m\u001b[38;5;241;43m.\u001b[39;49m\u001b[43mget_property\u001b[49m\u001b[43m(\u001b[49m\u001b[38;5;124;43m'\u001b[39;49m\u001b[38;5;124;43mforces\u001b[39;49m\u001b[38;5;124;43m'\u001b[39;49m\u001b[43m,\u001b[49m\u001b[43m \u001b[49m\u001b[43matoms\u001b[49m\u001b[43m)\u001b[49m\n",
      "File \u001b[0;32m~/miniconda3/envs/ASE_extra/lib/python3.10/site-packages/ase/calculators/calculator.py:538\u001b[0m, in \u001b[0;36mBaseCalculator.get_property\u001b[0;34m(self, name, atoms, allow_calculation)\u001b[0m\n\u001b[1;32m    535\u001b[0m     \u001b[38;5;28;01mif\u001b[39;00m \u001b[38;5;28mself\u001b[39m\u001b[38;5;241m.\u001b[39muse_cache:\n\u001b[1;32m    536\u001b[0m         \u001b[38;5;28mself\u001b[39m\u001b[38;5;241m.\u001b[39matoms \u001b[38;5;241m=\u001b[39m atoms\u001b[38;5;241m.\u001b[39mcopy()\n\u001b[0;32m--> 538\u001b[0m     \u001b[38;5;28;43mself\u001b[39;49m\u001b[38;5;241;43m.\u001b[39;49m\u001b[43mcalculate\u001b[49m\u001b[43m(\u001b[49m\u001b[43matoms\u001b[49m\u001b[43m,\u001b[49m\u001b[43m \u001b[49m\u001b[43m[\u001b[49m\u001b[43mname\u001b[49m\u001b[43m]\u001b[49m\u001b[43m,\u001b[49m\u001b[43m \u001b[49m\u001b[43msystem_changes\u001b[49m\u001b[43m)\u001b[49m\n\u001b[1;32m    540\u001b[0m \u001b[38;5;28;01mif\u001b[39;00m name \u001b[38;5;129;01mnot\u001b[39;00m \u001b[38;5;129;01min\u001b[39;00m \u001b[38;5;28mself\u001b[39m\u001b[38;5;241m.\u001b[39mresults:\n\u001b[1;32m    541\u001b[0m     \u001b[38;5;66;03m# For some reason the calculator was not able to do what we want,\u001b[39;00m\n\u001b[1;32m    542\u001b[0m     \u001b[38;5;66;03m# and that is OK.\u001b[39;00m\n\u001b[1;32m    543\u001b[0m     \u001b[38;5;28;01mraise\u001b[39;00m PropertyNotImplementedError(\n\u001b[1;32m    544\u001b[0m         \u001b[38;5;124m'\u001b[39m\u001b[38;5;132;01m{}\u001b[39;00m\u001b[38;5;124m not present in this \u001b[39m\u001b[38;5;124m'\u001b[39m \u001b[38;5;124m'\u001b[39m\u001b[38;5;124mcalculation\u001b[39m\u001b[38;5;124m'\u001b[39m\u001b[38;5;241m.\u001b[39mformat(name)\n\u001b[1;32m    545\u001b[0m     )\n",
      "File \u001b[0;32m~/miniconda3/envs/ASE_extra/lib/python3.10/site-packages/gpaw/calculator.py:418\u001b[0m, in \u001b[0;36mGPAW.calculate\u001b[0;34m(self, atoms, properties, system_changes)\u001b[0m\n\u001b[1;32m    416\u001b[0m \u001b[38;5;28;01mdef\u001b[39;00m\u001b[38;5;250m \u001b[39m\u001b[38;5;21mcalculate\u001b[39m(\u001b[38;5;28mself\u001b[39m, atoms\u001b[38;5;241m=\u001b[39m\u001b[38;5;28;01mNone\u001b[39;00m, properties\u001b[38;5;241m=\u001b[39m[\u001b[38;5;124m'\u001b[39m\u001b[38;5;124menergy\u001b[39m\u001b[38;5;124m'\u001b[39m],\n\u001b[1;32m    417\u001b[0m               system_changes\u001b[38;5;241m=\u001b[39m[\u001b[38;5;124m'\u001b[39m\u001b[38;5;124mcell\u001b[39m\u001b[38;5;124m'\u001b[39m]):\n\u001b[0;32m--> 418\u001b[0m     \u001b[38;5;28;01mfor\u001b[39;00m _ \u001b[38;5;129;01min\u001b[39;00m \u001b[38;5;28mself\u001b[39m\u001b[38;5;241m.\u001b[39micalculate(atoms, properties, system_changes):\n\u001b[1;32m    419\u001b[0m         \u001b[38;5;28;01mpass\u001b[39;00m\n",
      "File \u001b[0;32m~/miniconda3/envs/ASE_extra/lib/python3.10/site-packages/gpaw/calculator.py:439\u001b[0m, in \u001b[0;36mGPAW.icalculate\u001b[0;34m(self, atoms, properties, system_changes)\u001b[0m\n\u001b[1;32m    437\u001b[0m         \u001b[38;5;28mself\u001b[39m\u001b[38;5;241m.\u001b[39mhamiltonian \u001b[38;5;241m=\u001b[39m \u001b[38;5;28;01mNone\u001b[39;00m\n\u001b[1;32m    438\u001b[0m         \u001b[38;5;28mself\u001b[39m\u001b[38;5;241m.\u001b[39mscf \u001b[38;5;241m=\u001b[39m \u001b[38;5;28;01mNone\u001b[39;00m\n\u001b[0;32m--> 439\u001b[0m         \u001b[38;5;28;43mself\u001b[39;49m\u001b[38;5;241;43m.\u001b[39;49m\u001b[43minitialize\u001b[49m\u001b[43m(\u001b[49m\u001b[43matoms\u001b[49m\u001b[43m)\u001b[49m\n\u001b[1;32m    441\u001b[0m     \u001b[38;5;28mself\u001b[39m\u001b[38;5;241m.\u001b[39mset_positions(atoms)\n\u001b[1;32m    443\u001b[0m \u001b[38;5;28;01mif\u001b[39;00m \u001b[38;5;129;01mnot\u001b[39;00m \u001b[38;5;28mself\u001b[39m\u001b[38;5;241m.\u001b[39minitialized:\n",
      "File \u001b[0;32m~/miniconda3/envs/ASE_extra/lib/python3.10/site-packages/gpaw/calculator.py:770\u001b[0m, in \u001b[0;36mGPAW.initialize\u001b[0;34m(self, atoms, reading)\u001b[0m\n\u001b[1;32m    765\u001b[0m     \u001b[38;5;28;01mraise\u001b[39;00m \u001b[38;5;167;01mValueError\u001b[39;00m(\u001b[38;5;124m'\u001b[39m\u001b[38;5;124mLCAO mode does not support \u001b[39m\u001b[38;5;124m'\u001b[39m\n\u001b[1;32m    766\u001b[0m                      \u001b[38;5;124m'\u001b[39m\u001b[38;5;124morbital-dependent XC functionals.\u001b[39m\u001b[38;5;124m'\u001b[39m)\n\u001b[1;32m    768\u001b[0m realspace \u001b[38;5;241m=\u001b[39m mode\u001b[38;5;241m.\u001b[39minterpolation \u001b[38;5;241m!=\u001b[39m \u001b[38;5;124m'\u001b[39m\u001b[38;5;124mfft\u001b[39m\u001b[38;5;124m'\u001b[39m\n\u001b[0;32m--> 770\u001b[0m \u001b[38;5;28;43mself\u001b[39;49m\u001b[38;5;241;43m.\u001b[39;49m\u001b[43mcreate_setups\u001b[49m\u001b[43m(\u001b[49m\u001b[43mmode\u001b[49m\u001b[43m,\u001b[49m\u001b[43m \u001b[49m\u001b[43mxc\u001b[49m\u001b[43m)\u001b[49m\n\u001b[1;32m    772\u001b[0m \u001b[38;5;28;01mif\u001b[39;00m \u001b[38;5;129;01mnot\u001b[39;00m realspace:\n\u001b[1;32m    773\u001b[0m     pbc_c \u001b[38;5;241m=\u001b[39m np\u001b[38;5;241m.\u001b[39mones(\u001b[38;5;241m3\u001b[39m, \u001b[38;5;28mbool\u001b[39m)\n",
      "File \u001b[0;32m~/miniconda3/envs/ASE_extra/lib/python3.10/site-packages/gpaw/calculator.py:1046\u001b[0m, in \u001b[0;36mGPAW.create_setups\u001b[0;34m(self, mode, xc)\u001b[0m\n\u001b[1;32m   1043\u001b[0m     \u001b[38;5;28mfilter\u001b[39m \u001b[38;5;241m=\u001b[39m \u001b[38;5;28mself\u001b[39m\u001b[38;5;241m.\u001b[39mparameters\u001b[38;5;241m.\u001b[39mfilter\n\u001b[1;32m   1045\u001b[0m Z_a \u001b[38;5;241m=\u001b[39m \u001b[38;5;28mself\u001b[39m\u001b[38;5;241m.\u001b[39matoms\u001b[38;5;241m.\u001b[39mget_atomic_numbers()\n\u001b[0;32m-> 1046\u001b[0m \u001b[38;5;28mself\u001b[39m\u001b[38;5;241m.\u001b[39msetups \u001b[38;5;241m=\u001b[39m \u001b[43mSetups\u001b[49m\u001b[43m(\u001b[49m\u001b[43mZ_a\u001b[49m\u001b[43m,\u001b[49m\n\u001b[1;32m   1047\u001b[0m \u001b[43m                     \u001b[49m\u001b[38;5;28;43mself\u001b[39;49m\u001b[38;5;241;43m.\u001b[39;49m\u001b[43mparameters\u001b[49m\u001b[38;5;241;43m.\u001b[39;49m\u001b[43msetups\u001b[49m\u001b[43m,\u001b[49m\u001b[43m \u001b[49m\u001b[38;5;28;43mself\u001b[39;49m\u001b[38;5;241;43m.\u001b[39;49m\u001b[43mparameters\u001b[49m\u001b[38;5;241;43m.\u001b[39;49m\u001b[43mbasis\u001b[49m\u001b[43m,\u001b[49m\n\u001b[1;32m   1048\u001b[0m \u001b[43m                     \u001b[49m\u001b[43mxc\u001b[49m\u001b[43m,\u001b[49m\u001b[43m \u001b[49m\u001b[38;5;28;43mfilter\u001b[39;49m\u001b[38;5;241;43m=\u001b[39;49m\u001b[38;5;28;43mfilter\u001b[39;49m\u001b[43m,\u001b[49m\u001b[43m \u001b[49m\u001b[43mworld\u001b[49m\u001b[38;5;241;43m=\u001b[39;49m\u001b[38;5;28;43mself\u001b[39;49m\u001b[38;5;241;43m.\u001b[39;49m\u001b[43mworld\u001b[49m\u001b[43m)\u001b[49m\n\u001b[1;32m   1049\u001b[0m \u001b[38;5;28mself\u001b[39m\u001b[38;5;241m.\u001b[39mlog(\u001b[38;5;28mself\u001b[39m\u001b[38;5;241m.\u001b[39msetups)\n",
      "File \u001b[0;32m~/miniconda3/envs/ASE_extra/lib/python3.10/site-packages/gpaw/setup.py:1342\u001b[0m, in \u001b[0;36mSetups.__init__\u001b[0;34m(self, Z_a, setup_types, basis_sets, xc, filter, world, backwards_compatible)\u001b[0m\n\u001b[1;32m   1338\u001b[0m \u001b[38;5;66;03m# Basis may be None (meaning that the setup decides), a string\u001b[39;00m\n\u001b[1;32m   1339\u001b[0m \u001b[38;5;66;03m# (meaning we load the basis set now from a file) or an actual\u001b[39;00m\n\u001b[1;32m   1340\u001b[0m \u001b[38;5;66;03m# pre-created Basis object (meaning we just pass it along)\u001b[39;00m\n\u001b[1;32m   1341\u001b[0m \u001b[38;5;28;01mif\u001b[39;00m \u001b[38;5;28misinstance\u001b[39m(basis, \u001b[38;5;28mstr\u001b[39m):\n\u001b[0;32m-> 1342\u001b[0m     basis \u001b[38;5;241m=\u001b[39m \u001b[43mBasis\u001b[49m\u001b[43m(\u001b[49m\u001b[43msymbol\u001b[49m\u001b[43m,\u001b[49m\u001b[43m \u001b[49m\u001b[43mbasis\u001b[49m\u001b[43m,\u001b[49m\u001b[43m \u001b[49m\u001b[43mworld\u001b[49m\u001b[38;5;241;43m=\u001b[39;49m\u001b[43mworld\u001b[49m\u001b[43m)\u001b[49m\n\u001b[1;32m   1343\u001b[0m setup \u001b[38;5;241m=\u001b[39m create_setup(symbol, xc, \u001b[38;5;241m2\u001b[39m, \u001b[38;5;28mtype\u001b[39m,\n\u001b[1;32m   1344\u001b[0m                      basis, setupdata\u001b[38;5;241m=\u001b[39msetupdata,\n\u001b[1;32m   1345\u001b[0m                      \u001b[38;5;28mfilter\u001b[39m\u001b[38;5;241m=\u001b[39m\u001b[38;5;28mfilter\u001b[39m, world\u001b[38;5;241m=\u001b[39mworld,\n\u001b[1;32m   1346\u001b[0m                      backwards_compatible\u001b[38;5;241m=\u001b[39mbackwards_compatible)\n\u001b[1;32m   1347\u001b[0m \u001b[38;5;28mself\u001b[39m\u001b[38;5;241m.\u001b[39msetups[\u001b[38;5;28mid\u001b[39m] \u001b[38;5;241m=\u001b[39m setup\n",
      "File \u001b[0;32m~/miniconda3/envs/ASE_extra/lib/python3.10/site-packages/gpaw/basis_data.py:58\u001b[0m, in \u001b[0;36mBasis.__init__\u001b[0;34m(self, symbol, name, readxml, rgd, world)\u001b[0m\n\u001b[1;32m     55\u001b[0m \u001b[38;5;28mself\u001b[39m\u001b[38;5;241m.\u001b[39mfilename \u001b[38;5;241m=\u001b[39m \u001b[38;5;28;01mNone\u001b[39;00m\n\u001b[1;32m     57\u001b[0m \u001b[38;5;28;01mif\u001b[39;00m readxml:\n\u001b[0;32m---> 58\u001b[0m     \u001b[38;5;28;43mself\u001b[39;49m\u001b[38;5;241;43m.\u001b[39;49m\u001b[43mread_xml\u001b[49m\u001b[43m(\u001b[49m\u001b[43mworld\u001b[49m\u001b[38;5;241;43m=\u001b[39;49m\u001b[43mworld\u001b[49m\u001b[43m)\u001b[49m\n",
      "File \u001b[0;32m~/miniconda3/envs/ASE_extra/lib/python3.10/site-packages/gpaw/basis_data.py:89\u001b[0m, in \u001b[0;36mBasis.read_xml\u001b[0;34m(self, filename, world)\u001b[0m\n\u001b[1;32m     87\u001b[0m \u001b[38;5;28;01mdef\u001b[39;00m\u001b[38;5;250m \u001b[39m\u001b[38;5;21mread_xml\u001b[39m(\u001b[38;5;28mself\u001b[39m, filename\u001b[38;5;241m=\u001b[39m\u001b[38;5;28;01mNone\u001b[39;00m, world\u001b[38;5;241m=\u001b[39m\u001b[38;5;28;01mNone\u001b[39;00m):\n\u001b[1;32m     88\u001b[0m     parser \u001b[38;5;241m=\u001b[39m BasisSetXMLParser(\u001b[38;5;28mself\u001b[39m)\n\u001b[0;32m---> 89\u001b[0m     \u001b[43mparser\u001b[49m\u001b[38;5;241;43m.\u001b[39;49m\u001b[43mparse\u001b[49m\u001b[43m(\u001b[49m\u001b[43mfilename\u001b[49m\u001b[43m,\u001b[49m\u001b[43m \u001b[49m\u001b[43mworld\u001b[49m\u001b[38;5;241;43m=\u001b[39;49m\u001b[43mworld\u001b[49m\u001b[43m)\u001b[49m\n",
      "File \u001b[0;32m~/miniconda3/envs/ASE_extra/lib/python3.10/site-packages/gpaw/basis_data.py:233\u001b[0m, in \u001b[0;36mBasisSetXMLParser.parse\u001b[0;34m(self, filename, world)\u001b[0m\n\u001b[1;32m    231\u001b[0m fullname \u001b[38;5;241m=\u001b[39m \u001b[38;5;124mf\u001b[39m\u001b[38;5;124m'\u001b[39m\u001b[38;5;132;01m{\u001b[39;00mbasis\u001b[38;5;241m.\u001b[39msymbol\u001b[38;5;132;01m}\u001b[39;00m\u001b[38;5;124m.\u001b[39m\u001b[38;5;132;01m{\u001b[39;00mname\u001b[38;5;132;01m}\u001b[39;00m\u001b[38;5;124m.basis\u001b[39m\u001b[38;5;124m'\u001b[39m\n\u001b[1;32m    232\u001b[0m \u001b[38;5;28;01mif\u001b[39;00m filename \u001b[38;5;129;01mis\u001b[39;00m \u001b[38;5;28;01mNone\u001b[39;00m:\n\u001b[0;32m--> 233\u001b[0m     basis\u001b[38;5;241m.\u001b[39mfilename, source \u001b[38;5;241m=\u001b[39m \u001b[43msearch_for_file\u001b[49m\u001b[43m(\u001b[49m\u001b[43mfullname\u001b[49m\u001b[43m,\u001b[49m\u001b[43m \u001b[49m\u001b[43mworld\u001b[49m\u001b[38;5;241;43m=\u001b[39;49m\u001b[43mworld\u001b[49m\u001b[43m)\u001b[49m\n\u001b[1;32m    234\u001b[0m \u001b[38;5;28;01melse\u001b[39;00m:\n\u001b[1;32m    235\u001b[0m     basis\u001b[38;5;241m.\u001b[39mfilename \u001b[38;5;241m=\u001b[39m filename\n",
      "File \u001b[0;32m~/miniconda3/envs/ASE_extra/lib/python3.10/site-packages/gpaw/setup_data.py:441\u001b[0m, in \u001b[0;36msearch_for_file\u001b[0;34m(name, world)\u001b[0m\n\u001b[1;32m    435\u001b[0m         err \u001b[38;5;241m=\u001b[39m \u001b[38;5;124mf\u001b[39m\u001b[38;5;124m'\u001b[39m\u001b[38;5;124mCould not find required \u001b[39m\u001b[38;5;132;01m{\u001b[39;00m_type\u001b[38;5;132;01m}\u001b[39;00m\u001b[38;5;124m file \u001b[39m\u001b[38;5;124m\"\u001b[39m\u001b[38;5;132;01m{\u001b[39;00mname\u001b[38;5;132;01m}\u001b[39;00m\u001b[38;5;124m\"\u001b[39m\u001b[38;5;124m.\u001b[39m\u001b[38;5;124m'\u001b[39m\n\u001b[1;32m    436\u001b[0m         helpful_message \u001b[38;5;241m=\u001b[39m \u001b[38;5;124m\"\"\"\u001b[39m\n\u001b[1;32m    437\u001b[0m \u001b[38;5;124mYou need to set the GPAW_SETUP_PATH environment variable to point to\u001b[39m\n\u001b[1;32m    438\u001b[0m \u001b[38;5;124mthe directories where PAW dataset and basis files are stored.  See\u001b[39m\n\u001b[1;32m    439\u001b[0m \u001b[38;5;124mhttps://gpaw.readthedocs.io/install.html#install-paw-datasets\u001b[39m\n\u001b[1;32m    440\u001b[0m \u001b[38;5;124mfor details.\u001b[39m\u001b[38;5;124m\"\"\"\u001b[39m\n\u001b[0;32m--> 441\u001b[0m         \u001b[38;5;28;01mraise\u001b[39;00m \u001b[38;5;167;01mFileNotFoundError\u001b[39;00m(\u001b[38;5;124mf\u001b[39m\u001b[38;5;124m'\u001b[39m\u001b[38;5;132;01m{\u001b[39;00merr\u001b[38;5;132;01m}\u001b[39;00m\u001b[38;5;130;01m\\n\u001b[39;00m\u001b[38;5;132;01m{\u001b[39;00mhelpful_message\u001b[38;5;132;01m}\u001b[39;00m\u001b[38;5;130;01m\\n\u001b[39;00m\u001b[38;5;124m'\u001b[39m)\n\u001b[1;32m    443\u001b[0m     \u001b[38;5;28;01mreturn\u001b[39;00m filename, source\n",
      "\u001b[0;31mFileNotFoundError\u001b[0m: Could not find required basis set file \"H.dzp.basis\".\n\nYou need to set the GPAW_SETUP_PATH environment variable to point to\nthe directories where PAW dataset and basis files are stored.  See\nhttps://gpaw.readthedocs.io/install.html#install-paw-datasets\nfor details.\n"
     ]
    }
   ],
   "source": [
    "from math import cos, pi, sin\n",
    "\n",
    "from ase import Atoms\n",
    "from ase.build import molecule\n",
    "from ase.optimize import QuasiNewton\n",
    "from ase.vibrations import Vibrations\n",
    "from gpaw import GPAW\n",
    "\n",
    "# define a water molecule\n",
    "# H2O = molecule(\"H2O\")\n",
    "d = 0.9575\n",
    "t = pi / 180 * 104.51\n",
    "H2O = Atoms('H2O', positions=[(0, 0, 0), (d, 0, 0), (d*cos(t), d*sin(t), 0)])\n",
    "H2O.center(vacuum=3.5)\n",
    "\n",
    "# define the calculator \n",
    "H2O.calc = GPAW(txt='h2o.txt', mode='lcao', basis='dzp', symmetry='off')\n",
    "\n",
    "# optimizer\n",
    "opt = QuasiNewton(H2O, trajectory='opt.traj', logfile='opt.log')\n",
    "opt.run(fmax=0.05)\n",
    "\n",
    "# create vibration calculator\n",
    "vib = Vibrations(H2O, indices=None, delta=0.01, name=\"vib-h2o\", nfree=2)\n",
    "vib.clean()\n",
    "\n",
    "# compute and diagonalize the Hessian\n",
    "vib.run()\n",
    "\n",
    "# output the square root of the eigenvalues $\\omega^2$. \n",
    "vib.summary(method='frederiksen')\n",
    "\n",
    "# Make trajectory files to visualize normal modes: 9 total, 3 vibrations\n",
    "for mode in range(9):\n",
    "    vib.write_mode(mode)\n",
    "    traj = Trajectory(f\"vib-h2o.{mode}.traj\")\n",
    "\n",
    "view(traj, viewer='x3d')"
   ]
  },
  {
   "cell_type": "markdown",
   "metadata": {},
   "source": [
    "The summary displays $3N$ normal modes, with $6$ of these corresponding to imaginary frequencies (rotation and translation), and the other $3N-6$ the vibrational normal modes, with the frequency (and corresponding energy spacing $h\\nu_\\mu$). The same procedure can be done for CO2. "
   ]
  },
  {
   "cell_type": "code",
   "execution_count": null,
   "metadata": {},
   "outputs": [],
   "source": [
    "# define a CO2 molecule\n",
    "atoms = molecule('CO2')\n",
    "\n",
    "# define the calculator \n",
    "atoms.calc = GPAW(txt='CO2.txt', mode='lcao', basis='dzp', symmetry='off')\n",
    "\n",
    "# optimizer\n",
    "opt = QuasiNewton(atoms, trajectory='opt_CO2.traj', logfile='opt_CO2.log')\n",
    "opt.run(fmax=0.05)\n",
    "\n",
    "# create vibration calculator\n",
    "vib = Vibrations(atoms, indices=None, delta=0.01, name=\"vib-CO2\", nfree=2)\n",
    "vib.clean()\n",
    "\n",
    "# compute and diagonalize the Hessian\n",
    "vib.run()\n",
    "\n",
    "# output the square root of the eigenvalues $\\omega^2$. \n",
    "vib.summary(method='frederiksen')\n",
    "vib.write_mode(mode)\n",
    "\n",
    "# visualize the vibration\n",
    "mode = 5\n",
    "traj = Trajectory(f\"vib-CO2.{mode}.traj\")\n",
    "view(traj, viewer='x3d')"
   ]
  },
  {
   "cell_type": "markdown",
   "metadata": {},
   "source": [
    "### __Atoms and manipulation__\n",
    "Before performing an MD, or point-wise electronic structure calculation, it is important to correctly define the atomic structure to simulate. \n",
    "- `Atoms` is a class containing the view (atomic positions, structure of a system). It contains the element type, coordinates, velocities, PBC bool and cell info. Methods include get_masses, len_atoms, get_momenta, etc. if applicable. \n",
    "- **Units.** ASE uses eV for energy, Å for length and e for charge. \n",
    "- **Molecular databases.** A number of molecules are predefined in ASE. E.g. `ase.collections g2` contains 'usual' molecules\n",
    "\n",
    "**Tips.** Info about an ASE class can be retreived via `Atoms?` in an interactive ipy environment. \n"
   ]
  },
  {
   "cell_type": "code",
   "execution_count": 10,
   "metadata": {},
   "outputs": [
    {
     "name": "stdout",
     "output_type": "stream",
     "text": [
      "Available molecule: 162 ['PH3', 'P2', 'CH3CHO', 'H2COH', 'CS', 'OCHCHO', 'C3H9C', 'CH3COF', 'CH3CH2OCH3', 'HCOOH', 'HCCl3', 'HOCl', 'H2', 'SH2', 'C2H2', 'C4H4NH', 'CH3SCH3', 'SiH2_s3B1d', 'CH3SH', 'CH3CO', 'CO', 'ClF3', 'SiH4', 'C2H6CHOH', 'CH2NHCH2', 'isobutene', 'HCO', 'bicyclobutane', 'LiF', 'Si', 'C2H6', 'CN', 'ClNO', 'S', 'SiF4', 'H3CNH2', 'methylenecyclopropane', 'CH3CH2OH', 'F', 'NaCl', 'CH3Cl', 'CH3SiH3', 'AlF3', 'C2H3', 'ClF', 'PF3', 'PH2', 'CH3CN', 'cyclobutene', 'CH3ONO', 'SiH3', 'C3H6_D3h', 'CO2', 'NO', 'trans-butane', 'H2CCHCl', 'LiH', 'NH2', 'CH', 'CH2OCH2', 'C6H6', 'CH3CONH2', 'cyclobutane', 'H2CCHCN', 'butadiene', 'C', 'H2CO', 'CH3COOH', 'HCF3', 'CH3S', 'CS2', 'SiH2_s1A1d', 'C4H4S', 'N2H4', 'OH', 'CH3OCH3', 'C5H5N', 'H2O', 'HCl', 'CH2_s1A1d', 'CH3CH2SH', 'CH3NO2', 'Cl', 'Be', 'BCl3', 'C4H4O', 'Al', 'CH3O', 'CH3OH', 'C3H7Cl', 'isobutane', 'Na', 'CCl4', 'CH3CH2O', 'H2CCHF', 'C3H7', 'CH3', 'O3', 'P', 'C2H4', 'NCCN', 'S2', 'AlCl3', 'SiCl4', 'SiO', 'C3H4_D2d', 'H', 'COF2', '2-butyne', 'C2H5', 'BF3', 'N2O', 'F2O', 'SO2', 'H2CCl2', 'CF3CN', 'HCN', 'C2H6NH', 'OCS', 'B', 'ClO', 'C3H8', 'HF', 'O2', 'SO', 'NH', 'C2F4', 'NF3', 'CH2_s3B1d', 'CH3CH2Cl', 'CH3COCl', 'NH3', 'C3H9N', 'CF4', 'C3H6_Cs', 'Si2H6', 'HCOOCH3', 'O', 'CCH', 'N', 'Si2', 'C2H6SO', 'C5H8', 'H2CF2', 'Li2', 'CH2SCH2', 'C2Cl4', 'C3H4_C3v', 'CH3COCH3', 'F2', 'CH4', 'SH', 'H2CCO', 'CH3CH2NH2', 'Li', 'N2', 'Cl2', 'H2O2', 'Na2', 'BeH', 'C3H4_C2v', 'NO2']\n"
     ]
    }
   ],
   "source": [
    "from ase.build import molecule\n",
    "from ase.collections import g2\n",
    "\n",
    "print(f\"Available molecule:\", len(g2.names), g2.names)"
   ]
  },
  {
   "cell_type": "markdown",
   "metadata": {},
   "source": [
    "- `bulk` method is used to create crystal structures via specifying the values that characterize the crystal: name, crystalstructure, a, b, c, alpha, covera, cubic kwargs. Note that `bulk` method uses PBCs to define the crystal (the representation will show so). \n",
    "- To define the real cell (for example, multiple atoms in one direction), use the `repeat` method or by multiplication\n"
   ]
  },
  {
   "cell_type": "code",
   "execution_count": 11,
   "metadata": {},
   "outputs": [
    {
     "data": {
      "text/plain": [
       "Atoms(symbols='Fe24', pbc=True, cell=[4.0, 6.0, 8.0])"
      ]
     },
     "execution_count": 11,
     "metadata": {},
     "output_type": "execute_result"
    }
   ],
   "source": [
    "from ase.build import bulk\n",
    "\n",
    "fe_sc_atoms = bulk(name=\"Fe\", crystalstructure=\"sc\", a=2.0)\n",
    "fe_sc_atoms\n",
    "\n",
    "fe222_atoms = fe_sc_atoms.repeat((2, 3, 4))\n",
    "#fe222_atoms = fe_sc_atoms * (2, 3, 4)\n",
    "\n",
    "fe222_atoms"
   ]
  },
  {
   "cell_type": "markdown",
   "metadata": {},
   "source": [
    "[El tutorial continua però això em dona bastant igual.]"
   ]
  },
  {
   "cell_type": "markdown",
   "metadata": {},
   "source": [
    "- `read` and `write` functions allow outputs and inputs of ASE objects. \n",
    "- External molecules can be importes in ASE through the smile or via an external molecular structural database. "
   ]
  },
  {
   "cell_type": "markdown",
   "metadata": {},
   "source": [
    "The structure can be modified via translation and rotation (and or combination of them) using `Atoms.translate([x, y, z])` to the `Atoms` view. Rotations can be specified using the normal plane via `Atoms.rotate(angle, v='z')`, additional option of `rotate_cell=True` should be used to rotate the PBC crystalline cell. "
   ]
  },
  {
   "cell_type": "code",
   "execution_count": 12,
   "metadata": {},
   "outputs": [
    {
     "data": {
      "application/vnd.jupyter.widget-view+json": {
       "model_id": "0272c322d548498d9404d66a8d72908f",
       "version_major": 2,
       "version_minor": 0
      },
      "text/plain": [
       "HBox(children=(NGLWidget(), VBox(children=(Dropdown(description='Show', options=('All', 'Fe'), value='All'), D…"
      ]
     },
     "execution_count": 12,
     "metadata": {},
     "output_type": "execute_result"
    }
   ],
   "source": [
    "from ase.visualize import view\n",
    "atoms = bulk(\"Fe\") * (2, 3, 4)\n",
    "\n",
    "atoms.rotate(90, v=[0, 0, 1], rotate_cell=True)\n",
    "view(atoms, viewer='ngl')"
   ]
  },
  {
   "cell_type": "markdown",
   "metadata": {},
   "source": [
    "Additional geometry moves include `rattle` (creates a messy structure by randomly moving each atom). Kwargs include `stdev` and `seed` for degree of movement and pseudorandom generator. "
   ]
  },
  {
   "cell_type": "code",
   "execution_count": 13,
   "metadata": {},
   "outputs": [
    {
     "name": "stdout",
     "output_type": "stream",
     "text": [
      "atoms & atoms2 positions are same? -->  False\n"
     ]
    },
    {
     "data": {
      "application/vnd.jupyter.widget-view+json": {
       "model_id": "ad1e0817026740538289eec113988d2f",
       "version_major": 2,
       "version_minor": 0
      },
      "text/plain": [
       "HBox(children=(NGLWidget(), VBox(children=(Dropdown(description='Show', options=('All', 'Si'), value='All'), D…"
      ]
     },
     "execution_count": 13,
     "metadata": {},
     "output_type": "execute_result"
    }
   ],
   "source": [
    "import numpy as np\n",
    "atoms = bulk(\"Si\") * (2, 3, 4)\n",
    "atoms2 = atoms.copy()\n",
    "\n",
    "atoms.rattle(stdev=0.2, rng=np.random.RandomState())\n",
    "atoms2.rattle(stdev=0.2, rng=np.random.RandomState())\n",
    "\n",
    "print(\"atoms & atoms2 positions are same? --> \", np.allclose(atoms.positions, atoms2.positions))\n",
    "view(atoms, viewer='ngl')"
   ]
  },
  {
   "cell_type": "markdown",
   "metadata": {},
   "source": [
    "Additionally, if an atom has moved outside of the cell, it can be brought back to the cell (PBC) using `wrap`"
   ]
  },
  {
   "cell_type": "code",
   "execution_count": 14,
   "metadata": {},
   "outputs": [
    {
     "data": {
      "application/vnd.jupyter.widget-view+json": {
       "model_id": "ecba7e8cd7034714a8b13a2e7df4d584",
       "version_major": 2,
       "version_minor": 0
      },
      "text/plain": [
       "HBox(children=(NGLWidget(), VBox(children=(Dropdown(description='Show', options=('All', 'Si'), value='All'), D…"
      ]
     },
     "execution_count": 14,
     "metadata": {},
     "output_type": "execute_result"
    }
   ],
   "source": [
    "atoms.wrap()\n",
    "view(atoms, viewer='ngl', )"
   ]
  },
  {
   "cell_type": "markdown",
   "metadata": {},
   "source": [
    "Additional `Atoms` transformation (regarding solid or periodic structures) can be found [here](https://docs.matlantis.com/atomistic-simulation-tutorial/en/1_7_ase_playground2.html). "
   ]
  },
  {
   "cell_type": "markdown",
   "metadata": {},
   "source": [
    "### __Generic ASE procedure__\n",
    "The atomic structure is represented by the `Atoms` class. Each physical property can be computed via a calculator applied to the structure/view (`Atoms` class). The calculator is 'added' by defining `Atoms.calc` attribute. The calculator contains previous calculation results and previous input. \n",
    "\n",
    "Once the calculator has been added, the physical properties can be extracted from the `Atoms` object calling e.g. `Atoms.get_potential_energy()`. Methods include `get_x_energy()`, `get_forces()`, `get_charges()`, `get_magnetic_moment`, `get_dipole_moment`, among others (specific to the calculator).  \n",
    "\n",
    "The calculator class is in charge of calculating the associated physical properties. Note that these calculators might be based on QM, MM, or NNP methods. \n",
    "\n",
    "Note that the chache of the calculator can be reset using `calculator.reset()` on the `Atoms.calc` object. This is impractical for simulations that require several point-wise calculations. "
   ]
  },
  {
   "cell_type": "code",
   "execution_count": 15,
   "metadata": {},
   "outputs": [
    {
     "name": "stdout",
     "output_type": "stream",
     "text": [
      "Potential energy -0.00568 eV\n"
     ]
    }
   ],
   "source": [
    "from ase.build import bulk\n",
    "from ase.calculators.emt import EMT\n",
    "\n",
    "\n",
    "calculator_emt = EMT()\n",
    "\n",
    "atoms = bulk(\"Cu\")\n",
    "atoms.calc = calculator_emt\n",
    "\n",
    "E_pot_emt = atoms.get_potential_energy()\n",
    "print(f\"Potential energy {E_pot_emt:.5f} eV\")"
   ]
  },
  {
   "cell_type": "markdown",
   "metadata": {},
   "source": [
    "## __Additional Examples__\n",
    "These examples require a QM calculator to run and have been extracted from matlantis. "
   ]
  },
  {
   "cell_type": "markdown",
   "metadata": {},
   "source": [
    "### __Dissociation of a diatomic molecule__"
   ]
  },
  {
   "cell_type": "code",
   "execution_count": 16,
   "metadata": {},
   "outputs": [],
   "source": [
    "# diatomic dissociation potential:\n",
    "# https://docs.matlantis.com/atomistic-simulation-tutorial/en/1_8_diatomic_potential.html\n",
    "# TODO"
   ]
  },
  {
   "cell_type": "markdown",
   "metadata": {},
   "source": [
    "### __Structural relaxation (optimization)__ \n",
    "Optimization procedure requires a structural view (`Atoms`), a calculator to perform single-point calculations (using the interatomic potential of the given calculator) and then specifying the optimization algorithm to use. Relevant optimization algorithms are provided in the [documentation](https://wiki.fysik.dtu.dk/ase/ase/optimize.html). "
   ]
  },
  {
   "cell_type": "code",
   "execution_count": 17,
   "metadata": {},
   "outputs": [],
   "source": [
    "# optimization of different systems. \n",
    "# TODO. use then a calculator is available. \n",
    "# https://docs.matlantis.com/atomistic-simulation-tutorial/en/2_1_opt.html"
   ]
  },
  {
   "cell_type": "code",
   "execution_count": 18,
   "metadata": {},
   "outputs": [],
   "source": [
    "# additional optimization examples\n",
    "# TODO. \n",
    "# https://docs.matlantis.com/atomistic-simulation-tutorial/en/2_2_opt_symmetry.html"
   ]
  },
  {
   "cell_type": "code",
   "execution_count": 19,
   "metadata": {},
   "outputs": [],
   "source": [
    "# energy minimization examples\n",
    "# TODO. \n",
    "# https://docs.matlantis.com/atomistic-simulation-tutorial/en/3_1_bulk_energy.html\n",
    "# bulk energies (other available)"
   ]
  },
  {
   "cell_type": "code",
   "execution_count": null,
   "metadata": {},
   "outputs": [],
   "source": [
    "# NBO vibration analysis\n",
    "# TODO\n",
    "# https://docs.matlantis.com/atomistic-simulation-tutorial/en/4_1_vibration.html"
   ]
  },
  {
   "cell_type": "markdown",
   "metadata": {},
   "source": [
    "#### __FES exploration__"
   ]
  },
  {
   "cell_type": "code",
   "execution_count": null,
   "metadata": {},
   "outputs": [],
   "source": [
    "# Curtis rearrangement simple electronic rearrangement rx. \n",
    "# TODO. \n",
    "# https://docs.matlantis.com/atomistic-simulation-tutorial/en/5_1_neb_basic.html\n"
   ]
  },
  {
   "cell_type": "markdown",
   "metadata": {},
   "source": [
    "### __External calculator example. MACE__"
   ]
  },
  {
   "cell_type": "markdown",
   "metadata": {},
   "source": [
    "This first introduction uses MACE as an NNP calculator for MD simulations. An optimization is performed and then an atomization energy calculation. Note that the energies returned are in eV. "
   ]
  },
  {
   "cell_type": "code",
   "execution_count": 5,
   "metadata": {},
   "outputs": [],
   "source": [
    "# IMPORTS\n",
    "from mace.calculators import mace_mp\n",
    "\n",
    "from ase import Atoms\n",
    "from ase.build import molecule\n",
    "from ase.visualize import view\n",
    "from ase.optimize import BFGS"
   ]
  },
  {
   "cell_type": "code",
   "execution_count": 6,
   "metadata": {},
   "outputs": [
    {
     "name": "stdout",
     "output_type": "stream",
     "text": [
      "Atoms(symbols='CO', pbc=False)\n",
      "Using Materials Project MACE for MACECalculator with /Users/sergiortizropero/.cache/mace/20231203mace128L1_epoch199model\n",
      "Using float32 for MACECalculator, which is faster but less accurate. Recommended for MD. Use float64 for geometry optimization.\n",
      "Default dtype float32 does not match model dtype float64, converting models to float32.\n",
      "      Step     Time          Energy          fmax\n",
      "BFGS:    0 17:39:29      -14.174485        5.073718\n",
      "BFGS:    1 17:39:29      -13.794711       13.550306\n",
      "BFGS:    2 17:39:29      -14.318934        1.653329\n",
      "BFGS:    3 17:39:29      -14.331827        0.601021\n",
      "BFGS:    4 17:39:29      -14.333702        0.039063\n",
      "Optimized C-O bond length: 1.142 Å\n"
     ]
    }
   ],
   "source": [
    "# GEOMETRY OPTIMIZATION\n",
    "\n",
    "# define the molecule\n",
    "atoms = Atoms('CO', positions=[(0, 0, 0), (1.2, 0, 0)])\n",
    "\n",
    "print(atoms)\n",
    "view(atoms, viewer='ngl')\n",
    "\n",
    "# define the calculator\n",
    "macemp = mace_mp()\n",
    "atoms.calc = macemp \n",
    "\n",
    "opt = BFGS(atoms)\n",
    "opt.run(fmax=0.05)\n",
    "\n",
    "bond_length = atoms.get_distance(0, 1)\n",
    "print(f\"Optimized C-O bond length: {bond_length:.3f} Å\")"
   ]
  },
  {
   "cell_type": "code",
   "execution_count": 7,
   "metadata": {},
   "outputs": [
    {
     "name": "stdout",
     "output_type": "stream",
     "text": [
      "E_CO: -14.33 eV\n",
      "E_C: -1.69 eV\n",
      "E_O: -2.08 eV\n",
      "Well depth of CO: -10.56 eV\n"
     ]
    }
   ],
   "source": [
    "# atomization energy calculation\n",
    "C = Atoms('C', positions=[(0, 0, 0)])\n",
    "O = Atoms('O', positions=[(0, 0, 0)])\n",
    "\n",
    "# define the calculator and add it to each view\n",
    "C.calc = macemp\n",
    "O.calc = macemp\n",
    "\n",
    "# get energies\n",
    "E_CO = atoms.get_potential_energy()\n",
    "E_C = C.get_potential_energy()\n",
    "E_O = O.get_potential_energy()\n",
    "\n",
    "# Print the energies\n",
    "print(f\"E_CO: {E_CO:.2f} eV\")\n",
    "print(f\"E_C: {E_C:.2f} eV\")\n",
    "print(f\"E_O: {E_O:.2f} eV\")\n",
    "\n",
    "# stabilization energy (well depth)\n",
    "atomization_energy = E_CO - (E_C + E_O)\n",
    "print(f\"Well depth of CO: {atomization_energy:.2f} eV\")"
   ]
  },
  {
   "cell_type": "markdown",
   "metadata": {},
   "source": [
    "## __2. ASE MD simulations__\n",
    "This section includes simple MD simulations using a variety of calculators. The tutorials have been extracted from the documentation. \n",
    "\n",
    "The ASE MD usage is completely documented [here](https://wiki.fysik.dtu.dk/ase/ase/md.html), and includes what kind of thermostats and barostats should be used (pros and cons), as well as post-simulation analysis techniques in ASE (Diffusion coefficient). \n",
    "\n"
   ]
  },
  {
   "cell_type": "markdown",
   "metadata": {},
   "source": [
    "### __Example 1. CO adsorption on Pt(100)__\n",
    "This first example requires MACE. Activate `ASE_MACE` venv.\n",
    "- The steps are as follows:\n",
    "    - Pt(100) surface creation\n",
    "    - Adding the CO adsorbate\n",
    "    - Relaxation of the system\n",
    "    - (optional) Adsorption energy calculation\n",
    "    - NVT Equilibration run\n",
    "    - NVT Production run\n",
    "\n",
    "**Ref.** https://rwexler.github.io/comp-prob-solv/lecture-23-ase.html"
   ]
  },
  {
   "cell_type": "code",
   "execution_count": 8,
   "metadata": {},
   "outputs": [
    {
     "data": {
      "application/vnd.jupyter.widget-view+json": {
       "model_id": "1def24358be343cebe491d3b793d451f",
       "version_major": 2,
       "version_minor": 0
      },
      "text/plain": [
       "HBox(children=(NGLWidget(), VBox(children=(Dropdown(description='Show', options=('All', 'Pt'), value='All'), D…"
      ]
     },
     "execution_count": 8,
     "metadata": {},
     "output_type": "execute_result"
    }
   ],
   "source": [
    "from ase.build import fcc100\n",
    "from ase.visualize import view\n",
    "from ase.io import Trajectory\n",
    "\n",
    "# create the Pt(100) surface with specified size and vacuum\n",
    "slab = fcc100('Pt', size=(2, 2, 3), vacuum=10.0)\n",
    "\n",
    "# Visualize the Pt(100) surface\n",
    "view(slab, viewer='ngl')"
   ]
  },
  {
   "cell_type": "markdown",
   "metadata": {},
   "source": [
    "Note that PBCs require an extension in xyz. To simulate a surface, we can just add void between the sheets such that each sheet is outside the cutoff radius and hence does not interact with each other. "
   ]
  },
  {
   "cell_type": "code",
   "execution_count": 9,
   "metadata": {},
   "outputs": [
    {
     "data": {
      "application/vnd.jupyter.widget-view+json": {
       "model_id": "b59a3a6e7d11436ca27adccfae5f83f4",
       "version_major": 2,
       "version_minor": 0
      },
      "text/plain": [
       "HBox(children=(NGLWidget(), VBox(children=(Dropdown(description='Show', options=('All', 'O', 'C', 'Pt'), value…"
      ]
     },
     "execution_count": 9,
     "metadata": {},
     "output_type": "execute_result"
    }
   ],
   "source": [
    "from ase.build import molecule\n",
    "from ase.build.surface import add_adsorbate\n",
    "\n",
    "# define the molecule and position of the CO inside the PBC cell\n",
    "co_molecule = molecule('CO')\n",
    "co_molecule.set_distance(0, 1, 1.14)\n",
    "\n",
    "# add the CO to the metallic surface\n",
    "add_adsorbate(slab, co_molecule, height=3, position=(3, 3))\n",
    "view(slab, viewer='ngl')"
   ]
  },
  {
   "cell_type": "code",
   "execution_count": 10,
   "metadata": {},
   "outputs": [
    {
     "name": "stdout",
     "output_type": "stream",
     "text": [
      "      Step     Time          Energy          fmax\n",
      "BFGS:    0 17:39:29      -82.117020        2.513162\n",
      "BFGS:    1 17:39:29      -82.075905        4.633199\n",
      "BFGS:    2 17:39:30      -82.199150        0.968961\n",
      "BFGS:    3 17:39:30      -82.234215        0.798528\n",
      "BFGS:    4 17:39:30      -82.280090        1.452640\n",
      "BFGS:    5 17:39:30      -82.312889        1.025778\n",
      "BFGS:    6 17:39:30      -82.328720        0.401453\n",
      "BFGS:    7 17:39:30      -82.335983        0.313468\n",
      "BFGS:    8 17:39:30      -82.343323        0.314987\n",
      "BFGS:    9 17:39:30      -82.353493        0.530964\n",
      "BFGS:   10 17:39:30      -82.366264        0.642211\n",
      "BFGS:   11 17:39:30      -82.379890        0.567898\n",
      "BFGS:   12 17:39:30      -82.392395        0.293006\n",
      "BFGS:   13 17:39:30      -82.398758        0.185267\n",
      "BFGS:   14 17:39:31      -82.400917        0.175648\n",
      "BFGS:   15 17:39:31      -82.403107        0.127750\n",
      "BFGS:   16 17:39:31      -82.404205        0.075355\n",
      "BFGS:   17 17:39:31      -82.404694        0.050908\n",
      "BFGS:   18 17:39:31      -82.405037        0.056129\n",
      "BFGS:   19 17:39:31      -82.405418        0.071163\n",
      "BFGS:   20 17:39:31      -82.405724        0.051063\n",
      "BFGS:   21 17:39:31      -82.405846        0.018610\n"
     ]
    },
    {
     "data": {
      "application/vnd.jupyter.widget-view+json": {
       "model_id": "60e3e2a4d4514839bd198b5bce0cfd78",
       "version_major": 2,
       "version_minor": 0
      },
      "text/plain": [
       "HBox(children=(NGLWidget(max_frame=21), VBox(children=(Dropdown(description='Show', options=('All', 'O', 'C', …"
      ]
     },
     "execution_count": 10,
     "metadata": {},
     "output_type": "execute_result"
    }
   ],
   "source": [
    "# OPTIMIZATION \n",
    "slab.calc = macemp\n",
    "opt = BFGS(slab, trajectory='Pt100_CO.traj')\n",
    "opt.run(fmax=0.05)\n",
    "\n",
    "# Visualize the optimized structure\n",
    "traj = Trajectory('Pt100_CO.traj', 'r')\n",
    "view(traj, viewer='ngl')"
   ]
  },
  {
   "cell_type": "code",
   "execution_count": 11,
   "metadata": {},
   "outputs": [
    {
     "name": "stdout",
     "output_type": "stream",
     "text": [
      "      Step     Time          Energy          fmax\n",
      "BFGS:    0 17:39:32      -66.033951        0.424759\n",
      "BFGS:    1 17:39:32      -66.053253        0.370681\n",
      "BFGS:    2 17:39:32      -66.119148        0.035256\n",
      "Adsorption Energy: -1.95 eV\n"
     ]
    }
   ],
   "source": [
    "# ADSORPTION ENERGY\n",
    "\n",
    "# compute the clean slab optimized energy\n",
    "slab_clean = fcc100('Pt', size=(2, 2, 3), vacuum=10.0)\n",
    "slab_clean.calc = macemp\n",
    "opt_clean = BFGS(slab_clean)\n",
    "opt_clean.run(fmax=0.05)\n",
    "\n",
    "\n",
    "E_slab_CO = slab.get_potential_energy()\n",
    "E_slab = slab_clean.get_potential_energy()\n",
    "E_CO = atoms.get_potential_energy()\n",
    "\n",
    "# Calculate the adsorption energy\n",
    "adsorption_energy = E_slab_CO - E_slab - E_CO\n",
    "print(f\"Adsorption Energy: {adsorption_energy:.2f} eV\")"
   ]
  },
  {
   "cell_type": "markdown",
   "metadata": {},
   "source": [
    "Finally, an MD simulation of the system is performed. In this case, we don't do equilibration and then production, we want to evaluate how all metrics change"
   ]
  },
  {
   "cell_type": "code",
   "execution_count": 12,
   "metadata": {},
   "outputs": [
    {
     "name": "stdout",
     "output_type": "stream",
     "text": [
      "E_pot\t-82.406 eV\t\tE_kin\t0.582 eV (450 K)\t\tE_tot\t-81.824 eV\n",
      "E_pot\t-82.382 eV\t\tE_kin\t0.516 eV (399 K)\t\tE_tot\t-81.867 eV\n",
      "E_pot\t-82.379 eV\t\tE_kin\t0.686 eV (530 K)\t\tE_tot\t-81.693 eV\n",
      "E_pot\t-82.340 eV\t\tE_kin\t0.519 eV (401 K)\t\tE_tot\t-81.821 eV\n",
      "E_pot\t-82.310 eV\t\tE_kin\t0.513 eV (397 K)\t\tE_tot\t-81.797 eV\n",
      "E_pot\t-82.285 eV\t\tE_kin\t0.443 eV (343 K)\t\tE_tot\t-81.842 eV\n",
      "E_pot\t-82.279 eV\t\tE_kin\t0.547 eV (423 K)\t\tE_tot\t-81.732 eV\n",
      "E_pot\t-82.304 eV\t\tE_kin\t0.542 eV (419 K)\t\tE_tot\t-81.762 eV\n",
      "E_pot\t-82.288 eV\t\tE_kin\t0.654 eV (506 K)\t\tE_tot\t-81.634 eV\n",
      "E_pot\t-82.154 eV\t\tE_kin\t0.339 eV (262 K)\t\tE_tot\t-81.815 eV\n",
      "E_pot\t-82.203 eV\t\tE_kin\t0.389 eV (301 K)\t\tE_tot\t-81.814 eV\n",
      "E_pot\t-82.195 eV\t\tE_kin\t0.561 eV (434 K)\t\tE_tot\t-81.634 eV\n",
      "E_pot\t-82.218 eV\t\tE_kin\t0.571 eV (442 K)\t\tE_tot\t-81.647 eV\n",
      "E_pot\t-82.214 eV\t\tE_kin\t0.491 eV (380 K)\t\tE_tot\t-81.722 eV\n",
      "E_pot\t-82.230 eV\t\tE_kin\t0.586 eV (453 K)\t\tE_tot\t-81.644 eV\n",
      "E_pot\t-82.166 eV\t\tE_kin\t0.529 eV (409 K)\t\tE_tot\t-81.638 eV\n",
      "E_pot\t-82.249 eV\t\tE_kin\t0.503 eV (389 K)\t\tE_tot\t-81.746 eV\n",
      "E_pot\t-82.123 eV\t\tE_kin\t0.425 eV (329 K)\t\tE_tot\t-81.698 eV\n",
      "E_pot\t-82.231 eV\t\tE_kin\t0.580 eV (449 K)\t\tE_tot\t-81.651 eV\n",
      "E_pot\t-82.234 eV\t\tE_kin\t0.443 eV (343 K)\t\tE_tot\t-81.791 eV\n",
      "E_pot\t-82.188 eV\t\tE_kin\t0.438 eV (339 K)\t\tE_tot\t-81.750 eV\n",
      "simulation finished without problems:\tTrue\n"
     ]
    }
   ],
   "source": [
    "from ase import units\n",
    "from ase.md.andersen import Andersen\n",
    "from ase.md.velocitydistribution import MaxwellBoltzmannDistribution\n",
    "import matplotlib.pyplot as plt\n",
    "\n",
    "# MD parameters\n",
    "temperature = 300   # Kelvin\n",
    "timestep = 1.0      # fs\n",
    "\n",
    "# initialize velocities according to the Maxwell-Boltzmann distribution\n",
    "MaxwellBoltzmannDistribution(slab, temperature_K=temperature)\n",
    "\n",
    "# Set up the Andersen dynamics\n",
    "dyn = Andersen(slab, timestep * units.fs, temperature_K=temperature, andersen_prob=0.1)\n",
    "\n",
    "# saves\n",
    "kinetic_energies = []\n",
    "potential_energies = []\n",
    "total_energies = []\n",
    "\n",
    "# store energies\n",
    "def store_energies():\n",
    "    kinetic_energy = slab.get_kinetic_energy()\n",
    "    potential_energy = slab.get_potential_energy()\n",
    "    total_energy = kinetic_energy + potential_energy\n",
    "    kinetic_energies.append(kinetic_energy)\n",
    "    potential_energies.append(potential_energy)\n",
    "    total_energies.append(total_energy)\n",
    "\n",
    "# print energies\n",
    "def printenergy(a=slab):\n",
    "    epot = a.get_potential_energy()\n",
    "    ekin = a.get_kinetic_energy()\n",
    "    print(f'E_pot\\t{epot:.3f} eV\\t\\tE_kin\\t{ekin:.3f} eV ({ekin / (1.5 * units.kB * 10):.0f} K)\\t\\tE_tot\\t{epot + ekin:.3f} eV')\n",
    "\n",
    "# trajectory\n",
    "traj = Trajectory('Pt100_CO_MD.traj', 'w', slab)\n",
    "\n",
    "# for every step, store, print the energies and save the traj\n",
    "dyn.attach(store_energies, interval=1)\n",
    "dyn.attach(printenergy, interval=5)\n",
    "dyn.attach(traj.write, interval=1)\n",
    "\n",
    "# 100 fs run\n",
    "converged = dyn.run(100)\n",
    "traj.close()\n",
    "print(f'simulation finished without problems:\\t{converged}')"
   ]
  },
  {
   "cell_type": "code",
   "execution_count": 46,
   "metadata": {},
   "outputs": [
    {
     "name": "stdout",
     "output_type": "stream",
     "text": [
      "Traceback (most recent call last):\n",
      "  File \"/Users/sergiortizropero/miniconda3/envs/ASE_MACE/lib/python3.10/runpy.py\", line 196, in _run_module_as_main\n",
      "    return _run_code(code, main_globals, None,\n",
      "  File \"/Users/sergiortizropero/miniconda3/envs/ASE_MACE/lib/python3.10/runpy.py\", line 86, in _run_code\n",
      "    exec(code, run_globals)\n",
      "  File \"/Users/sergiortizropero/miniconda3/envs/ASE_MACE/lib/python3.10/site-packages/ase/gui/pipe.py\", line 32, in <module>\n",
      "    main()\n",
      "  File \"/Users/sergiortizropero/miniconda3/envs/ASE_MACE/lib/python3.10/site-packages/ase/gui/pipe.py\", line 28, in main\n",
      "    plt.show()\n",
      "  File \"/Users/sergiortizropero/miniconda3/envs/ASE_MACE/lib/python3.10/site-packages/matplotlib/pyplot.py\", line 614, in show\n",
      "    return _get_backend_mod().show(*args, **kwargs)\n",
      "  File \"/Users/sergiortizropero/miniconda3/envs/ASE_MACE/lib/python3.10/site-packages/matplotlib_inline/backend_inline.py\", line 90, in show\n",
      "    display(\n",
      "  File \"/Users/sergiortizropero/miniconda3/envs/ASE_MACE/lib/python3.10/site-packages/IPython/core/display_functions.py\", line 265, in display\n",
      "    print(*objs)\n",
      "ValueError: I/O operation on closed file.\n",
      "2025-02-02 15:34:13.327 python3.10[22876:383802] +[IMKClient subclass]: chose IMKClient_Modern\n",
      "2025-02-02 15:34:13.328 python3.10[22876:383802] +[IMKInputSession subclass]: chose IMKInputSession_Modern\n",
      "Exception in Tkinter callback\n",
      "Traceback (most recent call last):\n",
      "  File \"/Users/sergiortizropero/miniconda3/envs/ASE_MACE/lib/python3.10/tkinter/__init__.py\", line 1921, in __call__\n",
      "    return self.func(*args)\n",
      "  File \"/Users/sergiortizropero/miniconda3/envs/ASE_MACE/lib/python3.10/site-packages/ase/gui/ui.py\", line 221, in <lambda>\n",
      "    self.widget.bind('<Return>', lambda event: self.callback())\n",
      "TypeError: 'NoneType' object is not callable\n"
     ]
    }
   ],
   "source": [
    "# check the trajectory (pop-up window)\n",
    "!ase gui Pt100_CO_MD.traj"
   ]
  },
  {
   "cell_type": "code",
   "execution_count": 13,
   "metadata": {},
   "outputs": [
    {
     "data": {
      "application/vnd.jupyter.widget-view+json": {
       "model_id": "eadf0e3c812c43d1b717f267123b2d0d",
       "version_major": 2,
       "version_minor": 0
      },
      "text/plain": [
       "HBox(children=(NGLWidget(max_frame=100), VBox(children=(Dropdown(description='Show', options=('All', 'O', 'C',…"
      ]
     },
     "execution_count": 13,
     "metadata": {},
     "output_type": "execute_result"
    }
   ],
   "source": [
    "from ase.visualize import view\n",
    "\n",
    "load_traj = Trajectory('Pt100_CO_MD.traj', 'r')\n",
    "view(load_traj, viewer='ngl')"
   ]
  },
  {
   "cell_type": "code",
   "execution_count": 55,
   "metadata": {},
   "outputs": [],
   "source": [
    "# plot import section\n",
    "import numpy as np\n",
    "\n",
    "import matplotlib.pyplot as plt\n",
    "from matplotlib import rc\n",
    "rc('font',**{'family':'sans-serif','sans-serif':['Helvetica']})\n",
    "rc('text', usetex=True)\n",
    "rc('lines', lw=1, color='b')\n",
    "rc('legend', loc='best')\n",
    "plt.rcParams[\"legend.fancybox\"] = False\n",
    "plt.rcParams[\"legend.edgecolor\"] = 'black'\n",
    "plt.rcParams['legend.borderpad'] = 0.25\n",
    "plt.rcParams['legend.fontsize'] = 11\n",
    "plt.rcParams.update({'pgf.preamble': r'\\usepackage{amsmath}'})\n"
   ]
  },
  {
   "cell_type": "code",
   "execution_count": 59,
   "metadata": {},
   "outputs": [
    {
     "data": {
      "image/png": "[encoded data removed]",
      "text/plain": [
       "<Figure size 1200x400 with 3 Axes>"
      ]
     },
     "metadata": {},
     "output_type": "display_data"
    }
   ],
   "source": [
    "# PLOTS\n",
    "fig, axes = plt.subplots(ncols=3, nrows=1, figsize=(12, 4))\n",
    "ax1, ax2, ax3 = axes[0], axes[1], axes[2]\n",
    "\n",
    "# kin\n",
    "ax1.tick_params(bottom=True, top=True, left=True, right=False,\n",
    "                    direction=\"in\")\n",
    "ax1.tick_params(labelbottom=True, labeltop=False, labelleft=True,\n",
    "                    labelright=False, direction=\"in\")\n",
    "ax1.plot(kinetic_energies, label=r'$\\textnormal{kinetic energy}$', color='deeppink', alpha=0.9)\n",
    "ax1.set(xlabel=r'$\\textnormal{simulation time}\\;(\\textnormal{fs})$', ylabel=r'$\\textnormal{kinetic energy}\\;(\\textnormal{eV})$')\n",
    "ax1.legend(loc='best')\n",
    "\n",
    "# pot\n",
    "ax2.tick_params(bottom=True, top=True, left=True, right=False,\n",
    "                    direction=\"in\")\n",
    "ax2.tick_params(labelbottom=True, labeltop=False, labelleft=True,\n",
    "                    labelright=False, direction=\"in\")\n",
    "ax2.plot(potential_energies, label=r'$\\textnormal{potential energy}$', color='darkgreen', alpha=0.9)\n",
    "ax2.set(xlabel=r'$\\textnormal{simulation time}\\;(\\textnormal{fs})$', ylabel=r'$\\textnormal{potential energy}\\;(\\textnormal{eV})$')\n",
    "ax2.legend(loc='best')\n",
    "\n",
    "# total\n",
    "ax3.tick_params(bottom=True, top=True, left=True, right=False,\n",
    "                    direction=\"in\")\n",
    "ax3.tick_params(labelbottom=True, labeltop=False, labelleft=True,\n",
    "                    labelright=False, direction=\"in\")\n",
    "ax3.plot(total_energies, label=r'$\\textnormal{total energy}$', color='darkviolet', alpha=0.9)\n",
    "ax3.set(xlabel=r'$\\textnormal{simulation time}\\;(\\textnormal{fs})$', ylabel=r'$\\textnormal{total energy}\\;(\\textnormal{eV})$')\n",
    "ax3.legend(loc='best')\n",
    "\n",
    "plt.tight_layout()\n",
    "plt.savefig('./Pt100_CO_MD_plots.png', dpi=300)\n",
    "plt.show(fig)"
   ]
  },
  {
   "cell_type": "markdown",
   "metadata": {},
   "source": [
    "### __Example 2. Melting process of Al__\n",
    "Melting process of Aluminium FCC. First, an NVE MD is performed"
   ]
  },
  {
   "cell_type": "code",
   "execution_count": null,
   "metadata": {},
   "outputs": [
    {
     "name": "stderr",
     "output_type": "stream",
     "text": [
      "[Sergis-MacBook-Pro.local:65664] shmem: mmap: an error occurred while determining whether or not /var/folders/cq/s30xmbh57xndgmhg1zhwclsh0000gn/T//ompi.Sergis-MacBook-Pro.501/jf.0/3451125760/sm_segment.Sergis-MacBook-Pro.501.cdb40000.0 could be created.\n"
     ]
    },
    {
     "name": "stdout",
     "output_type": "stream",
     "text": [
      "atoms =  Atoms(symbols='Al108', pbc=True, cell=[12.899999999999999, 12.899999999999999, 12.899999999999999])\n",
      "log_filename =  ./liquid-Al_NVE_1.0fs_test/log_file.log\n",
      "traj_filename =  ./liquid-Al_NVE_1.0fs_test/trajectory.traj\n",
      "\n",
      "    imd     Etot(eV)    Ekin(eV)    Epot(eV)    T(K)\n",
      "     0     32.139701294     22.336120234    9.803581060   1600.00\n",
      "   1000     32.144573345     10.147479616    21.997093729   726.89\n",
      "   2000     32.144669489     9.872400817    22.272268672   707.19\n",
      "   3000     32.144653714     9.955368258    22.189285455   713.13\n",
      "   4000     32.144150322     10.895194704    21.248955619   780.45\n",
      "   5000     32.144105640     10.605084474    21.539021166   759.67\n",
      "   6000     32.144333386     10.984207379    21.160126007   786.83\n",
      "   7000     32.144442783     9.745698610    22.398744173   698.11\n",
      "   8000     32.144536620     8.967299641    23.177236979   642.35\n",
      "   9000     32.144551048     10.055843807    22.088707241   720.33\n",
      "   10000     32.144052027     11.142429391    21.001622636   798.16\n",
      "   11000     32.143977215     11.043369051    21.100608165   791.07\n",
      "   12000     32.144174360     9.911433204    22.232741156   709.98\n",
      "   13000     32.144498809     10.221923986    21.922574823   732.23\n",
      "   14000     32.144034744     10.664056638    21.479978106   763.90\n",
      "   15000     32.143730122     10.042752468    22.100977654   719.39\n",
      "   16000     32.144219006     10.855029136    21.289189870   777.58\n",
      "   17000     32.144157833     10.049161766    22.094996067   719.85\n",
      "   18000     32.143904868     10.586365421    21.557539447   758.33\n",
      "   19000     32.144019614     10.070847866    22.073171748   721.40\n",
      "   20000     32.143860807     10.321185234    21.822675573   739.34\n",
      "   21000     32.144560116     8.604282814    23.540277302   616.35\n",
      "   22000     32.144433589     8.894615592    23.249817997   637.15\n",
      "   23000     32.143935896     11.491261271    20.652674625   823.15\n",
      "   24000     32.144131243     11.425389389    20.718741854   818.43\n",
      "   25000     32.143856759     10.585264214    21.558592545   758.25\n",
      "   26000     32.143744216     9.999292718    22.144451499   716.28\n",
      "   27000     32.143632221     9.888494762    22.255137459   708.34\n",
      "   28000     32.143564593     9.970833341    22.172731251   714.24\n",
      "   29000     32.143878213     9.872040126    22.271838087   707.16\n",
      "   30000     32.143634980     10.440458653    21.703176327   747.88\n",
      "   31000     32.143926717     10.579346606    21.564580111   757.83\n",
      "   32000     32.143802133     10.094562647    22.049239486   723.10\n",
      "   33000     32.143685768     10.746999550    21.396686218   769.84\n",
      "   34000     32.143765339     10.370884436    21.772880903   742.90\n",
      "   35000     32.143640819     11.154893347    20.988747472   799.06\n",
      "   36000     32.143467856     10.990146624    21.153321232   787.26\n",
      "   37000     32.143857494     10.565873052    21.577984442   756.86\n",
      "   38000     32.143846588     10.473938918    21.669907670   750.28\n",
      "   39000     32.143827968     10.336790015    21.807037953   740.45\n",
      "   40000     32.143677205     10.615736503    21.527940702   760.44\n",
      "   41000     32.143755182     11.053245275    21.090509908   791.78\n",
      "   42000     32.143705021     10.333758853    21.809946168   740.24\n",
      "   43000     32.143541635     10.445964356    21.697577279   748.27\n",
      "   44000     32.143460381     11.385266359    20.758194022   815.56\n",
      "   45000     32.143389930     12.328384043    19.815005887   883.12\n",
      "   46000     32.143527280     11.024781464    21.118745815   789.74\n",
      "   47000     32.143588012     11.097337927    21.046250085   794.93\n",
      "   48000     32.143775293     10.007716994    22.136058300   716.88\n",
      "   49000     32.143876553     10.300352425    21.843524128   737.84\n",
      "   50000     32.143930401     10.184224767    21.959705634   729.53\n",
      "   51000     32.143975583     10.355500023    21.788475560   741.79\n",
      "   52000     32.144120494     9.234338727    22.909781767   661.48\n",
      "   53000     32.143965847     10.362210598    21.781755249   742.27\n",
      "   54000     32.144012871     10.275544785    21.868468085   736.07\n",
      "   55000     32.143551116     11.254787886    20.888763230   806.21\n",
      "   56000     32.143929901     10.272389074    21.871540827   735.84\n",
      "   57000     32.143921431     10.096857638    22.047063794   723.27\n",
      "   58000     32.143882214     10.399398293    21.744483921   744.94\n",
      "   59000     32.143945758     10.218436313    21.925509445   731.98\n",
      "   60000     32.144025719     9.846510831    22.297514887   705.33\n",
      "   61000     32.143842037     10.933160322    21.210681716   783.17\n",
      "   62000     32.143881300     10.342420525    21.801460775   740.86\n",
      "   63000     32.143764808     11.088235713    21.055529095   794.28\n",
      "   64000     32.143867988     10.074357942    22.069510045   721.65\n",
      "   65000     32.143578246     10.555955857    21.587622389   756.15\n",
      "   66000     32.144220794     10.128854213    22.015366582   725.56\n",
      "   67000     32.143926868     10.666547696    21.477379172   764.08\n",
      "   68000     32.144104846     9.747885702    22.396219144   698.27\n",
      "   69000     32.144172147     9.270486585    22.873685562   664.07\n",
      "   70000     32.143959032     10.567156529    21.576802503   756.96\n",
      "   71000     32.143904011     10.803055978    21.340848032   773.85\n",
      "   72000     32.144190604     9.496329403    22.647861201   680.25\n",
      "   73000     32.143630381     10.275165102    21.868465280   736.04\n",
      "   74000     32.143723487     10.648559072    21.495164415   762.79\n",
      "   75000     32.143398484     11.503986339    20.639412144   824.06\n",
      "   76000     32.143812536     10.056281634    22.087530902   720.36\n",
      "   77000     32.144123560     10.526326718    21.617796841   754.03\n",
      "   78000     32.143765919     11.065784522    21.077981397   792.67\n",
      "   79000     32.143920602     10.597940685    21.545979917   759.16\n",
      "   80000     32.143839889     10.061856452    22.081983438   720.76\n",
      "   81000     32.144053984     10.089364000    22.054689984   722.73\n",
      "   82000     32.144082342     10.763145708    21.380936633   770.99\n",
      "   83000     32.143493495     11.054123481    21.089370014   791.84\n",
      "   84000     32.143753375     10.307559705    21.836193670   738.36\n",
      "   85000     32.143972633     9.365254523    22.778718111   670.86\n",
      "   86000     32.143762936     10.821758360    21.322004576   775.19\n",
      "   87000     32.143830921     9.968603264    22.175227657   714.08\n",
      "   88000     32.143853030     10.621751392    21.522101637   760.87\n",
      "   89000     32.143856699     10.107536688    22.036320012   724.03\n",
      "   90000     32.144085692     9.953499302    22.190586389   713.00\n",
      "   91000     32.143734343     10.372887945    21.770846399   743.04\n",
      "   92000     32.143997030     9.703593465    22.440403565   695.10\n",
      "   93000     32.143811956     10.151121379    21.992690576   727.15\n",
      "   94000     32.143797345     10.155205534    21.988591811   727.45\n",
      "   95000     32.143738668     9.973411805    22.170326863   714.42\n",
      "   96000     32.144391228     9.748671609    22.395719619   698.33\n",
      "   97000     32.143742769     10.504283731    21.639459037   752.45\n",
      "   98000     32.143753444     10.281204745    21.862548699   736.47\n",
      "   99000     32.143690004     10.898401756    21.245288248   780.68\n",
      "   100000     32.143347065     10.733168216    21.410178849   768.85\n",
      "\n",
      "Normal termination of the MD run!\n"
     ]
    }
   ],
   "source": [
    "import os\n",
    "from asap3 import EMT\n",
    "calculator = EMT()\n",
    "\n",
    "from ase.build import bulk\n",
    "from ase.md.velocitydistribution import MaxwellBoltzmannDistribution,Stationary\n",
    "from ase.md.verlet import VelocityVerlet\n",
    "from ase.md import MDLogger\n",
    "from ase import units\n",
    "from time import perf_counter\n",
    "import numpy as np\n",
    "\n",
    "# Set up a fcc-Al crystal\n",
    "atoms = bulk(\"Al\",\"fcc\",a=4.3,cubic=True)\n",
    "atoms.pbc = True\n",
    "atoms *= 3\n",
    "print(\"atoms = \",atoms)\n",
    "\n",
    "# Set calculator (EMT in this case)\n",
    "atoms.calc = calculator\n",
    "\n",
    "# input parameters\n",
    "time_step    = 1.0      # MD step size in fsec\n",
    "temperature  = 1600     # Temperature in Kelvin\n",
    "num_md_steps = 100000   # Total number of MD steps\n",
    "num_interval = 1000     # Print out interval for .log and .traj\n",
    "\n",
    "# Set the momenta corresponding to the given \"temperature\"\n",
    "MaxwellBoltzmannDistribution(atoms, temperature_K=temperature,force_temp=True)\n",
    "Stationary(atoms)  # Set zero total momentum to avoid drifting\n",
    "\n",
    "# Set output filenames\n",
    "output_filename = \"./liquid-Al_NVE_1.0fs_test/\"\n",
    "if not os.path.isdir(output_filename):\n",
    "    os.makedirs(output_filename)\n",
    "log_filename = output_filename + \"log_file.log\"\n",
    "print(\"log_filename = \",log_filename)\n",
    "traj_filename = output_filename + \"trajectory.traj\"\n",
    "print(\"traj_filename = \",traj_filename)\n",
    "\n",
    "# Remove old files if they exist\n",
    "if os.path.exists(os.path.join(log_filename, '.log')): \n",
    "    os.remove(log_filename)\n",
    "if os.path.exists(os.path.join(traj_filename, '.traj')): \n",
    "    os.remove(traj_filename)\n",
    "\n",
    "# Define the MD dynamics class object\n",
    "dyn = VelocityVerlet(atoms,\n",
    "                     time_step * units.fs,\n",
    "                     trajectory = traj_filename,\n",
    "                     loginterval=num_interval\n",
    "                    )\n",
    "\n",
    "# Print statements\n",
    "def print_dyn():\n",
    "    imd = dyn.get_number_of_steps()\n",
    "    time_md = time_step*imd\n",
    "    etot  = atoms.get_total_energy()\n",
    "    ekin  = atoms.get_kinetic_energy()\n",
    "    epot  = atoms.get_potential_energy()\n",
    "    temp_K = atoms.get_temperature()\n",
    "    print(f\"   {imd: >3}     {etot:.9f}     {ekin:.9f}    {epot:.9f}   {temp_K:.2f}\")\n",
    "\n",
    "dyn.attach(print_dyn, interval=num_interval)\n",
    "\n",
    "# Set MD logger\n",
    "dyn.attach(MDLogger(dyn, atoms, log_filename, header=True, stress=False,peratom=False, mode=\"w\"), interval=num_interval)\n",
    "\n",
    "# Now run MD simulation\n",
    "print(f\"\\n    imd     Etot(eV)    Ekin(eV)    Epot(eV)    T(K)\")\n",
    "dyn.run(num_md_steps)\n",
    "\n",
    "\n",
    "print(\"\\nNormal termination of the MD run!\")"
   ]
  },
  {
   "cell_type": "code",
   "execution_count": null,
   "metadata": {},
   "outputs": [
    {
     "data": {
      "application/vnd.jupyter.widget-view+json": {
       "model_id": "bfa26ee354614ef994526632a9eb6e3a",
       "version_major": 2,
       "version_minor": 0
      },
      "text/plain": [
       "HBox(children=(NGLWidget(max_frame=100), VBox(children=(Dropdown(description='Show', options=('All', 'Al'), va…"
      ]
     },
     "metadata": {},
     "output_type": "display_data"
    }
   ],
   "source": [
    "# save the trajectory\n",
    "from ase.io import read, write, Trajectory\n",
    "from ase.visualize import view\n",
    "\n",
    "traj = Trajectory(traj_filename)\n",
    "\n",
    "view(traj, viewer='ngl')"
   ]
  },
  {
   "cell_type": "code",
   "execution_count": null,
   "metadata": {},
   "outputs": [
    {
     "data": {
      "text/html": [
       "<div>\n",
       "<style scoped>\n",
       "    .dataframe tbody tr th:only-of-type {\n",
       "        vertical-align: middle;\n",
       "    }\n",
       "\n",
       "    .dataframe tbody tr th {\n",
       "        vertical-align: top;\n",
       "    }\n",
       "\n",
       "    .dataframe thead th {\n",
       "        text-align: right;\n",
       "    }\n",
       "</style>\n",
       "<table border=\"1\" class=\"dataframe\">\n",
       "  <thead>\n",
       "    <tr style=\"text-align: right;\">\n",
       "      <th></th>\n",
       "      <th>Time[ps]</th>\n",
       "      <th>Etot[eV]</th>\n",
       "      <th>Epot[eV]</th>\n",
       "      <th>Ekin[eV]</th>\n",
       "      <th>T[K]</th>\n",
       "    </tr>\n",
       "  </thead>\n",
       "  <tbody>\n",
       "    <tr>\n",
       "      <th>0</th>\n",
       "      <td>0.0</td>\n",
       "      <td>32.140</td>\n",
       "      <td>9.804</td>\n",
       "      <td>22.336</td>\n",
       "      <td>1600.0</td>\n",
       "    </tr>\n",
       "    <tr>\n",
       "      <th>1</th>\n",
       "      <td>1.0</td>\n",
       "      <td>32.145</td>\n",
       "      <td>21.997</td>\n",
       "      <td>10.147</td>\n",
       "      <td>726.9</td>\n",
       "    </tr>\n",
       "    <tr>\n",
       "      <th>2</th>\n",
       "      <td>2.0</td>\n",
       "      <td>32.145</td>\n",
       "      <td>22.272</td>\n",
       "      <td>9.872</td>\n",
       "      <td>707.2</td>\n",
       "    </tr>\n",
       "    <tr>\n",
       "      <th>3</th>\n",
       "      <td>3.0</td>\n",
       "      <td>32.145</td>\n",
       "      <td>22.189</td>\n",
       "      <td>9.955</td>\n",
       "      <td>713.1</td>\n",
       "    </tr>\n",
       "    <tr>\n",
       "      <th>4</th>\n",
       "      <td>4.0</td>\n",
       "      <td>32.144</td>\n",
       "      <td>21.249</td>\n",
       "      <td>10.895</td>\n",
       "      <td>780.5</td>\n",
       "    </tr>\n",
       "    <tr>\n",
       "      <th>...</th>\n",
       "      <td>...</td>\n",
       "      <td>...</td>\n",
       "      <td>...</td>\n",
       "      <td>...</td>\n",
       "      <td>...</td>\n",
       "    </tr>\n",
       "    <tr>\n",
       "      <th>96</th>\n",
       "      <td>96.0</td>\n",
       "      <td>32.144</td>\n",
       "      <td>22.396</td>\n",
       "      <td>9.749</td>\n",
       "      <td>698.3</td>\n",
       "    </tr>\n",
       "    <tr>\n",
       "      <th>97</th>\n",
       "      <td>97.0</td>\n",
       "      <td>32.144</td>\n",
       "      <td>21.639</td>\n",
       "      <td>10.504</td>\n",
       "      <td>752.5</td>\n",
       "    </tr>\n",
       "    <tr>\n",
       "      <th>98</th>\n",
       "      <td>98.0</td>\n",
       "      <td>32.144</td>\n",
       "      <td>21.863</td>\n",
       "      <td>10.281</td>\n",
       "      <td>736.5</td>\n",
       "    </tr>\n",
       "    <tr>\n",
       "      <th>99</th>\n",
       "      <td>99.0</td>\n",
       "      <td>32.144</td>\n",
       "      <td>21.245</td>\n",
       "      <td>10.898</td>\n",
       "      <td>780.7</td>\n",
       "    </tr>\n",
       "    <tr>\n",
       "      <th>100</th>\n",
       "      <td>100.0</td>\n",
       "      <td>32.143</td>\n",
       "      <td>21.410</td>\n",
       "      <td>10.733</td>\n",
       "      <td>768.8</td>\n",
       "    </tr>\n",
       "  </tbody>\n",
       "</table>\n",
       "<p>101 rows × 5 columns</p>\n",
       "</div>"
      ],
      "text/plain": [
       "     Time[ps]  Etot[eV]  Epot[eV]  Ekin[eV]    T[K]\n",
       "0         0.0    32.140     9.804    22.336  1600.0\n",
       "1         1.0    32.145    21.997    10.147   726.9\n",
       "2         2.0    32.145    22.272     9.872   707.2\n",
       "3         3.0    32.145    22.189     9.955   713.1\n",
       "4         4.0    32.144    21.249    10.895   780.5\n",
       "..        ...       ...       ...       ...     ...\n",
       "96       96.0    32.144    22.396     9.749   698.3\n",
       "97       97.0    32.144    21.639    10.504   752.5\n",
       "98       98.0    32.144    21.863    10.281   736.5\n",
       "99       99.0    32.144    21.245    10.898   780.7\n",
       "100     100.0    32.143    21.410    10.733   768.8\n",
       "\n",
       "[101 rows x 5 columns]"
      ]
     },
     "metadata": {},
     "output_type": "display_data"
    }
   ],
   "source": [
    "# analyze the trajectory \n",
    "import pandas as pd\n",
    "df = pd.read_csv(log_filename, sep='\\s+')\n",
    "df"
   ]
  },
  {
   "cell_type": "code",
   "execution_count": null,
   "metadata": {},
   "outputs": [
    {
     "data": {
      "image/png": "[encoded data removed]",
      "text/plain": [
       "<Figure size 1000x500 with 4 Axes>"
      ]
     },
     "metadata": {},
     "output_type": "display_data"
    }
   ],
   "source": [
    "# plots\n",
    "import numpy as np\n",
    "import matplotlib.pyplot as plt\n",
    "\n",
    "\n",
    "fig = plt.figure(figsize=(10, 5))\n",
    "\n",
    "#color = 'tab:grey'\n",
    "ax1 = fig.add_subplot(4, 1, 1)\n",
    "ax1.set_xticklabels([])\n",
    "ax1.set_ylabel('Tot E (eV)')\n",
    "ax1.set_ylim([31.,33.])\n",
    "ax1.plot(df[\"Time[ps]\"], df[\"Etot[eV]\"], color=\"blue\",alpha=0.5)\n",
    "\n",
    "ax2 = fig.add_subplot(4, 1, 2)\n",
    "ax2.set_xticklabels([])\n",
    "ax2.set_ylabel('P.E. (eV)')\n",
    "ax2.plot(df[\"Time[ps]\"], df[\"Epot[eV]\"], color=\"green\",alpha=0.5)\n",
    "\n",
    "ax3 = fig.add_subplot(4, 1, 3)\n",
    "ax3.set_xticklabels([])\n",
    "ax3.set_ylabel('K.E. (eV)')\n",
    "ax3.plot(df[\"Time[ps]\"], df[\"Ekin[eV]\"], color=\"orange\",alpha=0.5)\n",
    "\n",
    "ax4 = fig.add_subplot(4, 1, 4)\n",
    "ax4.set_xlabel('time (ps)')\n",
    "ax4.set_ylabel('Temp. (K)')\n",
    "ax4.plot(df[\"Time[ps]\"], df[\"T[K]\"], color=\"red\",alpha=0.5)\n",
    "ax4.set_ylim([500., 1700])\n",
    "\n",
    "fig.suptitle(\"Fig.6-1b. Time evolution of total, potential, and kinetic energies, and temperature.\", y=0)\n",
    "\n",
    "#plt.savefig(\"6-1_liquid-Al_NVE_1.0fs_test_E_vs_t.png\")  # <- Use if saving to an image file is desired\n",
    "plt.show()"
   ]
  },
  {
   "cell_type": "code",
   "execution_count": null,
   "metadata": {},
   "outputs": [],
   "source": [
    "# Additional MD NVT simulations are present in the tutorial guide. \n",
    "# https://docs.matlantis.com/atomistic-simulation-tutorial/en/6_2_md-nvt.html\n",
    "# optional, show the implementation of thermostat"
   ]
  },
  {
   "cell_type": "code",
   "execution_count": null,
   "metadata": {},
   "outputs": [],
   "source": [
    "# Additional MD NPT simulations are present in the tutorial guide. \n",
    "# https://docs.matlantis.com/atomistic-simulation-tutorial/en/6_3_md-npt.html\n",
    "# optional, show the implementation of thermostat"
   ]
  },
  {
   "cell_type": "markdown",
   "metadata": {},
   "source": [
    "### __Example 3. Copper NVE and NVT MD simulations__\n",
    "This example requires `asap3`, only installed in `ASE_extra` venv"
   ]
  },
  {
   "cell_type": "code",
   "execution_count": 10,
   "metadata": {},
   "outputs": [
    {
     "name": "stdout",
     "output_type": "stream",
     "text": [
      "E_pot\t-0.001 eV\t\tE_kin\t0.038 eV (297 K)\t\tE_tot\t0.038 eV\n",
      "E_pot\t0.029 eV\t\tE_kin\t0.009 eV (68 K)\t\tE_tot\t0.038 eV\n",
      "E_pot\t0.019 eV\t\tE_kin\t0.019 eV (144 K)\t\tE_tot\t0.038 eV\n",
      "E_pot\t0.017 eV\t\tE_kin\t0.021 eV (159 K)\t\tE_tot\t0.038 eV\n",
      "E_pot\t0.017 eV\t\tE_kin\t0.021 eV (162 K)\t\tE_tot\t0.038 eV\n",
      "E_pot\t0.020 eV\t\tE_kin\t0.018 eV (138 K)\t\tE_tot\t0.038 eV\n",
      "E_pot\t0.020 eV\t\tE_kin\t0.018 eV (142 K)\t\tE_tot\t0.038 eV\n",
      "E_pot\t0.018 eV\t\tE_kin\t0.020 eV (154 K)\t\tE_tot\t0.038 eV\n",
      "E_pot\t0.018 eV\t\tE_kin\t0.020 eV (154 K)\t\tE_tot\t0.038 eV\n",
      "E_pot\t0.020 eV\t\tE_kin\t0.018 eV (141 K)\t\tE_tot\t0.038 eV\n",
      "E_pot\t0.018 eV\t\tE_kin\t0.020 eV (151 K)\t\tE_tot\t0.038 eV\n",
      "E_pot\t0.018 eV\t\tE_kin\t0.020 eV (152 K)\t\tE_tot\t0.038 eV\n",
      "E_pot\t0.019 eV\t\tE_kin\t0.019 eV (149 K)\t\tE_tot\t0.038 eV\n",
      "E_pot\t0.019 eV\t\tE_kin\t0.019 eV (144 K)\t\tE_tot\t0.038 eV\n",
      "E_pot\t0.018 eV\t\tE_kin\t0.020 eV (154 K)\t\tE_tot\t0.038 eV\n",
      "E_pot\t0.019 eV\t\tE_kin\t0.019 eV (148 K)\t\tE_tot\t0.038 eV\n",
      "E_pot\t0.019 eV\t\tE_kin\t0.019 eV (150 K)\t\tE_tot\t0.038 eV\n",
      "E_pot\t0.019 eV\t\tE_kin\t0.019 eV (144 K)\t\tE_tot\t0.038 eV\n",
      "E_pot\t0.018 eV\t\tE_kin\t0.020 eV (153 K)\t\tE_tot\t0.038 eV\n",
      "E_pot\t0.019 eV\t\tE_kin\t0.019 eV (150 K)\t\tE_tot\t0.038 eV\n",
      "E_pot\t0.020 eV\t\tE_kin\t0.018 eV (141 K)\t\tE_tot\t0.038 eV\n",
      "E_pot\t0.018 eV\t\tE_kin\t0.020 eV (157 K)\t\tE_tot\t0.038 eV\n",
      "E_pot\t0.019 eV\t\tE_kin\t0.019 eV (144 K)\t\tE_tot\t0.038 eV\n",
      "E_pot\t0.019 eV\t\tE_kin\t0.019 eV (150 K)\t\tE_tot\t0.038 eV\n",
      "E_pot\t0.018 eV\t\tE_kin\t0.020 eV (151 K)\t\tE_tot\t0.038 eV\n",
      "E_pot\t0.019 eV\t\tE_kin\t0.019 eV (146 K)\t\tE_tot\t0.038 eV\n",
      "E_pot\t0.019 eV\t\tE_kin\t0.019 eV (148 K)\t\tE_tot\t0.038 eV\n",
      "E_pot\t0.018 eV\t\tE_kin\t0.020 eV (153 K)\t\tE_tot\t0.038 eV\n",
      "E_pot\t0.019 eV\t\tE_kin\t0.019 eV (147 K)\t\tE_tot\t0.038 eV\n",
      "E_pot\t0.019 eV\t\tE_kin\t0.019 eV (146 K)\t\tE_tot\t0.038 eV\n",
      "E_pot\t0.018 eV\t\tE_kin\t0.020 eV (152 K)\t\tE_tot\t0.038 eV\n",
      "E_pot\t0.019 eV\t\tE_kin\t0.019 eV (148 K)\t\tE_tot\t0.038 eV\n",
      "E_pot\t0.019 eV\t\tE_kin\t0.019 eV (149 K)\t\tE_tot\t0.038 eV\n",
      "E_pot\t0.019 eV\t\tE_kin\t0.019 eV (146 K)\t\tE_tot\t0.038 eV\n",
      "E_pot\t0.018 eV\t\tE_kin\t0.020 eV (151 K)\t\tE_tot\t0.038 eV\n",
      "E_pot\t0.018 eV\t\tE_kin\t0.019 eV (151 K)\t\tE_tot\t0.038 eV\n",
      "E_pot\t0.020 eV\t\tE_kin\t0.018 eV (143 K)\t\tE_tot\t0.038 eV\n",
      "E_pot\t0.018 eV\t\tE_kin\t0.020 eV (155 K)\t\tE_tot\t0.038 eV\n",
      "E_pot\t0.019 eV\t\tE_kin\t0.019 eV (149 K)\t\tE_tot\t0.038 eV\n",
      "E_pot\t0.019 eV\t\tE_kin\t0.019 eV (145 K)\t\tE_tot\t0.038 eV\n",
      "E_pot\t0.019 eV\t\tE_kin\t0.019 eV (149 K)\t\tE_tot\t0.038 eV\n"
     ]
    },
    {
     "data": {
      "text/plain": [
       "True"
      ]
     },
     "execution_count": 10,
     "metadata": {},
     "output_type": "execute_result"
    }
   ],
   "source": [
    "# NVE simulation \n",
    "\n",
    "from ase import units\n",
    "from ase.lattice.cubic import FaceCenteredCubic\n",
    "from ase.md.velocitydistribution import MaxwellBoltzmannDistribution\n",
    "from ase.md.verlet import VelocityVerlet\n",
    "from ase.io import Trajectory\n",
    "\n",
    "use_asap = True\n",
    "if use_asap:\n",
    "    from asap3 import EMT\n",
    "    size = 10\n",
    "else:\n",
    "    from ase.calculators.emt import EMT\n",
    "    size = 3\n",
    "\n",
    "# MD sim parameters\n",
    "delta_t = 5     # fs\n",
    "\n",
    "# define the structure, calculator and momenta\n",
    "atoms = FaceCenteredCubic(directions=[[1, 0, 0], [0, 1, 0], [0, 0, 1]],\n",
    "                          symbol=\"Cu\",\n",
    "                          size=(size, size, size),\n",
    "                          pbc=True)\n",
    "atoms.calc = EMT()\n",
    "MaxwellBoltzmannDistribution(atoms, temperature_K=300)\n",
    "\n",
    "\n",
    "\n",
    "\n",
    "# NVE with \n",
    "dyn = VelocityVerlet(atoms, delta_t * units.fs)\n",
    "\n",
    "\n",
    "\n",
    "\n",
    "# saves\n",
    "kinetic_energies = []\n",
    "potential_energies = []\n",
    "total_energies = []\n",
    "\n",
    "# store energies\n",
    "def store_energies():\n",
    "    kinetic_energy = atoms.get_kinetic_energy()\n",
    "    potential_energy = atoms.get_potential_energy()\n",
    "    total_energy = kinetic_energy + potential_energy\n",
    "    kinetic_energies.append(kinetic_energy)\n",
    "    potential_energies.append(potential_energy)\n",
    "    total_energies.append(total_energy)\n",
    "\n",
    "# print energies (per atom)\n",
    "def printenergy(a=atoms):\n",
    "    epot = a.get_potential_energy() / len(a)\n",
    "    ekin = a.get_kinetic_energy() / len(a)\n",
    "    print(f'E_pot\\t{epot:.3f} eV\\t\\tE_kin\\t{ekin:.3f} eV ({ekin / (1.5 * units.kB):.0f} K)\\t\\tE_tot\\t{epot + ekin:.3f} eV')\n",
    "\n",
    "# trajectory\n",
    "traj = Trajectory('Cu_MD.traj', 'w', atoms)\n",
    "\n",
    "# for every step, store, print the energies and save the traj\n",
    "dyn.attach(store_energies, interval=10)\n",
    "dyn.attach(printenergy, interval=10)\n",
    "dyn.attach(traj.write, interval=10)\n",
    "\n",
    "# 2 ps run\n",
    "dyn.run(400)"
   ]
  },
  {
   "cell_type": "code",
   "execution_count": 11,
   "metadata": {},
   "outputs": [
    {
     "data": {
      "application/vnd.jupyter.widget-view+json": {
       "model_id": "aa6d774993d8400eb73a79bfb014ed46",
       "version_major": 2,
       "version_minor": 0
      },
      "text/plain": [
       "HBox(children=(NGLWidget(max_frame=40), VBox(children=(Dropdown(description='Show', options=('All', 'Cu'), val…"
      ]
     },
     "execution_count": 11,
     "metadata": {},
     "output_type": "execute_result"
    }
   ],
   "source": [
    "from ase.visualize import view\n",
    "\n",
    "load_traj = Trajectory('Cu_MD.traj', 'r')\n",
    "view(load_traj, viewer='ngl')"
   ]
  },
  {
   "cell_type": "code",
   "execution_count": 12,
   "metadata": {},
   "outputs": [],
   "source": [
    "# plot import section\n",
    "import numpy as np\n",
    "\n",
    "import matplotlib.pyplot as plt\n",
    "from matplotlib import rc\n",
    "rc('font',**{'family':'sans-serif','sans-serif':['Helvetica']})\n",
    "rc('text', usetex=True)\n",
    "rc('lines', lw=1, color='b')\n",
    "rc('legend', loc='best')\n",
    "plt.rcParams[\"legend.fancybox\"] = False\n",
    "plt.rcParams[\"legend.edgecolor\"] = 'black'\n",
    "plt.rcParams['legend.borderpad'] = 0.25\n",
    "plt.rcParams['legend.fontsize'] = 11\n",
    "plt.rcParams.update({'pgf.preamble': r'\\usepackage{amsmath}'})\n"
   ]
  },
  {
   "cell_type": "code",
   "execution_count": 13,
   "metadata": {},
   "outputs": [
    {
     "data": {
      "image/png": "[encoded data removed]",
      "text/plain": [
       "<Figure size 1200x400 with 3 Axes>"
      ]
     },
     "metadata": {},
     "output_type": "display_data"
    }
   ],
   "source": [
    "# PLOTS\n",
    "fig, axes = plt.subplots(ncols=3, nrows=1, figsize=(12, 4))\n",
    "ax1, ax2, ax3 = axes[0], axes[1], axes[2]\n",
    "\n",
    "# kin\n",
    "ax1.tick_params(bottom=True, top=True, left=True, right=False,\n",
    "                    direction=\"in\")\n",
    "ax1.tick_params(labelbottom=True, labeltop=False, labelleft=True,\n",
    "                    labelright=False, direction=\"in\")\n",
    "ax1.plot(kinetic_energies, label=r'$\\textnormal{kinetic energy}$', color='deeppink', alpha=0.9)\n",
    "ax1.set(xlabel=r'$\\textnormal{simulation time}\\;(\\textnormal{fs})$', ylabel=r'$\\textnormal{kinetic energy}\\;(\\textnormal{eV})$')\n",
    "ax1.legend(loc='best')\n",
    "\n",
    "# pot\n",
    "ax2.tick_params(bottom=True, top=True, left=True, right=False,\n",
    "                    direction=\"in\")\n",
    "ax2.tick_params(labelbottom=True, labeltop=False, labelleft=True,\n",
    "                    labelright=False, direction=\"in\")\n",
    "ax2.plot(potential_energies, label=r'$\\textnormal{potential energy}$', color='darkgreen', alpha=0.9)\n",
    "ax2.set(xlabel=r'$\\textnormal{simulation time}\\;(\\textnormal{fs})$', ylabel=r'$\\textnormal{potential energy}\\;(\\textnormal{eV})$')\n",
    "ax2.legend(loc='best')\n",
    "\n",
    "# total\n",
    "ax3.tick_params(bottom=True, top=True, left=True, right=False,\n",
    "                    direction=\"in\")\n",
    "ax3.tick_params(labelbottom=True, labeltop=False, labelleft=True,\n",
    "                    labelright=False, direction=\"in\")\n",
    "ax3.plot(total_energies, label=r'$\\textnormal{total energy}$', color='darkviolet', alpha=0.9)\n",
    "ax3.set(xlabel=r'$\\textnormal{simulation time}\\;(\\textnormal{fs})$', ylabel=r'$\\textnormal{total energy}\\;(\\textnormal{eV})$')\n",
    "ax3.legend(loc='best')\n",
    "\n",
    "plt.tight_layout()\n",
    "plt.savefig('./Cu_MD.png', dpi=300)\n",
    "plt.show(fig)"
   ]
  },
  {
   "cell_type": "markdown",
   "metadata": {},
   "source": [
    "To perform an NVT calculation, we just have to change the dynamics to include a thermostat, such as Langevin `dyn = Langevin()` dynamics. "
   ]
  },
  {
   "cell_type": "code",
   "execution_count": 16,
   "metadata": {},
   "outputs": [
    {
     "name": "stdout",
     "output_type": "stream",
     "text": [
      "E_pot\t0.135 eV\t\tE_kin\t0.000 eV (0 K)\t\tE_tot\t0.135 eV\n",
      "E_pot\t0.151 eV\t\tE_kin\t0.020 eV (151 K)\t\tE_tot\t0.171 eV\n",
      "E_pot\t0.169 eV\t\tE_kin\t0.034 eV (266 K)\t\tE_tot\t0.203 eV\n",
      "E_pot\t0.185 eV\t\tE_kin\t0.049 eV (376 K)\t\tE_tot\t0.234 eV\n",
      "E_pot\t0.199 eV\t\tE_kin\t0.062 eV (480 K)\t\tE_tot\t0.261 eV\n",
      "E_pot\t0.211 eV\t\tE_kin\t0.074 eV (574 K)\t\tE_tot\t0.286 eV\n",
      "E_pot\t0.225 eV\t\tE_kin\t0.083 eV (643 K)\t\tE_tot\t0.308 eV\n",
      "E_pot\t0.235 eV\t\tE_kin\t0.094 eV (727 K)\t\tE_tot\t0.329 eV\n",
      "E_pot\t0.250 eV\t\tE_kin\t0.100 eV (770 K)\t\tE_tot\t0.350 eV\n",
      "E_pot\t0.258 eV\t\tE_kin\t0.107 eV (831 K)\t\tE_tot\t0.366 eV\n",
      "E_pot\t0.268 eV\t\tE_kin\t0.112 eV (869 K)\t\tE_tot\t0.380 eV\n",
      "E_pot\t0.275 eV\t\tE_kin\t0.120 eV (926 K)\t\tE_tot\t0.395 eV\n",
      "E_pot\t0.286 eV\t\tE_kin\t0.124 eV (960 K)\t\tE_tot\t0.410 eV\n",
      "E_pot\t0.295 eV\t\tE_kin\t0.128 eV (993 K)\t\tE_tot\t0.423 eV\n",
      "E_pot\t0.301 eV\t\tE_kin\t0.135 eV (1048 K)\t\tE_tot\t0.437 eV\n",
      "E_pot\t0.311 eV\t\tE_kin\t0.138 eV (1066 K)\t\tE_tot\t0.448 eV\n",
      "E_pot\t0.318 eV\t\tE_kin\t0.140 eV (1085 K)\t\tE_tot\t0.459 eV\n",
      "E_pot\t0.327 eV\t\tE_kin\t0.140 eV (1085 K)\t\tE_tot\t0.467 eV\n",
      "E_pot\t0.332 eV\t\tE_kin\t0.146 eV (1129 K)\t\tE_tot\t0.478 eV\n",
      "E_pot\t0.343 eV\t\tE_kin\t0.143 eV (1106 K)\t\tE_tot\t0.486 eV\n",
      "E_pot\t0.342 eV\t\tE_kin\t0.153 eV (1182 K)\t\tE_tot\t0.495 eV\n",
      "E_pot\t0.354 eV\t\tE_kin\t0.150 eV (1160 K)\t\tE_tot\t0.504 eV\n",
      "E_pot\t0.357 eV\t\tE_kin\t0.154 eV (1189 K)\t\tE_tot\t0.510 eV\n",
      "E_pot\t0.363 eV\t\tE_kin\t0.154 eV (1195 K)\t\tE_tot\t0.517 eV\n",
      "E_pot\t0.370 eV\t\tE_kin\t0.156 eV (1205 K)\t\tE_tot\t0.526 eV\n",
      "E_pot\t0.374 eV\t\tE_kin\t0.157 eV (1216 K)\t\tE_tot\t0.531 eV\n",
      "E_pot\t0.380 eV\t\tE_kin\t0.157 eV (1218 K)\t\tE_tot\t0.537 eV\n",
      "E_pot\t0.386 eV\t\tE_kin\t0.158 eV (1221 K)\t\tE_tot\t0.543 eV\n",
      "E_pot\t0.391 eV\t\tE_kin\t0.159 eV (1228 K)\t\tE_tot\t0.550 eV\n",
      "E_pot\t0.398 eV\t\tE_kin\t0.161 eV (1242 K)\t\tE_tot\t0.558 eV\n",
      "E_pot\t0.406 eV\t\tE_kin\t0.162 eV (1257 K)\t\tE_tot\t0.569 eV\n",
      "E_pot\t0.417 eV\t\tE_kin\t0.157 eV (1218 K)\t\tE_tot\t0.575 eV\n",
      "E_pot\t0.416 eV\t\tE_kin\t0.162 eV (1252 K)\t\tE_tot\t0.578 eV\n",
      "E_pot\t0.422 eV\t\tE_kin\t0.162 eV (1253 K)\t\tE_tot\t0.584 eV\n",
      "E_pot\t0.426 eV\t\tE_kin\t0.162 eV (1255 K)\t\tE_tot\t0.589 eV\n",
      "E_pot\t0.425 eV\t\tE_kin\t0.167 eV (1291 K)\t\tE_tot\t0.592 eV\n",
      "E_pot\t0.431 eV\t\tE_kin\t0.165 eV (1277 K)\t\tE_tot\t0.596 eV\n",
      "E_pot\t0.438 eV\t\tE_kin\t0.165 eV (1274 K)\t\tE_tot\t0.603 eV\n",
      "E_pot\t0.442 eV\t\tE_kin\t0.167 eV (1293 K)\t\tE_tot\t0.609 eV\n",
      "E_pot\t0.450 eV\t\tE_kin\t0.166 eV (1283 K)\t\tE_tot\t0.615 eV\n",
      "E_pot\t0.451 eV\t\tE_kin\t0.171 eV (1324 K)\t\tE_tot\t0.622 eV\n",
      "E_pot\t0.452 eV\t\tE_kin\t0.173 eV (1341 K)\t\tE_tot\t0.626 eV\n",
      "E_pot\t0.458 eV\t\tE_kin\t0.172 eV (1331 K)\t\tE_tot\t0.630 eV\n",
      "E_pot\t0.458 eV\t\tE_kin\t0.175 eV (1350 K)\t\tE_tot\t0.633 eV\n",
      "E_pot\t0.463 eV\t\tE_kin\t0.174 eV (1344 K)\t\tE_tot\t0.636 eV\n",
      "E_pot\t0.462 eV\t\tE_kin\t0.176 eV (1364 K)\t\tE_tot\t0.638 eV\n",
      "E_pot\t0.463 eV\t\tE_kin\t0.177 eV (1370 K)\t\tE_tot\t0.640 eV\n",
      "E_pot\t0.469 eV\t\tE_kin\t0.175 eV (1354 K)\t\tE_tot\t0.644 eV\n",
      "E_pot\t0.469 eV\t\tE_kin\t0.177 eV (1368 K)\t\tE_tot\t0.646 eV\n",
      "E_pot\t0.468 eV\t\tE_kin\t0.179 eV (1388 K)\t\tE_tot\t0.647 eV\n",
      "E_pot\t0.472 eV\t\tE_kin\t0.179 eV (1385 K)\t\tE_tot\t0.651 eV\n",
      "E_pot\t0.474 eV\t\tE_kin\t0.180 eV (1392 K)\t\tE_tot\t0.654 eV\n",
      "E_pot\t0.472 eV\t\tE_kin\t0.182 eV (1405 K)\t\tE_tot\t0.654 eV\n",
      "E_pot\t0.474 eV\t\tE_kin\t0.183 eV (1413 K)\t\tE_tot\t0.657 eV\n",
      "E_pot\t0.476 eV\t\tE_kin\t0.182 eV (1408 K)\t\tE_tot\t0.659 eV\n",
      "E_pot\t0.478 eV\t\tE_kin\t0.182 eV (1407 K)\t\tE_tot\t0.660 eV\n",
      "E_pot\t0.477 eV\t\tE_kin\t0.184 eV (1424 K)\t\tE_tot\t0.661 eV\n",
      "E_pot\t0.474 eV\t\tE_kin\t0.188 eV (1456 K)\t\tE_tot\t0.662 eV\n",
      "E_pot\t0.480 eV\t\tE_kin\t0.183 eV (1417 K)\t\tE_tot\t0.663 eV\n",
      "E_pot\t0.479 eV\t\tE_kin\t0.187 eV (1446 K)\t\tE_tot\t0.666 eV\n",
      "E_pot\t0.483 eV\t\tE_kin\t0.185 eV (1432 K)\t\tE_tot\t0.668 eV\n",
      "E_pot\t0.484 eV\t\tE_kin\t0.184 eV (1423 K)\t\tE_tot\t0.668 eV\n",
      "E_pot\t0.482 eV\t\tE_kin\t0.189 eV (1463 K)\t\tE_tot\t0.671 eV\n",
      "E_pot\t0.483 eV\t\tE_kin\t0.189 eV (1459 K)\t\tE_tot\t0.672 eV\n",
      "E_pot\t0.484 eV\t\tE_kin\t0.187 eV (1446 K)\t\tE_tot\t0.671 eV\n",
      "E_pot\t0.485 eV\t\tE_kin\t0.190 eV (1467 K)\t\tE_tot\t0.674 eV\n",
      "E_pot\t0.483 eV\t\tE_kin\t0.189 eV (1461 K)\t\tE_tot\t0.672 eV\n",
      "E_pot\t0.486 eV\t\tE_kin\t0.189 eV (1460 K)\t\tE_tot\t0.674 eV\n",
      "E_pot\t0.485 eV\t\tE_kin\t0.191 eV (1477 K)\t\tE_tot\t0.676 eV\n",
      "E_pot\t0.486 eV\t\tE_kin\t0.194 eV (1498 K)\t\tE_tot\t0.679 eV\n",
      "E_pot\t0.488 eV\t\tE_kin\t0.192 eV (1485 K)\t\tE_tot\t0.680 eV\n",
      "E_pot\t0.490 eV\t\tE_kin\t0.189 eV (1466 K)\t\tE_tot\t0.679 eV\n",
      "E_pot\t0.493 eV\t\tE_kin\t0.188 eV (1452 K)\t\tE_tot\t0.680 eV\n",
      "E_pot\t0.490 eV\t\tE_kin\t0.191 eV (1479 K)\t\tE_tot\t0.681 eV\n",
      "E_pot\t0.490 eV\t\tE_kin\t0.193 eV (1491 K)\t\tE_tot\t0.682 eV\n",
      "E_pot\t0.493 eV\t\tE_kin\t0.192 eV (1482 K)\t\tE_tot\t0.684 eV\n",
      "E_pot\t0.493 eV\t\tE_kin\t0.190 eV (1474 K)\t\tE_tot\t0.684 eV\n",
      "E_pot\t0.491 eV\t\tE_kin\t0.194 eV (1499 K)\t\tE_tot\t0.685 eV\n",
      "E_pot\t0.496 eV\t\tE_kin\t0.190 eV (1471 K)\t\tE_tot\t0.686 eV\n",
      "E_pot\t0.495 eV\t\tE_kin\t0.191 eV (1475 K)\t\tE_tot\t0.686 eV\n",
      "E_pot\t0.493 eV\t\tE_kin\t0.193 eV (1493 K)\t\tE_tot\t0.686 eV\n",
      "E_pot\t0.500 eV\t\tE_kin\t0.189 eV (1460 K)\t\tE_tot\t0.689 eV\n",
      "E_pot\t0.498 eV\t\tE_kin\t0.192 eV (1483 K)\t\tE_tot\t0.690 eV\n",
      "E_pot\t0.491 eV\t\tE_kin\t0.199 eV (1539 K)\t\tE_tot\t0.690 eV\n",
      "E_pot\t0.496 eV\t\tE_kin\t0.192 eV (1484 K)\t\tE_tot\t0.688 eV\n",
      "E_pot\t0.498 eV\t\tE_kin\t0.190 eV (1470 K)\t\tE_tot\t0.688 eV\n",
      "E_pot\t0.494 eV\t\tE_kin\t0.195 eV (1508 K)\t\tE_tot\t0.689 eV\n",
      "E_pot\t0.499 eV\t\tE_kin\t0.190 eV (1466 K)\t\tE_tot\t0.688 eV\n",
      "E_pot\t0.498 eV\t\tE_kin\t0.191 eV (1474 K)\t\tE_tot\t0.689 eV\n",
      "E_pot\t0.496 eV\t\tE_kin\t0.192 eV (1488 K)\t\tE_tot\t0.688 eV\n",
      "E_pot\t0.495 eV\t\tE_kin\t0.195 eV (1511 K)\t\tE_tot\t0.690 eV\n",
      "E_pot\t0.497 eV\t\tE_kin\t0.191 eV (1481 K)\t\tE_tot\t0.688 eV\n",
      "E_pot\t0.493 eV\t\tE_kin\t0.195 eV (1509 K)\t\tE_tot\t0.688 eV\n",
      "E_pot\t0.499 eV\t\tE_kin\t0.191 eV (1479 K)\t\tE_tot\t0.690 eV\n",
      "E_pot\t0.499 eV\t\tE_kin\t0.192 eV (1487 K)\t\tE_tot\t0.691 eV\n",
      "E_pot\t0.497 eV\t\tE_kin\t0.192 eV (1485 K)\t\tE_tot\t0.689 eV\n",
      "E_pot\t0.499 eV\t\tE_kin\t0.191 eV (1474 K)\t\tE_tot\t0.689 eV\n",
      "E_pot\t0.495 eV\t\tE_kin\t0.192 eV (1484 K)\t\tE_tot\t0.687 eV\n",
      "E_pot\t0.495 eV\t\tE_kin\t0.193 eV (1492 K)\t\tE_tot\t0.688 eV\n",
      "E_pot\t0.493 eV\t\tE_kin\t0.195 eV (1505 K)\t\tE_tot\t0.687 eV\n",
      "E_pot\t0.494 eV\t\tE_kin\t0.193 eV (1492 K)\t\tE_tot\t0.687 eV\n"
     ]
    },
    {
     "data": {
      "text/plain": [
       "True"
      ]
     },
     "execution_count": 16,
     "metadata": {},
     "output_type": "execute_result"
    }
   ],
   "source": [
    "# NVE simulation \n",
    "\n",
    "from ase import units\n",
    "from ase.lattice.cubic import FaceCenteredCubic\n",
    "from ase.md.velocitydistribution import MaxwellBoltzmannDistribution\n",
    "from ase.md.langevin import Langevin\n",
    "from ase.io import Trajectory\n",
    "\n",
    "use_asap = True\n",
    "if use_asap:\n",
    "    from asap3 import EMT\n",
    "    size = 10\n",
    "else:\n",
    "    from ase.calculators.emt import EMT\n",
    "    size = 3\n",
    "\n",
    "# MD sim parameters\n",
    "delta_t = 5     # fs\n",
    "T = 1500        # Kelvin\n",
    "\n",
    "# define the structure, calculator and momenta\n",
    "atoms = FaceCenteredCubic(directions=[[1, 0, 0], [0, 1, 0], [0, 0, 1]],\n",
    "                          symbol=\"Cu\",\n",
    "                          size=(size, size, size),\n",
    "                          pbc=False)\n",
    "atoms.calc = EMT()\n",
    "dyn = Langevin(atoms, delta_t * units.fs, T * units.kB, 0.002)\n",
    "\n",
    "# saves\n",
    "kinetic_energies = []\n",
    "potential_energies = []\n",
    "total_energies = []\n",
    "\n",
    "# store energies\n",
    "def store_energies():\n",
    "    kinetic_energy = atoms.get_kinetic_energy()\n",
    "    potential_energy = atoms.get_potential_energy()\n",
    "    total_energy = kinetic_energy + potential_energy\n",
    "    kinetic_energies.append(kinetic_energy)\n",
    "    potential_energies.append(potential_energy)\n",
    "    total_energies.append(total_energy)\n",
    "\n",
    "# print energies (per atom)\n",
    "def printenergy(a=atoms):\n",
    "    epot = a.get_potential_energy() / len(a)\n",
    "    ekin = a.get_kinetic_energy() / len(a)\n",
    "    print(f'E_pot\\t{epot:.3f} eV\\t\\tE_kin\\t{ekin:.3f} eV ({ekin / (1.5 * units.kB):.0f} K)\\t\\tE_tot\\t{epot + ekin:.3f} eV')\n",
    "\n",
    "# trajectory\n",
    "traj = Trajectory('Cu_MD_NVT.traj', 'w', atoms)\n",
    "\n",
    "# for every step, store, print the energies and save the traj\n",
    "dyn.attach(store_energies, interval=100)\n",
    "dyn.attach(printenergy, interval=100)\n",
    "dyn.attach(traj.write, interval=100)\n",
    "\n",
    "# 50 ps run\n",
    "dyn.run(10000)"
   ]
  },
  {
   "cell_type": "code",
   "execution_count": 17,
   "metadata": {},
   "outputs": [
    {
     "data": {
      "application/vnd.jupyter.widget-view+json": {
       "model_id": "1b45c33fdb2b4f3c9443d9fef87665eb",
       "version_major": 2,
       "version_minor": 0
      },
      "text/plain": [
       "HBox(children=(NGLWidget(max_frame=100), VBox(children=(Dropdown(description='Show', options=('All', 'Cu'), va…"
      ]
     },
     "execution_count": 17,
     "metadata": {},
     "output_type": "execute_result"
    }
   ],
   "source": [
    "from ase.visualize import view\n",
    "\n",
    "load_traj = Trajectory('Cu_MD_NVT.traj', 'r')\n",
    "view(load_traj, viewer='ngl')"
   ]
  },
  {
   "cell_type": "code",
   "execution_count": 19,
   "metadata": {},
   "outputs": [
    {
     "data": {
      "image/png": "[encoded data removed]",
      "text/plain": [
       "<Figure size 1200x400 with 3 Axes>"
      ]
     },
     "metadata": {},
     "output_type": "display_data"
    }
   ],
   "source": [
    "# PLOTS\n",
    "fig, axes = plt.subplots(ncols=3, nrows=1, figsize=(12, 4))\n",
    "ax1, ax2, ax3 = axes[0], axes[1], axes[2]\n",
    "\n",
    "# kin\n",
    "ax1.tick_params(bottom=True, top=True, left=True, right=False,\n",
    "                    direction=\"in\")\n",
    "ax1.tick_params(labelbottom=True, labeltop=False, labelleft=True,\n",
    "                    labelright=False, direction=\"in\")\n",
    "ax1.plot(kinetic_energies, label=r'$\\textnormal{kinetic energy}$', color='deeppink', alpha=0.9)\n",
    "ax1.set(xlabel=r'$\\textnormal{simulation time}\\;(\\textnormal{fs})$', ylabel=r'$\\textnormal{kinetic energy}\\;(\\textnormal{eV})$')\n",
    "ax1.legend(loc='best')\n",
    "\n",
    "# pot\n",
    "ax2.tick_params(bottom=True, top=True, left=True, right=False,\n",
    "                    direction=\"in\")\n",
    "ax2.tick_params(labelbottom=True, labeltop=False, labelleft=True,\n",
    "                    labelright=False, direction=\"in\")\n",
    "ax2.plot(potential_energies, label=r'$\\textnormal{potential energy}$', color='darkgreen', alpha=0.9)\n",
    "ax2.set(xlabel=r'$\\textnormal{simulation time}\\;(\\textnormal{fs})$', ylabel=r'$\\textnormal{potential energy}\\;(\\textnormal{eV})$')\n",
    "ax2.legend(loc='best')\n",
    "\n",
    "# total\n",
    "ax3.tick_params(bottom=True, top=True, left=True, right=False,\n",
    "                    direction=\"in\")\n",
    "ax3.tick_params(labelbottom=True, labeltop=False, labelleft=True,\n",
    "                    labelright=False, direction=\"in\")\n",
    "ax3.plot(total_energies, label=r'$\\textnormal{total energy}$', color='darkviolet', alpha=0.9)\n",
    "ax3.set(xlabel=r'$\\textnormal{simulation time}\\;(\\textnormal{fs})$', ylabel=r'$\\textnormal{total energy}\\;(\\textnormal{eV})$')\n",
    "ax3.legend(loc='best')\n",
    "\n",
    "plt.tight_layout()\n",
    "plt.savefig('./Cu_MD_NVT.png', dpi=300)\n",
    "plt.show(fig)"
   ]
  },
  {
   "cell_type": "code",
   "execution_count": 20,
   "metadata": {},
   "outputs": [
    {
     "name": "stdout",
     "output_type": "stream",
     "text": [
      "Traceback (most recent call last):\n",
      "  File \"/Users/sergiortizropero/miniconda3/envs/ASE_extra/lib/python3.10/runpy.py\", line 196, in _run_module_as_main\n",
      "    return _run_code(code, main_globals, None,\n",
      "  File \"/Users/sergiortizropero/miniconda3/envs/ASE_extra/lib/python3.10/runpy.py\", line 86, in _run_code\n",
      "    exec(code, run_globals)\n",
      "  File \"/Users/sergiortizropero/miniconda3/envs/ASE_extra/lib/python3.10/site-packages/ase/gui/pipe.py\", line 32, in <module>\n",
      "    main()\n",
      "  File \"/Users/sergiortizropero/miniconda3/envs/ASE_extra/lib/python3.10/site-packages/ase/gui/pipe.py\", line 28, in main\n",
      "    plt.show()\n",
      "  File \"/Users/sergiortizropero/miniconda3/envs/ASE_extra/lib/python3.10/site-packages/matplotlib/pyplot.py\", line 614, in show\n",
      "    return _get_backend_mod().show(*args, **kwargs)\n",
      "  File \"/Users/sergiortizropero/miniconda3/envs/ASE_extra/lib/python3.10/site-packages/matplotlib_inline/backend_inline.py\", line 90, in show\n",
      "    display(\n",
      "  File \"/Users/sergiortizropero/miniconda3/envs/ASE_extra/lib/python3.10/site-packages/IPython/core/display_functions.py\", line 265, in display\n",
      "    print(*objs)\n",
      "ValueError: I/O operation on closed file.\n",
      "2025-02-02 16:08:52.503 python3.10[24138:404147] +[IMKClient subclass]: chose IMKClient_Modern\n",
      "2025-02-02 16:08:52.503 python3.10[24138:404147] +[IMKInputSession subclass]: chose IMKInputSession_Modern\n",
      "Exception in Tkinter callback\n",
      "Traceback (most recent call last):\n",
      "  File \"/Users/sergiortizropero/miniconda3/envs/ASE_extra/lib/python3.10/tkinter/__init__.py\", line 1921, in __call__\n",
      "    return self.func(*args)\n",
      "  File \"/Users/sergiortizropero/miniconda3/envs/ASE_extra/lib/python3.10/tkinter/__init__.py\", line 839, in callit\n",
      "    func(*args)\n",
      "  File \"/Users/sergiortizropero/miniconda3/envs/ASE_extra/lib/python3.10/site-packages/ase/gui/movie.py\", line 97, in step\n",
      "    self.play()\n",
      "  File \"/Users/sergiortizropero/miniconda3/envs/ASE_extra/lib/python3.10/site-packages/ase/gui/movie.py\", line 75, in play\n",
      "    t = 1 / self.time.value\n",
      "  File \"/Users/sergiortizropero/miniconda3/envs/ASE_extra/lib/python3.10/site-packages/ase/gui/ui.py\", line 232, in value\n",
      "    return int(x)\n",
      "ValueError: invalid literal for int() with base 10: 'q0'\n",
      "Exception in Tkinter callback\n",
      "Traceback (most recent call last):\n",
      "  File \"/Users/sergiortizropero/miniconda3/envs/ASE_extra/lib/python3.10/tkinter/__init__.py\", line 1921, in __call__\n",
      "    return self.func(*args)\n",
      "  File \"/Users/sergiortizropero/miniconda3/envs/ASE_extra/lib/python3.10/site-packages/ase/gui/ui.py\", line 221, in <lambda>\n",
      "    self.widget.bind('<Return>', lambda event: self.callback())\n",
      "TypeError: 'NoneType' object is not callable\n",
      "Exception in Tkinter callback\n",
      "Traceback (most recent call last):\n",
      "  File \"/Users/sergiortizropero/miniconda3/envs/ASE_extra/lib/python3.10/tkinter/__init__.py\", line 1921, in __call__\n",
      "    return self.func(*args)\n",
      "  File \"/Users/sergiortizropero/miniconda3/envs/ASE_extra/lib/python3.10/tkinter/__init__.py\", line 839, in callit\n",
      "    func(*args)\n",
      "  File \"/Users/sergiortizropero/miniconda3/envs/ASE_extra/lib/python3.10/site-packages/ase/gui/movie.py\", line 97, in step\n",
      "    self.play()\n",
      "  File \"/Users/sergiortizropero/miniconda3/envs/ASE_extra/lib/python3.10/site-packages/ase/gui/movie.py\", line 75, in play\n",
      "    t = 1 / self.time.value\n",
      "  File \"/Users/sergiortizropero/miniconda3/envs/ASE_extra/lib/python3.10/site-packages/ase/gui/ui.py\", line 232, in value\n",
      "    return int(x)\n",
      "ValueError: invalid literal for int() with base 10: ''\n",
      "Exception in Tkinter callback\n",
      "Traceback (most recent call last):\n",
      "  File \"/Users/sergiortizropero/miniconda3/envs/ASE_extra/lib/python3.10/tkinter/__init__.py\", line 1921, in __call__\n",
      "    return self.func(*args)\n",
      "  File \"/Users/sergiortizropero/miniconda3/envs/ASE_extra/lib/python3.10/site-packages/ase/gui/ui.py\", line 221, in <lambda>\n",
      "    self.widget.bind('<Return>', lambda event: self.callback())\n",
      "TypeError: 'NoneType' object is not callable\n"
     ]
    }
   ],
   "source": [
    "! ase gui Cu_MD_NVT.traj"
   ]
  },
  {
   "cell_type": "markdown",
   "metadata": {},
   "source": [
    "Finally, a Cu nanoparticle MD simulation"
   ]
  },
  {
   "cell_type": "code",
   "execution_count": 28,
   "metadata": {},
   "outputs": [
    {
     "name": "stdout",
     "output_type": "stream",
     "text": [
      "                Step[ FC]     Time          Energy          fmax\n",
      "BFGSLineSearch:    0[  0] 16:19:46      229.993910       0.9105\n",
      "BFGSLineSearch:    1[  1] 16:19:47      227.400516       0.2107\n"
     ]
    },
    {
     "name": "stderr",
     "output_type": "stream",
     "text": [
      "/Users/sergiortizropero/miniconda3/envs/ASE_extra/lib/python3.10/site-packages/asap3/Internal/BuiltinPotentials.py:57: RuntimeWarning: invalid value encountered in scalar divide\n",
      "  heights[i] = abs(np.dot(cell[i], direction) / np.sqrt(np.dot(direction,direction)))\n"
     ]
    },
    {
     "name": "stdout",
     "output_type": "stream",
     "text": [
      "BFGSLineSearch:    2[  2] 16:19:47      226.673993       0.1234\n",
      "BFGSLineSearch:    3[  3] 16:19:48      226.229376       0.0818\n",
      "BFGSLineSearch:    4[  4] 16:19:49      225.822527       0.0899\n",
      "BFGSLineSearch:    5[  5] 16:19:51      225.465449       0.0818\n",
      "BFGSLineSearch:    6[  6] 16:19:51      225.168123       0.0802\n",
      "BFGSLineSearch:    7[  7] 16:19:52      224.957507       0.0629\n",
      "BFGSLineSearch:    8[  8] 16:19:53      224.839176       0.0612\n",
      "BFGSLineSearch:    9[  9] 16:19:54      224.799385       0.0237\n",
      "BFGSLineSearch:   10[ 10] 16:19:55      224.788981       0.0140\n",
      "E_pot\t0.193 eV\t\tE_kin\t0.157 eV (1217 K)\t\tE_tot\t0.351 eV\n",
      "E_pot\t0.295 eV\t\tE_kin\t0.057 eV (438 K)\t\tE_tot\t0.351 eV\n",
      "E_pot\t0.279 eV\t\tE_kin\t0.073 eV (562 K)\t\tE_tot\t0.351 eV\n",
      "E_pot\t0.277 eV\t\tE_kin\t0.074 eV (571 K)\t\tE_tot\t0.351 eV\n",
      "E_pot\t0.276 eV\t\tE_kin\t0.076 eV (584 K)\t\tE_tot\t0.351 eV\n",
      "E_pot\t0.279 eV\t\tE_kin\t0.072 eV (558 K)\t\tE_tot\t0.351 eV\n",
      "E_pot\t0.278 eV\t\tE_kin\t0.073 eV (567 K)\t\tE_tot\t0.351 eV\n",
      "E_pot\t0.283 eV\t\tE_kin\t0.068 eV (528 K)\t\tE_tot\t0.351 eV\n",
      "E_pot\t0.283 eV\t\tE_kin\t0.068 eV (528 K)\t\tE_tot\t0.351 eV\n",
      "E_pot\t0.279 eV\t\tE_kin\t0.072 eV (556 K)\t\tE_tot\t0.351 eV\n",
      "E_pot\t0.279 eV\t\tE_kin\t0.072 eV (555 K)\t\tE_tot\t0.351 eV\n",
      "E_pot\t0.274 eV\t\tE_kin\t0.077 eV (597 K)\t\tE_tot\t0.351 eV\n",
      "E_pot\t0.274 eV\t\tE_kin\t0.077 eV (595 K)\t\tE_tot\t0.351 eV\n",
      "E_pot\t0.275 eV\t\tE_kin\t0.077 eV (593 K)\t\tE_tot\t0.351 eV\n",
      "E_pot\t0.273 eV\t\tE_kin\t0.078 eV (602 K)\t\tE_tot\t0.351 eV\n",
      "E_pot\t0.271 eV\t\tE_kin\t0.081 eV (623 K)\t\tE_tot\t0.351 eV\n",
      "E_pot\t0.274 eV\t\tE_kin\t0.077 eV (595 K)\t\tE_tot\t0.351 eV\n",
      "E_pot\t0.277 eV\t\tE_kin\t0.075 eV (577 K)\t\tE_tot\t0.351 eV\n",
      "E_pot\t0.274 eV\t\tE_kin\t0.077 eV (598 K)\t\tE_tot\t0.351 eV\n",
      "E_pot\t0.276 eV\t\tE_kin\t0.076 eV (585 K)\t\tE_tot\t0.351 eV\n",
      "E_pot\t0.276 eV\t\tE_kin\t0.075 eV (584 K)\t\tE_tot\t0.351 eV\n",
      "E_pot\t0.277 eV\t\tE_kin\t0.074 eV (575 K)\t\tE_tot\t0.351 eV\n",
      "E_pot\t0.282 eV\t\tE_kin\t0.069 eV (537 K)\t\tE_tot\t0.351 eV\n",
      "E_pot\t0.282 eV\t\tE_kin\t0.069 eV (533 K)\t\tE_tot\t0.351 eV\n",
      "E_pot\t0.281 eV\t\tE_kin\t0.070 eV (540 K)\t\tE_tot\t0.351 eV\n",
      "E_pot\t0.278 eV\t\tE_kin\t0.073 eV (565 K)\t\tE_tot\t0.351 eV\n",
      "E_pot\t0.278 eV\t\tE_kin\t0.074 eV (569 K)\t\tE_tot\t0.351 eV\n",
      "E_pot\t0.274 eV\t\tE_kin\t0.077 eV (598 K)\t\tE_tot\t0.351 eV\n",
      "E_pot\t0.273 eV\t\tE_kin\t0.079 eV (608 K)\t\tE_tot\t0.351 eV\n",
      "E_pot\t0.274 eV\t\tE_kin\t0.077 eV (596 K)\t\tE_tot\t0.351 eV\n",
      "E_pot\t0.275 eV\t\tE_kin\t0.076 eV (587 K)\t\tE_tot\t0.351 eV\n",
      "E_pot\t0.275 eV\t\tE_kin\t0.076 eV (586 K)\t\tE_tot\t0.351 eV\n",
      "E_pot\t0.275 eV\t\tE_kin\t0.076 eV (587 K)\t\tE_tot\t0.351 eV\n",
      "E_pot\t0.271 eV\t\tE_kin\t0.081 eV (624 K)\t\tE_tot\t0.351 eV\n",
      "E_pot\t0.274 eV\t\tE_kin\t0.078 eV (600 K)\t\tE_tot\t0.351 eV\n",
      "E_pot\t0.277 eV\t\tE_kin\t0.074 eV (574 K)\t\tE_tot\t0.351 eV\n",
      "E_pot\t0.278 eV\t\tE_kin\t0.073 eV (565 K)\t\tE_tot\t0.351 eV\n",
      "E_pot\t0.280 eV\t\tE_kin\t0.072 eV (554 K)\t\tE_tot\t0.351 eV\n",
      "E_pot\t0.281 eV\t\tE_kin\t0.070 eV (542 K)\t\tE_tot\t0.351 eV\n",
      "E_pot\t0.282 eV\t\tE_kin\t0.069 eV (535 K)\t\tE_tot\t0.351 eV\n",
      "E_pot\t0.279 eV\t\tE_kin\t0.073 eV (561 K)\t\tE_tot\t0.351 eV\n",
      "E_pot\t0.276 eV\t\tE_kin\t0.076 eV (585 K)\t\tE_tot\t0.351 eV\n",
      "E_pot\t0.274 eV\t\tE_kin\t0.077 eV (596 K)\t\tE_tot\t0.351 eV\n",
      "E_pot\t0.277 eV\t\tE_kin\t0.074 eV (573 K)\t\tE_tot\t0.351 eV\n",
      "E_pot\t0.275 eV\t\tE_kin\t0.076 eV (589 K)\t\tE_tot\t0.351 eV\n",
      "E_pot\t0.272 eV\t\tE_kin\t0.079 eV (613 K)\t\tE_tot\t0.351 eV\n",
      "E_pot\t0.275 eV\t\tE_kin\t0.076 eV (592 K)\t\tE_tot\t0.351 eV\n",
      "E_pot\t0.274 eV\t\tE_kin\t0.077 eV (594 K)\t\tE_tot\t0.351 eV\n",
      "E_pot\t0.274 eV\t\tE_kin\t0.077 eV (599 K)\t\tE_tot\t0.351 eV\n",
      "E_pot\t0.276 eV\t\tE_kin\t0.075 eV (582 K)\t\tE_tot\t0.351 eV\n",
      "E_pot\t0.275 eV\t\tE_kin\t0.076 eV (588 K)\t\tE_tot\t0.351 eV\n",
      "E_pot\t0.278 eV\t\tE_kin\t0.073 eV (563 K)\t\tE_tot\t0.351 eV\n",
      "E_pot\t0.277 eV\t\tE_kin\t0.074 eV (573 K)\t\tE_tot\t0.351 eV\n",
      "E_pot\t0.279 eV\t\tE_kin\t0.072 eV (556 K)\t\tE_tot\t0.351 eV\n",
      "E_pot\t0.279 eV\t\tE_kin\t0.072 eV (557 K)\t\tE_tot\t0.351 eV\n",
      "E_pot\t0.283 eV\t\tE_kin\t0.069 eV (531 K)\t\tE_tot\t0.351 eV\n",
      "E_pot\t0.279 eV\t\tE_kin\t0.073 eV (561 K)\t\tE_tot\t0.351 eV\n",
      "E_pot\t0.278 eV\t\tE_kin\t0.073 eV (565 K)\t\tE_tot\t0.351 eV\n",
      "E_pot\t0.274 eV\t\tE_kin\t0.077 eV (594 K)\t\tE_tot\t0.351 eV\n",
      "E_pot\t0.273 eV\t\tE_kin\t0.078 eV (604 K)\t\tE_tot\t0.351 eV\n",
      "E_pot\t0.273 eV\t\tE_kin\t0.078 eV (606 K)\t\tE_tot\t0.351 eV\n",
      "E_pot\t0.274 eV\t\tE_kin\t0.077 eV (595 K)\t\tE_tot\t0.351 eV\n",
      "E_pot\t0.274 eV\t\tE_kin\t0.077 eV (595 K)\t\tE_tot\t0.351 eV\n",
      "E_pot\t0.274 eV\t\tE_kin\t0.077 eV (594 K)\t\tE_tot\t0.351 eV\n",
      "E_pot\t0.274 eV\t\tE_kin\t0.077 eV (593 K)\t\tE_tot\t0.351 eV\n",
      "E_pot\t0.276 eV\t\tE_kin\t0.075 eV (584 K)\t\tE_tot\t0.351 eV\n",
      "E_pot\t0.278 eV\t\tE_kin\t0.073 eV (565 K)\t\tE_tot\t0.351 eV\n",
      "E_pot\t0.278 eV\t\tE_kin\t0.073 eV (563 K)\t\tE_tot\t0.351 eV\n",
      "E_pot\t0.280 eV\t\tE_kin\t0.071 eV (549 K)\t\tE_tot\t0.351 eV\n",
      "E_pot\t0.282 eV\t\tE_kin\t0.069 eV (536 K)\t\tE_tot\t0.351 eV\n",
      "E_pot\t0.280 eV\t\tE_kin\t0.071 eV (548 K)\t\tE_tot\t0.351 eV\n",
      "E_pot\t0.277 eV\t\tE_kin\t0.075 eV (577 K)\t\tE_tot\t0.351 eV\n",
      "E_pot\t0.279 eV\t\tE_kin\t0.073 eV (562 K)\t\tE_tot\t0.351 eV\n",
      "E_pot\t0.277 eV\t\tE_kin\t0.074 eV (571 K)\t\tE_tot\t0.351 eV\n",
      "E_pot\t0.276 eV\t\tE_kin\t0.076 eV (585 K)\t\tE_tot\t0.351 eV\n",
      "E_pot\t0.272 eV\t\tE_kin\t0.079 eV (610 K)\t\tE_tot\t0.351 eV\n",
      "E_pot\t0.276 eV\t\tE_kin\t0.075 eV (578 K)\t\tE_tot\t0.351 eV\n",
      "E_pot\t0.273 eV\t\tE_kin\t0.078 eV (603 K)\t\tE_tot\t0.351 eV\n",
      "E_pot\t0.274 eV\t\tE_kin\t0.077 eV (596 K)\t\tE_tot\t0.351 eV\n",
      "E_pot\t0.272 eV\t\tE_kin\t0.079 eV (611 K)\t\tE_tot\t0.351 eV\n",
      "E_pot\t0.278 eV\t\tE_kin\t0.073 eV (568 K)\t\tE_tot\t0.351 eV\n",
      "E_pot\t0.277 eV\t\tE_kin\t0.074 eV (575 K)\t\tE_tot\t0.351 eV\n",
      "E_pot\t0.279 eV\t\tE_kin\t0.072 eV (555 K)\t\tE_tot\t0.351 eV\n",
      "E_pot\t0.280 eV\t\tE_kin\t0.072 eV (554 K)\t\tE_tot\t0.351 eV\n",
      "E_pot\t0.280 eV\t\tE_kin\t0.071 eV (551 K)\t\tE_tot\t0.351 eV\n",
      "E_pot\t0.280 eV\t\tE_kin\t0.071 eV (547 K)\t\tE_tot\t0.351 eV\n",
      "E_pot\t0.279 eV\t\tE_kin\t0.073 eV (562 K)\t\tE_tot\t0.351 eV\n",
      "E_pot\t0.277 eV\t\tE_kin\t0.074 eV (572 K)\t\tE_tot\t0.351 eV\n",
      "E_pot\t0.276 eV\t\tE_kin\t0.075 eV (582 K)\t\tE_tot\t0.351 eV\n",
      "E_pot\t0.274 eV\t\tE_kin\t0.077 eV (595 K)\t\tE_tot\t0.351 eV\n",
      "E_pot\t0.276 eV\t\tE_kin\t0.075 eV (582 K)\t\tE_tot\t0.351 eV\n",
      "E_pot\t0.272 eV\t\tE_kin\t0.079 eV (609 K)\t\tE_tot\t0.351 eV\n",
      "E_pot\t0.277 eV\t\tE_kin\t0.074 eV (574 K)\t\tE_tot\t0.351 eV\n",
      "E_pot\t0.273 eV\t\tE_kin\t0.078 eV (602 K)\t\tE_tot\t0.351 eV\n",
      "E_pot\t0.275 eV\t\tE_kin\t0.076 eV (591 K)\t\tE_tot\t0.351 eV\n",
      "E_pot\t0.275 eV\t\tE_kin\t0.076 eV (587 K)\t\tE_tot\t0.351 eV\n",
      "E_pot\t0.277 eV\t\tE_kin\t0.074 eV (571 K)\t\tE_tot\t0.351 eV\n",
      "E_pot\t0.280 eV\t\tE_kin\t0.071 eV (549 K)\t\tE_tot\t0.351 eV\n",
      "E_pot\t0.278 eV\t\tE_kin\t0.074 eV (570 K)\t\tE_tot\t0.351 eV\n",
      "E_pot\t0.281 eV\t\tE_kin\t0.070 eV (541 K)\t\tE_tot\t0.351 eV\n",
      "E_pot\t0.280 eV\t\tE_kin\t0.072 eV (553 K)\t\tE_tot\t0.351 eV\n",
      "E_pot\t0.282 eV\t\tE_kin\t0.070 eV (538 K)\t\tE_tot\t0.351 eV\n",
      "E_pot\t0.278 eV\t\tE_kin\t0.073 eV (568 K)\t\tE_tot\t0.351 eV\n",
      "E_pot\t0.277 eV\t\tE_kin\t0.074 eV (571 K)\t\tE_tot\t0.351 eV\n",
      "E_pot\t0.274 eV\t\tE_kin\t0.077 eV (594 K)\t\tE_tot\t0.351 eV\n",
      "E_pot\t0.274 eV\t\tE_kin\t0.077 eV (598 K)\t\tE_tot\t0.351 eV\n",
      "E_pot\t0.274 eV\t\tE_kin\t0.077 eV (593 K)\t\tE_tot\t0.351 eV\n",
      "E_pot\t0.274 eV\t\tE_kin\t0.077 eV (599 K)\t\tE_tot\t0.351 eV\n",
      "E_pot\t0.276 eV\t\tE_kin\t0.076 eV (585 K)\t\tE_tot\t0.351 eV\n",
      "E_pot\t0.273 eV\t\tE_kin\t0.078 eV (604 K)\t\tE_tot\t0.351 eV\n",
      "E_pot\t0.277 eV\t\tE_kin\t0.074 eV (575 K)\t\tE_tot\t0.351 eV\n",
      "E_pot\t0.277 eV\t\tE_kin\t0.074 eV (573 K)\t\tE_tot\t0.351 eV\n",
      "E_pot\t0.276 eV\t\tE_kin\t0.075 eV (580 K)\t\tE_tot\t0.351 eV\n",
      "E_pot\t0.278 eV\t\tE_kin\t0.073 eV (566 K)\t\tE_tot\t0.351 eV\n",
      "E_pot\t0.280 eV\t\tE_kin\t0.071 eV (551 K)\t\tE_tot\t0.351 eV\n",
      "E_pot\t0.280 eV\t\tE_kin\t0.071 eV (547 K)\t\tE_tot\t0.351 eV\n",
      "E_pot\t0.278 eV\t\tE_kin\t0.073 eV (566 K)\t\tE_tot\t0.351 eV\n",
      "E_pot\t0.278 eV\t\tE_kin\t0.073 eV (566 K)\t\tE_tot\t0.351 eV\n",
      "E_pot\t0.279 eV\t\tE_kin\t0.072 eV (558 K)\t\tE_tot\t0.351 eV\n",
      "E_pot\t0.277 eV\t\tE_kin\t0.074 eV (575 K)\t\tE_tot\t0.351 eV\n",
      "E_pot\t0.277 eV\t\tE_kin\t0.074 eV (575 K)\t\tE_tot\t0.351 eV\n",
      "E_pot\t0.276 eV\t\tE_kin\t0.075 eV (579 K)\t\tE_tot\t0.351 eV\n",
      "E_pot\t0.273 eV\t\tE_kin\t0.078 eV (605 K)\t\tE_tot\t0.351 eV\n",
      "E_pot\t0.274 eV\t\tE_kin\t0.078 eV (601 K)\t\tE_tot\t0.351 eV\n",
      "E_pot\t0.274 eV\t\tE_kin\t0.078 eV (600 K)\t\tE_tot\t0.351 eV\n",
      "E_pot\t0.276 eV\t\tE_kin\t0.075 eV (583 K)\t\tE_tot\t0.351 eV\n",
      "E_pot\t0.272 eV\t\tE_kin\t0.079 eV (611 K)\t\tE_tot\t0.351 eV\n",
      "E_pot\t0.278 eV\t\tE_kin\t0.073 eV (567 K)\t\tE_tot\t0.351 eV\n",
      "E_pot\t0.279 eV\t\tE_kin\t0.072 eV (556 K)\t\tE_tot\t0.351 eV\n",
      "E_pot\t0.280 eV\t\tE_kin\t0.071 eV (548 K)\t\tE_tot\t0.351 eV\n",
      "E_pot\t0.279 eV\t\tE_kin\t0.073 eV (561 K)\t\tE_tot\t0.351 eV\n",
      "E_pot\t0.275 eV\t\tE_kin\t0.076 eV (589 K)\t\tE_tot\t0.351 eV\n",
      "E_pot\t0.281 eV\t\tE_kin\t0.070 eV (544 K)\t\tE_tot\t0.351 eV\n",
      "E_pot\t0.277 eV\t\tE_kin\t0.074 eV (571 K)\t\tE_tot\t0.351 eV\n",
      "E_pot\t0.276 eV\t\tE_kin\t0.075 eV (579 K)\t\tE_tot\t0.351 eV\n",
      "E_pot\t0.274 eV\t\tE_kin\t0.077 eV (597 K)\t\tE_tot\t0.351 eV\n",
      "E_pot\t0.274 eV\t\tE_kin\t0.077 eV (594 K)\t\tE_tot\t0.351 eV\n",
      "E_pot\t0.274 eV\t\tE_kin\t0.077 eV (596 K)\t\tE_tot\t0.351 eV\n",
      "E_pot\t0.275 eV\t\tE_kin\t0.076 eV (591 K)\t\tE_tot\t0.351 eV\n",
      "E_pot\t0.276 eV\t\tE_kin\t0.075 eV (583 K)\t\tE_tot\t0.351 eV\n",
      "E_pot\t0.274 eV\t\tE_kin\t0.077 eV (593 K)\t\tE_tot\t0.351 eV\n",
      "E_pot\t0.275 eV\t\tE_kin\t0.076 eV (586 K)\t\tE_tot\t0.351 eV\n",
      "E_pot\t0.275 eV\t\tE_kin\t0.076 eV (591 K)\t\tE_tot\t0.351 eV\n",
      "E_pot\t0.276 eV\t\tE_kin\t0.075 eV (578 K)\t\tE_tot\t0.351 eV\n",
      "E_pot\t0.279 eV\t\tE_kin\t0.072 eV (561 K)\t\tE_tot\t0.351 eV\n",
      "E_pot\t0.280 eV\t\tE_kin\t0.072 eV (554 K)\t\tE_tot\t0.351 eV\n",
      "E_pot\t0.280 eV\t\tE_kin\t0.071 eV (551 K)\t\tE_tot\t0.351 eV\n",
      "E_pot\t0.278 eV\t\tE_kin\t0.073 eV (566 K)\t\tE_tot\t0.351 eV\n",
      "E_pot\t0.278 eV\t\tE_kin\t0.073 eV (567 K)\t\tE_tot\t0.351 eV\n",
      "E_pot\t0.276 eV\t\tE_kin\t0.076 eV (584 K)\t\tE_tot\t0.351 eV\n",
      "E_pot\t0.277 eV\t\tE_kin\t0.074 eV (576 K)\t\tE_tot\t0.351 eV\n",
      "E_pot\t0.274 eV\t\tE_kin\t0.077 eV (597 K)\t\tE_tot\t0.351 eV\n",
      "E_pot\t0.274 eV\t\tE_kin\t0.077 eV (596 K)\t\tE_tot\t0.351 eV\n",
      "E_pot\t0.277 eV\t\tE_kin\t0.075 eV (577 K)\t\tE_tot\t0.351 eV\n",
      "E_pot\t0.272 eV\t\tE_kin\t0.079 eV (612 K)\t\tE_tot\t0.351 eV\n",
      "E_pot\t0.273 eV\t\tE_kin\t0.078 eV (601 K)\t\tE_tot\t0.351 eV\n",
      "E_pot\t0.274 eV\t\tE_kin\t0.077 eV (595 K)\t\tE_tot\t0.351 eV\n",
      "E_pot\t0.276 eV\t\tE_kin\t0.075 eV (581 K)\t\tE_tot\t0.351 eV\n",
      "E_pot\t0.278 eV\t\tE_kin\t0.074 eV (569 K)\t\tE_tot\t0.351 eV\n",
      "E_pot\t0.279 eV\t\tE_kin\t0.072 eV (559 K)\t\tE_tot\t0.351 eV\n",
      "E_pot\t0.277 eV\t\tE_kin\t0.074 eV (571 K)\t\tE_tot\t0.351 eV\n",
      "E_pot\t0.280 eV\t\tE_kin\t0.071 eV (552 K)\t\tE_tot\t0.351 eV\n",
      "E_pot\t0.278 eV\t\tE_kin\t0.073 eV (567 K)\t\tE_tot\t0.351 eV\n",
      "E_pot\t0.278 eV\t\tE_kin\t0.073 eV (566 K)\t\tE_tot\t0.351 eV\n",
      "E_pot\t0.277 eV\t\tE_kin\t0.074 eV (571 K)\t\tE_tot\t0.351 eV\n",
      "E_pot\t0.276 eV\t\tE_kin\t0.075 eV (580 K)\t\tE_tot\t0.351 eV\n",
      "E_pot\t0.278 eV\t\tE_kin\t0.073 eV (568 K)\t\tE_tot\t0.351 eV\n",
      "E_pot\t0.274 eV\t\tE_kin\t0.077 eV (594 K)\t\tE_tot\t0.351 eV\n",
      "E_pot\t0.273 eV\t\tE_kin\t0.078 eV (607 K)\t\tE_tot\t0.351 eV\n",
      "E_pot\t0.277 eV\t\tE_kin\t0.074 eV (573 K)\t\tE_tot\t0.351 eV\n",
      "E_pot\t0.275 eV\t\tE_kin\t0.076 eV (590 K)\t\tE_tot\t0.351 eV\n",
      "E_pot\t0.276 eV\t\tE_kin\t0.075 eV (584 K)\t\tE_tot\t0.351 eV\n",
      "E_pot\t0.278 eV\t\tE_kin\t0.073 eV (568 K)\t\tE_tot\t0.351 eV\n",
      "E_pot\t0.277 eV\t\tE_kin\t0.074 eV (570 K)\t\tE_tot\t0.351 eV\n",
      "E_pot\t0.276 eV\t\tE_kin\t0.076 eV (585 K)\t\tE_tot\t0.351 eV\n",
      "E_pot\t0.278 eV\t\tE_kin\t0.073 eV (564 K)\t\tE_tot\t0.351 eV\n",
      "E_pot\t0.278 eV\t\tE_kin\t0.073 eV (563 K)\t\tE_tot\t0.351 eV\n",
      "E_pot\t0.279 eV\t\tE_kin\t0.073 eV (562 K)\t\tE_tot\t0.351 eV\n",
      "E_pot\t0.276 eV\t\tE_kin\t0.075 eV (580 K)\t\tE_tot\t0.351 eV\n",
      "E_pot\t0.278 eV\t\tE_kin\t0.073 eV (563 K)\t\tE_tot\t0.351 eV\n",
      "E_pot\t0.278 eV\t\tE_kin\t0.073 eV (563 K)\t\tE_tot\t0.351 eV\n",
      "E_pot\t0.274 eV\t\tE_kin\t0.077 eV (597 K)\t\tE_tot\t0.351 eV\n",
      "E_pot\t0.276 eV\t\tE_kin\t0.075 eV (581 K)\t\tE_tot\t0.351 eV\n",
      "E_pot\t0.273 eV\t\tE_kin\t0.078 eV (606 K)\t\tE_tot\t0.351 eV\n",
      "E_pot\t0.277 eV\t\tE_kin\t0.075 eV (576 K)\t\tE_tot\t0.351 eV\n",
      "E_pot\t0.276 eV\t\tE_kin\t0.075 eV (580 K)\t\tE_tot\t0.351 eV\n",
      "E_pot\t0.279 eV\t\tE_kin\t0.073 eV (562 K)\t\tE_tot\t0.351 eV\n",
      "E_pot\t0.272 eV\t\tE_kin\t0.079 eV (609 K)\t\tE_tot\t0.351 eV\n",
      "E_pot\t0.278 eV\t\tE_kin\t0.073 eV (565 K)\t\tE_tot\t0.351 eV\n",
      "E_pot\t0.276 eV\t\tE_kin\t0.075 eV (582 K)\t\tE_tot\t0.351 eV\n",
      "E_pot\t0.278 eV\t\tE_kin\t0.073 eV (567 K)\t\tE_tot\t0.351 eV\n",
      "E_pot\t0.278 eV\t\tE_kin\t0.074 eV (569 K)\t\tE_tot\t0.351 eV\n",
      "E_pot\t0.279 eV\t\tE_kin\t0.073 eV (562 K)\t\tE_tot\t0.351 eV\n",
      "E_pot\t0.280 eV\t\tE_kin\t0.071 eV (548 K)\t\tE_tot\t0.351 eV\n",
      "E_pot\t0.275 eV\t\tE_kin\t0.076 eV (589 K)\t\tE_tot\t0.351 eV\n",
      "E_pot\t0.278 eV\t\tE_kin\t0.073 eV (567 K)\t\tE_tot\t0.351 eV\n",
      "E_pot\t0.278 eV\t\tE_kin\t0.073 eV (566 K)\t\tE_tot\t0.351 eV\n",
      "E_pot\t0.274 eV\t\tE_kin\t0.078 eV (600 K)\t\tE_tot\t0.351 eV\n",
      "E_pot\t0.274 eV\t\tE_kin\t0.077 eV (597 K)\t\tE_tot\t0.351 eV\n",
      "E_pot\t0.274 eV\t\tE_kin\t0.077 eV (595 K)\t\tE_tot\t0.351 eV\n",
      "E_pot\t0.276 eV\t\tE_kin\t0.075 eV (580 K)\t\tE_tot\t0.351 eV\n"
     ]
    },
    {
     "data": {
      "text/plain": [
       "True"
      ]
     },
     "execution_count": 28,
     "metadata": {},
     "output_type": "execute_result"
    }
   ],
   "source": [
    "# NVE simulation \n",
    "\n",
    "from ase import units\n",
    "from ase.cluster.cubic import FaceCenteredCubic\n",
    "from ase.md.velocitydistribution import (\n",
    "    MaxwellBoltzmannDistribution,\n",
    "    Stationary,\n",
    "    ZeroRotation,\n",
    ")\n",
    "from ase.md.verlet import VelocityVerlet\n",
    "from ase.optimize import QuasiNewton\n",
    "from ase.io import Trajectory\n",
    "\n",
    "\n",
    "use_asap = True\n",
    "if use_asap:\n",
    "    from asap3 import EMT\n",
    "    size = 10\n",
    "else:\n",
    "    from ase.calculators.emt import EMT\n",
    "    size = 3\n",
    "\n",
    "# MD sim parameters\n",
    "delta_t = 5     # fs\n",
    "T = 1200        # Kelvin\n",
    "\n",
    "# define the structure, calculator and momenta\n",
    "atoms = FaceCenteredCubic('Cu',\n",
    "                          surfaces=[[1, 0, 0], [1, 1, 0], [1, 1, 1]],\n",
    "                          layers=(size, size, size),\n",
    "                          vacuum=4)\n",
    "atoms.calc = EMT()\n",
    "\n",
    "# relaxation\n",
    "opt = QuasiNewton(atoms)\n",
    "opt.run(0.001, 10)\n",
    "\n",
    "\n",
    "MaxwellBoltzmannDistribution(atoms, temperature_K=T)\n",
    "Stationary(atoms)       # zero linear momentum\n",
    "ZeroRotation(atoms)     # zero angular momentum\n",
    "dyn = VelocityVerlet(atoms, delta_t * units.fs)\n",
    "\n",
    "# saves\n",
    "kinetic_energies = []\n",
    "potential_energies = []\n",
    "total_energies = []\n",
    "\n",
    "# store energies\n",
    "def store_energies():\n",
    "    kinetic_energy = atoms.get_kinetic_energy()\n",
    "    potential_energy = atoms.get_potential_energy()\n",
    "    total_energy = kinetic_energy + potential_energy\n",
    "    kinetic_energies.append(kinetic_energy)\n",
    "    potential_energies.append(potential_energy)\n",
    "    total_energies.append(total_energy)\n",
    "\n",
    "# print energies (per atom)\n",
    "def printenergy(a=atoms):\n",
    "    epot = a.get_potential_energy() / len(a)\n",
    "    ekin = a.get_kinetic_energy() / len(a)\n",
    "    print(f'E_pot\\t{epot:.3f} eV\\t\\tE_kin\\t{ekin:.3f} eV ({ekin / (1.5 * units.kB):.0f} K)\\t\\tE_tot\\t{epot + ekin:.3f} eV')\n",
    "\n",
    "# trajectory\n",
    "traj = Trajectory('Cu_nano.traj', 'w', atoms)\n",
    "\n",
    "# for every step, store, print the energies and save the traj\n",
    "dyn.attach(store_energies, interval=10)\n",
    "dyn.attach(printenergy, interval=10)\n",
    "dyn.attach(traj.write, interval=10)\n",
    "\n",
    "# 10 ps run\n",
    "dyn.run(2000)"
   ]
  },
  {
   "cell_type": "code",
   "execution_count": 29,
   "metadata": {},
   "outputs": [
    {
     "data": {
      "application/vnd.jupyter.widget-view+json": {
       "model_id": "162f1999de0846d6bdeb2eb127a5ca27",
       "version_major": 2,
       "version_minor": 0
      },
      "text/plain": [
       "HBox(children=(NGLWidget(max_frame=200), VBox(children=(Dropdown(description='Show', options=('All', 'Cu'), va…"
      ]
     },
     "execution_count": 29,
     "metadata": {},
     "output_type": "execute_result"
    }
   ],
   "source": [
    "from ase.visualize import view\n",
    "\n",
    "load_traj = Trajectory('Cu_nano.traj', 'r')\n",
    "view(load_traj, viewer='ngl')"
   ]
  },
  {
   "cell_type": "code",
   "execution_count": 30,
   "metadata": {},
   "outputs": [
    {
     "data": {
      "image/png": "[encoded data removed]",
      "text/plain": [
       "<Figure size 1200x400 with 3 Axes>"
      ]
     },
     "metadata": {},
     "output_type": "display_data"
    }
   ],
   "source": [
    "# PLOTS\n",
    "fig, axes = plt.subplots(ncols=3, nrows=1, figsize=(12, 4))\n",
    "ax1, ax2, ax3 = axes[0], axes[1], axes[2]\n",
    "\n",
    "# kin\n",
    "ax1.tick_params(bottom=True, top=True, left=True, right=False,\n",
    "                    direction=\"in\")\n",
    "ax1.tick_params(labelbottom=True, labeltop=False, labelleft=True,\n",
    "                    labelright=False, direction=\"in\")\n",
    "ax1.plot(kinetic_energies, label=r'$\\textnormal{kinetic energy}$', color='deeppink', alpha=0.9)\n",
    "ax1.set(xlabel=r'$\\textnormal{simulation time}\\;(\\textnormal{fs})$', ylabel=r'$\\textnormal{kinetic energy}\\;(\\textnormal{eV})$')\n",
    "ax1.legend(loc='best')\n",
    "\n",
    "# pot\n",
    "ax2.tick_params(bottom=True, top=True, left=True, right=False,\n",
    "                    direction=\"in\")\n",
    "ax2.tick_params(labelbottom=True, labeltop=False, labelleft=True,\n",
    "                    labelright=False, direction=\"in\")\n",
    "ax2.plot(potential_energies, label=r'$\\textnormal{potential energy}$', color='darkgreen', alpha=0.9)\n",
    "ax2.set(xlabel=r'$\\textnormal{simulation time}\\;(\\textnormal{fs})$', ylabel=r'$\\textnormal{potential energy}\\;(\\textnormal{eV})$')\n",
    "ax2.legend(loc='best')\n",
    "\n",
    "# total\n",
    "ax3.tick_params(bottom=True, top=True, left=True, right=False,\n",
    "                    direction=\"in\")\n",
    "ax3.tick_params(labelbottom=True, labeltop=False, labelleft=True,\n",
    "                    labelright=False, direction=\"in\")\n",
    "ax3.plot(total_energies, label=r'$\\textnormal{total energy}$', color='darkviolet', alpha=0.9)\n",
    "ax3.set(xlabel=r'$\\textnormal{simulation time}\\;(\\textnormal{fs})$', ylabel=r'$\\textnormal{total energy}\\;(\\textnormal{eV})$')\n",
    "ax3.legend(loc='best')\n",
    "\n",
    "plt.tight_layout()\n",
    "plt.savefig('./Cu_nano.png', dpi=300)\n",
    "plt.show(fig)"
   ]
  },
  {
   "cell_type": "markdown",
   "metadata": {},
   "source": [
    "### __Example 4. Equilibration of a solvent box__\n",
    "Another NVT example of equilibrating a box of TIP3P waters (rigid molecules). The TIP3P force field is contained in `ase.calculators.tip3p`. Remember that when changing the system, if a different interatomic potential wants to be used, a different calculator is necessary!"
   ]
  },
  {
   "cell_type": "code",
   "execution_count": null,
   "metadata": {},
   "outputs": [
    {
     "name": "stdout",
     "output_type": "stream",
     "text": [
      "E_pot\t10.941 eV\t\tE_kin\t0.000 eV (0 K)\t\tE_tot\t10.941 eV\n",
      "E_pot\t3.715 eV\t\tE_kin\t7.159 eV (55387 K)\t\tE_tot\t10.874 eV\n",
      "E_pot\t-6.062 eV\t\tE_kin\t16.677 eV (129022 K)\t\tE_tot\t10.616 eV\n",
      "E_pot\t-7.721 eV\t\tE_kin\t17.985 eV (139138 K)\t\tE_tot\t10.264 eV\n",
      "E_pot\t-7.021 eV\t\tE_kin\t16.934 eV (131007 K)\t\tE_tot\t9.913 eV\n",
      "E_pot\t-8.192 eV\t\tE_kin\t17.775 eV (137513 K)\t\tE_tot\t9.583 eV\n",
      "E_pot\t-7.623 eV\t\tE_kin\t16.847 eV (130331 K)\t\tE_tot\t9.224 eV\n",
      "E_pot\t-8.267 eV\t\tE_kin\t16.855 eV (130399 K)\t\tE_tot\t8.588 eV\n",
      "E_pot\t-7.443 eV\t\tE_kin\t15.755 eV (121886 K)\t\tE_tot\t8.312 eV\n",
      "E_pot\t-8.007 eV\t\tE_kin\t15.975 eV (123590 K)\t\tE_tot\t7.968 eV\n",
      "E_pot\t-9.249 eV\t\tE_kin\t16.892 eV (130679 K)\t\tE_tot\t7.642 eV\n",
      "E_pot\t-9.415 eV\t\tE_kin\t16.734 eV (129458 K)\t\tE_tot\t7.318 eV\n",
      "E_pot\t-9.463 eV\t\tE_kin\t16.472 eV (127433 K)\t\tE_tot\t7.009 eV\n",
      "E_pot\t-9.970 eV\t\tE_kin\t16.669 eV (128958 K)\t\tE_tot\t6.699 eV\n",
      "E_pot\t-8.934 eV\t\tE_kin\t15.275 eV (118176 K)\t\tE_tot\t6.341 eV\n",
      "E_pot\t-8.928 eV\t\tE_kin\t14.971 eV (115820 K)\t\tE_tot\t6.043 eV\n",
      "E_pot\t-10.256 eV\t\tE_kin\t15.994 eV (123736 K)\t\tE_tot\t5.738 eV\n",
      "E_pot\t-12.200 eV\t\tE_kin\t17.619 eV (136306 K)\t\tE_tot\t5.419 eV\n",
      "E_pot\t-13.365 eV\t\tE_kin\t18.150 eV (140413 K)\t\tE_tot\t4.785 eV\n",
      "E_pot\t-10.267 eV\t\tE_kin\t15.046 eV (116400 K)\t\tE_tot\t4.779 eV\n",
      "E_pot\t-10.960 eV\t\tE_kin\t15.449 eV (119516 K)\t\tE_tot\t4.488 eV\n",
      "E_pot\t-10.206 eV\t\tE_kin\t14.335 eV (110898 K)\t\tE_tot\t4.129 eV\n",
      "E_pot\t-10.999 eV\t\tE_kin\t15.166 eV (117330 K)\t\tE_tot\t4.167 eV\n",
      "E_pot\t-11.529 eV\t\tE_kin\t15.354 eV (118787 K)\t\tE_tot\t3.825 eV\n",
      "E_pot\t-10.136 eV\t\tE_kin\t13.690 eV (105914 K)\t\tE_tot\t3.555 eV\n",
      "E_pot\t-9.933 eV\t\tE_kin\t13.230 eV (102355 K)\t\tE_tot\t3.298 eV\n",
      "E_pot\t-11.941 eV\t\tE_kin\t14.755 eV (114152 K)\t\tE_tot\t2.814 eV\n",
      "E_pot\t-11.243 eV\t\tE_kin\t13.826 eV (106963 K)\t\tE_tot\t2.583 eV\n",
      "E_pot\t-11.406 eV\t\tE_kin\t13.901 eV (107541 K)\t\tE_tot\t2.495 eV\n",
      "E_pot\t-12.823 eV\t\tE_kin\t15.028 eV (116266 K)\t\tE_tot\t2.205 eV\n",
      "E_pot\t-15.329 eV\t\tE_kin\t17.061 eV (131988 K)\t\tE_tot\t1.732 eV\n",
      "E_pot\t-15.324 eV\t\tE_kin\t16.675 eV (129006 K)\t\tE_tot\t1.351 eV\n",
      "E_pot\t-12.242 eV\t\tE_kin\t13.615 eV (105330 K)\t\tE_tot\t1.373 eV\n",
      "E_pot\t-15.201 eV\t\tE_kin\t16.164 eV (125051 K)\t\tE_tot\t0.963 eV\n",
      "E_pot\t-15.002 eV\t\tE_kin\t15.739 eV (121760 K)\t\tE_tot\t0.737 eV\n",
      "E_pot\t-14.444 eV\t\tE_kin\t14.924 eV (115454 K)\t\tE_tot\t0.479 eV\n",
      "E_pot\t-16.647 eV\t\tE_kin\t16.706 eV (129247 K)\t\tE_tot\t0.059 eV\n",
      "E_pot\t-15.891 eV\t\tE_kin\t15.105 eV (116854 K)\t\tE_tot\t-0.786 eV\n",
      "E_pot\t-14.074 eV\t\tE_kin\t13.043 eV (100906 K)\t\tE_tot\t-1.031 eV\n",
      "E_pot\t-18.866 eV\t\tE_kin\t16.885 eV (130629 K)\t\tE_tot\t-1.981 eV\n",
      "E_pot\t-17.220 eV\t\tE_kin\t15.757 eV (121899 K)\t\tE_tot\t-1.463 eV\n"
     ]
    },
    {
     "data": {
      "text/plain": [
       "True"
      ]
     },
     "execution_count": 7,
     "metadata": {},
     "output_type": "execute_result"
    }
   ],
   "source": [
    "import numpy as np\n",
    "\n",
    "import ase.units as units\n",
    "from ase import Atoms\n",
    "from ase.calculators.tip3p import TIP3P, angleHOH, rOH\n",
    "from ase.constraints import FixBondLengths\n",
    "from ase.io.trajectory import Trajectory\n",
    "from ase.md import Langevin\n",
    "from ase.optimize import QuasiNewton\n",
    "\n",
    "# Set up water box at 20 deg C density\n",
    "x = angleHOH * np.pi / 180 / 2\n",
    "pos = [[0, 0, 0],\n",
    "       [0, rOH * np.cos(x), rOH * np.sin(x)],\n",
    "       [0, rOH * np.cos(x), -rOH * np.sin(x)]]\n",
    "atoms = Atoms('OH2', positions=pos)\n",
    "\n",
    "vol = ((18.01528 / 6.022140857e23) / (0.9982 / 1e24))**(1 / 3.)\n",
    "atoms.set_cell((vol, vol, vol))\n",
    "atoms.center()\n",
    "atoms = atoms.repeat((3, 3, 3))\n",
    "atoms.rattle(stdev=0.2, rng=np.random.RandomState())\n",
    "atoms.set_pbc(True)\n",
    "\n",
    "# RATTLE-type constraints on O-H1, O-H2, H1-H2.\n",
    "atoms.constraints = FixBondLengths([(3 * i + j, 3 * i + (j + 1) % 3)\n",
    "                                    for i in range(3**3)\n",
    "                                    for j in [0, 1, 2]])\n",
    "\n",
    "tag = 'something'\n",
    "atoms.calc = TIP3P(rc=4.5)\n",
    "dyn = Langevin(atoms, 1 * units.fs, temperature_K=300 * units.kB,\n",
    "              friction=0.01, logfile=tag + '.log')\n",
    "\n",
    "# saves\n",
    "kinetic_energies = []\n",
    "potential_energies = []\n",
    "total_energies = []\n",
    "\n",
    "# store energies\n",
    "def store_energies():\n",
    "    kinetic_energy = atoms.get_kinetic_energy()\n",
    "    potential_energy = atoms.get_potential_energy()\n",
    "    total_energy = kinetic_energy + potential_energy\n",
    "    kinetic_energies.append(kinetic_energy)\n",
    "    potential_energies.append(potential_energy)\n",
    "    total_energies.append(total_energy)\n",
    "\n",
    "# print energies (per atom)\n",
    "def printenergy(a=atoms):\n",
    "    epot = a.get_potential_energy() \n",
    "    ekin = a.get_kinetic_energy()\n",
    "    print(f'E_pot\\t{epot:.3f} eV\\t\\tE_kin\\t{ekin:.3f} eV ({ekin / (1.5 * units.kB):.0f} K)\\t\\tE_tot\\t{epot + ekin:.3f} eV')\n",
    "\n",
    "# trajectory\n",
    "traj = Trajectory(tag + '.traj', 'w', atoms)\n",
    "\n",
    "# for every step, store, print the energies and save the traj\n",
    "dyn.attach(store_energies, interval=10)\n",
    "dyn.attach(printenergy, interval=10)\n",
    "dyn.attach(traj.write, interval=10)\n",
    "dyn.run(400)"
   ]
  },
  {
   "cell_type": "code",
   "execution_count": null,
   "metadata": {},
   "outputs": [
    {
     "data": {
      "application/vnd.jupyter.widget-view+json": {
       "model_id": "e61586c13a894fe191bd77f718f452a9",
       "version_major": 2,
       "version_minor": 0
      },
      "text/plain": [
       "HBox(children=(NGLWidget(max_frame=56), VBox(children=(Dropdown(description='Show', options=('All', 'O', 'H'),…"
      ]
     },
     "execution_count": 37,
     "metadata": {},
     "output_type": "execute_result"
    }
   ],
   "source": [
    "from ase.visualize import view\n",
    "\n",
    "load_traj = Trajectory(tag + '.traj', 'r')\n",
    "view(load_traj, viewer='ngl')"
   ]
  },
  {
   "cell_type": "code",
   "execution_count": 35,
   "metadata": {},
   "outputs": [
    {
     "data": {
      "image/png": "[encoded data removed]",
      "text/plain": [
       "<Figure size 1200x400 with 3 Axes>"
      ]
     },
     "metadata": {},
     "output_type": "display_data"
    }
   ],
   "source": [
    "# PLOTS\n",
    "fig, axes = plt.subplots(ncols=3, nrows=1, figsize=(12, 4))\n",
    "ax1, ax2, ax3 = axes[0], axes[1], axes[2]\n",
    "\n",
    "# kin\n",
    "ax1.tick_params(bottom=True, top=True, left=True, right=False,\n",
    "                    direction=\"in\")\n",
    "ax1.tick_params(labelbottom=True, labeltop=False, labelleft=True,\n",
    "                    labelright=False, direction=\"in\")\n",
    "ax1.plot(kinetic_energies, label=r'$\\textnormal{kinetic energy}$', color='deeppink', alpha=0.9)\n",
    "ax1.set(xlabel=r'$\\textnormal{simulation time}\\;(\\textnormal{fs})$', ylabel=r'$\\textnormal{kinetic energy}\\;(\\textnormal{eV})$')\n",
    "ax1.legend(loc='best')\n",
    "\n",
    "# pot\n",
    "ax2.tick_params(bottom=True, top=True, left=True, right=False,\n",
    "                    direction=\"in\")\n",
    "ax2.tick_params(labelbottom=True, labeltop=False, labelleft=True,\n",
    "                    labelright=False, direction=\"in\")\n",
    "ax2.plot(potential_energies, label=r'$\\textnormal{potential energy}$', color='darkgreen', alpha=0.9)\n",
    "ax2.set(xlabel=r'$\\textnormal{simulation time}\\;(\\textnormal{fs})$', ylabel=r'$\\textnormal{potential energy}\\;(\\textnormal{eV})$')\n",
    "ax2.legend(loc='best')\n",
    "\n",
    "# total\n",
    "ax3.tick_params(bottom=True, top=True, left=True, right=False,\n",
    "                    direction=\"in\")\n",
    "ax3.tick_params(labelbottom=True, labeltop=False, labelleft=True,\n",
    "                    labelright=False, direction=\"in\")\n",
    "ax3.plot(total_energies, label=r'$\\textnormal{total energy}$', color='darkviolet', alpha=0.9)\n",
    "ax3.set(xlabel=r'$\\textnormal{simulation time}\\;(\\textnormal{fs})$', ylabel=r'$\\textnormal{total energy}\\;(\\textnormal{eV})$')\n",
    "ax3.legend(loc='best')\n",
    "\n",
    "plt.tight_layout()\n",
    "plt.savefig('./TIP3P_Waters.png', dpi=300)\n",
    "plt.show(fig)"
   ]
  },
  {
   "cell_type": "code",
   "execution_count": 5,
   "metadata": {},
   "outputs": [
    {
     "ename": "RuntimeError",
     "evalue": "Did not converge",
     "output_type": "error",
     "traceback": [
      "\u001b[0;31m---------------------------------------------------------------------------\u001b[0m",
      "\u001b[0;31mRuntimeError\u001b[0m                              Traceback (most recent call last)",
      "Cell \u001b[0;32mIn[5], line 14\u001b[0m\n\u001b[1;32m     12\u001b[0m traj \u001b[38;5;241m=\u001b[39m Trajectory(tag \u001b[38;5;241m+\u001b[39m \u001b[38;5;124m'\u001b[39m\u001b[38;5;124m.traj\u001b[39m\u001b[38;5;124m'\u001b[39m, \u001b[38;5;124m'\u001b[39m\u001b[38;5;124mw\u001b[39m\u001b[38;5;124m'\u001b[39m, atoms)\n\u001b[1;32m     13\u001b[0m md\u001b[38;5;241m.\u001b[39mattach(traj\u001b[38;5;241m.\u001b[39mwrite, interval\u001b[38;5;241m=\u001b[39m\u001b[38;5;241m1\u001b[39m)\n\u001b[0;32m---> 14\u001b[0m \u001b[43mmd\u001b[49m\u001b[38;5;241;43m.\u001b[39;49m\u001b[43mrun\u001b[49m\u001b[43m(\u001b[49m\u001b[38;5;241;43m200\u001b[39;49m\u001b[43m)\u001b[49m\n",
      "File \u001b[0;32m~/miniconda3/envs/ASE_extra/lib/python3.10/site-packages/ase/md/md.py:169\u001b[0m, in \u001b[0;36mMolecularDynamics.run\u001b[0;34m(self, steps)\u001b[0m\n\u001b[1;32m    156\u001b[0m \u001b[38;5;28;01mdef\u001b[39;00m\u001b[38;5;250m \u001b[39m\u001b[38;5;21mrun\u001b[39m(\u001b[38;5;28mself\u001b[39m, steps\u001b[38;5;241m=\u001b[39m\u001b[38;5;241m50\u001b[39m):\n\u001b[1;32m    157\u001b[0m \u001b[38;5;250m    \u001b[39m\u001b[38;5;124;03m\"\"\"Run molecular dynamics algorithm.\u001b[39;00m\n\u001b[1;32m    158\u001b[0m \n\u001b[1;32m    159\u001b[0m \u001b[38;5;124;03m    Parameters\u001b[39;00m\n\u001b[0;32m   (...)\u001b[0m\n\u001b[1;32m    167\u001b[0m \u001b[38;5;124;03m        True if the maximum number of steps are reached.\u001b[39;00m\n\u001b[1;32m    168\u001b[0m \u001b[38;5;124;03m    \"\"\"\u001b[39;00m\n\u001b[0;32m--> 169\u001b[0m     \u001b[38;5;28;01mreturn\u001b[39;00m \u001b[43mDynamics\u001b[49m\u001b[38;5;241;43m.\u001b[39;49m\u001b[43mrun\u001b[49m\u001b[43m(\u001b[49m\u001b[38;5;28;43mself\u001b[39;49m\u001b[43m,\u001b[49m\u001b[43m \u001b[49m\u001b[43msteps\u001b[49m\u001b[38;5;241;43m=\u001b[39;49m\u001b[43msteps\u001b[49m\u001b[43m)\u001b[49m\n",
      "File \u001b[0;32m~/miniconda3/envs/ASE_extra/lib/python3.10/site-packages/ase/optimize/optimize.py:283\u001b[0m, in \u001b[0;36mDynamics.run\u001b[0;34m(self, steps)\u001b[0m\n\u001b[1;32m    265\u001b[0m \u001b[38;5;28;01mdef\u001b[39;00m\u001b[38;5;250m \u001b[39m\u001b[38;5;21mrun\u001b[39m(\u001b[38;5;28mself\u001b[39m, steps\u001b[38;5;241m=\u001b[39mDEFAULT_MAX_STEPS):\n\u001b[1;32m    266\u001b[0m \u001b[38;5;250m    \u001b[39m\u001b[38;5;124;03m\"\"\"Run dynamics algorithm.\u001b[39;00m\n\u001b[1;32m    267\u001b[0m \n\u001b[1;32m    268\u001b[0m \u001b[38;5;124;03m    This method will return when the forces on all individual\u001b[39;00m\n\u001b[0;32m   (...)\u001b[0m\n\u001b[1;32m    280\u001b[0m \u001b[38;5;124;03m        True if the forces on atoms are converged.\u001b[39;00m\n\u001b[1;32m    281\u001b[0m \u001b[38;5;124;03m    \"\"\"\u001b[39;00m\n\u001b[0;32m--> 283\u001b[0m     \u001b[38;5;28;01mfor\u001b[39;00m converged \u001b[38;5;129;01min\u001b[39;00m Dynamics\u001b[38;5;241m.\u001b[39mirun(\u001b[38;5;28mself\u001b[39m, steps\u001b[38;5;241m=\u001b[39msteps):\n\u001b[1;32m    284\u001b[0m         \u001b[38;5;28;01mpass\u001b[39;00m\n\u001b[1;32m    285\u001b[0m     \u001b[38;5;28;01mreturn\u001b[39;00m converged\n",
      "File \u001b[0;32m~/miniconda3/envs/ASE_extra/lib/python3.10/site-packages/ase/optimize/optimize.py:233\u001b[0m, in \u001b[0;36mDynamics.irun\u001b[0;34m(self, steps)\u001b[0m\n\u001b[1;32m    230\u001b[0m \u001b[38;5;28mself\u001b[39m\u001b[38;5;241m.\u001b[39mmax_steps \u001b[38;5;241m=\u001b[39m \u001b[38;5;28mself\u001b[39m\u001b[38;5;241m.\u001b[39mnsteps \u001b[38;5;241m+\u001b[39m steps\n\u001b[1;32m    232\u001b[0m \u001b[38;5;66;03m# compute the initial step\u001b[39;00m\n\u001b[0;32m--> 233\u001b[0m \u001b[38;5;28;43mself\u001b[39;49m\u001b[38;5;241;43m.\u001b[39;49m\u001b[43moptimizable\u001b[49m\u001b[38;5;241;43m.\u001b[39;49m\u001b[43mget_forces\u001b[49m\u001b[43m(\u001b[49m\u001b[43m)\u001b[49m\n\u001b[1;32m    235\u001b[0m \u001b[38;5;66;03m# log the initial step\u001b[39;00m\n\u001b[1;32m    236\u001b[0m \u001b[38;5;28;01mif\u001b[39;00m \u001b[38;5;28mself\u001b[39m\u001b[38;5;241m.\u001b[39mnsteps \u001b[38;5;241m==\u001b[39m \u001b[38;5;241m0\u001b[39m:\n",
      "File \u001b[0;32m~/miniconda3/envs/ASE_extra/lib/python3.10/site-packages/ase/optimize/optimize.py:34\u001b[0m, in \u001b[0;36mOptimizableAtoms.get_forces\u001b[0;34m(self)\u001b[0m\n\u001b[1;32m     33\u001b[0m \u001b[38;5;28;01mdef\u001b[39;00m\u001b[38;5;250m \u001b[39m\u001b[38;5;21mget_forces\u001b[39m(\u001b[38;5;28mself\u001b[39m):\n\u001b[0;32m---> 34\u001b[0m     \u001b[38;5;28;01mreturn\u001b[39;00m \u001b[38;5;28;43mself\u001b[39;49m\u001b[38;5;241;43m.\u001b[39;49m\u001b[43matoms\u001b[49m\u001b[38;5;241;43m.\u001b[39;49m\u001b[43mget_forces\u001b[49m\u001b[43m(\u001b[49m\u001b[43m)\u001b[49m\n",
      "File \u001b[0;32m~/miniconda3/envs/ASE_extra/lib/python3.10/site-packages/ase/atoms.py:837\u001b[0m, in \u001b[0;36mAtoms.get_forces\u001b[0;34m(self, apply_constraint, md)\u001b[0m\n\u001b[1;32m    835\u001b[0m             constraint\u001b[38;5;241m.\u001b[39mredistribute_forces_md(\u001b[38;5;28mself\u001b[39m, forces)\n\u001b[1;32m    836\u001b[0m         \u001b[38;5;28;01mif\u001b[39;00m \u001b[38;5;129;01mnot\u001b[39;00m md \u001b[38;5;129;01mor\u001b[39;00m \u001b[38;5;28mhasattr\u001b[39m(constraint, \u001b[38;5;124m'\u001b[39m\u001b[38;5;124madjust_potential_energy\u001b[39m\u001b[38;5;124m'\u001b[39m):\n\u001b[0;32m--> 837\u001b[0m             \u001b[43mconstraint\u001b[49m\u001b[38;5;241;43m.\u001b[39;49m\u001b[43madjust_forces\u001b[49m\u001b[43m(\u001b[49m\u001b[38;5;28;43mself\u001b[39;49m\u001b[43m,\u001b[49m\u001b[43m \u001b[49m\u001b[43mforces\u001b[49m\u001b[43m)\u001b[49m\n\u001b[1;32m    838\u001b[0m \u001b[38;5;28;01mreturn\u001b[39;00m forces\n",
      "File \u001b[0;32m~/miniconda3/envs/ASE_extra/lib/python3.10/site-packages/ase/constraints.py:367\u001b[0m, in \u001b[0;36mFixBondLengths.adjust_forces\u001b[0;34m(self, atoms, forces)\u001b[0m\n\u001b[1;32m    365\u001b[0m \u001b[38;5;28;01mdef\u001b[39;00m\u001b[38;5;250m \u001b[39m\u001b[38;5;21madjust_forces\u001b[39m(\u001b[38;5;28mself\u001b[39m, atoms, forces):\n\u001b[1;32m    366\u001b[0m     \u001b[38;5;28mself\u001b[39m\u001b[38;5;241m.\u001b[39mconstraint_forces \u001b[38;5;241m=\u001b[39m \u001b[38;5;241m-\u001b[39mforces\n\u001b[0;32m--> 367\u001b[0m     \u001b[38;5;28;43mself\u001b[39;49m\u001b[38;5;241;43m.\u001b[39;49m\u001b[43madjust_momenta\u001b[49m\u001b[43m(\u001b[49m\u001b[43matoms\u001b[49m\u001b[43m,\u001b[49m\u001b[43m \u001b[49m\u001b[43mforces\u001b[49m\u001b[43m)\u001b[49m\n\u001b[1;32m    368\u001b[0m     \u001b[38;5;28mself\u001b[39m\u001b[38;5;241m.\u001b[39mconstraint_forces \u001b[38;5;241m+\u001b[39m\u001b[38;5;241m=\u001b[39m forces\n",
      "File \u001b[0;32m~/miniconda3/envs/ASE_extra/lib/python3.10/site-packages/ase/constraints.py:363\u001b[0m, in \u001b[0;36mFixBondLengths.adjust_momenta\u001b[0;34m(self, atoms, p)\u001b[0m\n\u001b[1;32m    361\u001b[0m         \u001b[38;5;28;01mbreak\u001b[39;00m\n\u001b[1;32m    362\u001b[0m \u001b[38;5;28;01melse\u001b[39;00m:\n\u001b[0;32m--> 363\u001b[0m     \u001b[38;5;28;01mraise\u001b[39;00m \u001b[38;5;167;01mRuntimeError\u001b[39;00m(\u001b[38;5;124m'\u001b[39m\u001b[38;5;124mDid not converge\u001b[39m\u001b[38;5;124m'\u001b[39m)\n",
      "\u001b[0;31mRuntimeError\u001b[0m: Did not converge"
     ]
    }
   ],
   "source": [
    "# Repeat box and equilibrate further.\n",
    "tag = 'tip3p_216mol_equil'\n",
    "atoms.set_constraint()  # repeat not compatible with FixBondLengths currently.\n",
    "atoms = atoms.repeat((2, 2, 2))\n",
    "atoms.constraints = FixBondLengths([(3 * i + j, 3 * i + (j + 1) % 3)\n",
    "                                    for i in range(int(len(atoms) / 3))\n",
    "                                    for j in [0, 1, 2]])\n",
    "atoms.calc = TIP3P(rc=7.)\n",
    "md = Langevin(atoms, 2 * units.fs, temperature_K=300 * units.kB,\n",
    "              friction=0.01, logfile=tag + '.log')\n",
    "\n",
    "traj = Trajectory(tag + '.traj', 'w', atoms)\n",
    "md.attach(traj.write, interval=1)\n",
    "md.run(200)"
   ]
  },
  {
   "cell_type": "code",
   "execution_count": null,
   "metadata": {},
   "outputs": [
    {
     "data": {
      "application/vnd.jupyter.widget-view+json": {
       "model_id": "096092877b0b45c2b9950434b5e670c4",
       "version_major": 2,
       "version_minor": 0
      },
      "text/plain": [
       "HBox(children=(NGLWidget(max_frame=200), VBox(children=(Dropdown(description='Show', options=('All', 'O', 'H')…"
      ]
     },
     "metadata": {},
     "output_type": "display_data"
    }
   ],
   "source": [
    "from ase.visualize import view\n",
    "\n",
    "load_traj = Trajectory(tag + '.traj', 'r')\n",
    "view(load_traj, viewer='ngl')"
   ]
  },
  {
   "cell_type": "markdown",
   "metadata": {},
   "source": [
    "If, instead of TIP3P waters, acetonytrile is to be used as solvent (NVT), `ase.calculators.acn` provides a suitable forcefield (ACN is considered to be neutral). Any other solvent can be used, but a suitable FF must be present within ASE. "
   ]
  },
  {
   "cell_type": "code",
   "execution_count": 75,
   "metadata": {},
   "outputs": [
    {
     "name": "stdout",
     "output_type": "stream",
     "text": [
      "                Step[ FC]     Time          Energy          fmax\n",
      "BFGSLineSearch:    0[  0] 17:07:09       48.942002      57.5093\n",
      "BFGSLineSearch:    1[  1] 17:07:09       33.424561      14.3630\n",
      "BFGSLineSearch:    2[  3] 17:07:09       17.338893      11.1669\n",
      "BFGSLineSearch:    3[  5] 17:07:10       11.272053      12.9418\n",
      "BFGSLineSearch:    4[  6] 17:07:10        7.780578       6.3074\n",
      "BFGSLineSearch:    5[  7] 17:07:10        4.797677       4.4554\n",
      "BFGSLineSearch:    6[  8] 17:07:10        2.494233       2.5893\n",
      "BFGSLineSearch:    7[  9] 17:07:10        1.739897       1.4107\n",
      "BFGSLineSearch:    8[ 10] 17:07:10        1.424259       0.7439\n",
      "BFGSLineSearch:    9[ 12] 17:07:10        1.134071       0.7444\n",
      "BFGSLineSearch:   10[ 17] 17:07:10        0.474741       0.4212\n",
      "E_pot\t0.475 eV\t\tE_kin\t0.000 eV (0 K)\t\tE_tot\t0.475 eV\n",
      "E_pot\t-1.633 eV\t\tE_kin\t1.960 eV (15160 K)\t\tE_tot\t0.327 eV\n",
      "E_pot\t-2.770 eV\t\tE_kin\t2.592 eV (20056 K)\t\tE_tot\t-0.178 eV\n",
      "E_pot\t-3.175 eV\t\tE_kin\t2.462 eV (19047 K)\t\tE_tot\t-0.713 eV\n",
      "E_pot\t-3.532 eV\t\tE_kin\t2.317 eV (17928 K)\t\tE_tot\t-1.215 eV\n",
      "E_pot\t-5.420 eV\t\tE_kin\t3.606 eV (27896 K)\t\tE_tot\t-1.814 eV\n",
      "E_pot\t-5.384 eV\t\tE_kin\t2.947 eV (22798 K)\t\tE_tot\t-2.437 eV\n",
      "E_pot\t-5.904 eV\t\tE_kin\t2.883 eV (22306 K)\t\tE_tot\t-3.020 eV\n",
      "E_pot\t-6.562 eV\t\tE_kin\t2.952 eV (22841 K)\t\tE_tot\t-3.610 eV\n",
      "E_pot\t-6.586 eV\t\tE_kin\t2.461 eV (19036 K)\t\tE_tot\t-4.126 eV\n",
      "E_pot\t-7.525 eV\t\tE_kin\t2.862 eV (22143 K)\t\tE_tot\t-4.663 eV\n",
      "E_pot\t-7.955 eV\t\tE_kin\t2.741 eV (21201 K)\t\tE_tot\t-5.215 eV\n",
      "E_pot\t-7.714 eV\t\tE_kin\t2.036 eV (15749 K)\t\tE_tot\t-5.678 eV\n",
      "E_pot\t-8.101 eV\t\tE_kin\t1.990 eV (15399 K)\t\tE_tot\t-6.111 eV\n",
      "E_pot\t-8.676 eV\t\tE_kin\t2.162 eV (16728 K)\t\tE_tot\t-6.514 eV\n",
      "E_pot\t-8.596 eV\t\tE_kin\t1.733 eV (13404 K)\t\tE_tot\t-6.864 eV\n",
      "E_pot\t-8.861 eV\t\tE_kin\t1.649 eV (12757 K)\t\tE_tot\t-7.212 eV\n",
      "E_pot\t-9.293 eV\t\tE_kin\t1.768 eV (13679 K)\t\tE_tot\t-7.525 eV\n",
      "E_pot\t-9.045 eV\t\tE_kin\t1.233 eV (9539 K)\t\tE_tot\t-7.812 eV\n",
      "E_pot\t-9.321 eV\t\tE_kin\t1.256 eV (9720 K)\t\tE_tot\t-8.064 eV\n",
      "E_pot\t-9.526 eV\t\tE_kin\t1.220 eV (9437 K)\t\tE_tot\t-8.306 eV\n",
      "E_pot\t-9.659 eV\t\tE_kin\t1.114 eV (8617 K)\t\tE_tot\t-8.545 eV\n",
      "E_pot\t-9.535 eV\t\tE_kin\t0.820 eV (6341 K)\t\tE_tot\t-8.716 eV\n",
      "E_pot\t-9.915 eV\t\tE_kin\t1.025 eV (7926 K)\t\tE_tot\t-8.890 eV\n",
      "E_pot\t-9.827 eV\t\tE_kin\t0.762 eV (5898 K)\t\tE_tot\t-9.064 eV\n",
      "E_pot\t-10.076 eV\t\tE_kin\t0.847 eV (6552 K)\t\tE_tot\t-9.229 eV\n",
      "E_pot\t-10.009 eV\t\tE_kin\t0.638 eV (4933 K)\t\tE_tot\t-9.371 eV\n",
      "E_pot\t-10.166 eV\t\tE_kin\t0.660 eV (5107 K)\t\tE_tot\t-9.506 eV\n",
      "E_pot\t-10.196 eV\t\tE_kin\t0.576 eV (4454 K)\t\tE_tot\t-9.621 eV\n",
      "E_pot\t-10.215 eV\t\tE_kin\t0.489 eV (3787 K)\t\tE_tot\t-9.726 eV\n",
      "E_pot\t-10.284 eV\t\tE_kin\t0.458 eV (3545 K)\t\tE_tot\t-9.826 eV\n",
      "E_pot\t-10.413 eV\t\tE_kin\t0.494 eV (3825 K)\t\tE_tot\t-9.919 eV\n",
      "E_pot\t-10.437 eV\t\tE_kin\t0.432 eV (3339 K)\t\tE_tot\t-10.005 eV\n",
      "E_pot\t-10.485 eV\t\tE_kin\t0.397 eV (3073 K)\t\tE_tot\t-10.088 eV\n",
      "E_pot\t-10.522 eV\t\tE_kin\t0.357 eV (2759 K)\t\tE_tot\t-10.165 eV\n",
      "E_pot\t-10.520 eV\t\tE_kin\t0.291 eV (2253 K)\t\tE_tot\t-10.229 eV\n",
      "E_pot\t-10.544 eV\t\tE_kin\t0.266 eV (2055 K)\t\tE_tot\t-10.279 eV\n",
      "E_pot\t-10.678 eV\t\tE_kin\t0.340 eV (2633 K)\t\tE_tot\t-10.338 eV\n",
      "E_pot\t-10.663 eV\t\tE_kin\t0.267 eV (2066 K)\t\tE_tot\t-10.396 eV\n",
      "E_pot\t-10.637 eV\t\tE_kin\t0.196 eV (1513 K)\t\tE_tot\t-10.442 eV\n",
      "E_pot\t-10.691 eV\t\tE_kin\t0.210 eV (1627 K)\t\tE_tot\t-10.481 eV\n"
     ]
    },
    {
     "data": {
      "text/plain": [
       "True"
      ]
     },
     "execution_count": 75,
     "metadata": {},
     "output_type": "execute_result"
    }
   ],
   "source": [
    "import numpy as np\n",
    "\n",
    "import ase.units as units\n",
    "from ase import Atoms\n",
    "from ase.calculators.acn import ACN, m_me, r_cn, r_mec\n",
    "from ase.constraints import FixLinearTriatomic\n",
    "from ase.io import Trajectory\n",
    "from ase.md import Langevin\n",
    "from ase.optimize import QuasiNewton\n",
    "\n",
    "pos = [[0, 0, -r_mec],\n",
    "       [0, 0, 0],\n",
    "       [0, 0, r_cn]]\n",
    "atoms = Atoms('CCN', positions=pos)\n",
    "atoms.rotate(30, 'x')\n",
    "\n",
    "# First C of each molecule needs to have the mass of a methyl group\n",
    "masses = atoms.get_masses()\n",
    "masses[::3] = m_me\n",
    "atoms.set_masses(masses)\n",
    "\n",
    "# Determine side length of a box with the density of acetonitrile at 298 K\n",
    "# Density in g/Ang3 (https://pubs.acs.org/doi/10.1021/je00001a006)\n",
    "d = 0.776 / 1e24\n",
    "L = ((masses.sum() / units.mol) / d)**(1 / 3.)\n",
    "# Set up box of 27 acetonitrile molecules\n",
    "atoms.set_cell((L, L, L))\n",
    "atoms.center()\n",
    "atoms = atoms.repeat((3, 3, 3))\n",
    "atoms.rattle(stdev=0.2, rng=np.random.RandomState())\n",
    "atoms.set_pbc(True)\n",
    "\n",
    "\n",
    "\n",
    "# Set constraints for rigid triatomic molecules\n",
    "nm = 27\n",
    "atoms.constraints = FixLinearTriatomic(\n",
    "    triples=[(3 * i, 3 * i + 1, 3 * i + 2)\n",
    "             for i in range(nm)])\n",
    "\n",
    "tag = 'acn_27mol_300K'\n",
    "atoms.calc = ACN(rc=np.min(np.diag(atoms.cell)) / 2)\n",
    "\n",
    "# relaxation\n",
    "opt = QuasiNewton(atoms)\n",
    "opt.run(0.001, 10)\n",
    "\n",
    "# Create Langevin object\n",
    "dyn = Langevin(atoms, 1 * units.fs,\n",
    "              temperature_K=300 * units.kB,\n",
    "              friction=0.01,\n",
    "              logfile=tag + '.log')\n",
    "\n",
    "\n",
    "# saves\n",
    "kinetic_energies = []\n",
    "potential_energies = []\n",
    "total_energies = []\n",
    "\n",
    "# store energies\n",
    "def store_energies():\n",
    "    kinetic_energy = atoms.get_kinetic_energy()\n",
    "    potential_energy = atoms.get_potential_energy()\n",
    "    total_energy = kinetic_energy + potential_energy\n",
    "    kinetic_energies.append(kinetic_energy)\n",
    "    potential_energies.append(potential_energy)\n",
    "    total_energies.append(total_energy)\n",
    "\n",
    "# print energies (per atom)\n",
    "def printenergy(a=atoms):\n",
    "    epot = a.get_potential_energy() \n",
    "    ekin = a.get_kinetic_energy()\n",
    "    print(f'E_pot\\t{epot:.3f} eV\\t\\tE_kin\\t{ekin:.3f} eV ({ekin / (1.5 * units.kB):.0f} K)\\t\\tE_tot\\t{epot + ekin:.3f} eV')\n",
    "\n",
    "# trajectory\n",
    "traj = Trajectory(tag + '.traj', 'w', atoms)\n",
    "\n",
    "# for every step, store, print the energies and save the traj\n",
    "dyn.attach(store_energies, interval=100)\n",
    "dyn.attach(printenergy, interval=100)\n",
    "dyn.attach(traj.write, interval=100)\n",
    "\n",
    "# 4 ps\n",
    "dyn.run(4000)"
   ]
  },
  {
   "cell_type": "code",
   "execution_count": 76,
   "metadata": {},
   "outputs": [
    {
     "data": {
      "application/vnd.jupyter.widget-view+json": {
       "model_id": "263f48801c1248529a7cbc6e9037d6f9",
       "version_major": 2,
       "version_minor": 0
      },
      "text/plain": [
       "HBox(children=(NGLWidget(max_frame=40), VBox(children=(Dropdown(description='Show', options=('All', 'N', 'C'),…"
      ]
     },
     "execution_count": 76,
     "metadata": {},
     "output_type": "execute_result"
    }
   ],
   "source": [
    "from ase.visualize import view\n",
    "\n",
    "load_traj = Trajectory(tag + '.traj', 'r')\n",
    "view(load_traj, viewer='ngl')"
   ]
  },
  {
   "cell_type": "code",
   "execution_count": 77,
   "metadata": {},
   "outputs": [
    {
     "data": {
      "image/png": "[encoded data removed]",
      "text/plain": [
       "<Figure size 1200x400 with 3 Axes>"
      ]
     },
     "metadata": {},
     "output_type": "display_data"
    }
   ],
   "source": [
    "# PLOTS\n",
    "fig, axes = plt.subplots(ncols=3, nrows=1, figsize=(12, 4))\n",
    "ax1, ax2, ax3 = axes[0], axes[1], axes[2]\n",
    "\n",
    "# kin\n",
    "ax1.tick_params(bottom=True, top=True, left=True, right=False,\n",
    "                    direction=\"in\")\n",
    "ax1.tick_params(labelbottom=True, labeltop=False, labelleft=True,\n",
    "                    labelright=False, direction=\"in\")\n",
    "ax1.plot(kinetic_energies, label=r'$\\textnormal{kinetic energy}$', color='deeppink', alpha=0.9)\n",
    "ax1.set(xlabel=r'$\\textnormal{simulation time}\\;(\\textnormal{fs})$', ylabel=r'$\\textnormal{kinetic energy}\\;(\\textnormal{eV})$')\n",
    "ax1.legend(loc='best')\n",
    "\n",
    "# pot\n",
    "ax2.tick_params(bottom=True, top=True, left=True, right=False,\n",
    "                    direction=\"in\")\n",
    "ax2.tick_params(labelbottom=True, labeltop=False, labelleft=True,\n",
    "                    labelright=False, direction=\"in\")\n",
    "ax2.plot(potential_energies, label=r'$\\textnormal{potential energy}$', color='darkgreen', alpha=0.9)\n",
    "ax2.set(xlabel=r'$\\textnormal{simulation time}\\;(\\textnormal{fs})$', ylabel=r'$\\textnormal{potential energy}\\;(\\textnormal{eV})$')\n",
    "ax2.legend(loc='best')\n",
    "\n",
    "# total\n",
    "ax3.tick_params(bottom=True, top=True, left=True, right=False,\n",
    "                    direction=\"in\")\n",
    "ax3.tick_params(labelbottom=True, labeltop=False, labelleft=True,\n",
    "                    labelright=False, direction=\"in\")\n",
    "ax3.plot(total_energies, label=r'$\\textnormal{total energy}$', color='darkviolet', alpha=0.9)\n",
    "ax3.set(xlabel=r'$\\textnormal{simulation time}\\;(\\textnormal{fs})$', ylabel=r'$\\textnormal{total energy}\\;(\\textnormal{eV})$')\n",
    "ax3.legend(loc='best')\n",
    "\n",
    "plt.tight_layout()\n",
    "plt.savefig('./ACN_MD.png', dpi=300)\n",
    "plt.show(fig)"
   ]
  },
  {
   "cell_type": "markdown",
   "metadata": {},
   "source": [
    "And finally the production run"
   ]
  },
  {
   "cell_type": "code",
   "execution_count": 78,
   "metadata": {},
   "outputs": [
    {
     "name": "stdout",
     "output_type": "stream",
     "text": [
      "E_pot\t-10.691 eV\t\tE_kin\t0.210 eV (1627 K)\t\tE_tot\t-10.481 eV\n",
      "E_pot\t-10.691 eV\t\tE_kin\t0.210 eV (1627 K)\t\tE_tot\t-10.481 eV\n",
      "E_pot\t-10.691 eV\t\tE_kin\t0.210 eV (1627 K)\t\tE_tot\t-10.481 eV\n",
      "E_pot\t-10.691 eV\t\tE_kin\t0.210 eV (1627 K)\t\tE_tot\t-10.481 eV\n",
      "E_pot\t-10.691 eV\t\tE_kin\t0.210 eV (1627 K)\t\tE_tot\t-10.481 eV\n",
      "E_pot\t-10.691 eV\t\tE_kin\t0.210 eV (1627 K)\t\tE_tot\t-10.481 eV\n",
      "E_pot\t-10.691 eV\t\tE_kin\t0.210 eV (1627 K)\t\tE_tot\t-10.481 eV\n",
      "E_pot\t-10.691 eV\t\tE_kin\t0.210 eV (1627 K)\t\tE_tot\t-10.481 eV\n",
      "E_pot\t-10.691 eV\t\tE_kin\t0.210 eV (1627 K)\t\tE_tot\t-10.481 eV\n",
      "E_pot\t-10.691 eV\t\tE_kin\t0.210 eV (1627 K)\t\tE_tot\t-10.481 eV\n",
      "E_pot\t-10.691 eV\t\tE_kin\t0.210 eV (1627 K)\t\tE_tot\t-10.481 eV\n",
      "E_pot\t-10.691 eV\t\tE_kin\t0.210 eV (1627 K)\t\tE_tot\t-10.481 eV\n",
      "E_pot\t-10.691 eV\t\tE_kin\t0.210 eV (1627 K)\t\tE_tot\t-10.481 eV\n",
      "E_pot\t-10.691 eV\t\tE_kin\t0.210 eV (1627 K)\t\tE_tot\t-10.481 eV\n",
      "E_pot\t-10.691 eV\t\tE_kin\t0.210 eV (1627 K)\t\tE_tot\t-10.481 eV\n",
      "E_pot\t-10.691 eV\t\tE_kin\t0.210 eV (1627 K)\t\tE_tot\t-10.481 eV\n",
      "E_pot\t-10.691 eV\t\tE_kin\t0.210 eV (1627 K)\t\tE_tot\t-10.481 eV\n",
      "E_pot\t-10.691 eV\t\tE_kin\t0.210 eV (1627 K)\t\tE_tot\t-10.481 eV\n",
      "E_pot\t-10.691 eV\t\tE_kin\t0.210 eV (1627 K)\t\tE_tot\t-10.481 eV\n",
      "E_pot\t-10.691 eV\t\tE_kin\t0.210 eV (1627 K)\t\tE_tot\t-10.481 eV\n",
      "E_pot\t-10.691 eV\t\tE_kin\t0.210 eV (1627 K)\t\tE_tot\t-10.481 eV\n",
      "E_pot\t-10.691 eV\t\tE_kin\t0.210 eV (1627 K)\t\tE_tot\t-10.481 eV\n",
      "E_pot\t-10.691 eV\t\tE_kin\t0.210 eV (1627 K)\t\tE_tot\t-10.481 eV\n",
      "E_pot\t-10.691 eV\t\tE_kin\t0.210 eV (1627 K)\t\tE_tot\t-10.481 eV\n",
      "E_pot\t-10.691 eV\t\tE_kin\t0.210 eV (1627 K)\t\tE_tot\t-10.481 eV\n",
      "E_pot\t-10.691 eV\t\tE_kin\t0.210 eV (1627 K)\t\tE_tot\t-10.481 eV\n",
      "E_pot\t-10.691 eV\t\tE_kin\t0.210 eV (1627 K)\t\tE_tot\t-10.481 eV\n",
      "E_pot\t-10.691 eV\t\tE_kin\t0.210 eV (1627 K)\t\tE_tot\t-10.481 eV\n",
      "E_pot\t-10.691 eV\t\tE_kin\t0.210 eV (1627 K)\t\tE_tot\t-10.481 eV\n",
      "E_pot\t-10.691 eV\t\tE_kin\t0.210 eV (1627 K)\t\tE_tot\t-10.481 eV\n",
      "E_pot\t-10.691 eV\t\tE_kin\t0.210 eV (1627 K)\t\tE_tot\t-10.481 eV\n",
      "E_pot\t-10.691 eV\t\tE_kin\t0.210 eV (1627 K)\t\tE_tot\t-10.481 eV\n",
      "E_pot\t-10.691 eV\t\tE_kin\t0.210 eV (1627 K)\t\tE_tot\t-10.481 eV\n",
      "E_pot\t-10.691 eV\t\tE_kin\t0.210 eV (1627 K)\t\tE_tot\t-10.481 eV\n",
      "E_pot\t-10.691 eV\t\tE_kin\t0.210 eV (1627 K)\t\tE_tot\t-10.481 eV\n",
      "E_pot\t-10.691 eV\t\tE_kin\t0.210 eV (1627 K)\t\tE_tot\t-10.481 eV\n",
      "E_pot\t-10.691 eV\t\tE_kin\t0.210 eV (1627 K)\t\tE_tot\t-10.481 eV\n",
      "E_pot\t-10.691 eV\t\tE_kin\t0.210 eV (1627 K)\t\tE_tot\t-10.481 eV\n",
      "E_pot\t-10.691 eV\t\tE_kin\t0.210 eV (1627 K)\t\tE_tot\t-10.481 eV\n",
      "E_pot\t-10.691 eV\t\tE_kin\t0.210 eV (1627 K)\t\tE_tot\t-10.481 eV\n",
      "E_pot\t-10.691 eV\t\tE_kin\t0.210 eV (1627 K)\t\tE_tot\t-10.481 eV\n",
      "E_pot\t-10.691 eV\t\tE_kin\t0.210 eV (1627 K)\t\tE_tot\t-10.481 eV\n",
      "E_pot\t-10.691 eV\t\tE_kin\t0.210 eV (1627 K)\t\tE_tot\t-10.481 eV\n",
      "E_pot\t-10.691 eV\t\tE_kin\t0.210 eV (1627 K)\t\tE_tot\t-10.481 eV\n",
      "E_pot\t-10.691 eV\t\tE_kin\t0.210 eV (1627 K)\t\tE_tot\t-10.481 eV\n",
      "E_pot\t-10.691 eV\t\tE_kin\t0.210 eV (1627 K)\t\tE_tot\t-10.481 eV\n",
      "E_pot\t-10.691 eV\t\tE_kin\t0.210 eV (1627 K)\t\tE_tot\t-10.481 eV\n",
      "E_pot\t-10.691 eV\t\tE_kin\t0.210 eV (1627 K)\t\tE_tot\t-10.481 eV\n",
      "E_pot\t-10.691 eV\t\tE_kin\t0.210 eV (1627 K)\t\tE_tot\t-10.481 eV\n",
      "E_pot\t-10.691 eV\t\tE_kin\t0.210 eV (1627 K)\t\tE_tot\t-10.481 eV\n",
      "E_pot\t-10.691 eV\t\tE_kin\t0.210 eV (1627 K)\t\tE_tot\t-10.481 eV\n"
     ]
    },
    {
     "data": {
      "text/plain": [
       "True"
      ]
     },
     "execution_count": 78,
     "metadata": {},
     "output_type": "execute_result"
    }
   ],
   "source": [
    "# Repeat box and equilibrate further\n",
    "atoms.set_constraint()\n",
    "atoms = atoms.repeat((2, 2, 2))\n",
    "nm = 216\n",
    "atoms.constraints = FixLinearTriatomic(\n",
    "    triples=[(3 * i, 3 * i + 1, 3 * i + 2)\n",
    "             for i in range(nm)])\n",
    "\n",
    "tag = 'acn_216mol_300K'\n",
    "atoms.calc = ACN(rc=np.min(np.diag(atoms.cell)) / 2)\n",
    "\n",
    "# Create Langevin object\n",
    "md = Langevin(atoms, 2 * units.fs,\n",
    "              temperature=300 * units.kB,\n",
    "              friction=0.01,\n",
    "              logfile=tag + '.log')\n",
    "\n",
    "traj = Trajectory(tag + '.traj', 'w', atoms)\n",
    "md.attach(traj.write, interval=1)\n",
    "md.attach(printenergy, interval=100)\n",
    "\n",
    "# 1 ps run\n",
    "md.run(500)"
   ]
  },
  {
   "cell_type": "code",
   "execution_count": 79,
   "metadata": {},
   "outputs": [
    {
     "data": {
      "application/vnd.jupyter.widget-view+json": {
       "model_id": "4c5aef6d398242ed9b21a3cef5e7c75b",
       "version_major": 2,
       "version_minor": 0
      },
      "text/plain": [
       "HBox(children=(NGLWidget(max_frame=500), VBox(children=(Dropdown(description='Show', options=('All', 'N', 'C')…"
      ]
     },
     "execution_count": 79,
     "metadata": {},
     "output_type": "execute_result"
    }
   ],
   "source": [
    "load_traj = Trajectory('acn_216mol_300K.traj', 'r')\n",
    "view(load_traj, viewer='ngl')"
   ]
  }
 ],
 "metadata": {
  "kernelspec": {
   "display_name": "ASE_MACE",
   "language": "python",
   "name": "python3"
  },
  "language_info": {
   "codemirror_mode": {
    "name": "ipython",
    "version": 3
   },
   "file_extension": ".py",
   "mimetype": "text/x-python",
   "name": "python",
   "nbconvert_exporter": "python",
   "pygments_lexer": "ipython3",
   "version": "3.10.16"
  }
 },
 "nbformat": 4,
 "nbformat_minor": 2
}
