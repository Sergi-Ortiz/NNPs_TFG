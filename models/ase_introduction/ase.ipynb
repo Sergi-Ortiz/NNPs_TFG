{
 "cells": [
  {
   "cell_type": "markdown",
   "metadata": {},
   "source": [
    "# __ASE introduction__\n",
    "The aim of this notebook is to provide a solid introduction to ASE, as a standalone programme and as an interface to several NNPs such as ANI, MACE, Orbital, SchNet. "
   ]
  },
  {
   "cell_type": "markdown",
   "metadata": {},
   "source": [
    "### __References__\n",
    "ASE includes extensive [documentation](https://wiki.fysik.dtu.dk/ase/) where installatin procedure and tutorials can be found. \n",
    "\n",
    "Introductory tutorials can be found [here (getting started)](https://wiki.fysik.dtu.dk/ase/gettingstarted/gettingstarted.html), with a follow-up set of tutorials [here (tutorials)](https://wiki.fysik.dtu.dk/ase/tutorials/tutorials.html). \n",
    "\n",
    "- Additional ASE tutorials used in this introduction:\n",
    "    - Complete ASE introduction [tutorial](https://docs.matlantis.com/atomistic-simulation-tutorial/en/index.html). \n",
    "    - Official ASE MD [tutorials](https://wiki.fysik.dtu.dk/ase/tutorials/md/md.html). \n",
    "\n",
    "- MD tutorials.\n",
    "    - Short introduction with MACE FF. [link](https://rwexler.github.io/comp-prob-solv/lecture-23-ase.html). \n",
    "    - Official MD [documentation](https://wiki.fysik.dtu.dk/ase/ase/md.html). \n",
    "    - Extra MD [tutorial](https://docs.matlantis.com/atomistic-simulation-tutorial/en/1_5_ase_calculator.html). \n"
   ]
  },
  {
   "cell_type": "markdown",
   "metadata": {},
   "source": [
    "### __ASE Installation__\n",
    "To start, as goes for many different software, but particularly for ASE and external calculators, separate conda environments are recommended. The installation is as follows:\n",
    "- Installation process\n",
    "    - Create new conda environment (python 3.10 is standard). Check the Python requirement for the external calculator wanted. Usually  `python>3.9`.  \n",
    "    - `conda install ase` (installs `scipy` and `numpy` dependencies) and `conda install matplotlib`. \n",
    "    - Check the environment works installing `conda install pytest` and `ase test`.\n",
    "    - For ASE representations inside Jupyter Notebook, conda install `notebook`, `ipywidgets` and `nglview`. \n",
    "\n",
    "Detailed installation guide [here](https://wiki.fysik.dtu.dk/ase/install.html#download-and-install). \n",
    "\n",
    "**Installation of ASAP3-EMP calculator.** Install `openmpi` and `libxc`. Then do `pip install asap3`. Note that the conda installation via `conda-forge` does not work idk why... Read [the docs](https://asap3.readthedocs.io/en/latest/installation/Installing_ASE_Asap_and_GPAW_on_a_Mac.html#installing-ase-asap-and-gpaw-on-a-mac). \n",
    "\n",
    "\n",
    "**Installation of GPAW DFT calculator.** Install `openmpi` and `libxc`. Then do `pip install asap3`. Finally, `pip install gpaw`. "
   ]
  },
  {
   "cell_type": "markdown",
   "metadata": {},
   "source": [
    "# __1. Initial tutorials__\n",
    "### __1.1 Tutorial_1__"
   ]
  },
  {
   "cell_type": "code",
   "execution_count": 1,
   "metadata": {},
   "outputs": [
    {
     "name": "stdout",
     "output_type": "stream",
     "text": [
      "                Step[ FC]     Time          Energy          fmax\n",
      "BFGSLineSearch:    0[  0] 17:23:03       11.689927       1.0797\n",
      "BFGSLineSearch:    1[  2] 17:23:03       11.670814       0.4090\n",
      "BFGSLineSearch:    2[  4] 17:23:03       11.625880       0.0409\n",
      "Adsorption energy: 0.32351942231763964\n"
     ]
    }
   ],
   "source": [
    "from ase import Atoms\n",
    "from ase.build import add_adsorbate, fcc111\n",
    "from ase.calculators.emt import EMT\n",
    "from ase.constraints import FixAtoms\n",
    "from ase.optimize import QuasiNewton\n",
    "\n",
    "h = 1.85\n",
    "d = 1.10\n",
    "\n",
    "slab = fcc111('Cu', size=(4, 4, 2), vacuum=10.0)\n",
    "\n",
    "slab.calc = EMT()\n",
    "e_slab = slab.get_potential_energy()\n",
    "\n",
    "molecule = Atoms('2N', positions=[(0., 0., 0.), (0., 0., d)])\n",
    "molecule.calc = EMT()\n",
    "e_N2 = molecule.get_potential_energy()\n",
    "\n",
    "add_adsorbate(slab, molecule, h, 'ontop')\n",
    "constraint = FixAtoms(mask=[a.symbol != 'N' for a in slab])\n",
    "slab.set_constraint(constraint)\n",
    "dyn = QuasiNewton(slab, trajectory='N2Cu.traj')\n",
    "dyn.run(fmax=0.05)\n",
    "\n",
    "print('Adsorption energy:', e_slab + e_N2 - slab.get_potential_energy())"
   ]
  },
  {
   "cell_type": "markdown",
   "metadata": {},
   "source": [
    "Note that when saving or reading files, only one configuration is saved."
   ]
  },
  {
   "cell_type": "code",
   "execution_count": 2,
   "metadata": {},
   "outputs": [
    {
     "name": "stderr",
     "output_type": "stream",
     "text": [
      "/Users/sergiortizropero/miniconda3/envs/ASE_base/lib/python3.10/site-packages/ase/io/extxyz.py:311: UserWarning: Skipping unhashable information adsorbate_info\n",
      "  warnings.warn('Skipping unhashable information '\n"
     ]
    }
   ],
   "source": [
    "# output to an external file format (not .traj ASE format)\n",
    "from ase.io import write\n",
    "write('slab.xyz', slab)"
   ]
  },
  {
   "cell_type": "code",
   "execution_count": 3,
   "metadata": {},
   "outputs": [
    {
     "name": "stdout",
     "output_type": "stream",
     "text": [
      "Atoms(symbols='Cu32N2', pbc=[True, True, False], cell=[[10.210621920333747, 0.0, 0.0], [5.105310960166873, 8.842657971447272, 0.0], [0.0, 0.0, 22.08423447177455]], tags=..., calculator=SinglePointCalculator(...))\n",
      "Atoms(symbols='Cu32N2', pbc=[True, True, False], cell=[[10.210621920333747, 0.0, 0.0], [5.105310960166873, 8.842657971447272, 0.0], [0.0, 0.0, 22.08423447177455]], tags=..., constraint=FixAtoms(indices=[0, 1, 2, 3, 4, 5, 6, 7, 8, 9, 10, 11, 12, 13, 14, 15, 16, 17, 18, 19, 20, 21, 22, 23, 24, 25, 26, 27, 28, 29, 30, 31]), calculator=SinglePointCalculator(...))\n"
     ]
    }
   ],
   "source": [
    "# read from the file\n",
    "from ase.io import read\n",
    "slab_from_file = read('slab.xyz')\n",
    "\n",
    "print(slab_from_file)\n",
    "\n",
    "# read a specific configuration from the .traj file (default the last one)\n",
    "sth = read('N2Cu.traj', -1)\n",
    "print(sth)"
   ]
  },
  {
   "cell_type": "markdown",
   "metadata": {},
   "source": [
    "Viewing options https://wiki.fysik.dtu.dk/ase/ase/visualize/visualize.html. "
   ]
  },
  {
   "cell_type": "code",
   "execution_count": 4,
   "metadata": {},
   "outputs": [
    {
     "data": {
      "application/vnd.jupyter.widget-view+json": {
       "model_id": "056da7141ec04d9ba4ed9704bcff49e8",
       "version_major": 2,
       "version_minor": 0
      },
      "text/plain": []
     },
     "metadata": {},
     "output_type": "display_data"
    },
    {
     "data": {
      "application/vnd.jupyter.widget-view+json": {
       "model_id": "b31e61b8d3b741b7a4d5968084a8938a",
       "version_major": 2,
       "version_minor": 0
      },
      "text/plain": [
       "HBox(children=(NGLWidget(), VBox(children=(Dropdown(description='Show', options=('All', 'N', 'Cu'), value='All…"
      ]
     },
     "execution_count": 4,
     "metadata": {},
     "output_type": "execute_result"
    }
   ],
   "source": [
    "# GUI visualization of the ASE objects\n",
    "from ase.visualize import view\n",
    "\n",
    "\n",
    "# basic jupyter visualization\n",
    "#view(slab, viewer='x3d')\n",
    "\n",
    "# basic (but more advanced) visualization\n",
    "view(slab, viewer='ngl')\n",
    "\n",
    "# check if the representation can be changed. "
   ]
  },
  {
   "cell_type": "code",
   "execution_count": 5,
   "metadata": {},
   "outputs": [
    {
     "data": {
      "application/vnd.jupyter.widget-view+json": {
       "model_id": "cceda8d2420c4a598f3a0f46fc990f03",
       "version_major": 2,
       "version_minor": 0
      },
      "text/plain": [
       "HBox(children=(NGLWidget(), VBox(children=(Dropdown(description='Show', options=('All', 'N', 'Cu'), value='All…"
      ]
     },
     "execution_count": 5,
     "metadata": {},
     "output_type": "execute_result"
    }
   ],
   "source": [
    "view(sth, viewer='ngl')"
   ]
  },
  {
   "cell_type": "code",
   "execution_count": 6,
   "metadata": {},
   "outputs": [
    {
     "data": {
      "application/vnd.jupyter.widget-view+json": {
       "model_id": "d26da001b3b0449c8bb2b9db0b5f11ca",
       "version_major": 2,
       "version_minor": 0
      },
      "text/plain": [
       "HBox(children=(NGLWidget(background='#ffc'), VBox(children=(Dropdown(description='Show', options=('All', 'N', …"
      ]
     },
     "execution_count": 6,
     "metadata": {},
     "output_type": "execute_result"
    }
   ],
   "source": [
    "# customization of the view (broken)\n",
    "v = view(slab, viewer='ngl')\n",
    "\n",
    "# nglviewer options\n",
    "v.custom_colors({'N':'green','Cu':'blue'})\n",
    "v.view._remote_call(\"setSize\", target=\"Widget\", args=[\"600px\", \"400px\"])\n",
    "v.view.center()\n",
    "v.view.background='#ffc'\n",
    "v.view.parameters=dict(clipDist=-200)\n",
    "v"
   ]
  },
  {
   "cell_type": "markdown",
   "metadata": {},
   "source": [
    "Md simulation"
   ]
  },
  {
   "cell_type": "code",
   "execution_count": 7,
   "metadata": {},
   "outputs": [
    {
     "name": "stdout",
     "output_type": "stream",
     "text": [
      " 0: 0.44034 eV, 0.44034 eV, 0.00000 eV\n",
      " 1: 0.43816 eV, 0.26289 eV, 0.17527 eV\n",
      " 2: 0.44058 eV, 0.43142 eV, 0.00916 eV\n",
      " 3: 0.43874 eV, 0.29292 eV, 0.14582 eV\n",
      " 4: 0.44015 eV, 0.41839 eV, 0.02176 eV\n",
      " 5: 0.43831 eV, 0.28902 eV, 0.14929 eV\n",
      " 6: 0.43947 eV, 0.36902 eV, 0.07045 eV\n",
      " 7: 0.43951 eV, 0.35507 eV, 0.08444 eV\n",
      " 8: 0.43959 eV, 0.36221 eV, 0.07738 eV\n",
      " 9: 0.43933 eV, 0.36044 eV, 0.07889 eV\n"
     ]
    }
   ],
   "source": [
    "from ase.md.verlet import VelocityVerlet\n",
    "from ase import units\n",
    "dyn = VelocityVerlet(molecule, timestep=1.0 * units.fs)\n",
    "for i in range(10):\n",
    "    pot = molecule.get_potential_energy()\n",
    "    kin = molecule.get_kinetic_energy()\n",
    "    print('%2d: %.5f eV, %.5f eV, %.5f eV' % (i, pot + kin, pot, kin))\n",
    "    dyn.run(steps=20)"
   ]
  },
  {
   "cell_type": "markdown",
   "metadata": {},
   "source": [
    "### __1.2 Tutorial_2__\n",
    "DFT calculation of "
   ]
  },
  {
   "cell_type": "code",
   "execution_count": 8,
   "metadata": {},
   "outputs": [],
   "source": [
    "from ase import Atoms\n",
    "atoms = Atoms('N2', positions=[[0, 0, -1], [1, 0, 1]])\n",
    "\n",
    "\n",
    "# save the view\n",
    "from ase.io import write\n",
    "write('myatoms.traj', atoms)\n",
    "\n"
   ]
  },
  {
   "cell_type": "code",
   "execution_count": 9,
   "metadata": {},
   "outputs": [],
   "source": [
    "# inspect it (rotate holding right click)\n",
    "# ! ase gui myatoms.traj"
   ]
  },
  {
   "cell_type": "markdown",
   "metadata": {},
   "source": [
    "General procedure to use a calculator "
   ]
  },
  {
   "cell_type": "code",
   "execution_count": 10,
   "metadata": {},
   "outputs": [
    {
     "ename": "NameError",
     "evalue": "name 'CALCULATOR' is not defined",
     "output_type": "error",
     "traceback": [
      "\u001b[0;31m---------------------------------------------------------------------------\u001b[0m",
      "\u001b[0;31mNameError\u001b[0m                                 Traceback (most recent call last)",
      "Cell \u001b[0;32mIn[10], line 7\u001b[0m\n\u001b[1;32m      1\u001b[0m \u001b[38;5;66;03m# import the packages corresponding to the calculator used\u001b[39;00m\n\u001b[1;32m      2\u001b[0m \n\u001b[1;32m      3\u001b[0m \n\u001b[1;32m      4\u001b[0m \n\u001b[1;32m      5\u001b[0m \n\u001b[1;32m      6\u001b[0m \u001b[38;5;66;03m# define the calculator\u001b[39;00m\n\u001b[0;32m----> 7\u001b[0m calc \u001b[38;5;241m=\u001b[39m \u001b[43mCALCULATOR\u001b[49m(CALCULATOR\u001b[38;5;241m-\u001b[39mSPECIFIC\u001b[38;5;241m-\u001b[39mARGUMENTS)\n\u001b[1;32m      9\u001b[0m \u001b[38;5;66;03m# apply it to the system\u001b[39;00m\n\u001b[1;32m     10\u001b[0m atoms\u001b[38;5;241m.\u001b[39mcalc \u001b[38;5;241m=\u001b[39m calc\n",
      "\u001b[0;31mNameError\u001b[0m: name 'CALCULATOR' is not defined"
     ]
    }
   ],
   "source": [
    "# import the packages corresponding to the calculator used\n",
    "\n",
    "\n",
    "\n",
    "\n",
    "# define the calculator\n",
    "calc = CALCULATOR(CALCULATOR-SPECIFIC-ARGUMENTS)\n",
    "\n",
    "# apply it to the system\n",
    "atoms.calc = calc\n",
    "\n",
    "# compute properties (multiple methods available)\n",
    "e_atoms = atoms.get_potential_energies()\n",
    "f_atoms = atoms.get_forces() "
   ]
  },
  {
   "cell_type": "markdown",
   "metadata": {},
   "source": [
    "ASE can perform point-wise calculations given a set of geometries. We can save this as a trajectory. "
   ]
  },
  {
   "cell_type": "code",
   "execution_count": null,
   "metadata": {},
   "outputs": [],
   "source": [
    "from ase.io.trajectory import Trajectory\n",
    "\n",
    "\n",
    "# use iread to read the trajectory. \n"
   ]
  },
  {
   "cell_type": "markdown",
   "metadata": {},
   "source": [
    "## __1.3 Tutorial 3. Usage of external calculators.__\n",
    "To use external calculators, the external package (that contains the calculator) must be located and defined with an environment variable. External calculators interface with ASE in the following way: ASE handles writing the input files, which are required for the run, and then executes the `EXTERNAL_PROGRAM_EXECUTABLE` (previously defined enviornment variable), i.e. executes the external software (e.g. ORCA). Once the ORCA run is complete, ASE then reads all of the relevant files, and stores properties in the calculator object.\n",
    "\n",
    "**Calculator env var definition.** `<PROGRAM>` wasn’t listed as available. We first need to tell ASE how to run it (configuration step for many ASE calculators) defining the corresponding environment variables. Example given:"
   ]
  },
  {
   "cell_type": "markdown",
   "metadata": {},
   "source": [
    "**Example: AIMS** Different calculators communicate with computational codes in different ways. GPAW is written in Python, so ASE and GPAW run within the same process. However FHI-aims is a separate program. What the Aims calculator does for us is to generate an input file, run FHI-aims, read the output, and return the results. \n",
    "\n",
    "Many ASE calculators support more advanced ways of communicating. These calculators can communicate with persistent external processes over pipes (Lammpsrun, CP2K) or sockets (Siesta, Aims, Espresso), or they can work within the same process through direct library calls (Lammpslib, GPAW).\n",
    "\n",
    "ASE can communicate with FHI-aims over sockets using the i-PI protocol (http://ipi-code.org/). This is done by wrapping the calculator in a ase.calculators.socketio.SocketIOCalculator. The socket calculator will use the calculator it wraps to launch a calculation, then run it.\n",
    "\n",
    "Note. The documentation on the socket I/O calculator already provides full examples, so we only need minor adjustments to run them on our local machine. \n",
    "\n",
    "Check the last section of this [tutorial](https://wiki.fysik.dtu.dk/ase/gettingstarted/tut02_h2o_structure/h2o.html) for more info. "
   ]
  },
  {
   "cell_type": "code",
   "execution_count": 32,
   "metadata": {
    "vscode": {
     "languageId": "shellscript"
    }
   },
   "outputs": [
    {
     "ename": "SyntaxError",
     "evalue": "invalid syntax (2298468680.py, line 1)",
     "output_type": "error",
     "traceback": [
      "\u001b[0;36m  Cell \u001b[0;32mIn[32], line 1\u001b[0;36m\u001b[0m\n\u001b[0;31m    $ export ASE_AIMS_COMMAND=aims.x\u001b[0m\n\u001b[0m    ^\u001b[0m\n\u001b[0;31mSyntaxError\u001b[0m\u001b[0;31m:\u001b[0m invalid syntax\n"
     ]
    }
   ],
   "source": [
    "$ export ASE_AIMS_COMMAND=aims.x\n",
    "$ export AIMS_SPECIES_DIR=/home/alumne/software/FHIaims/species_defaults/light"
   ]
  },
  {
   "cell_type": "markdown",
   "metadata": {},
   "source": [
    "Once the environment variables are defined, ASE should 'see' them. Run `ase info --calculators` to check it is properly configured. Example, if we want to check if GROMACS calculator is defined, use `ase info --calculators | grep gaussian`. \n",
    "\n",
    "**Note.** Note that this setup will be restarted once the shell (conda environment) is restarted. We can define these env variables in the `.bash_profile` (macOS) or call them inside the ASE script directly. "
   ]
  },
  {
   "cell_type": "markdown",
   "metadata": {},
   "source": [
    "**Example continuation.** "
   ]
  },
  {
   "cell_type": "code",
   "execution_count": 9,
   "metadata": {},
   "outputs": [
    {
     "ename": "BadConfiguration",
     "evalue": "No configuration of 'aims'. See 'https://wiki.fysik.dtu.dk/ase/ase/calculators/calculators.html#calculator-configuration'",
     "output_type": "error",
     "traceback": [
      "\u001b[0;31m---------------------------------------------------------------------------\u001b[0m",
      "\u001b[0;31mBadConfiguration\u001b[0m                          Traceback (most recent call last)",
      "Cell \u001b[0;32mIn[9], line 15\u001b[0m\n\u001b[1;32m     11\u001b[0m atoms \u001b[38;5;241m=\u001b[39m Atoms(\u001b[38;5;124m'\u001b[39m\u001b[38;5;124mHOH\u001b[39m\u001b[38;5;124m'\u001b[39m,\n\u001b[1;32m     12\u001b[0m               positions\u001b[38;5;241m=\u001b[39m[[\u001b[38;5;241m0\u001b[39m, \u001b[38;5;241m0\u001b[39m, \u001b[38;5;241m-\u001b[39m\u001b[38;5;241m1\u001b[39m], [\u001b[38;5;241m0\u001b[39m, \u001b[38;5;241m1\u001b[39m, \u001b[38;5;241m0\u001b[39m], [\u001b[38;5;241m0\u001b[39m, \u001b[38;5;241m0\u001b[39m, \u001b[38;5;241m1\u001b[39m]])\n\u001b[1;32m     13\u001b[0m opt \u001b[38;5;241m=\u001b[39m BFGS(atoms, trajectory\u001b[38;5;241m=\u001b[39m\u001b[38;5;124m'\u001b[39m\u001b[38;5;124mopt-aims-socketio.traj\u001b[39m\u001b[38;5;124m'\u001b[39m)\n\u001b[0;32m---> 15\u001b[0m aims \u001b[38;5;241m=\u001b[39m \u001b[43mAims\u001b[49m\u001b[43m(\u001b[49m\u001b[43mxc\u001b[49m\u001b[38;5;241;43m=\u001b[39;49m\u001b[38;5;124;43m'\u001b[39;49m\u001b[38;5;124;43mLDA\u001b[39;49m\u001b[38;5;124;43m'\u001b[39;49m\u001b[43m,\u001b[49m\n\u001b[1;32m     16\u001b[0m \u001b[43m            \u001b[49m\u001b[43mcompute_forces\u001b[49m\u001b[38;5;241;43m=\u001b[39;49m\u001b[38;5;28;43;01mTrue\u001b[39;49;00m\u001b[43m,\u001b[49m\n\u001b[1;32m     17\u001b[0m \u001b[43m            \u001b[49m\u001b[43muse_pimd_wrapper\u001b[49m\u001b[38;5;241;43m=\u001b[39;49m\u001b[43m(\u001b[49m\u001b[38;5;124;43m'\u001b[39;49m\u001b[38;5;124;43mUNIX:mysocket\u001b[39;49m\u001b[38;5;124;43m'\u001b[39;49m\u001b[43m,\u001b[49m\u001b[43m \u001b[49m\u001b[38;5;241;43m31415\u001b[39;49m\u001b[43m)\u001b[49m\u001b[43m)\u001b[49m\n\u001b[1;32m     19\u001b[0m \u001b[38;5;28;01mwith\u001b[39;00m SocketIOCalculator(aims, unixsocket\u001b[38;5;241m=\u001b[39m\u001b[38;5;124m'\u001b[39m\u001b[38;5;124mmysocket\u001b[39m\u001b[38;5;124m'\u001b[39m) \u001b[38;5;28;01mas\u001b[39;00m calc:\n\u001b[1;32m     20\u001b[0m     atoms\u001b[38;5;241m.\u001b[39mcalc \u001b[38;5;241m=\u001b[39m calc\n",
      "File \u001b[0;32m~/miniconda3/envs/ANI_venv/lib/python3.10/site-packages/ase/calculators/aims.py:216\u001b[0m, in \u001b[0;36mAims.__init__\u001b[0;34m(self, profile, directory, **kwargs)\u001b[0m\n\u001b[1;32m    187\u001b[0m \u001b[38;5;28;01mdef\u001b[39;00m\u001b[38;5;250m \u001b[39m\u001b[38;5;21m__init__\u001b[39m(\n\u001b[1;32m    188\u001b[0m     \u001b[38;5;28mself\u001b[39m,\n\u001b[1;32m    189\u001b[0m     profile\u001b[38;5;241m=\u001b[39m\u001b[38;5;28;01mNone\u001b[39;00m,\n\u001b[1;32m    190\u001b[0m     directory\u001b[38;5;241m=\u001b[39m\u001b[38;5;124m'\u001b[39m\u001b[38;5;124m.\u001b[39m\u001b[38;5;124m'\u001b[39m,\n\u001b[1;32m    191\u001b[0m     \u001b[38;5;241m*\u001b[39m\u001b[38;5;241m*\u001b[39mkwargs,\n\u001b[1;32m    192\u001b[0m ):\n\u001b[1;32m    193\u001b[0m \u001b[38;5;250m    \u001b[39m\u001b[38;5;124;03m\"\"\"Construct the FHI-aims calculator.\u001b[39;00m\n\u001b[1;32m    194\u001b[0m \n\u001b[1;32m    195\u001b[0m \u001b[38;5;124;03m    The keyword arguments (kwargs) can be one of the ASE standard\u001b[39;00m\n\u001b[0;32m   (...)\u001b[0m\n\u001b[1;32m    213\u001b[0m \n\u001b[1;32m    214\u001b[0m \u001b[38;5;124;03m    \"\"\"\u001b[39;00m\n\u001b[0;32m--> 216\u001b[0m     \u001b[38;5;28;43msuper\u001b[39;49m\u001b[43m(\u001b[49m\u001b[43m)\u001b[49m\u001b[38;5;241;43m.\u001b[39;49m\u001b[38;5;21;43m__init__\u001b[39;49m\u001b[43m(\u001b[49m\n\u001b[1;32m    217\u001b[0m \u001b[43m        \u001b[49m\u001b[43mtemplate\u001b[49m\u001b[38;5;241;43m=\u001b[39;49m\u001b[43mAimsTemplate\u001b[49m\u001b[43m(\u001b[49m\u001b[43m)\u001b[49m\u001b[43m,\u001b[49m\n\u001b[1;32m    218\u001b[0m \u001b[43m        \u001b[49m\u001b[43mprofile\u001b[49m\u001b[38;5;241;43m=\u001b[39;49m\u001b[43mprofile\u001b[49m\u001b[43m,\u001b[49m\n\u001b[1;32m    219\u001b[0m \u001b[43m        \u001b[49m\u001b[43mparameters\u001b[49m\u001b[38;5;241;43m=\u001b[39;49m\u001b[43mkwargs\u001b[49m\u001b[43m,\u001b[49m\n\u001b[1;32m    220\u001b[0m \u001b[43m        \u001b[49m\u001b[43mdirectory\u001b[49m\u001b[38;5;241;43m=\u001b[39;49m\u001b[43mdirectory\u001b[49m\u001b[43m,\u001b[49m\n\u001b[1;32m    221\u001b[0m \u001b[43m    \u001b[49m\u001b[43m)\u001b[49m\n",
      "File \u001b[0;32m~/miniconda3/envs/ANI_venv/lib/python3.10/site-packages/ase/calculators/genericfileio.py:282\u001b[0m, in \u001b[0;36mGenericFileIOCalculator.__init__\u001b[0;34m(self, template, profile, directory, parameters)\u001b[0m\n\u001b[1;32m    280\u001b[0m \u001b[38;5;28;01mif\u001b[39;00m profile \u001b[38;5;129;01mis\u001b[39;00m \u001b[38;5;28;01mNone\u001b[39;00m:\n\u001b[1;32m    281\u001b[0m     \u001b[38;5;28;01mif\u001b[39;00m template\u001b[38;5;241m.\u001b[39mname \u001b[38;5;129;01mnot\u001b[39;00m \u001b[38;5;129;01min\u001b[39;00m \u001b[38;5;28mself\u001b[39m\u001b[38;5;241m.\u001b[39mcfg\u001b[38;5;241m.\u001b[39mparser:\n\u001b[0;32m--> 282\u001b[0m         \u001b[38;5;28;01mraise\u001b[39;00m BadConfiguration(\n\u001b[1;32m    283\u001b[0m             \u001b[38;5;124mf\u001b[39m\u001b[38;5;124m\"\u001b[39m\u001b[38;5;124mNo configuration of \u001b[39m\u001b[38;5;124m'\u001b[39m\u001b[38;5;132;01m{\u001b[39;00mtemplate\u001b[38;5;241m.\u001b[39mname\u001b[38;5;132;01m}\u001b[39;00m\u001b[38;5;124m'\u001b[39m\u001b[38;5;124m. \u001b[39m\u001b[38;5;124m\"\u001b[39m\n\u001b[1;32m    284\u001b[0m             \u001b[38;5;124mf\u001b[39m\u001b[38;5;124m\"\u001b[39m\u001b[38;5;124mSee \u001b[39m\u001b[38;5;124m'\u001b[39m\u001b[38;5;132;01m{\u001b[39;00mlink_calculator_docs\u001b[38;5;132;01m}\u001b[39;00m\u001b[38;5;124m'\u001b[39m\u001b[38;5;124m\"\u001b[39m\n\u001b[1;32m    285\u001b[0m         )\n\u001b[1;32m    286\u001b[0m     \u001b[38;5;28;01mtry\u001b[39;00m:\n\u001b[1;32m    287\u001b[0m         profile \u001b[38;5;241m=\u001b[39m template\u001b[38;5;241m.\u001b[39mload_profile(\u001b[38;5;28mself\u001b[39m\u001b[38;5;241m.\u001b[39mcfg)\n",
      "\u001b[0;31mBadConfiguration\u001b[0m: No configuration of 'aims'. See 'https://wiki.fysik.dtu.dk/ase/ase/calculators/calculators.html#calculator-configuration'"
     ]
    }
   ],
   "source": [
    "import os\n",
    "\n",
    "from ase import Atoms\n",
    "from ase.calculators.aims import Aims\n",
    "from ase.calculators.socketio import SocketIOCalculator\n",
    "from ase.optimize import BFGS\n",
    "\n",
    "os.environ['ASE_AIMS_COMMAND'] = 'aims.x'\n",
    "os.environ['AIMS_SPECIES_DIR'] = '/home/myname/FHIaims/species_defaults/light'\n",
    "\n",
    "atoms = Atoms('HOH',\n",
    "              positions=[[0, 0, -1], [0, 1, 0], [0, 0, 1]])\n",
    "opt = BFGS(atoms, trajectory='opt-aims-socketio.traj')\n",
    "\n",
    "aims = Aims(xc='LDA',\n",
    "            compute_forces=True,\n",
    "            use_pimd_wrapper=('UNIX:mysocket', 31415))\n",
    "\n",
    "with SocketIOCalculator(aims, unixsocket='mysocket') as calc:\n",
    "    atoms.calc = calc\n",
    "    opt.run(fmax=0.05)"
   ]
  },
  {
   "cell_type": "markdown",
   "metadata": {},
   "source": [
    "# __2. ASE MD Tutorials__\n",
    "### __Atoms and manipulation__\n",
    "A general introduction to ASE is provided covering the `atoms`, `calculators` and `optimizers` and how to apply it to MD. This is just an overview. \n",
    "\n",
    "- `Atoms` is a class containing the view (atomic positions, structure of a system). It contains the element type, coordinates, velocities, PBC bool and cell info. Methods include get_masses, len_atoms, get_momenta, etc. if applicable. \n",
    "- **Units.** ASE uses eV for energy, Å for length and e for charge. \n",
    "- **Molecular databases.** A number of molecules are predefined in ASE. E.g. `ase.collections g2` contains 'usual' molecules\n",
    "\n",
    "**Tips.** Info about an ASE class can be retreived via `Atoms?` in an interactive ipy environment. \n"
   ]
  },
  {
   "cell_type": "code",
   "execution_count": 10,
   "metadata": {},
   "outputs": [
    {
     "name": "stdout",
     "output_type": "stream",
     "text": [
      "Available molecule: 162 ['PH3', 'P2', 'CH3CHO', 'H2COH', 'CS', 'OCHCHO', 'C3H9C', 'CH3COF', 'CH3CH2OCH3', 'HCOOH', 'HCCl3', 'HOCl', 'H2', 'SH2', 'C2H2', 'C4H4NH', 'CH3SCH3', 'SiH2_s3B1d', 'CH3SH', 'CH3CO', 'CO', 'ClF3', 'SiH4', 'C2H6CHOH', 'CH2NHCH2', 'isobutene', 'HCO', 'bicyclobutane', 'LiF', 'Si', 'C2H6', 'CN', 'ClNO', 'S', 'SiF4', 'H3CNH2', 'methylenecyclopropane', 'CH3CH2OH', 'F', 'NaCl', 'CH3Cl', 'CH3SiH3', 'AlF3', 'C2H3', 'ClF', 'PF3', 'PH2', 'CH3CN', 'cyclobutene', 'CH3ONO', 'SiH3', 'C3H6_D3h', 'CO2', 'NO', 'trans-butane', 'H2CCHCl', 'LiH', 'NH2', 'CH', 'CH2OCH2', 'C6H6', 'CH3CONH2', 'cyclobutane', 'H2CCHCN', 'butadiene', 'C', 'H2CO', 'CH3COOH', 'HCF3', 'CH3S', 'CS2', 'SiH2_s1A1d', 'C4H4S', 'N2H4', 'OH', 'CH3OCH3', 'C5H5N', 'H2O', 'HCl', 'CH2_s1A1d', 'CH3CH2SH', 'CH3NO2', 'Cl', 'Be', 'BCl3', 'C4H4O', 'Al', 'CH3O', 'CH3OH', 'C3H7Cl', 'isobutane', 'Na', 'CCl4', 'CH3CH2O', 'H2CCHF', 'C3H7', 'CH3', 'O3', 'P', 'C2H4', 'NCCN', 'S2', 'AlCl3', 'SiCl4', 'SiO', 'C3H4_D2d', 'H', 'COF2', '2-butyne', 'C2H5', 'BF3', 'N2O', 'F2O', 'SO2', 'H2CCl2', 'CF3CN', 'HCN', 'C2H6NH', 'OCS', 'B', 'ClO', 'C3H8', 'HF', 'O2', 'SO', 'NH', 'C2F4', 'NF3', 'CH2_s3B1d', 'CH3CH2Cl', 'CH3COCl', 'NH3', 'C3H9N', 'CF4', 'C3H6_Cs', 'Si2H6', 'HCOOCH3', 'O', 'CCH', 'N', 'Si2', 'C2H6SO', 'C5H8', 'H2CF2', 'Li2', 'CH2SCH2', 'C2Cl4', 'C3H4_C3v', 'CH3COCH3', 'F2', 'CH4', 'SH', 'H2CCO', 'CH3CH2NH2', 'Li', 'N2', 'Cl2', 'H2O2', 'Na2', 'BeH', 'C3H4_C2v', 'NO2']\n"
     ]
    }
   ],
   "source": [
    "from ase.build import molecule\n",
    "from ase.collections import g2\n",
    "\n",
    "print(f\"Available molecule:\", len(g2.names), g2.names)"
   ]
  },
  {
   "cell_type": "markdown",
   "metadata": {},
   "source": [
    "- `bulk` method is used to create crystal structures via specifying the values that characterize the crystal: name, crystalstructure, a, b, c, alpha, covera, cubic kwargs. Note that `bulk` method uses PBCs to define the crystal (the representation will show so). \n",
    "- To define the real cell (for example, multiple atoms in one direction), use the `repeat` method or by multiplication\n"
   ]
  },
  {
   "cell_type": "code",
   "execution_count": 11,
   "metadata": {},
   "outputs": [
    {
     "data": {
      "text/plain": [
       "Atoms(symbols='Fe24', pbc=True, cell=[4.0, 6.0, 8.0])"
      ]
     },
     "execution_count": 11,
     "metadata": {},
     "output_type": "execute_result"
    }
   ],
   "source": [
    "from ase.build import bulk\n",
    "\n",
    "fe_sc_atoms = bulk(name=\"Fe\", crystalstructure=\"sc\", a=2.0)\n",
    "fe_sc_atoms\n",
    "\n",
    "fe222_atoms = fe_sc_atoms.repeat((2, 3, 4))\n",
    "#fe222_atoms = fe_sc_atoms * (2, 3, 4)\n",
    "\n",
    "fe222_atoms"
   ]
  },
  {
   "cell_type": "markdown",
   "metadata": {},
   "source": [
    "[El tutorial continua però això em dona bastant igual.]"
   ]
  },
  {
   "cell_type": "markdown",
   "metadata": {},
   "source": [
    "- `read` and `write` functions allow outputs and inputs of ASE objects. \n",
    "- External molecules can be importes in ASE through the smile or via an external molecular structural database. "
   ]
  },
  {
   "cell_type": "markdown",
   "metadata": {},
   "source": [
    "The structure can be modified via translation and rotation (and or combination of them) using `Atoms.translate([x, y, z])` to the `Atoms` view. Rotations can be specified using the normal plane via `Atoms.rotate(angle, v='z')`, additional option of `rotate_cell=True` should be used to rotate the PBC crystalline cell. "
   ]
  },
  {
   "cell_type": "code",
   "execution_count": 12,
   "metadata": {},
   "outputs": [
    {
     "data": {
      "application/vnd.jupyter.widget-view+json": {
       "model_id": "892bfe72d06142a5bc7a44d388b09854",
       "version_major": 2,
       "version_minor": 0
      },
      "text/plain": [
       "HBox(children=(NGLWidget(), VBox(children=(Dropdown(description='Show', options=('All', 'Fe'), value='All'), D…"
      ]
     },
     "execution_count": 12,
     "metadata": {},
     "output_type": "execute_result"
    }
   ],
   "source": [
    "from ase.visualize import view\n",
    "atoms = bulk(\"Fe\") * (2, 3, 4)\n",
    "\n",
    "atoms.rotate(90, v=[0, 0, 1], rotate_cell=True)\n",
    "view(atoms, viewer='ngl', )"
   ]
  },
  {
   "cell_type": "markdown",
   "metadata": {},
   "source": [
    "Additional geometry moves include `rattle` (creates a messy structure by randomly moving each atom). Kwargs include `stdev` and `seed` for degree of movement and pseudorandom generator. "
   ]
  },
  {
   "cell_type": "code",
   "execution_count": 13,
   "metadata": {},
   "outputs": [
    {
     "name": "stdout",
     "output_type": "stream",
     "text": [
      "atoms & atoms2 positions are same? -->  False\n"
     ]
    },
    {
     "data": {
      "application/vnd.jupyter.widget-view+json": {
       "model_id": "daf938c734804f3f8024bd237c360947",
       "version_major": 2,
       "version_minor": 0
      },
      "text/plain": [
       "HBox(children=(NGLWidget(), VBox(children=(Dropdown(description='Show', options=('All', 'Si'), value='All'), D…"
      ]
     },
     "execution_count": 13,
     "metadata": {},
     "output_type": "execute_result"
    }
   ],
   "source": [
    "import numpy as np\n",
    "atoms = bulk(\"Si\") * (2, 3, 4)\n",
    "atoms2 = atoms.copy()\n",
    "\n",
    "atoms.rattle(stdev=0.2, rng=np.random.RandomState())\n",
    "atoms2.rattle(stdev=0.2, rng=np.random.RandomState())\n",
    "\n",
    "print(\"atoms & atoms2 positions are same? --> \", np.allclose(atoms.positions, atoms2.positions))\n",
    "view(atoms, viewer='ngl', )"
   ]
  },
  {
   "cell_type": "markdown",
   "metadata": {},
   "source": [
    "Additionally, if an atom has moved outside of the cell, it can be brought back to the cell (PBC) using `wrap`"
   ]
  },
  {
   "cell_type": "code",
   "execution_count": 14,
   "metadata": {},
   "outputs": [
    {
     "data": {
      "application/vnd.jupyter.widget-view+json": {
       "model_id": "80f81fd71e7f44b587e326f9d35a8e55",
       "version_major": 2,
       "version_minor": 0
      },
      "text/plain": [
       "HBox(children=(NGLWidget(), VBox(children=(Dropdown(description='Show', options=('All', 'Si'), value='All'), D…"
      ]
     },
     "execution_count": 14,
     "metadata": {},
     "output_type": "execute_result"
    }
   ],
   "source": [
    "atoms.wrap()\n",
    "view(atoms, viewer='ngl', )"
   ]
  },
  {
   "cell_type": "markdown",
   "metadata": {},
   "source": [
    "Additional `Atoms` transformation (regarding solid or periodic structures) can be found [here](https://docs.matlantis.com/atomistic-simulation-tutorial/en/1_7_ase_playground2.html). "
   ]
  },
  {
   "cell_type": "markdown",
   "metadata": {},
   "source": [
    "### __Calculator setup__\n",
    "The atomic structure is represented by the `Atoms` class. Each physical property can be computed via a calculator applied to the structure/view (`Atoms` class). The calculator is 'added' by defining `Atoms.calc` attribute. The calculator contains previous calculation results and previous input. \n",
    "\n",
    "Once the calculator has been added, the physical properties can be extracted from the `Atoms` object calling e.g. `Atoms.get_potential_energy()`. Methods include `get_x_energy()`, `get_forces()`, `get_charges()`, `get_magnetic_moment`, `get_dipole_moment`, among others (specific to the calculator).  \n",
    "\n",
    "The calculator class is in charge of calculating the associated physical properties. Note that these calculators might be based on QM, MM, or NNP methods. \n",
    "\n",
    "Note that the chache of the calculator can be reset using `calculator.reset()` on the `Atoms.calc` object. This is impractical for simulations that require several point-wise calculations. "
   ]
  },
  {
   "cell_type": "code",
   "execution_count": 15,
   "metadata": {},
   "outputs": [
    {
     "name": "stdout",
     "output_type": "stream",
     "text": [
      "Potential energy -0.00568 eV\n"
     ]
    }
   ],
   "source": [
    "from ase.build import bulk\n",
    "from ase.calculators.emt import EMT\n",
    "\n",
    "\n",
    "calculator_emt = EMT()\n",
    "\n",
    "atoms = bulk(\"Cu\")\n",
    "atoms.calc = calculator_emt\n",
    "\n",
    "E_pot_emt = atoms.get_potential_energy()\n",
    "print(f\"Potential energy {E_pot_emt:.5f} eV\")"
   ]
  },
  {
   "cell_type": "markdown",
   "metadata": {},
   "source": [
    "## __2.1 Propedeutic examples__\n",
    "These examples require a QM calculator to run. "
   ]
  },
  {
   "cell_type": "markdown",
   "metadata": {},
   "source": [
    "### __Dissociation of a diatomic molecule__"
   ]
  },
  {
   "cell_type": "code",
   "execution_count": 16,
   "metadata": {},
   "outputs": [],
   "source": [
    "# diatomic dissociation potential:\n",
    "# https://docs.matlantis.com/atomistic-simulation-tutorial/en/1_8_diatomic_potential.html\n",
    "# TODO"
   ]
  },
  {
   "cell_type": "markdown",
   "metadata": {},
   "source": [
    "### __Structural relaxation (optimization)__ \n",
    "Optimization procedure requires a structural view (`Atoms`), a calculator to perform single-point calculations (using the interatomic potential of the given calculator) and then specifying the optimization algorithm to use. Relevant optimization algorithms are provided in the [documentation](https://wiki.fysik.dtu.dk/ase/ase/optimize.html). "
   ]
  },
  {
   "cell_type": "code",
   "execution_count": 17,
   "metadata": {},
   "outputs": [],
   "source": [
    "# optimization of different systems. \n",
    "# TODO. use then a calculator is available. \n",
    "# https://docs.matlantis.com/atomistic-simulation-tutorial/en/2_1_opt.html"
   ]
  },
  {
   "cell_type": "code",
   "execution_count": 18,
   "metadata": {},
   "outputs": [],
   "source": [
    "# additional optimization examples\n",
    "# TODO. \n",
    "# https://docs.matlantis.com/atomistic-simulation-tutorial/en/2_2_opt_symmetry.html"
   ]
  },
  {
   "cell_type": "code",
   "execution_count": 19,
   "metadata": {},
   "outputs": [],
   "source": [
    "# energy minimization examples\n",
    "# TODO. \n",
    "# https://docs.matlantis.com/atomistic-simulation-tutorial/en/3_1_bulk_energy.html\n",
    "# bulk energies (other available)"
   ]
  },
  {
   "cell_type": "code",
   "execution_count": 20,
   "metadata": {},
   "outputs": [],
   "source": [
    "# NBO vibration analysis\n",
    "# TODO\n",
    "# https://docs.matlantis.com/atomistic-simulation-tutorial/en/4_1_vibration.html\n"
   ]
  },
  {
   "cell_type": "code",
   "execution_count": 21,
   "metadata": {},
   "outputs": [],
   "source": [
    "# Curtis rearrangement simple electronic rearrangement rx. \n",
    "# TODO. \n",
    "# https://docs.matlantis.com/atomistic-simulation-tutorial/en/5_1_neb_basic.html\n"
   ]
  },
  {
   "cell_type": "markdown",
   "metadata": {},
   "source": [
    "## __2.2 MD examples__"
   ]
  },
  {
   "cell_type": "markdown",
   "metadata": {},
   "source": [
    "A first example is provided below, a melting process of Aluminium FCC. "
   ]
  },
  {
   "cell_type": "code",
   "execution_count": 22,
   "metadata": {},
   "outputs": [
    {
     "name": "stderr",
     "output_type": "stream",
     "text": [
      "[Sergis-MacBook-Pro.local:65664] shmem: mmap: an error occurred while determining whether or not /var/folders/cq/s30xmbh57xndgmhg1zhwclsh0000gn/T//ompi.Sergis-MacBook-Pro.501/jf.0/3451125760/sm_segment.Sergis-MacBook-Pro.501.cdb40000.0 could be created.\n"
     ]
    },
    {
     "name": "stdout",
     "output_type": "stream",
     "text": [
      "atoms =  Atoms(symbols='Al108', pbc=True, cell=[12.899999999999999, 12.899999999999999, 12.899999999999999])\n",
      "log_filename =  ./liquid-Al_NVE_1.0fs_test/log_file.log\n",
      "traj_filename =  ./liquid-Al_NVE_1.0fs_test/trajectory.traj\n",
      "\n",
      "    imd     Etot(eV)    Ekin(eV)    Epot(eV)    T(K)\n",
      "     0     32.139701294     22.336120234    9.803581060   1600.00\n",
      "   1000     32.144573345     10.147479616    21.997093729   726.89\n",
      "   2000     32.144669489     9.872400817    22.272268672   707.19\n",
      "   3000     32.144653714     9.955368258    22.189285455   713.13\n",
      "   4000     32.144150322     10.895194704    21.248955619   780.45\n",
      "   5000     32.144105640     10.605084474    21.539021166   759.67\n",
      "   6000     32.144333386     10.984207379    21.160126007   786.83\n",
      "   7000     32.144442783     9.745698610    22.398744173   698.11\n",
      "   8000     32.144536620     8.967299641    23.177236979   642.35\n",
      "   9000     32.144551048     10.055843807    22.088707241   720.33\n",
      "   10000     32.144052027     11.142429391    21.001622636   798.16\n",
      "   11000     32.143977215     11.043369051    21.100608165   791.07\n",
      "   12000     32.144174360     9.911433204    22.232741156   709.98\n",
      "   13000     32.144498809     10.221923986    21.922574823   732.23\n",
      "   14000     32.144034744     10.664056638    21.479978106   763.90\n",
      "   15000     32.143730122     10.042752468    22.100977654   719.39\n",
      "   16000     32.144219006     10.855029136    21.289189870   777.58\n",
      "   17000     32.144157833     10.049161766    22.094996067   719.85\n",
      "   18000     32.143904868     10.586365421    21.557539447   758.33\n",
      "   19000     32.144019614     10.070847866    22.073171748   721.40\n",
      "   20000     32.143860807     10.321185234    21.822675573   739.34\n",
      "   21000     32.144560116     8.604282814    23.540277302   616.35\n",
      "   22000     32.144433589     8.894615592    23.249817997   637.15\n",
      "   23000     32.143935896     11.491261271    20.652674625   823.15\n",
      "   24000     32.144131243     11.425389389    20.718741854   818.43\n",
      "   25000     32.143856759     10.585264214    21.558592545   758.25\n",
      "   26000     32.143744216     9.999292718    22.144451499   716.28\n",
      "   27000     32.143632221     9.888494762    22.255137459   708.34\n",
      "   28000     32.143564593     9.970833341    22.172731251   714.24\n",
      "   29000     32.143878213     9.872040126    22.271838087   707.16\n",
      "   30000     32.143634980     10.440458653    21.703176327   747.88\n",
      "   31000     32.143926717     10.579346606    21.564580111   757.83\n",
      "   32000     32.143802133     10.094562647    22.049239486   723.10\n",
      "   33000     32.143685768     10.746999550    21.396686218   769.84\n",
      "   34000     32.143765339     10.370884436    21.772880903   742.90\n",
      "   35000     32.143640819     11.154893347    20.988747472   799.06\n",
      "   36000     32.143467856     10.990146624    21.153321232   787.26\n",
      "   37000     32.143857494     10.565873052    21.577984442   756.86\n",
      "   38000     32.143846588     10.473938918    21.669907670   750.28\n",
      "   39000     32.143827968     10.336790015    21.807037953   740.45\n",
      "   40000     32.143677205     10.615736503    21.527940702   760.44\n",
      "   41000     32.143755182     11.053245275    21.090509908   791.78\n",
      "   42000     32.143705021     10.333758853    21.809946168   740.24\n",
      "   43000     32.143541635     10.445964356    21.697577279   748.27\n",
      "   44000     32.143460381     11.385266359    20.758194022   815.56\n",
      "   45000     32.143389930     12.328384043    19.815005887   883.12\n",
      "   46000     32.143527280     11.024781464    21.118745815   789.74\n",
      "   47000     32.143588012     11.097337927    21.046250085   794.93\n",
      "   48000     32.143775293     10.007716994    22.136058300   716.88\n",
      "   49000     32.143876553     10.300352425    21.843524128   737.84\n",
      "   50000     32.143930401     10.184224767    21.959705634   729.53\n",
      "   51000     32.143975583     10.355500023    21.788475560   741.79\n",
      "   52000     32.144120494     9.234338727    22.909781767   661.48\n",
      "   53000     32.143965847     10.362210598    21.781755249   742.27\n",
      "   54000     32.144012871     10.275544785    21.868468085   736.07\n",
      "   55000     32.143551116     11.254787886    20.888763230   806.21\n",
      "   56000     32.143929901     10.272389074    21.871540827   735.84\n",
      "   57000     32.143921431     10.096857638    22.047063794   723.27\n",
      "   58000     32.143882214     10.399398293    21.744483921   744.94\n",
      "   59000     32.143945758     10.218436313    21.925509445   731.98\n",
      "   60000     32.144025719     9.846510831    22.297514887   705.33\n",
      "   61000     32.143842037     10.933160322    21.210681716   783.17\n",
      "   62000     32.143881300     10.342420525    21.801460775   740.86\n",
      "   63000     32.143764808     11.088235713    21.055529095   794.28\n",
      "   64000     32.143867988     10.074357942    22.069510045   721.65\n",
      "   65000     32.143578246     10.555955857    21.587622389   756.15\n",
      "   66000     32.144220794     10.128854213    22.015366582   725.56\n",
      "   67000     32.143926868     10.666547696    21.477379172   764.08\n",
      "   68000     32.144104846     9.747885702    22.396219144   698.27\n",
      "   69000     32.144172147     9.270486585    22.873685562   664.07\n",
      "   70000     32.143959032     10.567156529    21.576802503   756.96\n",
      "   71000     32.143904011     10.803055978    21.340848032   773.85\n",
      "   72000     32.144190604     9.496329403    22.647861201   680.25\n",
      "   73000     32.143630381     10.275165102    21.868465280   736.04\n",
      "   74000     32.143723487     10.648559072    21.495164415   762.79\n",
      "   75000     32.143398484     11.503986339    20.639412144   824.06\n",
      "   76000     32.143812536     10.056281634    22.087530902   720.36\n",
      "   77000     32.144123560     10.526326718    21.617796841   754.03\n",
      "   78000     32.143765919     11.065784522    21.077981397   792.67\n",
      "   79000     32.143920602     10.597940685    21.545979917   759.16\n",
      "   80000     32.143839889     10.061856452    22.081983438   720.76\n",
      "   81000     32.144053984     10.089364000    22.054689984   722.73\n",
      "   82000     32.144082342     10.763145708    21.380936633   770.99\n",
      "   83000     32.143493495     11.054123481    21.089370014   791.84\n",
      "   84000     32.143753375     10.307559705    21.836193670   738.36\n",
      "   85000     32.143972633     9.365254523    22.778718111   670.86\n",
      "   86000     32.143762936     10.821758360    21.322004576   775.19\n",
      "   87000     32.143830921     9.968603264    22.175227657   714.08\n",
      "   88000     32.143853030     10.621751392    21.522101637   760.87\n",
      "   89000     32.143856699     10.107536688    22.036320012   724.03\n",
      "   90000     32.144085692     9.953499302    22.190586389   713.00\n",
      "   91000     32.143734343     10.372887945    21.770846399   743.04\n",
      "   92000     32.143997030     9.703593465    22.440403565   695.10\n",
      "   93000     32.143811956     10.151121379    21.992690576   727.15\n",
      "   94000     32.143797345     10.155205534    21.988591811   727.45\n",
      "   95000     32.143738668     9.973411805    22.170326863   714.42\n",
      "   96000     32.144391228     9.748671609    22.395719619   698.33\n",
      "   97000     32.143742769     10.504283731    21.639459037   752.45\n",
      "   98000     32.143753444     10.281204745    21.862548699   736.47\n",
      "   99000     32.143690004     10.898401756    21.245288248   780.68\n",
      "   100000     32.143347065     10.733168216    21.410178849   768.85\n",
      "\n",
      "Normal termination of the MD run!\n"
     ]
    }
   ],
   "source": [
    "import os\n",
    "from asap3 import EMT\n",
    "calculator = EMT()\n",
    "\n",
    "from ase.build import bulk\n",
    "from ase.md.velocitydistribution import MaxwellBoltzmannDistribution,Stationary\n",
    "from ase.md.verlet import VelocityVerlet\n",
    "from ase.md import MDLogger\n",
    "from ase import units\n",
    "from time import perf_counter\n",
    "import numpy as np\n",
    "\n",
    "# Set up a fcc-Al crystal\n",
    "atoms = bulk(\"Al\",\"fcc\",a=4.3,cubic=True)\n",
    "atoms.pbc = True\n",
    "atoms *= 3\n",
    "print(\"atoms = \",atoms)\n",
    "\n",
    "# Set calculator (EMT in this case)\n",
    "atoms.calc = calculator\n",
    "\n",
    "# input parameters\n",
    "time_step    = 1.0      # MD step size in fsec\n",
    "temperature  = 1600     # Temperature in Kelvin\n",
    "num_md_steps = 100000   # Total number of MD steps\n",
    "num_interval = 1000     # Print out interval for .log and .traj\n",
    "\n",
    "# Set the momenta corresponding to the given \"temperature\"\n",
    "MaxwellBoltzmannDistribution(atoms, temperature_K=temperature,force_temp=True)\n",
    "Stationary(atoms)  # Set zero total momentum to avoid drifting\n",
    "\n",
    "# Set output filenames\n",
    "output_filename = \"./liquid-Al_NVE_1.0fs_test/\"\n",
    "if not os.path.isdir(output_filename):\n",
    "    os.makedirs(output_filename)\n",
    "log_filename = output_filename + \"log_file.log\"\n",
    "print(\"log_filename = \",log_filename)\n",
    "traj_filename = output_filename + \"trajectory.traj\"\n",
    "print(\"traj_filename = \",traj_filename)\n",
    "\n",
    "# Remove old files if they exist\n",
    "if os.path.exists(os.path.join(log_filename, '.log')): \n",
    "    os.remove(log_filename)\n",
    "if os.path.exists(os.path.join(traj_filename, '.traj')): \n",
    "    os.remove(traj_filename)\n",
    "\n",
    "# Define the MD dynamics class object\n",
    "dyn = VelocityVerlet(atoms,\n",
    "                     time_step * units.fs,\n",
    "                     trajectory = traj_filename,\n",
    "                     loginterval=num_interval\n",
    "                    )\n",
    "\n",
    "# Print statements\n",
    "def print_dyn():\n",
    "    imd = dyn.get_number_of_steps()\n",
    "    time_md = time_step*imd\n",
    "    etot  = atoms.get_total_energy()\n",
    "    ekin  = atoms.get_kinetic_energy()\n",
    "    epot  = atoms.get_potential_energy()\n",
    "    temp_K = atoms.get_temperature()\n",
    "    print(f\"   {imd: >3}     {etot:.9f}     {ekin:.9f}    {epot:.9f}   {temp_K:.2f}\")\n",
    "\n",
    "dyn.attach(print_dyn, interval=num_interval)\n",
    "\n",
    "# Set MD logger\n",
    "dyn.attach(MDLogger(dyn, atoms, log_filename, header=True, stress=False,peratom=False, mode=\"w\"), interval=num_interval)\n",
    "\n",
    "# Now run MD simulation\n",
    "print(f\"\\n    imd     Etot(eV)    Ekin(eV)    Epot(eV)    T(K)\")\n",
    "dyn.run(num_md_steps)\n",
    "\n",
    "\n",
    "print(\"\\nNormal termination of the MD run!\")"
   ]
  },
  {
   "cell_type": "code",
   "execution_count": 37,
   "metadata": {},
   "outputs": [
    {
     "data": {
      "application/vnd.jupyter.widget-view+json": {
       "model_id": "bfa26ee354614ef994526632a9eb6e3a",
       "version_major": 2,
       "version_minor": 0
      },
      "text/plain": [
       "HBox(children=(NGLWidget(max_frame=100), VBox(children=(Dropdown(description='Show', options=('All', 'Al'), va…"
      ]
     },
     "execution_count": 37,
     "metadata": {},
     "output_type": "execute_result"
    }
   ],
   "source": [
    "# save the trajectory\n",
    "from ase.io import read, write, Trajectory\n",
    "from ase.visualize import view\n",
    "\n",
    "traj = Trajectory(traj_filename)\n",
    "\n",
    "view(traj, viewer='ngl')"
   ]
  },
  {
   "cell_type": "code",
   "execution_count": 39,
   "metadata": {},
   "outputs": [
    {
     "data": {
      "text/html": [
       "<div>\n",
       "<style scoped>\n",
       "    .dataframe tbody tr th:only-of-type {\n",
       "        vertical-align: middle;\n",
       "    }\n",
       "\n",
       "    .dataframe tbody tr th {\n",
       "        vertical-align: top;\n",
       "    }\n",
       "\n",
       "    .dataframe thead th {\n",
       "        text-align: right;\n",
       "    }\n",
       "</style>\n",
       "<table border=\"1\" class=\"dataframe\">\n",
       "  <thead>\n",
       "    <tr style=\"text-align: right;\">\n",
       "      <th></th>\n",
       "      <th>Time[ps]</th>\n",
       "      <th>Etot[eV]</th>\n",
       "      <th>Epot[eV]</th>\n",
       "      <th>Ekin[eV]</th>\n",
       "      <th>T[K]</th>\n",
       "    </tr>\n",
       "  </thead>\n",
       "  <tbody>\n",
       "    <tr>\n",
       "      <th>0</th>\n",
       "      <td>0.0</td>\n",
       "      <td>32.140</td>\n",
       "      <td>9.804</td>\n",
       "      <td>22.336</td>\n",
       "      <td>1600.0</td>\n",
       "    </tr>\n",
       "    <tr>\n",
       "      <th>1</th>\n",
       "      <td>1.0</td>\n",
       "      <td>32.145</td>\n",
       "      <td>21.997</td>\n",
       "      <td>10.147</td>\n",
       "      <td>726.9</td>\n",
       "    </tr>\n",
       "    <tr>\n",
       "      <th>2</th>\n",
       "      <td>2.0</td>\n",
       "      <td>32.145</td>\n",
       "      <td>22.272</td>\n",
       "      <td>9.872</td>\n",
       "      <td>707.2</td>\n",
       "    </tr>\n",
       "    <tr>\n",
       "      <th>3</th>\n",
       "      <td>3.0</td>\n",
       "      <td>32.145</td>\n",
       "      <td>22.189</td>\n",
       "      <td>9.955</td>\n",
       "      <td>713.1</td>\n",
       "    </tr>\n",
       "    <tr>\n",
       "      <th>4</th>\n",
       "      <td>4.0</td>\n",
       "      <td>32.144</td>\n",
       "      <td>21.249</td>\n",
       "      <td>10.895</td>\n",
       "      <td>780.5</td>\n",
       "    </tr>\n",
       "    <tr>\n",
       "      <th>...</th>\n",
       "      <td>...</td>\n",
       "      <td>...</td>\n",
       "      <td>...</td>\n",
       "      <td>...</td>\n",
       "      <td>...</td>\n",
       "    </tr>\n",
       "    <tr>\n",
       "      <th>96</th>\n",
       "      <td>96.0</td>\n",
       "      <td>32.144</td>\n",
       "      <td>22.396</td>\n",
       "      <td>9.749</td>\n",
       "      <td>698.3</td>\n",
       "    </tr>\n",
       "    <tr>\n",
       "      <th>97</th>\n",
       "      <td>97.0</td>\n",
       "      <td>32.144</td>\n",
       "      <td>21.639</td>\n",
       "      <td>10.504</td>\n",
       "      <td>752.5</td>\n",
       "    </tr>\n",
       "    <tr>\n",
       "      <th>98</th>\n",
       "      <td>98.0</td>\n",
       "      <td>32.144</td>\n",
       "      <td>21.863</td>\n",
       "      <td>10.281</td>\n",
       "      <td>736.5</td>\n",
       "    </tr>\n",
       "    <tr>\n",
       "      <th>99</th>\n",
       "      <td>99.0</td>\n",
       "      <td>32.144</td>\n",
       "      <td>21.245</td>\n",
       "      <td>10.898</td>\n",
       "      <td>780.7</td>\n",
       "    </tr>\n",
       "    <tr>\n",
       "      <th>100</th>\n",
       "      <td>100.0</td>\n",
       "      <td>32.143</td>\n",
       "      <td>21.410</td>\n",
       "      <td>10.733</td>\n",
       "      <td>768.8</td>\n",
       "    </tr>\n",
       "  </tbody>\n",
       "</table>\n",
       "<p>101 rows × 5 columns</p>\n",
       "</div>"
      ],
      "text/plain": [
       "     Time[ps]  Etot[eV]  Epot[eV]  Ekin[eV]    T[K]\n",
       "0         0.0    32.140     9.804    22.336  1600.0\n",
       "1         1.0    32.145    21.997    10.147   726.9\n",
       "2         2.0    32.145    22.272     9.872   707.2\n",
       "3         3.0    32.145    22.189     9.955   713.1\n",
       "4         4.0    32.144    21.249    10.895   780.5\n",
       "..        ...       ...       ...       ...     ...\n",
       "96       96.0    32.144    22.396     9.749   698.3\n",
       "97       97.0    32.144    21.639    10.504   752.5\n",
       "98       98.0    32.144    21.863    10.281   736.5\n",
       "99       99.0    32.144    21.245    10.898   780.7\n",
       "100     100.0    32.143    21.410    10.733   768.8\n",
       "\n",
       "[101 rows x 5 columns]"
      ]
     },
     "execution_count": 39,
     "metadata": {},
     "output_type": "execute_result"
    }
   ],
   "source": [
    "# analyze the trajectory \n",
    "import pandas as pd\n",
    "df = pd.read_csv(log_filename, sep='\\s+')\n",
    "df"
   ]
  },
  {
   "cell_type": "code",
   "execution_count": 41,
   "metadata": {},
   "outputs": [
    {
     "data": {
      "image/png": "[encoded data removed]",
      "text/plain": [
       "<Figure size 1000x500 with 4 Axes>"
      ]
     },
     "metadata": {},
     "output_type": "display_data"
    }
   ],
   "source": [
    "# fer els gràfics\n",
    "import numpy as np\n",
    "import matplotlib.pyplot as plt\n",
    "\n",
    "\n",
    "fig = plt.figure(figsize=(10, 5))\n",
    "\n",
    "#color = 'tab:grey'\n",
    "ax1 = fig.add_subplot(4, 1, 1)\n",
    "ax1.set_xticklabels([])\n",
    "ax1.set_ylabel('Tot E (eV)')\n",
    "ax1.set_ylim([31.,33.])\n",
    "ax1.plot(df[\"Time[ps]\"], df[\"Etot[eV]\"], color=\"blue\",alpha=0.5)\n",
    "\n",
    "ax2 = fig.add_subplot(4, 1, 2)\n",
    "ax2.set_xticklabels([])\n",
    "ax2.set_ylabel('P.E. (eV)')\n",
    "ax2.plot(df[\"Time[ps]\"], df[\"Epot[eV]\"], color=\"green\",alpha=0.5)\n",
    "\n",
    "ax3 = fig.add_subplot(4, 1, 3)\n",
    "ax3.set_xticklabels([])\n",
    "ax3.set_ylabel('K.E. (eV)')\n",
    "ax3.plot(df[\"Time[ps]\"], df[\"Ekin[eV]\"], color=\"orange\",alpha=0.5)\n",
    "\n",
    "ax4 = fig.add_subplot(4, 1, 4)\n",
    "ax4.set_xlabel('time (ps)')\n",
    "ax4.set_ylabel('Temp. (K)')\n",
    "ax4.plot(df[\"Time[ps]\"], df[\"T[K]\"], color=\"red\",alpha=0.5)\n",
    "ax4.set_ylim([500., 1700])\n",
    "\n",
    "fig.suptitle(\"Fig.6-1b. Time evolution of total, potential, and kinetic energies, and temperature.\", y=0)\n",
    "\n",
    "#plt.savefig(\"6-1_liquid-Al_NVE_1.0fs_test_E_vs_t.png\")  # <- Use if saving to an image file is desired\n",
    "plt.show()"
   ]
  },
  {
   "cell_type": "code",
   "execution_count": 42,
   "metadata": {},
   "outputs": [],
   "source": [
    "# Additional MD NVT simulations are present in the tutorial guide. \n",
    "# https://docs.matlantis.com/atomistic-simulation-tutorial/en/6_2_md-nvt.html\n",
    "# optional, show the implementation of thermostat"
   ]
  },
  {
   "cell_type": "code",
   "execution_count": 43,
   "metadata": {},
   "outputs": [],
   "source": [
    "# Additional MD NPT simulations are present in the tutorial guide. \n",
    "# https://docs.matlantis.com/atomistic-simulation-tutorial/en/6_3_md-npt.html\n",
    "# optional, show the implementation of thermostat"
   ]
  },
  {
   "cell_type": "markdown",
   "metadata": {},
   "source": [
    "A different example is provided below. "
   ]
  },
  {
   "cell_type": "code",
   "execution_count": 46,
   "metadata": {},
   "outputs": [
    {
     "name": "stdout",
     "output_type": "stream",
     "text": [
      "Energy per atom: Epot = -0.001eV  Ekin = 0.039eV (T=301K)  Etot = 0.038eV\n",
      "Energy per atom: Epot = -0.001eV  Ekin = 0.039eV (T=301K)  Etot = 0.038eV\n",
      "Energy per atom: Epot = 0.029eV  Ekin = 0.009eV (T= 70K)  Etot = 0.038eV\n",
      "Energy per atom: Epot = 0.020eV  Ekin = 0.019eV (T=146K)  Etot = 0.038eV\n",
      "Energy per atom: Epot = 0.018eV  Ekin = 0.021eV (T=160K)  Etot = 0.038eV\n",
      "Energy per atom: Epot = 0.017eV  Ekin = 0.021eV (T=164K)  Etot = 0.038eV\n",
      "Energy per atom: Epot = 0.021eV  Ekin = 0.018eV (T=138K)  Etot = 0.038eV\n",
      "Energy per atom: Epot = 0.019eV  Ekin = 0.019eV (T=149K)  Etot = 0.038eV\n",
      "Energy per atom: Epot = 0.019eV  Ekin = 0.020eV (T=153K)  Etot = 0.038eV\n",
      "Energy per atom: Epot = 0.018eV  Ekin = 0.020eV (T=158K)  Etot = 0.038eV\n",
      "Energy per atom: Epot = 0.020eV  Ekin = 0.018eV (T=143K)  Etot = 0.038eV\n",
      "Energy per atom: Epot = 0.019eV  Ekin = 0.019eV (T=151K)  Etot = 0.038eV\n",
      "Energy per atom: Epot = 0.019eV  Ekin = 0.020eV (T=154K)  Etot = 0.038eV\n",
      "Energy per atom: Epot = 0.019eV  Ekin = 0.020eV (T=152K)  Etot = 0.038eV\n",
      "Energy per atom: Epot = 0.019eV  Ekin = 0.019eV (T=148K)  Etot = 0.038eV\n",
      "Energy per atom: Epot = 0.019eV  Ekin = 0.020eV (T=154K)  Etot = 0.038eV\n",
      "Energy per atom: Epot = 0.019eV  Ekin = 0.020eV (T=151K)  Etot = 0.038eV\n",
      "Energy per atom: Epot = 0.019eV  Ekin = 0.020eV (T=152K)  Etot = 0.038eV\n",
      "Energy per atom: Epot = 0.019eV  Ekin = 0.019eV (T=149K)  Etot = 0.038eV\n",
      "Energy per atom: Epot = 0.019eV  Ekin = 0.020eV (T=151K)  Etot = 0.038eV\n",
      "Energy per atom: Epot = 0.019eV  Ekin = 0.020eV (T=151K)  Etot = 0.038eV\n",
      "Energy per atom: Epot = 0.020eV  Ekin = 0.019eV (T=145K)  Etot = 0.038eV\n"
     ]
    },
    {
     "data": {
      "text/plain": [
       "True"
      ]
     },
     "execution_count": 46,
     "metadata": {},
     "output_type": "execute_result"
    }
   ],
   "source": [
    "\"\"\"Demonstrates molecular dynamics with constant energy.\"\"\"\n",
    "\n",
    "from ase import units\n",
    "from ase.lattice.cubic import FaceCenteredCubic\n",
    "from ase.md.velocitydistribution import MaxwellBoltzmannDistribution\n",
    "from ase.md.verlet import VelocityVerlet\n",
    "\n",
    "# Use Asap for a huge performance increase if it is installed\n",
    "use_asap = True\n",
    "\n",
    "if use_asap:\n",
    "    from asap3 import EMT\n",
    "    size = 10\n",
    "else:\n",
    "    from ase.calculators.emt import EMT\n",
    "    size = 3\n",
    "\n",
    "# Set up a crystal\n",
    "atoms = FaceCenteredCubic(directions=[[1, 0, 0], [0, 1, 0], [0, 0, 1]],\n",
    "                          symbol=\"Cu\",\n",
    "                          size=(size, size, size),\n",
    "                          pbc=True)\n",
    "\n",
    "# Describe the interatomic interactions with the Effective Medium Theory\n",
    "atoms.calc = EMT()\n",
    "\n",
    "# Set the momenta corresponding to T=300K\n",
    "MaxwellBoltzmannDistribution(atoms, temperature_K=300)\n",
    "\n",
    "# We want to run MD with constant energy using the VelocityVerlet algorithm.\n",
    "dyn = VelocityVerlet(atoms, 5 * units.fs)  # 5 fs time step.\n",
    "\n",
    "\n",
    "def printenergy(a=atoms):  # store a reference to atoms in the definition.\n",
    "    \"\"\"Function to print the potential, kinetic and total energy.\"\"\"\n",
    "    epot = a.get_potential_energy() / len(a)\n",
    "    ekin = a.get_kinetic_energy() / len(a)\n",
    "    print('Energy per atom: Epot = %.3feV  Ekin = %.3feV (T=%3.0fK)  '\n",
    "          'Etot = %.3feV' % (epot, ekin, ekin / (1.5 * units.kB), epot + ekin))\n",
    "\n",
    "\n",
    "# Now run the dynamics\n",
    "dyn.attach(printenergy, interval=10)\n",
    "printenergy()\n",
    "dyn.run(200)"
   ]
  },
  {
   "cell_type": "markdown",
   "metadata": {},
   "source": [
    "If we want to control the temperature of an MD simulation (NVT), a thermostat (Langevin thermostat) can be implemented using `dyn = Langevin(...)` instead of `dyn = VelocityVerlet(...)`. "
   ]
  },
  {
   "cell_type": "code",
   "execution_count": 47,
   "metadata": {},
   "outputs": [
    {
     "name": "stderr",
     "output_type": "stream",
     "text": [
      "/Users/sergiortizropero/miniconda3/envs/ANI_venv/lib/python3.10/site-packages/ase/md/md.py:52: FutureWarning: Specify the temperature in K using the 'temperature_K' argument\n",
      "  warnings.warn(FutureWarning(w))\n"
     ]
    },
    {
     "name": "stdout",
     "output_type": "stream",
     "text": [
      "Energy per atom: Epot = 0.135eV  Ekin = 0.000eV (T=  0K)  Etot = 0.135eV\n",
      "Energy per atom: Epot = 0.135eV  Ekin = 0.000eV (T=  0K)  Etot = 0.135eV\n",
      "Energy per atom: Epot = 0.143eV  Ekin = 0.011eV (T= 87K)  Etot = 0.154eV\n",
      "Energy per atom: Epot = 0.152eV  Ekin = 0.019eV (T=148K)  Etot = 0.171eV\n",
      "Energy per atom: Epot = 0.160eV  Ekin = 0.028eV (T=217K)  Etot = 0.188eV\n",
      "Energy per atom: Epot = 0.168eV  Ekin = 0.036eV (T=275K)  Etot = 0.204eV\n",
      "Energy per atom: Epot = 0.178eV  Ekin = 0.042eV (T=324K)  Etot = 0.220eV\n",
      "Energy per atom: Epot = 0.185eV  Ekin = 0.049eV (T=376K)  Etot = 0.234eV\n",
      "Energy per atom: Epot = 0.192eV  Ekin = 0.057eV (T=440K)  Etot = 0.248eV\n",
      "Energy per atom: Epot = 0.199eV  Ekin = 0.064eV (T=496K)  Etot = 0.263eV\n",
      "Energy per atom: Epot = 0.205eV  Ekin = 0.071eV (T=547K)  Etot = 0.276eV\n",
      "Energy per atom: Epot = 0.213eV  Ekin = 0.075eV (T=582K)  Etot = 0.288eV\n",
      "Energy per atom: Epot = 0.223eV  Ekin = 0.077eV (T=598K)  Etot = 0.300eV\n",
      "Energy per atom: Epot = 0.229eV  Ekin = 0.083eV (T=641K)  Etot = 0.311eV\n",
      "Energy per atom: Epot = 0.232eV  Ekin = 0.089eV (T=686K)  Etot = 0.321eV\n",
      "Energy per atom: Epot = 0.236eV  Ekin = 0.094eV (T=727K)  Etot = 0.330eV\n",
      "Energy per atom: Epot = 0.243eV  Ekin = 0.097eV (T=751K)  Etot = 0.341eV\n",
      "Energy per atom: Epot = 0.248eV  Ekin = 0.101eV (T=779K)  Etot = 0.349eV\n",
      "Energy per atom: Epot = 0.256eV  Ekin = 0.103eV (T=799K)  Etot = 0.359eV\n",
      "Energy per atom: Epot = 0.258eV  Ekin = 0.108eV (T=835K)  Etot = 0.366eV\n",
      "Energy per atom: Epot = 0.262eV  Ekin = 0.112eV (T=867K)  Etot = 0.374eV\n",
      "Energy per atom: Epot = 0.268eV  Ekin = 0.114eV (T=883K)  Etot = 0.382eV\n",
      "Energy per atom: Epot = 0.274eV  Ekin = 0.116eV (T=900K)  Etot = 0.390eV\n",
      "Energy per atom: Epot = 0.277eV  Ekin = 0.120eV (T=931K)  Etot = 0.398eV\n",
      "Energy per atom: Epot = 0.280eV  Ekin = 0.125eV (T=966K)  Etot = 0.405eV\n",
      "Energy per atom: Epot = 0.288eV  Ekin = 0.124eV (T=959K)  Etot = 0.412eV\n",
      "Energy per atom: Epot = 0.292eV  Ekin = 0.126eV (T=977K)  Etot = 0.419eV\n",
      "Energy per atom: Epot = 0.294eV  Ekin = 0.130eV (T=1006K)  Etot = 0.424eV\n",
      "Energy per atom: Epot = 0.297eV  Ekin = 0.133eV (T=1032K)  Etot = 0.431eV\n",
      "Energy per atom: Epot = 0.303eV  Ekin = 0.134eV (T=1033K)  Etot = 0.437eV\n",
      "Energy per atom: Epot = 0.306eV  Ekin = 0.136eV (T=1049K)  Etot = 0.441eV\n",
      "Energy per atom: Epot = 0.309eV  Ekin = 0.138eV (T=1068K)  Etot = 0.447eV\n",
      "Energy per atom: Epot = 0.313eV  Ekin = 0.140eV (T=1080K)  Etot = 0.452eV\n",
      "Energy per atom: Epot = 0.315eV  Ekin = 0.140eV (T=1086K)  Etot = 0.455eV\n",
      "Energy per atom: Epot = 0.318eV  Ekin = 0.141eV (T=1093K)  Etot = 0.459eV\n",
      "Energy per atom: Epot = 0.323eV  Ekin = 0.142eV (T=1095K)  Etot = 0.464eV\n",
      "Energy per atom: Epot = 0.324eV  Ekin = 0.143eV (T=1109K)  Etot = 0.468eV\n",
      "Energy per atom: Epot = 0.327eV  Ekin = 0.145eV (T=1121K)  Etot = 0.472eV\n",
      "Energy per atom: Epot = 0.330eV  Ekin = 0.147eV (T=1141K)  Etot = 0.478eV\n",
      "Energy per atom: Epot = 0.335eV  Ekin = 0.149eV (T=1152K)  Etot = 0.483eV\n",
      "Energy per atom: Epot = 0.338eV  Ekin = 0.151eV (T=1166K)  Etot = 0.489eV\n",
      "Energy per atom: Epot = 0.341eV  Ekin = 0.152eV (T=1177K)  Etot = 0.493eV\n",
      "Energy per atom: Epot = 0.347eV  Ekin = 0.153eV (T=1181K)  Etot = 0.500eV\n",
      "Energy per atom: Epot = 0.353eV  Ekin = 0.151eV (T=1171K)  Etot = 0.504eV\n",
      "Energy per atom: Epot = 0.355eV  Ekin = 0.152eV (T=1177K)  Etot = 0.507eV\n",
      "Energy per atom: Epot = 0.359eV  Ekin = 0.154eV (T=1193K)  Etot = 0.514eV\n",
      "Energy per atom: Epot = 0.361eV  Ekin = 0.157eV (T=1218K)  Etot = 0.518eV\n",
      "Energy per atom: Epot = 0.365eV  Ekin = 0.157eV (T=1211K)  Etot = 0.522eV\n",
      "Energy per atom: Epot = 0.368eV  Ekin = 0.160eV (T=1236K)  Etot = 0.528eV\n",
      "Energy per atom: Epot = 0.374eV  Ekin = 0.159eV (T=1227K)  Etot = 0.532eV\n",
      "Energy per atom: Epot = 0.380eV  Ekin = 0.156eV (T=1204K)  Etot = 0.536eV\n",
      "Energy per atom: Epot = 0.382eV  Ekin = 0.158eV (T=1224K)  Etot = 0.540eV\n",
      "Energy per atom: Epot = 0.384eV  Ekin = 0.161eV (T=1246K)  Etot = 0.545eV\n",
      "Energy per atom: Epot = 0.386eV  Ekin = 0.163eV (T=1261K)  Etot = 0.549eV\n",
      "Energy per atom: Epot = 0.391eV  Ekin = 0.161eV (T=1242K)  Etot = 0.551eV\n",
      "Energy per atom: Epot = 0.398eV  Ekin = 0.157eV (T=1215K)  Etot = 0.555eV\n",
      "Energy per atom: Epot = 0.397eV  Ekin = 0.162eV (T=1253K)  Etot = 0.559eV\n",
      "Energy per atom: Epot = 0.397eV  Ekin = 0.163eV (T=1264K)  Etot = 0.561eV\n",
      "Energy per atom: Epot = 0.404eV  Ekin = 0.161eV (T=1249K)  Etot = 0.566eV\n",
      "Energy per atom: Epot = 0.407eV  Ekin = 0.160eV (T=1241K)  Etot = 0.568eV\n",
      "Energy per atom: Epot = 0.410eV  Ekin = 0.162eV (T=1253K)  Etot = 0.572eV\n",
      "Energy per atom: Epot = 0.412eV  Ekin = 0.161eV (T=1249K)  Etot = 0.574eV\n",
      "Energy per atom: Epot = 0.414eV  Ekin = 0.165eV (T=1273K)  Etot = 0.579eV\n",
      "Energy per atom: Epot = 0.416eV  Ekin = 0.166eV (T=1283K)  Etot = 0.582eV\n",
      "Energy per atom: Epot = 0.419eV  Ekin = 0.166eV (T=1287K)  Etot = 0.585eV\n",
      "Energy per atom: Epot = 0.423eV  Ekin = 0.164eV (T=1267K)  Etot = 0.587eV\n",
      "Energy per atom: Epot = 0.425eV  Ekin = 0.166eV (T=1282K)  Etot = 0.591eV\n",
      "Energy per atom: Epot = 0.429eV  Ekin = 0.166eV (T=1287K)  Etot = 0.595eV\n",
      "Energy per atom: Epot = 0.430eV  Ekin = 0.168eV (T=1298K)  Etot = 0.597eV\n",
      "Energy per atom: Epot = 0.431eV  Ekin = 0.168eV (T=1300K)  Etot = 0.599eV\n",
      "Energy per atom: Epot = 0.434eV  Ekin = 0.167eV (T=1289K)  Etot = 0.600eV\n",
      "Energy per atom: Epot = 0.436eV  Ekin = 0.164eV (T=1271K)  Etot = 0.601eV\n",
      "Energy per atom: Epot = 0.436eV  Ekin = 0.167eV (T=1293K)  Etot = 0.603eV\n",
      "Energy per atom: Epot = 0.437eV  Ekin = 0.167eV (T=1290K)  Etot = 0.604eV\n",
      "Energy per atom: Epot = 0.436eV  Ekin = 0.171eV (T=1324K)  Etot = 0.607eV\n",
      "Energy per atom: Epot = 0.439eV  Ekin = 0.171eV (T=1320K)  Etot = 0.610eV\n",
      "Energy per atom: Epot = 0.440eV  Ekin = 0.172eV (T=1330K)  Etot = 0.611eV\n",
      "Energy per atom: Epot = 0.443eV  Ekin = 0.170eV (T=1316K)  Etot = 0.613eV\n",
      "Energy per atom: Epot = 0.446eV  Ekin = 0.169eV (T=1305K)  Etot = 0.615eV\n",
      "Energy per atom: Epot = 0.448eV  Ekin = 0.171eV (T=1320K)  Etot = 0.618eV\n",
      "Energy per atom: Epot = 0.448eV  Ekin = 0.173eV (T=1336K)  Etot = 0.620eV\n",
      "Energy per atom: Epot = 0.452eV  Ekin = 0.171eV (T=1320K)  Etot = 0.623eV\n",
      "Energy per atom: Epot = 0.455eV  Ekin = 0.170eV (T=1312K)  Etot = 0.625eV\n",
      "Energy per atom: Epot = 0.459eV  Ekin = 0.168eV (T=1298K)  Etot = 0.627eV\n",
      "Energy per atom: Epot = 0.456eV  Ekin = 0.174eV (T=1347K)  Etot = 0.630eV\n",
      "Energy per atom: Epot = 0.457eV  Ekin = 0.176eV (T=1365K)  Etot = 0.633eV\n",
      "Energy per atom: Epot = 0.462eV  Ekin = 0.174eV (T=1348K)  Etot = 0.636eV\n",
      "Energy per atom: Epot = 0.463eV  Ekin = 0.175eV (T=1352K)  Etot = 0.638eV\n",
      "Energy per atom: Epot = 0.463eV  Ekin = 0.176eV (T=1362K)  Etot = 0.639eV\n",
      "Energy per atom: Epot = 0.464eV  Ekin = 0.176eV (T=1365K)  Etot = 0.641eV\n",
      "Energy per atom: Epot = 0.468eV  Ekin = 0.176eV (T=1363K)  Etot = 0.644eV\n",
      "Energy per atom: Epot = 0.466eV  Ekin = 0.178eV (T=1379K)  Etot = 0.644eV\n",
      "Energy per atom: Epot = 0.469eV  Ekin = 0.177eV (T=1373K)  Etot = 0.646eV\n",
      "Energy per atom: Epot = 0.473eV  Ekin = 0.176eV (T=1362K)  Etot = 0.649eV\n",
      "Energy per atom: Epot = 0.471eV  Ekin = 0.180eV (T=1391K)  Etot = 0.650eV\n",
      "Energy per atom: Epot = 0.471eV  Ekin = 0.180eV (T=1396K)  Etot = 0.651eV\n",
      "Energy per atom: Epot = 0.473eV  Ekin = 0.180eV (T=1389K)  Etot = 0.652eV\n",
      "Energy per atom: Epot = 0.471eV  Ekin = 0.180eV (T=1394K)  Etot = 0.652eV\n",
      "Energy per atom: Epot = 0.471eV  Ekin = 0.182eV (T=1408K)  Etot = 0.653eV\n",
      "Energy per atom: Epot = 0.473eV  Ekin = 0.180eV (T=1393K)  Etot = 0.653eV\n",
      "Energy per atom: Epot = 0.472eV  Ekin = 0.183eV (T=1417K)  Etot = 0.655eV\n",
      "Energy per atom: Epot = 0.474eV  Ekin = 0.182eV (T=1408K)  Etot = 0.656eV\n"
     ]
    },
    {
     "data": {
      "text/plain": [
       "True"
      ]
     },
     "execution_count": 47,
     "metadata": {},
     "output_type": "execute_result"
    }
   ],
   "source": [
    "\"\"\"Demonstrates molecular dynamics with constant temperature.\"\"\"\n",
    "from asap3 import EMT  # Way too slow with ase.EMT !\n",
    "\n",
    "from ase import units\n",
    "from ase.io.trajectory import Trajectory\n",
    "from ase.lattice.cubic import FaceCenteredCubic\n",
    "from ase.md.langevin import Langevin\n",
    "\n",
    "size = 10\n",
    "\n",
    "T = 1500  # Kelvin\n",
    "\n",
    "# Set up a crystal\n",
    "atoms = FaceCenteredCubic(directions=[[1, 0, 0], [0, 1, 0], [0, 0, 1]],\n",
    "                          symbol=\"Cu\",\n",
    "                          size=(size, size, size),\n",
    "                          pbc=False)\n",
    "\n",
    "# Describe the interatomic interactions with the Effective Medium Theory\n",
    "atoms.calc = EMT()\n",
    "\n",
    "# We want to run MD with constant energy using the Langevin algorithm\n",
    "# with a time step of 5 fs, the temperature T and the friction\n",
    "# coefficient to 0.02 atomic units.\n",
    "dyn = Langevin(atoms, 5 * units.fs, T * units.kB, 0.002)\n",
    "\n",
    "\n",
    "def printenergy(a=atoms):  # store a reference to atoms in the definition.\n",
    "    \"\"\"Function to print the potential, kinetic and total energy.\"\"\"\n",
    "    epot = a.get_potential_energy() / len(a)\n",
    "    ekin = a.get_kinetic_energy() / len(a)\n",
    "    print('Energy per atom: Epot = %.3feV  Ekin = %.3feV (T=%3.0fK)  '\n",
    "          'Etot = %.3feV' % (epot, ekin, ekin / (1.5 * units.kB), epot + ekin))\n",
    "\n",
    "\n",
    "dyn.attach(printenergy, interval=50)\n",
    "\n",
    "# We also want to save the positions of all atoms after every 100th time step.\n",
    "traj = Trajectory('moldyn3.traj', 'w', atoms)\n",
    "dyn.attach(traj.write, interval=50)\n",
    "\n",
    "# Now run the dynamics\n",
    "printenergy()\n",
    "dyn.run(5000)"
   ]
  },
  {
   "cell_type": "markdown",
   "metadata": {},
   "source": [
    "And use `ase gui moldyn3.traj` to check the output. "
   ]
  },
  {
   "cell_type": "code",
   "execution_count": 49,
   "metadata": {},
   "outputs": [
    {
     "data": {
      "application/vnd.jupyter.widget-view+json": {
       "model_id": "1498307be3c54febaee5a6310525c0be",
       "version_major": 2,
       "version_minor": 0
      },
      "text/plain": [
       "HBox(children=(NGLWidget(max_frame=100), VBox(children=(Dropdown(description='Show', options=('All', 'Cu'), va…"
      ]
     },
     "execution_count": 49,
     "metadata": {},
     "output_type": "execute_result"
    }
   ],
   "source": [
    "traj = Trajectory('moldyn3.traj')\n",
    "view(traj, viewer='ngl')"
   ]
  },
  {
   "cell_type": "markdown",
   "metadata": {},
   "source": [
    "Another NVT example of equilibrating a box of TIP3P waters (rigid molecules). The TIP3P force field is contained in `ase.calculators.tip3p`. Remember that when changing the system, if a different interatomic potential wants to be used, a different calculator is necessary!"
   ]
  },
  {
   "cell_type": "code",
   "execution_count": 60,
   "metadata": {},
   "outputs": [
    {
     "name": "stdout",
     "output_type": "stream",
     "text": [
      "648\n"
     ]
    },
    {
     "data": {
      "text/plain": [
       "True"
      ]
     },
     "execution_count": 60,
     "metadata": {},
     "output_type": "execute_result"
    }
   ],
   "source": [
    "import numpy as np\n",
    "\n",
    "import ase.units as units\n",
    "from ase import Atoms\n",
    "from ase.calculators.tip3p import TIP3P, angleHOH, rOH\n",
    "from ase.constraints import FixBondLengths\n",
    "from ase.io.trajectory import Trajectory\n",
    "from ase.md import Langevin\n",
    "\n",
    "# Set up water box at 20 deg C density\n",
    "x = angleHOH * np.pi / 180 / 2\n",
    "pos = [[0, 0, 0],\n",
    "       [0, rOH * np.cos(x), rOH * np.sin(x)],\n",
    "       [0, rOH * np.cos(x), -rOH * np.sin(x)]]\n",
    "atoms = Atoms('OH2', positions=pos)\n",
    "\n",
    "vol = ((18.01528 / 6.022140857e23) / (0.9982 / 1e24))**(1 / 3.)\n",
    "atoms.set_cell((vol, vol, vol))\n",
    "atoms.center()\n",
    "\n",
    "atoms = atoms.repeat((3, 3, 3))\n",
    "atoms.set_pbc(True)\n",
    "\n",
    "# RATTLE-type constraints on O-H1, O-H2, H1-H2.\n",
    "atoms.constraints = FixBondLengths([(3 * i + j, 3 * i + (j + 1) % 3)\n",
    "                                    for i in range(3**3)\n",
    "                                    for j in [0, 1, 2]])\n",
    "\n",
    "tag = 'tip3p_27mol_equil'\n",
    "atoms.calc = TIP3P(rc=4.5)\n",
    "md = Langevin(atoms, 1 * units.fs, temperature=300 * units.kB,\n",
    "              friction=0.01, logfile=tag + '.log')\n",
    "\n",
    "traj = Trajectory(tag + '.traj', 'w', atoms)\n",
    "md.attach(traj.write, interval=1)\n",
    "md.run(400)\n",
    "\n",
    "# Repeat box and equilibrate further.\n",
    "tag = 'tip3p_216mol_equil'\n",
    "atoms.set_constraint()  # repeat not compatible with FixBondLengths currently.\n",
    "atoms = atoms.repeat((2, 2, 2))\n",
    "atoms.constraints = FixBondLengths([(3 * i + j, 3 * i + (j + 1) % 3)\n",
    "                                    for i in range(int(len(atoms) / 3))\n",
    "                                    for j in [0, 1, 2]])\n",
    "atoms.calc = TIP3P(rc=7.)\n",
    "md = Langevin(atoms, 2 * units.fs, temperature=300 * units.kB,\n",
    "              friction=0.01, logfile=tag + '.log')\n",
    "\n",
    "traj = Trajectory(tag + '.traj', 'w', atoms)\n",
    "md.attach(traj.write, interval=1)\n",
    "md.run(200)"
   ]
  },
  {
   "cell_type": "code",
   "execution_count": 61,
   "metadata": {},
   "outputs": [
    {
     "data": {
      "application/vnd.jupyter.widget-view+json": {
       "model_id": "096092877b0b45c2b9950434b5e670c4",
       "version_major": 2,
       "version_minor": 0
      },
      "text/plain": [
       "HBox(children=(NGLWidget(max_frame=200), VBox(children=(Dropdown(description='Show', options=('All', 'O', 'H')…"
      ]
     },
     "execution_count": 61,
     "metadata": {},
     "output_type": "execute_result"
    }
   ],
   "source": [
    "traj = Trajectory('tip3p_216mol_equil.traj')\n",
    "view(traj, viewer='ngl')"
   ]
  },
  {
   "cell_type": "markdown",
   "metadata": {},
   "source": [
    "If, instead of TIP3P waters, acetonytrile is to be used as solvent (NVT), `ase.calculators.acn` provides a suitable forcefield (ACN is considered to be neutral)"
   ]
  },
  {
   "cell_type": "code",
   "execution_count": 58,
   "metadata": {},
   "outputs": [
    {
     "data": {
      "text/plain": [
       "True"
      ]
     },
     "execution_count": 58,
     "metadata": {},
     "output_type": "execute_result"
    }
   ],
   "source": [
    "import numpy as np\n",
    "\n",
    "import ase.units as units\n",
    "from ase import Atoms\n",
    "from ase.calculators.acn import ACN, m_me, r_cn, r_mec\n",
    "from ase.constraints import FixLinearTriatomic\n",
    "from ase.io import Trajectory\n",
    "from ase.md import Langevin\n",
    "\n",
    "pos = [[0, 0, -r_mec],\n",
    "       [0, 0, 0],\n",
    "       [0, 0, r_cn]]\n",
    "atoms = Atoms('CCN', positions=pos)\n",
    "atoms.rotate(30, 'x')\n",
    "\n",
    "# First C of each molecule needs to have the mass of a methyl group\n",
    "masses = atoms.get_masses()\n",
    "masses[::3] = m_me\n",
    "atoms.set_masses(masses)\n",
    "\n",
    "# Determine side length of a box with the density of acetonitrile at 298 K\n",
    "# Density in g/Ang3 (https://pubs.acs.org/doi/10.1021/je00001a006)\n",
    "d = 0.776 / 1e24\n",
    "L = ((masses.sum() / units.mol) / d)**(1 / 3.)\n",
    "# Set up box of 27 acetonitrile molecules\n",
    "atoms.set_cell((L, L, L))\n",
    "atoms.center()\n",
    "atoms = atoms.repeat((3, 3, 3))\n",
    "atoms.set_pbc(True)\n",
    "\n",
    "# Set constraints for rigid triatomic molecules\n",
    "nm = 27\n",
    "atoms.constraints = FixLinearTriatomic(\n",
    "    triples=[(3 * i, 3 * i + 1, 3 * i + 2)\n",
    "             for i in range(nm)])\n",
    "\n",
    "tag = 'acn_27mol_300K'\n",
    "atoms.calc = ACN(rc=np.min(np.diag(atoms.cell)) / 2)\n",
    "\n",
    "# Create Langevin object\n",
    "md = Langevin(atoms, 1 * units.fs,\n",
    "              temperature=300 * units.kB,\n",
    "              friction=0.01,\n",
    "              logfile=tag + '.log')\n",
    "\n",
    "traj = Trajectory(tag + '.traj', 'w', atoms)\n",
    "md.attach(traj.write, interval=1)\n",
    "md.run(5000)\n",
    "\n",
    "# Repeat box and equilibrate further\n",
    "atoms.set_constraint()\n",
    "atoms = atoms.repeat((2, 2, 2))\n",
    "nm = 216\n",
    "atoms.constraints = FixLinearTriatomic(\n",
    "    triples=[(3 * i, 3 * i + 1, 3 * i + 2)\n",
    "             for i in range(nm)])\n",
    "\n",
    "tag = 'acn_216mol_300K'\n",
    "atoms.calc = ACN(rc=np.min(np.diag(atoms.cell)) / 2)\n",
    "\n",
    "# Create Langevin object\n",
    "md = Langevin(atoms, 2 * units.fs,\n",
    "              temperature=300 * units.kB,\n",
    "              friction=0.01,\n",
    "              logfile=tag + '.log')\n",
    "\n",
    "traj = Trajectory(tag + '.traj', 'w', atoms)\n",
    "md.attach(traj.write, interval=1)\n",
    "md.run(3000)"
   ]
  },
  {
   "cell_type": "code",
   "execution_count": 59,
   "metadata": {},
   "outputs": [
    {
     "data": {
      "application/vnd.jupyter.widget-view+json": {
       "model_id": "66de878c87134c5d9ddab7343c15e7be",
       "version_major": 2,
       "version_minor": 0
      },
      "text/plain": [
       "HBox(children=(NGLWidget(max_frame=3000), VBox(children=(Dropdown(description='Show', options=('All', 'C', 'N'…"
      ]
     },
     "execution_count": 59,
     "metadata": {},
     "output_type": "execute_result"
    }
   ],
   "source": [
    "traj = Trajectory('acn_216mol_300K.traj')\n",
    "view(traj, viewer='ngl')"
   ]
  }
 ],
 "metadata": {
  "kernelspec": {
   "display_name": "ASE_base",
   "language": "python",
   "name": "python3"
  },
  "language_info": {
   "codemirror_mode": {
    "name": "ipython",
    "version": 3
   },
   "file_extension": ".py",
   "mimetype": "text/x-python",
   "name": "python",
   "nbconvert_exporter": "python",
   "pygments_lexer": "ipython3",
   "version": "3.10.16"
  }
 },
 "nbformat": 4,
 "nbformat_minor": 2
}
