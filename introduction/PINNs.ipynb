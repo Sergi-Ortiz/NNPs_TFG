{
 "cells": [
  {
   "cell_type": "markdown",
   "metadata": {},
   "source": [
    "# __Physics Informed Neural Networks (PINNs)__"
   ]
  },
  {
   "cell_type": "markdown",
   "metadata": {},
   "source": [
    "## __Introduction seminar__\n",
    "Reference: [video](https://www.youtube.com/watch?v=G_hIppUWcsc)\n",
    "\n",
    "Three scientific tasks: forward simulations (from a given initial conditions and equations, perform a simulation); inversion (i have the simulation, generate the system); equation discovery (given simulation data, explain what is seen). This process can be difficult depending on the system, and level of detail of the simulation. \n",
    "\n",
    "**Naive ML training:** train a NN without physics knowledge with million of traning data/steps to learn the physics/math between input (data) and output (prediction). Performance of a NN depends completely on the quality of the data used for training. These naive use of DL fos cientific tasks usually lead to Lack of interpretability, poor generalization, lots of training data required. \n",
    "\n",
    "A new approach should be used, to combine ML and scientific understanding to generate a **SciML**, a scientifically informed NN. If a NN knows about the current scientific theory, it might be able to make novel predictions. These **SciML** models that combine ML and physics are more powerful, robust and interpretable than naive ones. \n",
    "\n",
    "As oposed to a standard NN, that has some weights trained with data with weights that are so that the MSE is minimized (same as residuals); PINNs have a loss function with the differential equation. The prediction of the NN is so that the loss function is zero (it obeys the ODE). This loss function must be evaluated in some points of the domain (to check the ODE is correctly evaluated). Only drawback is that we need to know the PDE/ODE of the system to train the model in a physicist way. \n",
    "\n",
    "**Note:** simple ODE/PDE systems can be solved numerically with existent techniques (not very useful), however, more complex systems might be necessary to use a DL/PINN to get the predicted function (as the analytical one is not available). The amount of ODE/PDEs we can solve analytically is very reduced!\n",
    "\n",
    "Might be a good alternative in solving a PDE/ODE system (carrying out simulations). \n",
    "\n",
    "PINNs also can be trained without knowing exactly the ODE/PDE equations that govern the system given a simulation data. \n",
    "\n",
    "It is important to note that we are trying to do a functional approximation to the solution. The PINN might return the prediction for a given point, but the PINN is a function, so we can plot the simulation avaluating it to a grid. A grid however is not needed (they are mesh-free, functional solution), and the ML is unsupervised. \n",
    "\n",
    "They are very competitive when it comes to inversion tasks: I have some data and I want to learn something about a PDE. They are not very competitive when it comes to forward tasks (simulation). \n",
    "\n",
    "\n",
    "### __workshop__\n",
    "Github link: [here](https://github.com/benmoseley/harmonic-oscillator-pinn-workshop). [Notebook](https://github.com/benmoseley/harmonic-oscillator-pinn-workshop/blob/main/PINN_intro_workshop.ipynb)\n",
    "\n",
    "Basic pytorch is needed for the DL part. \n",
    "\n",
    "1. simulate the system\n",
    "2. invert to get the coeff of friction. \n",
    "\n",
    "\n",
    "For inversion tasks, the parameter will also be a learnable parameter (just like theta, the weights). "
   ]
  },
  {
   "cell_type": "markdown",
   "metadata": {},
   "source": [
    "## __Second video__\n",
    "Reference: [video](https://www.youtube.com/watch?v=-zrY7P2dVC4)\n",
    "\n"
   ]
  }
 ],
 "metadata": {
  "kernelspec": {
   "display_name": "uppSP",
   "language": "python",
   "name": "python3"
  },
  "language_info": {
   "name": "python",
   "version": "3.12.4"
  }
 },
 "nbformat": 4,
 "nbformat_minor": 2
}
