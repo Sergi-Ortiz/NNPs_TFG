{
 "cells": [
  {
   "cell_type": "markdown",
   "metadata": {},
   "source": [
    "This notebook provides a procedure to compute the deformation of a bond. "
   ]
  },
  {
   "cell_type": "markdown",
   "metadata": {},
   "source": [
    "Comentaris. La referència de l'energia, estrictament parlant, hauria de ser l'energia dels fragments. Això no es té en compte. Es pot fixar la referència d'energia en la conformació més estable, igual que en els dihedres o els angles. "
   ]
  },
  {
   "cell_type": "code",
   "execution_count": null,
   "metadata": {},
   "outputs": [],
   "source": [
    "# general imports\n",
    "import os\n",
    "import numpy as np\n",
    "import matplotlib.pyplot as plt\n",
    "from matplotlib import rc\n",
    "#rc('font',**{'family':'sans-serif','sans-serif':['Helvetica']})\n",
    "rc('text', usetex=True)\n",
    "rc('lines', lw=1, color='b')\n",
    "rc('legend', loc='best')\n",
    "plt.rcParams[\"legend.fancybox\"] = False\n",
    "plt.rcParams[\"legend.edgecolor\"] = 'black'\n",
    "plt.rcParams['legend.borderpad'] = 0.25\n",
    "plt.rcParams['legend.fontsize'] = 11\n",
    "plt.rcParams.update({'pgf.preamble': r'\\usepackage{amsmath}'})\n",
    "\n",
    "from ase.visualize import view\n",
    "from ase.io import trajectory\n",
    "from ase import build"
   ]
  },
  {
   "cell_type": "code",
   "execution_count": 44,
   "metadata": {},
   "outputs": [],
   "source": [
    "def evaluate_bond(molecule, bond_ids, mask,  calculator_list, search_space=None , resolution=None, save_dir='./'):\n",
    "    '''\n",
    "    Definition\n",
    "    ----------\n",
    "    Evaluates the PES of the breaking of a bond.\n",
    "    bond_ids contain the index of the atoms that form the bond. \n",
    "    '''\n",
    "\n",
    "    # set scan space and resolution. \n",
    "    if resolution is None:\n",
    "        resolution = 40\n",
    "    if search_space is None:\n",
    "        search_space = [1.0, 6.0]\n",
    "    dist_list = np.linspace(search_space[0], search_space[1], resolution)\n",
    "\n",
    "    print(f'computing {molecule[bond_ids[0]].symbol}{molecule[bond_ids[0]].index}-{molecule[bond_ids[1]].symbol}{molecule[bond_ids[1]].index} PES\\nscan range {search_space} Å')\n",
    "    print(f'evaluating {len(dist_list)} distances')\n",
    "    print(f'distances:\\n{dist_list}\\n')\n",
    "\n",
    "    if len(calculator_list) == 1:\n",
    "        traj_path = os.path.join(save_dir, 'bond_scan.traj')\n",
    "        traj = trajectory.TrajectoryWriter(filename=traj_path, mode='w')\n",
    "\n",
    "    # save energies\n",
    "    energies = []\n",
    "\n",
    "    # evaluate each calculator\n",
    "    for calc_ in calculator_list: \n",
    "\n",
    "        calc_energy_list = []\n",
    "\n",
    "        for d in dist_list:\n",
    "\n",
    "            # define the configuration\n",
    "            molecule.set_distance(bond_ids[0], bond_ids[1], d, mask=mask)\n",
    "            molecule.calc = calc_\n",
    "            potential_e = molecule.get_potential_energy()\n",
    "            calc_energy_list.append(potential_e)\n",
    "        \n",
    "            if len(calculator_list) == 1:\n",
    "                traj.write(molecule)\n",
    "\n",
    "        # compute reference\n",
    "        # TODO\n",
    "\n",
    "        energies.append(calc_energy_list)\n",
    "\n",
    "        if len(calculator_list) == 1:\n",
    "            traj.close()\n",
    "\n",
    "    return dist_list, energies\n",
    "\n",
    "\n",
    "\n",
    "def plot_bond(distance_list, energy_list, calculator_names, calculator_colors, dist_name='', save_dir=None):\n",
    "    '''\n",
    "    Plot a bond scan. \n",
    "    '''\n",
    "\n",
    "    if save_dir is None:\n",
    "        save_dir = './'\n",
    "\n",
    "    _color_list = ['black', 'red', 'orange', 'blue']\n",
    "    _marker_list = ['^', 'd', 'v', 'o']\n",
    "\n",
    "    fig, axes = plt.subplots(ncols=1, nrows=1, figsize=(6,4)) \n",
    "    axes.tick_params(bottom=True, top=True, left=True, right=False, direction=\"in\")\n",
    "    axes.tick_params(labelbottom=True, labeltop=False, labelleft=True, labelright=False, direction=\"in\")\n",
    "\n",
    "    for k in range(len(calculator_names)):\n",
    "        \n",
    "        # gather the minimum energy structure\n",
    "        idx = np.argmin(energy_list[k][:])\n",
    "        min_energy = energy_list[k][idx]\n",
    "        min_dih = distance_list[idx]\n",
    "\n",
    "        # TODO convert energy from eV/particle to kcal/mol: 1 eV/molecule = 23.0605 kcal/mol\n",
    "\n",
    "        axes.plot(distance_list, (np.array(energy_list[k][:])-min_energy), label=r'$\\textnormal{' + calculator_names[k] + r'}$', color=calculator_colors[k], alpha=0.9)\n",
    "        axes.scatter(min_dih, min_energy-min_energy, color=_color_list[k], marker=_marker_list[k], label=r'$\\textnormal{reference energy at ' + f'{min_dih:.3f}' + r' Å}$')\n",
    "\n",
    "    axes.set(xlabel=r'$\\textnormal{' + f'{dist_name}' + r' bond distance}\\;\\textnormal{(deg)}$', ylabel=r'$\\textnormal{potential energy}\\;\\textnormal{(eV)}$')\n",
    "    axes.legend(loc='best')\n",
    "\n",
    "    plt.tight_layout()\n",
    "    plt.savefig(os.path.join(save_dir, f'{dist_name}'+'dihedral_PES.png'), dpi=300)\n",
    "    plt.show(fig)"
   ]
  },
  {
   "cell_type": "code",
   "execution_count": 57,
   "metadata": {},
   "outputs": [
    {
     "name": "stdout",
     "output_type": "stream",
     "text": [
      "Using Materials Project MACE for MACECalculator with /Users/sergiortizropero/.cache/mace/20231203mace128L1_epoch199model\n",
      "Using float64 for MACECalculator, which is slower but more accurate. Recommended for geometry optimization.\n",
      "Using MACE-OFF23 MODEL for MACECalculator with /Users/sergiortizropero/.cache/mace/MACE-OFF23_medium.model\n",
      "Using float64 for MACECalculator, which is slower but more accurate. Recommended for geometry optimization.\n"
     ]
    }
   ],
   "source": [
    "#=======================#\n",
    "#       CALCULATOR      #\n",
    "#=======================#\n",
    "\n",
    "from mace.calculators import mace_mp, mace_off\n",
    "\n",
    "macemp = mace_mp(\n",
    "    model=\"medium\", \n",
    "    dispersion=False, \n",
    "    default_dtype=\"float64\", \n",
    "    device='cpu',\n",
    "    )\n",
    "\n",
    "maceoff = mace_off(\n",
    "    model=\"medium\", \n",
    "    device='cpu',\n",
    "    default_dtype='float64'\n",
    "    )\n",
    "\n",
    "calculator_list = [macemp, maceoff]\n",
    "calculator_names = ['MACE-MP', 'MACE-OFF']\n",
    "calculator_colors = ['deeppink', 'darkgreen']\n",
    "\n",
    "#calculator_list = [macemp]\n",
    "#calculator_names = ['MACE-MP']"
   ]
  },
  {
   "cell_type": "code",
   "execution_count": null,
   "metadata": {},
   "outputs": [
    {
     "name": "stdout",
     "output_type": "stream",
     "text": [
      "0 C\n",
      "1 C\n",
      "2 O\n",
      "3 H\n",
      "4 H\n",
      "5 H\n",
      "6 H\n",
      "7 H\n",
      "8 H\n",
      "computing C1-O2 PES\n",
      "scan range [1.0, 7.0] Å\n",
      "evaluating 40 distances\n",
      "distances:\n",
      "[1.         1.15384615 1.30769231 1.46153846 1.61538462 1.76923077\n",
      " 1.92307692 2.07692308 2.23076923 2.38461538 2.53846154 2.69230769\n",
      " 2.84615385 3.         3.15384615 3.30769231 3.46153846 3.61538462\n",
      " 3.76923077 3.92307692 4.07692308 4.23076923 4.38461538 4.53846154\n",
      " 4.69230769 4.84615385 5.         5.15384615 5.30769231 5.46153846\n",
      " 5.61538462 5.76923077 5.92307692 6.07692308 6.23076923 6.38461538\n",
      " 6.53846154 6.69230769 6.84615385 7.        ]\n",
      "\n"
     ]
    },
    {
     "data": {
      "image/png": "[encoded data removed]",
      "text/plain": [
       "<Figure size 600x400 with 1 Axes>"
      ]
     },
     "metadata": {},
     "output_type": "display_data"
    }
   ],
   "source": [
    "#=======================#\n",
    "#       PARAMETERS      #\n",
    "#=======================#\n",
    "\n",
    "# example: ETHANE\n",
    "# ethane = build.molecule('C2H6')\n",
    "# mask = [0, 1, 0, 0, 0, 1, 1, 1]\n",
    "# bond_ids = [0, 1]\n",
    "\n",
    "\n",
    "\n",
    "\n",
    "# define the molecule\n",
    "ethanol = build.molecule('CH3CH2OH')\n",
    "\n",
    "# select the C-C bond and provide the mask\n",
    "\n",
    "for atom in ethanol:\n",
    "    print(atom.index, atom.symbol)\n",
    "#view(ethanol, viewer='ase')\n",
    "\n",
    "bond_ids = [1, 2]\n",
    "mask = [0, 0, 1, 1, 0, 0, 0, 0, 0]\n",
    "\n",
    "# evaluate the conformations\n",
    "distances, energies = evaluate_bond(ethanol, bond_ids, mask,  calculator_list, search_space=[1.0, 7.0])\n",
    "plot_bond(distances, energies, calculator_names, calculator_colors, save_dir='./')"
   ]
  },
  {
   "cell_type": "code",
   "execution_count": 59,
   "metadata": {},
   "outputs": [
    {
     "data": {
      "application/vnd.jupyter.widget-view+json": {
       "model_id": "d0c1422a51f9438e8db547d4dbf7c6a4",
       "version_major": 2,
       "version_minor": 0
      },
      "text/plain": [
       "HBox(children=(NGLWidget(max_frame=39), VBox(children=(Dropdown(description='Show', options=('All', 'H', 'O', …"
      ]
     },
     "execution_count": 59,
     "metadata": {},
     "output_type": "execute_result"
    }
   ],
   "source": [
    "traj = trajectory.TrajectoryReader('./bond_scan.traj')\n",
    "view(traj, viewer='ngl')"
   ]
  },
  {
   "cell_type": "code",
   "execution_count": null,
   "metadata": {},
   "outputs": [],
   "source": []
  }
 ],
 "metadata": {
  "kernelspec": {
   "display_name": "ASE_MACE",
   "language": "python",
   "name": "python3"
  },
  "language_info": {
   "codemirror_mode": {
    "name": "ipython",
    "version": 3
   },
   "file_extension": ".py",
   "mimetype": "text/x-python",
   "name": "python",
   "nbconvert_exporter": "python",
   "pygments_lexer": "ipython3",
   "version": "3.10.16"
  }
 },
 "nbformat": 4,
 "nbformat_minor": 2
}
