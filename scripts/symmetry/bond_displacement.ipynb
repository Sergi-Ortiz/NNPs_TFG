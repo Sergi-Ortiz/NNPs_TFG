{
 "cells": [
  {
   "cell_type": "markdown",
   "metadata": {},
   "source": [
    "This notebook provides a procedure to compute the deformation of a bond. "
   ]
  },
  {
   "cell_type": "markdown",
   "metadata": {},
   "source": [
    "Comentaris. La referència de l'energia, estrictament parlant, hauria de ser l'energia dels fragments. Això no es té en compte. Es pot fixar la referència d'energia en la conformació més estable, igual que en els dihedres o els angles. "
   ]
  },
  {
   "cell_type": "code",
   "execution_count": 61,
   "metadata": {},
   "outputs": [],
   "source": [
    "# general imports\n",
    "import os\n",
    "import numpy as np\n",
    "import matplotlib.pyplot as plt\n",
    "from matplotlib import rc\n",
    "#rc('font',**{'family':'sans-serif','sans-serif':['Helvetica']})\n",
    "rc('text', usetex=True)\n",
    "rc('lines', lw=1, color='b')\n",
    "rc('legend', loc='best')\n",
    "plt.rcParams[\"legend.fancybox\"] = False\n",
    "plt.rcParams[\"legend.edgecolor\"] = 'black'\n",
    "plt.rcParams['legend.borderpad'] = 0.25\n",
    "plt.rcParams['legend.fontsize'] = 11\n",
    "plt.rcParams.update({'pgf.preamble': r'\\usepackage{amsmath}'})\n",
    "\n",
    "from ase.visualize import view\n",
    "from ase.io import trajectory\n",
    "from ase import build"
   ]
  },
  {
   "cell_type": "code",
   "execution_count": 62,
   "metadata": {},
   "outputs": [],
   "source": [
    "def evaluate_bond(molecule, bond_ids, mask,  calculator_list, search_space=None , resolution=None, save_dir='./'):\n",
    "    '''\n",
    "    Definition\n",
    "    ----------\n",
    "    Evaluates the PES of the breaking of a bond.\n",
    "    bond_ids contain the index of the atoms that form the bond. \n",
    "    '''\n",
    "\n",
    "    # set scan space and resolution. \n",
    "    if resolution is None:\n",
    "        resolution = 100\n",
    "    if search_space is None:\n",
    "        search_space = [1.0, 6.0]\n",
    "    dist_list = np.linspace(search_space[0], search_space[1], resolution)\n",
    "\n",
    "    print(f'computing {molecule[bond_ids[0]].symbol}{molecule[bond_ids[0]].index}-{molecule[bond_ids[1]].symbol}{molecule[bond_ids[1]].index} PES\\nscan range {search_space} Å')\n",
    "    print(f'evaluating {len(dist_list)} distances')\n",
    "    print(f'distances:\\n{dist_list}\\n')\n",
    "\n",
    "    if len(calculator_list) == 1:\n",
    "        traj_path = os.path.join(save_dir, 'bond_scan.traj')\n",
    "        traj = trajectory.TrajectoryWriter(filename=traj_path, mode='w')\n",
    "\n",
    "    # save energies\n",
    "    energies = []\n",
    "\n",
    "    # evaluate each calculator\n",
    "    for calc_ in calculator_list: \n",
    "\n",
    "        calc_energy_list = []\n",
    "\n",
    "        for d in dist_list:\n",
    "\n",
    "            # define the configuration\n",
    "            molecule.set_distance(bond_ids[0], bond_ids[1], d, mask=mask, fix=0)\n",
    "            molecule.calc = calc_\n",
    "            potential_e = molecule.get_potential_energy()\n",
    "            calc_energy_list.append(potential_e)\n",
    "        \n",
    "            if len(calculator_list) == 1:\n",
    "                traj.write(molecule)\n",
    "\n",
    "        # compute reference\n",
    "        # TODO\n",
    "\n",
    "        energies.append(calc_energy_list)\n",
    "\n",
    "        if len(calculator_list) == 1:\n",
    "            traj.close()\n",
    "\n",
    "    return dist_list, energies\n",
    "\n",
    "\n",
    "\n",
    "def plot_bond(distance_list, energy_list, calculator_names, calculator_colors, dist_name='', save_dir=None):\n",
    "    '''\n",
    "    Plot a bond scan. \n",
    "    '''\n",
    "\n",
    "    if save_dir is None:\n",
    "        save_dir = './'\n",
    "\n",
    "    _color_list = ['black', 'red', 'orange', 'blue']\n",
    "    _marker_list = ['^', 'd', 'v', 'o']\n",
    "\n",
    "    fig, axes = plt.subplots(ncols=1, nrows=1, figsize=(6,4)) \n",
    "    axes.tick_params(bottom=True, top=True, left=True, right=False, direction=\"in\")\n",
    "    axes.tick_params(labelbottom=True, labeltop=False, labelleft=True, labelright=False, direction=\"in\")\n",
    "\n",
    "    for k in range(len(calculator_names)):\n",
    "        \n",
    "        # gather the minimum energy structure\n",
    "        idx = np.argmin(energy_list[k][:])\n",
    "        min_energy = energy_list[k][idx]\n",
    "        min_dih = distance_list[idx]\n",
    "\n",
    "        # TODO convert energy from eV/particle to kcal/mol: 1 eV/molecule = 23.0605 kcal/mol\n",
    "\n",
    "        axes.plot(distance_list, (np.array(energy_list[k][:])-min_energy), label=r'$\\textnormal{' + calculator_names[k] + r'}$', color=calculator_colors[k], alpha=0.9)\n",
    "        axes.scatter(min_dih, min_energy-min_energy, color=_color_list[k], marker=_marker_list[k], label=r'$\\textnormal{reference energy at ' + f'{min_dih:.3f}' + r' Å}$')\n",
    "\n",
    "    axes.set(xlabel=r'$\\textnormal{' + f'{dist_name}' + r' bond distance}\\;\\textnormal{(deg)}$', ylabel=r'$\\textnormal{potential energy}\\;\\textnormal{(eV)}$')\n",
    "    axes.legend(loc='best')\n",
    "\n",
    "    plt.tight_layout()\n",
    "    plt.savefig(os.path.join(save_dir, f'{dist_name}'+'bond_PES.png'), dpi=300)\n",
    "    plt.show(fig)"
   ]
  },
  {
   "cell_type": "code",
   "execution_count": 63,
   "metadata": {},
   "outputs": [
    {
     "ename": "ModuleNotFoundError",
     "evalue": "No module named 'mace'",
     "output_type": "error",
     "traceback": [
      "\u001b[0;31m---------------------------------------------------------------------------\u001b[0m",
      "\u001b[0;31mModuleNotFoundError\u001b[0m                       Traceback (most recent call last)",
      "Cell \u001b[0;32mIn[63], line 5\u001b[0m\n\u001b[1;32m      1\u001b[0m \u001b[38;5;66;03m#=======================#\u001b[39;00m\n\u001b[1;32m      2\u001b[0m \u001b[38;5;66;03m#       CALCULATOR      #\u001b[39;00m\n\u001b[1;32m      3\u001b[0m \u001b[38;5;66;03m#=======================#\u001b[39;00m\n\u001b[0;32m----> 5\u001b[0m \u001b[38;5;28;01mfrom\u001b[39;00m\u001b[38;5;250m \u001b[39m\u001b[38;5;21;01mmace\u001b[39;00m\u001b[38;5;21;01m.\u001b[39;00m\u001b[38;5;21;01mcalculators\u001b[39;00m\u001b[38;5;250m \u001b[39m\u001b[38;5;28;01mimport\u001b[39;00m mace_mp, mace_off\n\u001b[1;32m      7\u001b[0m macemp \u001b[38;5;241m=\u001b[39m mace_mp(\n\u001b[1;32m      8\u001b[0m     model\u001b[38;5;241m=\u001b[39m\u001b[38;5;124m\"\u001b[39m\u001b[38;5;124mmedium\u001b[39m\u001b[38;5;124m\"\u001b[39m, \n\u001b[1;32m      9\u001b[0m     dispersion\u001b[38;5;241m=\u001b[39m\u001b[38;5;28;01mFalse\u001b[39;00m, \n\u001b[1;32m     10\u001b[0m     default_dtype\u001b[38;5;241m=\u001b[39m\u001b[38;5;124m\"\u001b[39m\u001b[38;5;124mfloat64\u001b[39m\u001b[38;5;124m\"\u001b[39m, \n\u001b[1;32m     11\u001b[0m     device\u001b[38;5;241m=\u001b[39m\u001b[38;5;124m'\u001b[39m\u001b[38;5;124mcpu\u001b[39m\u001b[38;5;124m'\u001b[39m,\n\u001b[1;32m     12\u001b[0m     )\n\u001b[1;32m     14\u001b[0m maceoff \u001b[38;5;241m=\u001b[39m mace_off(\n\u001b[1;32m     15\u001b[0m     model\u001b[38;5;241m=\u001b[39m\u001b[38;5;124m\"\u001b[39m\u001b[38;5;124mmedium\u001b[39m\u001b[38;5;124m\"\u001b[39m, \n\u001b[1;32m     16\u001b[0m     device\u001b[38;5;241m=\u001b[39m\u001b[38;5;124m'\u001b[39m\u001b[38;5;124mcpu\u001b[39m\u001b[38;5;124m'\u001b[39m,\n\u001b[1;32m     17\u001b[0m     default_dtype\u001b[38;5;241m=\u001b[39m\u001b[38;5;124m'\u001b[39m\u001b[38;5;124mfloat64\u001b[39m\u001b[38;5;124m'\u001b[39m\n\u001b[1;32m     18\u001b[0m     )\n",
      "\u001b[0;31mModuleNotFoundError\u001b[0m: No module named 'mace'"
     ]
    }
   ],
   "source": [
    "#=======================#\n",
    "#       CALCULATOR      #\n",
    "#=======================#\n",
    "\n",
    "from mace.calculators import mace_mp, mace_off\n",
    "\n",
    "macemp = mace_mp(\n",
    "    model=\"medium\", \n",
    "    dispersion=False, \n",
    "    default_dtype=\"float64\", \n",
    "    device='cpu',\n",
    "    )\n",
    "\n",
    "maceoff = mace_off(\n",
    "    model=\"medium\", \n",
    "    device='cpu',\n",
    "    default_dtype='float64'\n",
    "    )\n",
    "\n",
    "calculator_list = [macemp, maceoff]\n",
    "calculator_names = ['MACE-MP', 'MACE-OFF']\n",
    "calculator_colors = ['deeppink', 'darkgreen']\n",
    "\n",
    "calculator_list = [maceoff]\n",
    "calculator_names = ['MACE-OFF']"
   ]
  },
  {
   "cell_type": "code",
   "execution_count": 64,
   "metadata": {},
   "outputs": [
    {
     "name": "stdout",
     "output_type": "stream",
     "text": [
      "/Users/sergiortizropero/miniconda3/envs/ASE_ANI/lib/python3.10/site-packages/torchani/resources/\n",
      "/Users/sergiortizropero/miniconda3/envs/ASE_ANI/lib/python3.10/site-packages/torchani/resources/\n"
     ]
    }
   ],
   "source": [
    "# calculator \n",
    "from torchani.models import ANI1x, ANI2x\n",
    "\n",
    "ani1x_calc = ANI1x().ase()\n",
    "ani2x_calc = ANI2x().ase()\n",
    "\n",
    "# define the calculators\n",
    "calculator_list = [ani1x_calc, ani2x_calc]\n",
    "\n",
    "#calculator_names = ['ANI-1x', 'ANI-2x']\n",
    "calculator_colors = ['deeppink', 'darkgreen']\n",
    "\n",
    "calculator_list = [ani1x_calc]\n",
    "CALCULATOR = ani2x_calc\n",
    "calculator_names = ['ANI-2x']"
   ]
  },
  {
   "cell_type": "code",
   "execution_count": 65,
   "metadata": {},
   "outputs": [
    {
     "name": "stdout",
     "output_type": "stream",
     "text": [
      "0 C\n",
      "1 C\n",
      "2 O\n",
      "3 H\n",
      "4 H\n",
      "5 H\n",
      "6 H\n",
      "7 H\n",
      "8 H\n",
      "computing C1-O2 PES\n",
      "scan range [1.0, 7.0] Å\n",
      "evaluating 100 distances\n",
      "distances:\n",
      "[1.         1.06060606 1.12121212 1.18181818 1.24242424 1.3030303\n",
      " 1.36363636 1.42424242 1.48484848 1.54545455 1.60606061 1.66666667\n",
      " 1.72727273 1.78787879 1.84848485 1.90909091 1.96969697 2.03030303\n",
      " 2.09090909 2.15151515 2.21212121 2.27272727 2.33333333 2.39393939\n",
      " 2.45454545 2.51515152 2.57575758 2.63636364 2.6969697  2.75757576\n",
      " 2.81818182 2.87878788 2.93939394 3.         3.06060606 3.12121212\n",
      " 3.18181818 3.24242424 3.3030303  3.36363636 3.42424242 3.48484848\n",
      " 3.54545455 3.60606061 3.66666667 3.72727273 3.78787879 3.84848485\n",
      " 3.90909091 3.96969697 4.03030303 4.09090909 4.15151515 4.21212121\n",
      " 4.27272727 4.33333333 4.39393939 4.45454545 4.51515152 4.57575758\n",
      " 4.63636364 4.6969697  4.75757576 4.81818182 4.87878788 4.93939394\n",
      " 5.         5.06060606 5.12121212 5.18181818 5.24242424 5.3030303\n",
      " 5.36363636 5.42424242 5.48484848 5.54545455 5.60606061 5.66666667\n",
      " 5.72727273 5.78787879 5.84848485 5.90909091 5.96969697 6.03030303\n",
      " 6.09090909 6.15151515 6.21212121 6.27272727 6.33333333 6.39393939\n",
      " 6.45454545 6.51515152 6.57575758 6.63636364 6.6969697  6.75757576\n",
      " 6.81818182 6.87878788 6.93939394 7.        ]\n",
      "\n"
     ]
    },
    {
     "data": {
      "image/png": "[encoded data removed]",
      "text/plain": [
       "<Figure size 600x400 with 1 Axes>"
      ]
     },
     "metadata": {},
     "output_type": "display_data"
    }
   ],
   "source": [
    "#=======================#\n",
    "#       PARAMETERS      #\n",
    "#=======================#\n",
    "\n",
    "# example: ETHANE\n",
    "# ethane = build.molecule('C2H6')\n",
    "# mask = [0, 1, 0, 0, 0, 1, 1, 1]\n",
    "# bond_ids = [0, 1]\n",
    "\n",
    "\n",
    "# define the molecule\n",
    "ethanol = build.molecule('CH3CH2OH')\n",
    "\n",
    "# select the C-C bond and provide the mask\n",
    "\n",
    "for atom in ethanol:\n",
    "    print(atom.index, atom.symbol)\n",
    "#view(ethanol, viewer='ase')\n",
    "\n",
    "bond_ids = [1, 2]\n",
    "mask = [0, 0, 1, 1, 0, 0, 0, 0, 0]\n",
    "\n",
    "# evaluate the conformations\n",
    "distances, energies = evaluate_bond(ethanol, bond_ids, mask,  calculator_list, search_space=[1.0, 7.0])\n",
    "plot_bond(distances, energies, calculator_names, calculator_colors, save_dir='./')"
   ]
  },
  {
   "cell_type": "code",
   "execution_count": 66,
   "metadata": {},
   "outputs": [
    {
     "data": {
      "application/vnd.jupyter.widget-view+json": {
       "model_id": "a2d97a02293e492981e71e3a23a76193",
       "version_major": 2,
       "version_minor": 0
      },
      "text/plain": [
       "HBox(children=(NGLWidget(max_frame=99), VBox(children=(Dropdown(description='Show', options=('All', 'H', 'O', …"
      ]
     },
     "execution_count": 66,
     "metadata": {},
     "output_type": "execute_result"
    }
   ],
   "source": [
    "traj = trajectory.TrajectoryReader('./bond_scan.traj')\n",
    "view(traj, viewer='ngl')"
   ]
  },
  {
   "cell_type": "code",
   "execution_count": 67,
   "metadata": {},
   "outputs": [
    {
     "name": "stdout",
     "output_type": "stream",
     "text": [
      "0 C\n",
      "1 C\n",
      "2 H\n",
      "3 H\n",
      "4 H\n",
      "5 H\n",
      "6 H\n",
      "7 H\n",
      "computing C0-C1 PES\n",
      "scan range [1.0, 7.0] Å\n",
      "evaluating 100 distances\n",
      "distances:\n",
      "[1.         1.06060606 1.12121212 1.18181818 1.24242424 1.3030303\n",
      " 1.36363636 1.42424242 1.48484848 1.54545455 1.60606061 1.66666667\n",
      " 1.72727273 1.78787879 1.84848485 1.90909091 1.96969697 2.03030303\n",
      " 2.09090909 2.15151515 2.21212121 2.27272727 2.33333333 2.39393939\n",
      " 2.45454545 2.51515152 2.57575758 2.63636364 2.6969697  2.75757576\n",
      " 2.81818182 2.87878788 2.93939394 3.         3.06060606 3.12121212\n",
      " 3.18181818 3.24242424 3.3030303  3.36363636 3.42424242 3.48484848\n",
      " 3.54545455 3.60606061 3.66666667 3.72727273 3.78787879 3.84848485\n",
      " 3.90909091 3.96969697 4.03030303 4.09090909 4.15151515 4.21212121\n",
      " 4.27272727 4.33333333 4.39393939 4.45454545 4.51515152 4.57575758\n",
      " 4.63636364 4.6969697  4.75757576 4.81818182 4.87878788 4.93939394\n",
      " 5.         5.06060606 5.12121212 5.18181818 5.24242424 5.3030303\n",
      " 5.36363636 5.42424242 5.48484848 5.54545455 5.60606061 5.66666667\n",
      " 5.72727273 5.78787879 5.84848485 5.90909091 5.96969697 6.03030303\n",
      " 6.09090909 6.15151515 6.21212121 6.27272727 6.33333333 6.39393939\n",
      " 6.45454545 6.51515152 6.57575758 6.63636364 6.6969697  6.75757576\n",
      " 6.81818182 6.87878788 6.93939394 7.        ]\n",
      "\n"
     ]
    },
    {
     "data": {
      "image/png": "[encoded data removed]",
      "text/plain": [
       "<Figure size 600x400 with 1 Axes>"
      ]
     },
     "metadata": {},
     "output_type": "display_data"
    }
   ],
   "source": [
    "#=======================#\n",
    "#       PARAMETERS      #\n",
    "#=======================#\n",
    "\n",
    "# define the molecule\n",
    "ethane = build.molecule('C2H6')\n",
    "\n",
    "# select the C-C bond and provide the mask\n",
    "\n",
    "for atom in ethane:\n",
    "    print(atom.index, atom.symbol)\n",
    "#view(ethanol, viewer='ase')\n",
    "\n",
    "bond_ids = [0, 1]\n",
    "mask = [0, 1, 0, 0, 0, 1, 1, 1]\n",
    "\n",
    "# evaluate the conformations\n",
    "distances, energies = evaluate_bond(ethane, bond_ids, mask,  calculator_list, search_space=[1.0, 7.0])\n",
    "plot_bond(distances, energies, calculator_names, calculator_colors, save_dir='./')"
   ]
  },
  {
   "cell_type": "code",
   "execution_count": 68,
   "metadata": {},
   "outputs": [
    {
     "name": "stdout",
     "output_type": "stream",
     "text": [
      "0 C\n",
      "1 C\n",
      "2 C\n",
      "3 C\n",
      "4 H\n",
      "5 H\n",
      "6 H\n",
      "7 H\n"
     ]
    }
   ],
   "source": [
    "#=======================#\n",
    "#       PARAMETERS      #\n",
    "#=======================#\n",
    "\n",
    "from ase.data.pubchem import pubchem_atoms_search\n",
    "\n",
    "\n",
    "# define the molecule\n",
    "cyclo = pubchem_atoms_search(smiles='C1=CC=C1')\n",
    "\n",
    "# select the C-C bond and provide the mask\n",
    "\n",
    "for atom in cyclo:\n",
    "    print(atom.index, atom.symbol)\n",
    "#view(cyclo, viewer='ase')\n",
    "\n",
    "\n",
    "# hortitzontal\n",
    "# C: 0 2, H: 4 6, distancia curta amb C: 1 3, H: 5 7 \n",
    "# [0, 1], [2, 3], [4, 5], [6, 7]\n",
    "bond_ids_h = [0, 1]\n",
    "\n",
    "\n",
    "mask_h = [0, 1, 0, 1, 0, 1, 0, 1]\n",
    "\n",
    "# vertical \n",
    "# C: 0 1, H: 4 5, distancia llarga amb C: 2 3, H: 6 7  \n",
    "bond_ids_v = [0, 2]\n",
    "mask_v = [0, 0, 1, 1, 0, 0, 1, 1]"
   ]
  },
  {
   "cell_type": "code",
   "execution_count": 69,
   "metadata": {},
   "outputs": [
    {
     "data": {
      "text/plain": [
       "<Popen: returncode: None args: ['/Users/sergiortizropero/miniconda3/envs/ASE...>"
      ]
     },
     "execution_count": 69,
     "metadata": {},
     "output_type": "execute_result"
    }
   ],
   "source": [
    "# deformació vertical\n",
    "# define square\n",
    "cyclo = pubchem_atoms_search(smiles='C1=CC=C1')\n",
    "cyclo.set_distance(bond_ids_h[0], bond_ids_h[1], 1.400000, fix=0, mask=mask_h)\n",
    "cyclo.set_distance(bond_ids_v[0], bond_ids_v[1], 1.400000, fix=0, mask=mask_v)\n",
    "view(cyclo)\n"
   ]
  },
  {
   "cell_type": "code",
   "execution_count": 70,
   "metadata": {},
   "outputs": [
    {
     "name": "stdout",
     "output_type": "stream",
     "text": [
      "computing C0-C2 PES\n",
      "scan range [1.1, 1.7] Å\n",
      "evaluating 100 distances\n",
      "distances:\n",
      "[1.1        1.10606061 1.11212121 1.11818182 1.12424242 1.13030303\n",
      " 1.13636364 1.14242424 1.14848485 1.15454545 1.16060606 1.16666667\n",
      " 1.17272727 1.17878788 1.18484848 1.19090909 1.1969697  1.2030303\n",
      " 1.20909091 1.21515152 1.22121212 1.22727273 1.23333333 1.23939394\n",
      " 1.24545455 1.25151515 1.25757576 1.26363636 1.26969697 1.27575758\n",
      " 1.28181818 1.28787879 1.29393939 1.3        1.30606061 1.31212121\n",
      " 1.31818182 1.32424242 1.33030303 1.33636364 1.34242424 1.34848485\n",
      " 1.35454545 1.36060606 1.36666667 1.37272727 1.37878788 1.38484848\n",
      " 1.39090909 1.3969697  1.4030303  1.40909091 1.41515152 1.42121212\n",
      " 1.42727273 1.43333333 1.43939394 1.44545455 1.45151515 1.45757576\n",
      " 1.46363636 1.46969697 1.47575758 1.48181818 1.48787879 1.49393939\n",
      " 1.5        1.50606061 1.51212121 1.51818182 1.52424242 1.53030303\n",
      " 1.53636364 1.54242424 1.54848485 1.55454545 1.56060606 1.56666667\n",
      " 1.57272727 1.57878788 1.58484848 1.59090909 1.5969697  1.6030303\n",
      " 1.60909091 1.61515152 1.62121212 1.62727273 1.63333333 1.63939394\n",
      " 1.64545455 1.65151515 1.65757576 1.66363636 1.66969697 1.67575758\n",
      " 1.68181818 1.68787879 1.69393939 1.7       ]\n",
      "\n"
     ]
    },
    {
     "data": {
      "image/png": "[encoded data removed]",
      "text/plain": [
       "<Figure size 600x400 with 1 Axes>"
      ]
     },
     "metadata": {},
     "output_type": "display_data"
    }
   ],
   "source": [
    "\n",
    "distances_v, energies_v = evaluate_bond(cyclo, bond_ids_v, mask_v,  calculator_list, search_space=[1.1, 1.7])\n",
    "plot_bond(distances_v, energies_v, calculator_names, calculator_colors, save_dir='./', dist_name='vertical')"
   ]
  },
  {
   "cell_type": "code",
   "execution_count": 71,
   "metadata": {},
   "outputs": [
    {
     "data": {
      "application/vnd.jupyter.widget-view+json": {
       "model_id": "6eea9c24d7c1407fa4dcd9b2976ca31d",
       "version_major": 2,
       "version_minor": 0
      },
      "text/plain": [
       "HBox(children=(NGLWidget(max_frame=99), VBox(children=(Dropdown(description='Show', options=('All', 'H', 'C'),…"
      ]
     },
     "execution_count": 71,
     "metadata": {},
     "output_type": "execute_result"
    }
   ],
   "source": [
    "traj = trajectory.TrajectoryReader('./bond_scan.traj')\n",
    "view(traj, viewer='ngl')"
   ]
  },
  {
   "cell_type": "code",
   "execution_count": 72,
   "metadata": {},
   "outputs": [
    {
     "name": "stdout",
     "output_type": "stream",
     "text": [
      "computing C0-C1 PES\n",
      "scan range [1.1, 1.7] Å\n",
      "evaluating 100 distances\n",
      "distances:\n",
      "[1.1        1.10606061 1.11212121 1.11818182 1.12424242 1.13030303\n",
      " 1.13636364 1.14242424 1.14848485 1.15454545 1.16060606 1.16666667\n",
      " 1.17272727 1.17878788 1.18484848 1.19090909 1.1969697  1.2030303\n",
      " 1.20909091 1.21515152 1.22121212 1.22727273 1.23333333 1.23939394\n",
      " 1.24545455 1.25151515 1.25757576 1.26363636 1.26969697 1.27575758\n",
      " 1.28181818 1.28787879 1.29393939 1.3        1.30606061 1.31212121\n",
      " 1.31818182 1.32424242 1.33030303 1.33636364 1.34242424 1.34848485\n",
      " 1.35454545 1.36060606 1.36666667 1.37272727 1.37878788 1.38484848\n",
      " 1.39090909 1.3969697  1.4030303  1.40909091 1.41515152 1.42121212\n",
      " 1.42727273 1.43333333 1.43939394 1.44545455 1.45151515 1.45757576\n",
      " 1.46363636 1.46969697 1.47575758 1.48181818 1.48787879 1.49393939\n",
      " 1.5        1.50606061 1.51212121 1.51818182 1.52424242 1.53030303\n",
      " 1.53636364 1.54242424 1.54848485 1.55454545 1.56060606 1.56666667\n",
      " 1.57272727 1.57878788 1.58484848 1.59090909 1.5969697  1.6030303\n",
      " 1.60909091 1.61515152 1.62121212 1.62727273 1.63333333 1.63939394\n",
      " 1.64545455 1.65151515 1.65757576 1.66363636 1.66969697 1.67575758\n",
      " 1.68181818 1.68787879 1.69393939 1.7       ]\n",
      "\n"
     ]
    },
    {
     "data": {
      "image/png": "[encoded data removed]",
      "text/plain": [
       "<Figure size 600x400 with 1 Axes>"
      ]
     },
     "metadata": {},
     "output_type": "display_data"
    },
    {
     "data": {
      "application/vnd.jupyter.widget-view+json": {
       "model_id": "3ffb2f238fda44f3bf55a86207f0c4eb",
       "version_major": 2,
       "version_minor": 0
      },
      "text/plain": [
       "HBox(children=(NGLWidget(max_frame=99), VBox(children=(Dropdown(description='Show', options=('All', 'H', 'C'),…"
      ]
     },
     "execution_count": 72,
     "metadata": {},
     "output_type": "execute_result"
    }
   ],
   "source": [
    "\n",
    "cyclo = pubchem_atoms_search(smiles='C1=CC=C1')\n",
    "cyclo.set_distance(bond_ids_h[0], bond_ids_h[1], 1.400000, fix=0, mask=mask_h)\n",
    "cyclo.set_distance(bond_ids_v[0], bond_ids_v[1], 1.400000, fix=0, mask=mask_v)\n",
    "view(cyclo)\n",
    "\n",
    "# deformació hortiztonal\n",
    "distances_h, energies_h = evaluate_bond(cyclo, bond_ids_h, mask_h,  calculator_list, search_space=[1.1, 1.7])\n",
    "plot_bond(distances_h, energies_h, calculator_names, calculator_colors, save_dir='./', dist_name='horzontal')\n",
    "\n",
    "traj = trajectory.TrajectoryReader('./bond_scan.traj')\n",
    "view(traj, viewer='ngl')"
   ]
  },
  {
   "cell_type": "code",
   "execution_count": 73,
   "metadata": {},
   "outputs": [
    {
     "name": "stderr",
     "output_type": "stream",
     "text": [
      "2025-02-06 23:48:50.588 python[16248:217672] +[IMKClient subclass]: chose IMKClient_Modern\n",
      "2025-02-06 23:48:50.588 python[16248:217672] +[IMKInputSession subclass]: chose IMKInputSession_Modern\n",
      "2025-02-06 23:48:52.917 python[16421:219774] +[IMKClient subclass]: chose IMKClient_Modern\n",
      "2025-02-06 23:48:52.917 python[16421:219774] +[IMKInputSession subclass]: chose IMKInputSession_Modern\n",
      "2025-02-06 23:48:56.353 python[16381:219452] +[IMKClient subclass]: chose IMKClient_Modern\n",
      "2025-02-06 23:48:56.353 python[16381:219452] +[IMKInputSession subclass]: chose IMKInputSession_Modern\n",
      "2025-02-06 23:49:01.062 python[16062:214702] +[IMKClient subclass]: chose IMKClient_Modern\n",
      "2025-02-06 23:49:01.062 python[16062:214702] +[IMKInputSession subclass]: chose IMKInputSession_Modern\n",
      "2025-02-06 23:49:05.881 python[16510:221574] +[IMKClient subclass]: chose IMKClient_Modern\n",
      "2025-02-06 23:49:05.881 python[16510:221574] +[IMKInputSession subclass]: chose IMKInputSession_Modern\n",
      "2025-02-06 23:49:08.383 python[16539:221742] +[IMKClient subclass]: chose IMKClient_Modern\n",
      "2025-02-06 23:49:08.383 python[16539:221742] +[IMKInputSession subclass]: chose IMKInputSession_Modern\n",
      "2025-02-06 23:49:11.996 python[16347:218908] +[IMKClient subclass]: chose IMKClient_Modern\n",
      "2025-02-06 23:49:11.996 python[16347:218908] +[IMKInputSession subclass]: chose IMKInputSession_Modern\n",
      "2025-02-06 23:49:14.398 python[16459:220537] +[IMKClient subclass]: chose IMKClient_Modern\n",
      "2025-02-06 23:49:14.398 python[16459:220537] +[IMKInputSession subclass]: chose IMKInputSession_Modern\n",
      "2025-02-06 23:49:14.998 python[16426:220108] +[IMKClient subclass]: chose IMKClient_Modern\n",
      "2025-02-06 23:49:14.998 python[16426:220108] +[IMKInputSession subclass]: chose IMKInputSession_Modern\n",
      "2025-02-06 23:49:15.531 python[16337:218687] +[IMKClient subclass]: chose IMKClient_Modern\n",
      "2025-02-06 23:49:15.531 python[16337:218687] +[IMKInputSession subclass]: chose IMKInputSession_Modern\n",
      "2025-02-06 23:49:16.106 python[16281:218007] +[IMKClient subclass]: chose IMKClient_Modern\n",
      "2025-02-06 23:49:16.106 python[16281:218007] +[IMKInputSession subclass]: chose IMKInputSession_Modern\n"
     ]
    }
   ],
   "source": [
    "energy_matrix = []\n",
    "\n",
    "molecule = pubchem_atoms_search(smiles='C1=CC=C1')\n",
    "\n",
    "traj_path = os.path.join('./', 'bond_scan_2D.traj')\n",
    "traj = trajectory.TrajectoryWriter(filename=traj_path, mode='w')\n",
    "\n",
    "\n",
    "for d_x in distances_h:\n",
    "\n",
    "    temp_list = []\n",
    "\n",
    "    for d_y in distances_v:\n",
    "        molecule.set_distance(bond_ids_h[0], bond_ids_h[1], d_x, fix=0, mask=mask_h)\n",
    "        molecule.set_distance(bond_ids_v[0], bond_ids_v[1], d_y, fix=0, mask=mask_v)\n",
    "\n",
    "        molecule.calc = CALCULATOR\n",
    "        \n",
    "        potential_e = molecule.get_potential_energy()\n",
    "        temp_list.append(potential_e)\n",
    "\n",
    "        traj.write(molecule)\n",
    "\n",
    "    energy_matrix.append(temp_list)"
   ]
  },
  {
   "cell_type": "code",
   "execution_count": 74,
   "metadata": {},
   "outputs": [],
   "source": [
    "corrected_energy_matrix = np.array(energy_matrix) - np.min(np.array(energy_matrix))"
   ]
  },
  {
   "cell_type": "code",
   "execution_count": 75,
   "metadata": {},
   "outputs": [
    {
     "data": {
      "application/vnd.jupyter.widget-view+json": {
       "model_id": "1ccbfd86b1204a59b648415e8df586ab",
       "version_major": 2,
       "version_minor": 0
      },
      "text/plain": [
       "HBox(children=(NGLWidget(max_frame=9999), VBox(children=(Dropdown(description='Show', options=('All', 'H', 'C'…"
      ]
     },
     "execution_count": 75,
     "metadata": {},
     "output_type": "execute_result"
    }
   ],
   "source": [
    "traj = trajectory.TrajectoryReader('./bond_scan_2D.traj')\n",
    "view(traj, viewer='ngl')"
   ]
  },
  {
   "cell_type": "code",
   "execution_count": 96,
   "metadata": {},
   "outputs": [
    {
     "name": "stdout",
     "output_type": "stream",
     "text": [
      "1.3459001523144276 1.4292001819199438\n"
     ]
    },
    {
     "name": "stderr",
     "output_type": "stream",
     "text": [
      "/var/folders/cq/s30xmbh57xndgmhg1zhwclsh0000gn/T/ipykernel_15905/460370900.py:14: UserWarning: Legend does not support handles for QuadMesh instances.\n",
      "See: https://matplotlib.org/stable/tutorials/intermediate/legend_guide.html#implementing-a-custom-legend-handler\n",
      "  ax.legend(loc='best')\n",
      "/var/folders/cq/s30xmbh57xndgmhg1zhwclsh0000gn/T/ipykernel_15905/460370900.py:17: UserWarning: FigureCanvasAgg is non-interactive, and thus cannot be shown\n",
      "  fig.show()\n"
     ]
    },
    {
     "data": {
      "image/png": "[encoded data removed]",
      "text/plain": [
       "<Figure size 640x480 with 2 Axes>"
      ]
     },
     "metadata": {},
     "output_type": "display_data"
    }
   ],
   "source": [
    "# default distances\n",
    "cyclo = pubchem_atoms_search(smiles='C1=CC=C1')\n",
    "#view(cyclo)\n",
    "\n",
    "vertical = cyclo.get_distance(0, 1)\n",
    "horzontal = cyclo.get_distance(0, 2)\n",
    "print(vertical, horzontal)\n",
    "\n",
    "\n",
    "fig, ax = plt.subplots()\n",
    "im = ax.pcolormesh(distances_h, distances_v, corrected_energy_matrix, vmax=.5, cmap='magma', label=r'$\\textnormal{}$')\n",
    "ax.scatter(horzontal, vertical, color='red', marker='x', label=r'$\\textnormal{DFT reference}$')\n",
    "ax.set(xlabel=r'$\\textnormal{cyclobutadiene horizontal distance (Å)}$', ylabel=r'$\\textnormal{cyclobutadiene vertical distance (Å)}$')\n",
    "ax.legend(loc='best')\n",
    "fig.colorbar(im, ax=ax, label=r'$\\textnormal{Potential energy (eV)}\\quad\\textnormal{ANI-2x}$')\n",
    "fig.savefig('./cyclobutadiene_bond_asymmetry_scan.png', dpi=400)\n",
    "fig.show()\n",
    "\n",
    "\n",
    "\n",
    "# TODO posar en el plot la distància DFT de referència"
   ]
  },
  {
   "cell_type": "markdown",
   "metadata": {},
   "source": [
    "Aquest és un exemple on el model prediu correctament les asimetries del sistema. Existeixen certes molècules on el trencament de la simetria pot ser beneficiós trencant certes degeneracions i estabilitzant el sistema. Second order Jean Teller effect. "
   ]
  }
 ],
 "metadata": {
  "kernelspec": {
   "display_name": "ASE_ANI",
   "language": "python",
   "name": "python3"
  },
  "language_info": {
   "codemirror_mode": {
    "name": "ipython",
    "version": 3
   },
   "file_extension": ".py",
   "mimetype": "text/x-python",
   "name": "python",
   "nbconvert_exporter": "python",
   "pygments_lexer": "ipython3",
   "version": "3.10.16"
  }
 },
 "nbformat": 4,
 "nbformat_minor": 2
}
