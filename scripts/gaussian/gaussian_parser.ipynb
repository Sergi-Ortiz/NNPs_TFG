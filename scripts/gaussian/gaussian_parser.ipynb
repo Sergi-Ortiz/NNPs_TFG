{
 "cells": [
  {
   "cell_type": "markdown",
   "metadata": {},
   "source": [
    "Extracted and modified from github"
   ]
  },
  {
   "cell_type": "code",
   "execution_count": 4,
   "metadata": {},
   "outputs": [],
   "source": [
    "import os\n",
    "import re\n",
    "import glob\n",
    "\n",
    "periodic_table = {\n",
    "    1: 'H', 2: 'He', 3: 'Li', 4: 'Be', 5: 'B', 6: 'C', 7: 'N', 8: 'O', 9: 'F', 10: 'Ne',\n",
    "    11: 'Na', 12: 'Mg', 13: 'Al', 14: 'Si', 15: 'P', 16: 'S', 17: 'Cl', 18: 'Ar', 19: 'K', 20: 'Ca',\n",
    "    21: 'Sc', 22: 'Ti', 23: 'V', 24: 'Cr', 25: 'Mn', 26: 'Fe', 27: 'Co', 28: 'Ni', 29: 'Cu', 30: 'Zn',\n",
    "    31: 'Ga', 32: 'Ge', 33: 'As', 34: 'Se', 35: 'Br', 36: 'Kr', 37: 'Rb', 38: 'Sr', 39: 'Y', 40: 'Zr',\n",
    "    41: 'Nb', 42: 'Mo', 43: 'Tc', 44: 'Ru', 45: 'Rh', 46: 'Pd', 47: 'Ag', 48: 'Cd', 49: 'In', 50: 'Sn',\n",
    "    51: 'Sb', 52: 'Te', 53: 'I', 54: 'Xe', 55: 'Cs', 56: 'Ba', 57: 'La', 58: 'Ce', 59: 'Pr', 60: 'Nd',\n",
    "    61: 'Pm', 62: 'Sm', 63: 'Eu', 64: 'Gd', 65: 'Tb', 66: 'Dy', 67: 'Ho', 68: 'Er', 69: 'Tm', 70: 'Yb',\n",
    "    71: 'Lu', 72: 'Hf', 73: 'Ta', 74: 'W', 75: 'Re', 76: 'Os', 77: 'Ir', 78: 'Pt', 79: 'Au', 80: 'Hg',\n",
    "    81: 'Tl', 82: 'Pb', 83: 'Bi', 84: 'Po', 85: 'At', 86: 'Rn', 87: 'Fr', 88: 'Ra', 89: 'Ac', 90: 'Th',\n",
    "    91: 'Pa', 92: 'U', 93: 'Np', 94: 'Pu', 95: 'Am', 96: 'Cm', 97: 'Bk', 98: 'Cf', 99: 'Es', 100: 'Fm',\n",
    "    101: 'Md', 102: 'No', 103: 'Lr', 104: 'Rf', 105: 'Db', 106: 'Sg', 107: 'Bh', 108: 'Hs', 109: 'Mt',\n",
    "    110: 'Ds', 111: 'Rg', 112: 'Cn', 113: 'Nh', 114: 'Fl', 115: 'Mc', 116: 'Lv', 117: 'Ts', 118: 'Og'\n",
    "}\n",
    "\n",
    "def read_gaussian_output(filename):\n",
    "    with open(filename, 'r') as file:\n",
    "        lines = file.readlines()\n",
    "\n",
    "    indices = [i for i, line in enumerate(lines) if \"Standard orientation\" in line]\n",
    "    if not indices:\n",
    "        raise ValueError(\"Standard orientation section not found.\")\n",
    "\n",
    "    start_index = indices[-1]\n",
    "    while \"-----\" not in lines[start_index]:\n",
    "        start_index += 1\n",
    "    start_index += 4\n",
    "\n",
    "    end_index = start_index\n",
    "    while \"-----\" not in lines[end_index].strip():\n",
    "        end_index += 1\n",
    "\n",
    "    atoms = []\n",
    "    for line in lines[start_index:end_index]:\n",
    "        parts = line.split()\n",
    "        if len(parts) >= 6:\n",
    "            atomic_number = int(parts[1])\n",
    "            x, y, z = float(parts[3]), float(parts[4]), float(parts[5])\n",
    "            atoms.append((atomic_number, x, y, z))\n",
    "\n",
    "    return atoms\n",
    "\n",
    "def write_xyz_file(atoms, output_filename):\n",
    "    with open(output_filename, 'w') as file:\n",
    "        file.write(f\"{len(atoms)}\\n\")\n",
    "        file.write(\"Optimized structure from Gaussian output\\n\")\n",
    "        for atomic_number, x, y, z in atoms:\n",
    "            element = periodic_table[atomic_number]\n",
    "            file.write(f\"{element} {x} {y} {z}\\n\")"
   ]
  },
  {
   "cell_type": "code",
   "execution_count": 43,
   "metadata": {},
   "outputs": [],
   "source": [
    "workdir = os.path.join(os.curdir, 'gview_molecules/')\n",
    "r = re.compile(r'.*.log$')\n",
    "log_list = list(filter(r.match, os.listdir(workdir)))\n",
    "\n",
    "save_dir = os.path.join(os.curdir, 'xyz_structures')\n",
    "if not os.path.isdir(save_dir):\n",
    "    os.makedirs(save_dir)\n",
    "\n",
    "for log in log_list:\n",
    "    log_file = glob.glob(os.path.join(workdir, log))[0]\n",
    "    atoms = read_gaussian_output(log_file)\n",
    "    xyz_save_dir = os.path.join(workdir, f'{log[:-4]}.xyz')\n",
    "    write_xyz_file(atoms, xyz_save_dir)\n",
    "\n",
    "    os.system(f'mv {os.path.abspath(xyz_save_dir)} {os.path.abspath(save_dir)}')"
   ]
  }
 ],
 "metadata": {
  "kernelspec": {
   "display_name": "ASE_extra",
   "language": "python",
   "name": "python3"
  },
  "language_info": {
   "codemirror_mode": {
    "name": "ipython",
    "version": 3
   },
   "file_extension": ".py",
   "mimetype": "text/x-python",
   "name": "python",
   "nbconvert_exporter": "python",
   "pygments_lexer": "ipython3",
   "version": "3.10.16"
  }
 },
 "nbformat": 4,
 "nbformat_minor": 2
}
